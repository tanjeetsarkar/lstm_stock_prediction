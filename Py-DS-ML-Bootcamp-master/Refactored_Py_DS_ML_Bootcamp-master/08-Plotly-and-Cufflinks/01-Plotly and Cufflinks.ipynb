{
 "cells": [
  {
   "cell_type": "markdown",
   "metadata": {},
   "source": [
    "___\n",
    "\n",
    "<a href='http://www.pieriandata.com'> <img src='../Pierian_Data_Logo.png' /></a>\n",
    "___\n",
    "# Plotly and Cufflinks"
   ]
  },
  {
   "cell_type": "markdown",
   "metadata": {},
   "source": [
    "Plotly is a library that allows you to create interactive plots that you can use in dashboards or websites (you can save them as html files or static images).\n",
    "\n",
    "## Installation\n",
    "\n",
    "In order for this all to work, you'll need to install plotly and cufflinks to call plots directly off of a pandas dataframe. These libraries are not currently available through **conda** but are available through **pip**. Install the libraries at your command line/terminal using:\n",
    "\n",
    "    pip install plotly\n",
    "    pip install cufflinks\n",
    "\n",
    "** NOTE: Make sure you only have one installation of Python on your computer when you do this, otherwise the installation may not work. **\n",
    "\n",
    "## Imports and Set-up"
   ]
  },
  {
   "cell_type": "code",
   "execution_count": 1,
   "metadata": {},
   "outputs": [],
   "source": [
    "import pandas as pd\n",
    "import numpy as np\n",
    "%matplotlib inline"
   ]
  },
  {
   "cell_type": "code",
   "execution_count": 2,
   "metadata": {},
   "outputs": [
    {
     "name": "stdout",
     "output_type": "stream",
     "text": [
      "5.6.0\n"
     ]
    }
   ],
   "source": [
    "from plotly import __version__\n",
    "from plotly.offline import download_plotlyjs, init_notebook_mode, plot, iplot\n",
    "\n",
    "print(__version__) # requires version >= 1.9.0"
   ]
  },
  {
   "cell_type": "code",
   "execution_count": 3,
   "metadata": {},
   "outputs": [],
   "source": [
    "import cufflinks as cf"
   ]
  },
  {
   "cell_type": "code",
   "execution_count": 4,
   "metadata": {},
   "outputs": [
    {
     "data": {
      "text/html": [
       "        <script type=\"text/javascript\">\n",
       "        window.PlotlyConfig = {MathJaxConfig: 'local'};\n",
       "        if (window.MathJax) {MathJax.Hub.Config({SVG: {font: \"STIX-Web\"}});}\n",
       "        if (typeof require !== 'undefined') {\n",
       "        require.undef(\"plotly\");\n",
       "        requirejs.config({\n",
       "            paths: {\n",
       "                'plotly': ['https://cdn.plot.ly/plotly-2.9.0.min']\n",
       "            }\n",
       "        });\n",
       "        require(['plotly'], function(Plotly) {\n",
       "            window._Plotly = Plotly;\n",
       "        });\n",
       "        }\n",
       "        </script>\n",
       "        "
      ]
     },
     "metadata": {},
     "output_type": "display_data"
    }
   ],
   "source": [
    "# For Notebooks\n",
    "init_notebook_mode(connected=True)"
   ]
  },
  {
   "cell_type": "code",
   "execution_count": 5,
   "metadata": {},
   "outputs": [
    {
     "data": {
      "text/html": [
       "        <script type=\"text/javascript\">\n",
       "        window.PlotlyConfig = {MathJaxConfig: 'local'};\n",
       "        if (window.MathJax) {MathJax.Hub.Config({SVG: {font: \"STIX-Web\"}});}\n",
       "        if (typeof require !== 'undefined') {\n",
       "        require.undef(\"plotly\");\n",
       "        requirejs.config({\n",
       "            paths: {\n",
       "                'plotly': ['https://cdn.plot.ly/plotly-2.9.0.min']\n",
       "            }\n",
       "        });\n",
       "        require(['plotly'], function(Plotly) {\n",
       "            window._Plotly = Plotly;\n",
       "        });\n",
       "        }\n",
       "        </script>\n",
       "        "
      ]
     },
     "metadata": {},
     "output_type": "display_data"
    }
   ],
   "source": [
    "# For offline use\n",
    "cf.go_offline()"
   ]
  },
  {
   "cell_type": "markdown",
   "metadata": {},
   "source": [
    "### Fake Data"
   ]
  },
  {
   "cell_type": "code",
   "execution_count": 6,
   "metadata": {},
   "outputs": [],
   "source": [
    "df = pd.DataFrame(np.random.randn(100,4),columns='A B C D'.split())"
   ]
  },
  {
   "cell_type": "code",
   "execution_count": 7,
   "metadata": {},
   "outputs": [
    {
     "data": {
      "text/html": [
       "<div>\n",
       "<style scoped>\n",
       "    .dataframe tbody tr th:only-of-type {\n",
       "        vertical-align: middle;\n",
       "    }\n",
       "\n",
       "    .dataframe tbody tr th {\n",
       "        vertical-align: top;\n",
       "    }\n",
       "\n",
       "    .dataframe thead th {\n",
       "        text-align: right;\n",
       "    }\n",
       "</style>\n",
       "<table border=\"1\" class=\"dataframe\">\n",
       "  <thead>\n",
       "    <tr style=\"text-align: right;\">\n",
       "      <th></th>\n",
       "      <th>A</th>\n",
       "      <th>B</th>\n",
       "      <th>C</th>\n",
       "      <th>D</th>\n",
       "    </tr>\n",
       "  </thead>\n",
       "  <tbody>\n",
       "    <tr>\n",
       "      <th>0</th>\n",
       "      <td>0.670455</td>\n",
       "      <td>-0.268246</td>\n",
       "      <td>0.367017</td>\n",
       "      <td>0.102136</td>\n",
       "    </tr>\n",
       "    <tr>\n",
       "      <th>1</th>\n",
       "      <td>0.082535</td>\n",
       "      <td>0.921903</td>\n",
       "      <td>0.460000</td>\n",
       "      <td>0.293755</td>\n",
       "    </tr>\n",
       "    <tr>\n",
       "      <th>2</th>\n",
       "      <td>-0.030278</td>\n",
       "      <td>-2.631619</td>\n",
       "      <td>0.973733</td>\n",
       "      <td>0.176706</td>\n",
       "    </tr>\n",
       "    <tr>\n",
       "      <th>3</th>\n",
       "      <td>-0.729613</td>\n",
       "      <td>-0.700222</td>\n",
       "      <td>0.198540</td>\n",
       "      <td>-0.297318</td>\n",
       "    </tr>\n",
       "    <tr>\n",
       "      <th>4</th>\n",
       "      <td>0.152727</td>\n",
       "      <td>-1.141020</td>\n",
       "      <td>0.599853</td>\n",
       "      <td>-0.149080</td>\n",
       "    </tr>\n",
       "  </tbody>\n",
       "</table>\n",
       "</div>"
      ],
      "text/plain": [
       "          A         B         C         D\n",
       "0  0.670455 -0.268246  0.367017  0.102136\n",
       "1  0.082535  0.921903  0.460000  0.293755\n",
       "2 -0.030278 -2.631619  0.973733  0.176706\n",
       "3 -0.729613 -0.700222  0.198540 -0.297318\n",
       "4  0.152727 -1.141020  0.599853 -0.149080"
      ]
     },
     "execution_count": 7,
     "metadata": {},
     "output_type": "execute_result"
    }
   ],
   "source": [
    "df.head()"
   ]
  },
  {
   "cell_type": "code",
   "execution_count": 8,
   "metadata": {},
   "outputs": [],
   "source": [
    "df2 = pd.DataFrame({'Category':['A','B','C'],'Values':[32,43,50]})"
   ]
  },
  {
   "cell_type": "code",
   "execution_count": 9,
   "metadata": {},
   "outputs": [
    {
     "data": {
      "text/html": [
       "<div>\n",
       "<style scoped>\n",
       "    .dataframe tbody tr th:only-of-type {\n",
       "        vertical-align: middle;\n",
       "    }\n",
       "\n",
       "    .dataframe tbody tr th {\n",
       "        vertical-align: top;\n",
       "    }\n",
       "\n",
       "    .dataframe thead th {\n",
       "        text-align: right;\n",
       "    }\n",
       "</style>\n",
       "<table border=\"1\" class=\"dataframe\">\n",
       "  <thead>\n",
       "    <tr style=\"text-align: right;\">\n",
       "      <th></th>\n",
       "      <th>Category</th>\n",
       "      <th>Values</th>\n",
       "    </tr>\n",
       "  </thead>\n",
       "  <tbody>\n",
       "    <tr>\n",
       "      <th>0</th>\n",
       "      <td>A</td>\n",
       "      <td>32</td>\n",
       "    </tr>\n",
       "    <tr>\n",
       "      <th>1</th>\n",
       "      <td>B</td>\n",
       "      <td>43</td>\n",
       "    </tr>\n",
       "    <tr>\n",
       "      <th>2</th>\n",
       "      <td>C</td>\n",
       "      <td>50</td>\n",
       "    </tr>\n",
       "  </tbody>\n",
       "</table>\n",
       "</div>"
      ],
      "text/plain": [
       "  Category  Values\n",
       "0        A      32\n",
       "1        B      43\n",
       "2        C      50"
      ]
     },
     "execution_count": 9,
     "metadata": {},
     "output_type": "execute_result"
    }
   ],
   "source": [
    "df2.head()"
   ]
  },
  {
   "cell_type": "markdown",
   "metadata": {},
   "source": [
    "## Using Cufflinks and iplot()\n",
    "\n",
    "* scatter\n",
    "* bar\n",
    "* box\n",
    "* spread\n",
    "* ratio\n",
    "* heatmap\n",
    "* surface\n",
    "* histogram\n",
    "* bubble"
   ]
  },
  {
   "cell_type": "markdown",
   "metadata": {},
   "source": [
    "## Scatter"
   ]
  },
  {
   "cell_type": "code",
   "execution_count": 10,
   "metadata": {},
   "outputs": [
    {
     "data": {
      "application/vnd.plotly.v1+json": {
       "config": {
        "linkText": "Export to plot.ly",
        "plotlyServerURL": "https://plot.ly",
        "showLink": true
       },
       "data": [
        {
         "line": {
          "color": "rgba(255, 153, 51, 1.0)",
          "dash": "solid",
          "shape": "linear",
          "width": 1.3
         },
         "marker": {
          "size": 10,
          "symbol": "circle"
         },
         "mode": "markers",
         "name": "B",
         "text": "",
         "type": "scatter",
         "x": [
          0.6704549516109599,
          0.082535443479542,
          -0.030277607876463258,
          -0.7296129081944889,
          0.1527265413175817,
          -0.33813441137032424,
          1.9042339492772191,
          -0.7588056246726919,
          -0.8707965588081601,
          0.2896340361845918,
          -1.5237665192059862,
          0.9484620621971421,
          0.10553141650462003,
          0.2092718349405866,
          1.1640347231125636,
          0.4858426802866781,
          0.11933983453608828,
          0.2728169531371193,
          0.28919657021806133,
          1.073483561244945,
          0.07028375795764374,
          -0.1887932147115583,
          -1.0600689448473835,
          -0.3019363572412175,
          -0.8126307144185704,
          0.04021264055831378,
          -0.9798153152930743,
          -0.6070842061572903,
          -0.8067785203768048,
          -0.36628255849385094,
          -0.490724497613985,
          -0.11948959467927889,
          0.48024340826134854,
          -1.1114681568524802,
          0.00876717415713063,
          0.6153754248886335,
          -1.4120273218003125,
          -0.29772386315529703,
          -1.5277547107763774,
          0.8806863350762015,
          -0.02202561406455898,
          0.18378231072850623,
          -1.2931621264832485,
          -0.3972448926752685,
          -0.5753141033381041,
          0.6099801439466861,
          -0.8322217489099195,
          -0.05349257776630721,
          0.8517356264904371,
          -0.6052906360039375,
          -0.016646820797517226,
          -0.8891175447176948,
          1.8392114049926793,
          -1.189159093024214,
          -1.469324037228592,
          -0.20638700121277379,
          1.2880732643088497,
          1.011507627731839,
          -0.3227307063649429,
          1.2961924610631739,
          -0.7642289271104794,
          -0.8007653934311705,
          0.4603318905907266,
          1.0522096884457013,
          1.3600251679490534,
          -0.36805019645124054,
          -0.5252295655825047,
          0.3721275871542655,
          -1.1589425465940177,
          0.2552543469502206,
          -1.219051279316724,
          0.7809900058034129,
          0.6429968571185835,
          -0.9685863470324628,
          1.2932642257498272,
          0.8991878465435622,
          0.6702614740877187,
          -1.53023911252679,
          -0.33211763988874765,
          1.4833033292419877,
          0.5966607396311193,
          -1.3509756071664498,
          0.8079238287024253,
          1.6795389610664637,
          -0.6956294545177134,
          0.7239483934768534,
          -0.8703039150087871,
          2.4752648340661243,
          0.6095555501482074,
          -0.05135436217061349,
          -1.441317146126483,
          -1.7698229100332996,
          -0.854867235643374,
          0.01573115303956426,
          0.01366965315720599,
          -0.055649749827862735,
          0.9996389487811868,
          0.23448412479115777,
          1.3109218538891279,
          0.11222823118418822
         ],
         "y": [
          -0.2682455403138665,
          0.9219032901867988,
          -2.6316192007926147,
          -0.7002221680723266,
          -1.1410201172424725,
          0.1982088166397885,
          -0.36916858732116814,
          -0.346988451454806,
          -0.5067690548727558,
          -0.48657622979598436,
          -0.3779466626884306,
          -0.9057264109845606,
          -1.0904291766858063,
          -0.7245917615110173,
          -0.7023340161584938,
          -0.12909160467106529,
          -0.8886651919263007,
          0.3823079631484114,
          -1.0900373872538167,
          0.04590737193270273,
          0.3449595019039827,
          -0.21952347502178463,
          -0.045830801280706795,
          0.27039014309921827,
          0.9752355335661154,
          -0.6297684032026852,
          -1.4341538818078072,
          -2.928405166974158,
          -0.24271171257920754,
          -0.8045786019109605,
          -0.7726865519387884,
          -0.38402965758197344,
          0.43511238729760066,
          0.6040661512852107,
          -0.55675228038275,
          -2.0752224149061544,
          0.30665005723854494,
          1.052301828580547,
          -0.3096428207681808,
          -1.1114785994044372,
          0.16438707146105638,
          0.7303825344045778,
          -0.6668291129437066,
          -1.2047590788659568,
          -0.6527833867437385,
          -0.17869000879867572,
          0.6164832688470566,
          1.1410378050428858,
          -1.723664068438458,
          -0.6046277913177348,
          -0.5054846301754152,
          0.776550047785937,
          0.46522658965141034,
          1.0350918146874746,
          0.9008286556081461,
          0.6095189639974038,
          -0.5152331945488056,
          0.23869453965612214,
          -1.395265038890855,
          0.509141026613451,
          -0.20929089012008917,
          -0.27011429036927975,
          0.8636244035153211,
          -0.688059366148949,
          -0.8832300590337048,
          -2.928352824671613,
          0.07989375770754963,
          -1.9431385480998216,
          -1.8746224168674628,
          0.2443443760851938,
          0.3794392960523368,
          0.11523202363410734,
          0.12093706648550032,
          -0.483520740771378,
          -1.371270121893702,
          -0.0751091049119595,
          0.09543516448164553,
          0.7550659367358067,
          1.4773525481483383,
          -1.6667177545418252,
          0.024320580466173938,
          -0.42969113088106947,
          -0.4717015774845612,
          -0.8692805274518534,
          0.8098607957408062,
          -0.7958892117997776,
          -2.532441312455747,
          0.22346344034817142,
          0.8033086864689049,
          1.684673808657013,
          0.3552602777281829,
          0.3419395197719315,
          -0.12852374038004932,
          1.382975119289779,
          -0.0655957106522503,
          -0.3145521070114627,
          -1.4393287908028378,
          -0.3295221740812238,
          -0.42722999899320613,
          -0.9031641314456635
         ]
        }
       ],
       "layout": {
        "legend": {
         "bgcolor": "#F5F6F9",
         "font": {
          "color": "#4D5663"
         }
        },
        "paper_bgcolor": "#F5F6F9",
        "plot_bgcolor": "#F5F6F9",
        "template": {
         "data": {
          "bar": [
           {
            "error_x": {
             "color": "#2a3f5f"
            },
            "error_y": {
             "color": "#2a3f5f"
            },
            "marker": {
             "line": {
              "color": "#E5ECF6",
              "width": 0.5
             },
             "pattern": {
              "fillmode": "overlay",
              "size": 10,
              "solidity": 0.2
             }
            },
            "type": "bar"
           }
          ],
          "barpolar": [
           {
            "marker": {
             "line": {
              "color": "#E5ECF6",
              "width": 0.5
             },
             "pattern": {
              "fillmode": "overlay",
              "size": 10,
              "solidity": 0.2
             }
            },
            "type": "barpolar"
           }
          ],
          "carpet": [
           {
            "aaxis": {
             "endlinecolor": "#2a3f5f",
             "gridcolor": "white",
             "linecolor": "white",
             "minorgridcolor": "white",
             "startlinecolor": "#2a3f5f"
            },
            "baxis": {
             "endlinecolor": "#2a3f5f",
             "gridcolor": "white",
             "linecolor": "white",
             "minorgridcolor": "white",
             "startlinecolor": "#2a3f5f"
            },
            "type": "carpet"
           }
          ],
          "choropleth": [
           {
            "colorbar": {
             "outlinewidth": 0,
             "ticks": ""
            },
            "type": "choropleth"
           }
          ],
          "contour": [
           {
            "colorbar": {
             "outlinewidth": 0,
             "ticks": ""
            },
            "colorscale": [
             [
              0,
              "#0d0887"
             ],
             [
              0.1111111111111111,
              "#46039f"
             ],
             [
              0.2222222222222222,
              "#7201a8"
             ],
             [
              0.3333333333333333,
              "#9c179e"
             ],
             [
              0.4444444444444444,
              "#bd3786"
             ],
             [
              0.5555555555555556,
              "#d8576b"
             ],
             [
              0.6666666666666666,
              "#ed7953"
             ],
             [
              0.7777777777777778,
              "#fb9f3a"
             ],
             [
              0.8888888888888888,
              "#fdca26"
             ],
             [
              1,
              "#f0f921"
             ]
            ],
            "type": "contour"
           }
          ],
          "contourcarpet": [
           {
            "colorbar": {
             "outlinewidth": 0,
             "ticks": ""
            },
            "type": "contourcarpet"
           }
          ],
          "heatmap": [
           {
            "colorbar": {
             "outlinewidth": 0,
             "ticks": ""
            },
            "colorscale": [
             [
              0,
              "#0d0887"
             ],
             [
              0.1111111111111111,
              "#46039f"
             ],
             [
              0.2222222222222222,
              "#7201a8"
             ],
             [
              0.3333333333333333,
              "#9c179e"
             ],
             [
              0.4444444444444444,
              "#bd3786"
             ],
             [
              0.5555555555555556,
              "#d8576b"
             ],
             [
              0.6666666666666666,
              "#ed7953"
             ],
             [
              0.7777777777777778,
              "#fb9f3a"
             ],
             [
              0.8888888888888888,
              "#fdca26"
             ],
             [
              1,
              "#f0f921"
             ]
            ],
            "type": "heatmap"
           }
          ],
          "heatmapgl": [
           {
            "colorbar": {
             "outlinewidth": 0,
             "ticks": ""
            },
            "colorscale": [
             [
              0,
              "#0d0887"
             ],
             [
              0.1111111111111111,
              "#46039f"
             ],
             [
              0.2222222222222222,
              "#7201a8"
             ],
             [
              0.3333333333333333,
              "#9c179e"
             ],
             [
              0.4444444444444444,
              "#bd3786"
             ],
             [
              0.5555555555555556,
              "#d8576b"
             ],
             [
              0.6666666666666666,
              "#ed7953"
             ],
             [
              0.7777777777777778,
              "#fb9f3a"
             ],
             [
              0.8888888888888888,
              "#fdca26"
             ],
             [
              1,
              "#f0f921"
             ]
            ],
            "type": "heatmapgl"
           }
          ],
          "histogram": [
           {
            "marker": {
             "pattern": {
              "fillmode": "overlay",
              "size": 10,
              "solidity": 0.2
             }
            },
            "type": "histogram"
           }
          ],
          "histogram2d": [
           {
            "colorbar": {
             "outlinewidth": 0,
             "ticks": ""
            },
            "colorscale": [
             [
              0,
              "#0d0887"
             ],
             [
              0.1111111111111111,
              "#46039f"
             ],
             [
              0.2222222222222222,
              "#7201a8"
             ],
             [
              0.3333333333333333,
              "#9c179e"
             ],
             [
              0.4444444444444444,
              "#bd3786"
             ],
             [
              0.5555555555555556,
              "#d8576b"
             ],
             [
              0.6666666666666666,
              "#ed7953"
             ],
             [
              0.7777777777777778,
              "#fb9f3a"
             ],
             [
              0.8888888888888888,
              "#fdca26"
             ],
             [
              1,
              "#f0f921"
             ]
            ],
            "type": "histogram2d"
           }
          ],
          "histogram2dcontour": [
           {
            "colorbar": {
             "outlinewidth": 0,
             "ticks": ""
            },
            "colorscale": [
             [
              0,
              "#0d0887"
             ],
             [
              0.1111111111111111,
              "#46039f"
             ],
             [
              0.2222222222222222,
              "#7201a8"
             ],
             [
              0.3333333333333333,
              "#9c179e"
             ],
             [
              0.4444444444444444,
              "#bd3786"
             ],
             [
              0.5555555555555556,
              "#d8576b"
             ],
             [
              0.6666666666666666,
              "#ed7953"
             ],
             [
              0.7777777777777778,
              "#fb9f3a"
             ],
             [
              0.8888888888888888,
              "#fdca26"
             ],
             [
              1,
              "#f0f921"
             ]
            ],
            "type": "histogram2dcontour"
           }
          ],
          "mesh3d": [
           {
            "colorbar": {
             "outlinewidth": 0,
             "ticks": ""
            },
            "type": "mesh3d"
           }
          ],
          "parcoords": [
           {
            "line": {
             "colorbar": {
              "outlinewidth": 0,
              "ticks": ""
             }
            },
            "type": "parcoords"
           }
          ],
          "pie": [
           {
            "automargin": true,
            "type": "pie"
           }
          ],
          "scatter": [
           {
            "marker": {
             "colorbar": {
              "outlinewidth": 0,
              "ticks": ""
             }
            },
            "type": "scatter"
           }
          ],
          "scatter3d": [
           {
            "line": {
             "colorbar": {
              "outlinewidth": 0,
              "ticks": ""
             }
            },
            "marker": {
             "colorbar": {
              "outlinewidth": 0,
              "ticks": ""
             }
            },
            "type": "scatter3d"
           }
          ],
          "scattercarpet": [
           {
            "marker": {
             "colorbar": {
              "outlinewidth": 0,
              "ticks": ""
             }
            },
            "type": "scattercarpet"
           }
          ],
          "scattergeo": [
           {
            "marker": {
             "colorbar": {
              "outlinewidth": 0,
              "ticks": ""
             }
            },
            "type": "scattergeo"
           }
          ],
          "scattergl": [
           {
            "marker": {
             "colorbar": {
              "outlinewidth": 0,
              "ticks": ""
             }
            },
            "type": "scattergl"
           }
          ],
          "scattermapbox": [
           {
            "marker": {
             "colorbar": {
              "outlinewidth": 0,
              "ticks": ""
             }
            },
            "type": "scattermapbox"
           }
          ],
          "scatterpolar": [
           {
            "marker": {
             "colorbar": {
              "outlinewidth": 0,
              "ticks": ""
             }
            },
            "type": "scatterpolar"
           }
          ],
          "scatterpolargl": [
           {
            "marker": {
             "colorbar": {
              "outlinewidth": 0,
              "ticks": ""
             }
            },
            "type": "scatterpolargl"
           }
          ],
          "scatterternary": [
           {
            "marker": {
             "colorbar": {
              "outlinewidth": 0,
              "ticks": ""
             }
            },
            "type": "scatterternary"
           }
          ],
          "surface": [
           {
            "colorbar": {
             "outlinewidth": 0,
             "ticks": ""
            },
            "colorscale": [
             [
              0,
              "#0d0887"
             ],
             [
              0.1111111111111111,
              "#46039f"
             ],
             [
              0.2222222222222222,
              "#7201a8"
             ],
             [
              0.3333333333333333,
              "#9c179e"
             ],
             [
              0.4444444444444444,
              "#bd3786"
             ],
             [
              0.5555555555555556,
              "#d8576b"
             ],
             [
              0.6666666666666666,
              "#ed7953"
             ],
             [
              0.7777777777777778,
              "#fb9f3a"
             ],
             [
              0.8888888888888888,
              "#fdca26"
             ],
             [
              1,
              "#f0f921"
             ]
            ],
            "type": "surface"
           }
          ],
          "table": [
           {
            "cells": {
             "fill": {
              "color": "#EBF0F8"
             },
             "line": {
              "color": "white"
             }
            },
            "header": {
             "fill": {
              "color": "#C8D4E3"
             },
             "line": {
              "color": "white"
             }
            },
            "type": "table"
           }
          ]
         },
         "layout": {
          "annotationdefaults": {
           "arrowcolor": "#2a3f5f",
           "arrowhead": 0,
           "arrowwidth": 1
          },
          "autotypenumbers": "strict",
          "coloraxis": {
           "colorbar": {
            "outlinewidth": 0,
            "ticks": ""
           }
          },
          "colorscale": {
           "diverging": [
            [
             0,
             "#8e0152"
            ],
            [
             0.1,
             "#c51b7d"
            ],
            [
             0.2,
             "#de77ae"
            ],
            [
             0.3,
             "#f1b6da"
            ],
            [
             0.4,
             "#fde0ef"
            ],
            [
             0.5,
             "#f7f7f7"
            ],
            [
             0.6,
             "#e6f5d0"
            ],
            [
             0.7,
             "#b8e186"
            ],
            [
             0.8,
             "#7fbc41"
            ],
            [
             0.9,
             "#4d9221"
            ],
            [
             1,
             "#276419"
            ]
           ],
           "sequential": [
            [
             0,
             "#0d0887"
            ],
            [
             0.1111111111111111,
             "#46039f"
            ],
            [
             0.2222222222222222,
             "#7201a8"
            ],
            [
             0.3333333333333333,
             "#9c179e"
            ],
            [
             0.4444444444444444,
             "#bd3786"
            ],
            [
             0.5555555555555556,
             "#d8576b"
            ],
            [
             0.6666666666666666,
             "#ed7953"
            ],
            [
             0.7777777777777778,
             "#fb9f3a"
            ],
            [
             0.8888888888888888,
             "#fdca26"
            ],
            [
             1,
             "#f0f921"
            ]
           ],
           "sequentialminus": [
            [
             0,
             "#0d0887"
            ],
            [
             0.1111111111111111,
             "#46039f"
            ],
            [
             0.2222222222222222,
             "#7201a8"
            ],
            [
             0.3333333333333333,
             "#9c179e"
            ],
            [
             0.4444444444444444,
             "#bd3786"
            ],
            [
             0.5555555555555556,
             "#d8576b"
            ],
            [
             0.6666666666666666,
             "#ed7953"
            ],
            [
             0.7777777777777778,
             "#fb9f3a"
            ],
            [
             0.8888888888888888,
             "#fdca26"
            ],
            [
             1,
             "#f0f921"
            ]
           ]
          },
          "colorway": [
           "#636efa",
           "#EF553B",
           "#00cc96",
           "#ab63fa",
           "#FFA15A",
           "#19d3f3",
           "#FF6692",
           "#B6E880",
           "#FF97FF",
           "#FECB52"
          ],
          "font": {
           "color": "#2a3f5f"
          },
          "geo": {
           "bgcolor": "white",
           "lakecolor": "white",
           "landcolor": "#E5ECF6",
           "showlakes": true,
           "showland": true,
           "subunitcolor": "white"
          },
          "hoverlabel": {
           "align": "left"
          },
          "hovermode": "closest",
          "mapbox": {
           "style": "light"
          },
          "paper_bgcolor": "white",
          "plot_bgcolor": "#E5ECF6",
          "polar": {
           "angularaxis": {
            "gridcolor": "white",
            "linecolor": "white",
            "ticks": ""
           },
           "bgcolor": "#E5ECF6",
           "radialaxis": {
            "gridcolor": "white",
            "linecolor": "white",
            "ticks": ""
           }
          },
          "scene": {
           "xaxis": {
            "backgroundcolor": "#E5ECF6",
            "gridcolor": "white",
            "gridwidth": 2,
            "linecolor": "white",
            "showbackground": true,
            "ticks": "",
            "zerolinecolor": "white"
           },
           "yaxis": {
            "backgroundcolor": "#E5ECF6",
            "gridcolor": "white",
            "gridwidth": 2,
            "linecolor": "white",
            "showbackground": true,
            "ticks": "",
            "zerolinecolor": "white"
           },
           "zaxis": {
            "backgroundcolor": "#E5ECF6",
            "gridcolor": "white",
            "gridwidth": 2,
            "linecolor": "white",
            "showbackground": true,
            "ticks": "",
            "zerolinecolor": "white"
           }
          },
          "shapedefaults": {
           "line": {
            "color": "#2a3f5f"
           }
          },
          "ternary": {
           "aaxis": {
            "gridcolor": "white",
            "linecolor": "white",
            "ticks": ""
           },
           "baxis": {
            "gridcolor": "white",
            "linecolor": "white",
            "ticks": ""
           },
           "bgcolor": "#E5ECF6",
           "caxis": {
            "gridcolor": "white",
            "linecolor": "white",
            "ticks": ""
           }
          },
          "title": {
           "x": 0.05
          },
          "xaxis": {
           "automargin": true,
           "gridcolor": "white",
           "linecolor": "white",
           "ticks": "",
           "title": {
            "standoff": 15
           },
           "zerolinecolor": "white",
           "zerolinewidth": 2
          },
          "yaxis": {
           "automargin": true,
           "gridcolor": "white",
           "linecolor": "white",
           "ticks": "",
           "title": {
            "standoff": 15
           },
           "zerolinecolor": "white",
           "zerolinewidth": 2
          }
         }
        },
        "title": {
         "font": {
          "color": "#4D5663"
         }
        },
        "xaxis": {
         "gridcolor": "#E1E5ED",
         "showgrid": true,
         "tickfont": {
          "color": "#4D5663"
         },
         "title": {
          "font": {
           "color": "#4D5663"
          },
          "text": ""
         },
         "zerolinecolor": "#E1E5ED"
        },
        "yaxis": {
         "gridcolor": "#E1E5ED",
         "showgrid": true,
         "tickfont": {
          "color": "#4D5663"
         },
         "title": {
          "font": {
           "color": "#4D5663"
          },
          "text": ""
         },
         "zerolinecolor": "#E1E5ED"
        }
       }
      },
      "text/html": [
       "<div>                            <div id=\"66bc09b5-d0cf-4eb1-9a12-fabe71b4e5c8\" class=\"plotly-graph-div\" style=\"height:525px; width:100%;\"></div>            <script type=\"text/javascript\">                require([\"plotly\"], function(Plotly) {                    window.PLOTLYENV=window.PLOTLYENV || {};\n",
       "                    window.PLOTLYENV.BASE_URL='https://plot.ly';                                    if (document.getElementById(\"66bc09b5-d0cf-4eb1-9a12-fabe71b4e5c8\")) {                    Plotly.newPlot(                        \"66bc09b5-d0cf-4eb1-9a12-fabe71b4e5c8\",                        [{\"line\":{\"color\":\"rgba(255, 153, 51, 1.0)\",\"dash\":\"solid\",\"shape\":\"linear\",\"width\":1.3},\"marker\":{\"size\":10,\"symbol\":\"circle\"},\"mode\":\"markers\",\"name\":\"B\",\"text\":\"\",\"x\":[0.6704549516109599,0.082535443479542,-0.030277607876463258,-0.7296129081944889,0.1527265413175817,-0.33813441137032424,1.9042339492772191,-0.7588056246726919,-0.8707965588081601,0.2896340361845918,-1.5237665192059862,0.9484620621971421,0.10553141650462003,0.2092718349405866,1.1640347231125636,0.4858426802866781,0.11933983453608828,0.2728169531371193,0.28919657021806133,1.073483561244945,0.07028375795764374,-0.1887932147115583,-1.0600689448473835,-0.3019363572412175,-0.8126307144185704,0.04021264055831378,-0.9798153152930743,-0.6070842061572903,-0.8067785203768048,-0.36628255849385094,-0.490724497613985,-0.11948959467927889,0.48024340826134854,-1.1114681568524802,0.00876717415713063,0.6153754248886335,-1.4120273218003125,-0.29772386315529703,-1.5277547107763774,0.8806863350762015,-0.02202561406455898,0.18378231072850623,-1.2931621264832485,-0.3972448926752685,-0.5753141033381041,0.6099801439466861,-0.8322217489099195,-0.05349257776630721,0.8517356264904371,-0.6052906360039375,-0.016646820797517226,-0.8891175447176948,1.8392114049926793,-1.189159093024214,-1.469324037228592,-0.20638700121277379,1.2880732643088497,1.011507627731839,-0.3227307063649429,1.2961924610631739,-0.7642289271104794,-0.8007653934311705,0.4603318905907266,1.0522096884457013,1.3600251679490534,-0.36805019645124054,-0.5252295655825047,0.3721275871542655,-1.1589425465940177,0.2552543469502206,-1.219051279316724,0.7809900058034129,0.6429968571185835,-0.9685863470324628,1.2932642257498272,0.8991878465435622,0.6702614740877187,-1.53023911252679,-0.33211763988874765,1.4833033292419877,0.5966607396311193,-1.3509756071664498,0.8079238287024253,1.6795389610664637,-0.6956294545177134,0.7239483934768534,-0.8703039150087871,2.4752648340661243,0.6095555501482074,-0.05135436217061349,-1.441317146126483,-1.7698229100332996,-0.854867235643374,0.01573115303956426,0.01366965315720599,-0.055649749827862735,0.9996389487811868,0.23448412479115777,1.3109218538891279,0.11222823118418822],\"y\":[-0.2682455403138665,0.9219032901867988,-2.6316192007926147,-0.7002221680723266,-1.1410201172424725,0.1982088166397885,-0.36916858732116814,-0.346988451454806,-0.5067690548727558,-0.48657622979598436,-0.3779466626884306,-0.9057264109845606,-1.0904291766858063,-0.7245917615110173,-0.7023340161584938,-0.12909160467106529,-0.8886651919263007,0.3823079631484114,-1.0900373872538167,0.04590737193270273,0.3449595019039827,-0.21952347502178463,-0.045830801280706795,0.27039014309921827,0.9752355335661154,-0.6297684032026852,-1.4341538818078072,-2.928405166974158,-0.24271171257920754,-0.8045786019109605,-0.7726865519387884,-0.38402965758197344,0.43511238729760066,0.6040661512852107,-0.55675228038275,-2.0752224149061544,0.30665005723854494,1.052301828580547,-0.3096428207681808,-1.1114785994044372,0.16438707146105638,0.7303825344045778,-0.6668291129437066,-1.2047590788659568,-0.6527833867437385,-0.17869000879867572,0.6164832688470566,1.1410378050428858,-1.723664068438458,-0.6046277913177348,-0.5054846301754152,0.776550047785937,0.46522658965141034,1.0350918146874746,0.9008286556081461,0.6095189639974038,-0.5152331945488056,0.23869453965612214,-1.395265038890855,0.509141026613451,-0.20929089012008917,-0.27011429036927975,0.8636244035153211,-0.688059366148949,-0.8832300590337048,-2.928352824671613,0.07989375770754963,-1.9431385480998216,-1.8746224168674628,0.2443443760851938,0.3794392960523368,0.11523202363410734,0.12093706648550032,-0.483520740771378,-1.371270121893702,-0.0751091049119595,0.09543516448164553,0.7550659367358067,1.4773525481483383,-1.6667177545418252,0.024320580466173938,-0.42969113088106947,-0.4717015774845612,-0.8692805274518534,0.8098607957408062,-0.7958892117997776,-2.532441312455747,0.22346344034817142,0.8033086864689049,1.684673808657013,0.3552602777281829,0.3419395197719315,-0.12852374038004932,1.382975119289779,-0.0655957106522503,-0.3145521070114627,-1.4393287908028378,-0.3295221740812238,-0.42722999899320613,-0.9031641314456635],\"type\":\"scatter\"}],                        {\"legend\":{\"bgcolor\":\"#F5F6F9\",\"font\":{\"color\":\"#4D5663\"}},\"paper_bgcolor\":\"#F5F6F9\",\"plot_bgcolor\":\"#F5F6F9\",\"template\":{\"data\":{\"barpolar\":[{\"marker\":{\"line\":{\"color\":\"#E5ECF6\",\"width\":0.5},\"pattern\":{\"fillmode\":\"overlay\",\"size\":10,\"solidity\":0.2}},\"type\":\"barpolar\"}],\"bar\":[{\"error_x\":{\"color\":\"#2a3f5f\"},\"error_y\":{\"color\":\"#2a3f5f\"},\"marker\":{\"line\":{\"color\":\"#E5ECF6\",\"width\":0.5},\"pattern\":{\"fillmode\":\"overlay\",\"size\":10,\"solidity\":0.2}},\"type\":\"bar\"}],\"carpet\":[{\"aaxis\":{\"endlinecolor\":\"#2a3f5f\",\"gridcolor\":\"white\",\"linecolor\":\"white\",\"minorgridcolor\":\"white\",\"startlinecolor\":\"#2a3f5f\"},\"baxis\":{\"endlinecolor\":\"#2a3f5f\",\"gridcolor\":\"white\",\"linecolor\":\"white\",\"minorgridcolor\":\"white\",\"startlinecolor\":\"#2a3f5f\"},\"type\":\"carpet\"}],\"choropleth\":[{\"colorbar\":{\"outlinewidth\":0,\"ticks\":\"\"},\"type\":\"choropleth\"}],\"contourcarpet\":[{\"colorbar\":{\"outlinewidth\":0,\"ticks\":\"\"},\"type\":\"contourcarpet\"}],\"contour\":[{\"colorbar\":{\"outlinewidth\":0,\"ticks\":\"\"},\"colorscale\":[[0.0,\"#0d0887\"],[0.1111111111111111,\"#46039f\"],[0.2222222222222222,\"#7201a8\"],[0.3333333333333333,\"#9c179e\"],[0.4444444444444444,\"#bd3786\"],[0.5555555555555556,\"#d8576b\"],[0.6666666666666666,\"#ed7953\"],[0.7777777777777778,\"#fb9f3a\"],[0.8888888888888888,\"#fdca26\"],[1.0,\"#f0f921\"]],\"type\":\"contour\"}],\"heatmapgl\":[{\"colorbar\":{\"outlinewidth\":0,\"ticks\":\"\"},\"colorscale\":[[0.0,\"#0d0887\"],[0.1111111111111111,\"#46039f\"],[0.2222222222222222,\"#7201a8\"],[0.3333333333333333,\"#9c179e\"],[0.4444444444444444,\"#bd3786\"],[0.5555555555555556,\"#d8576b\"],[0.6666666666666666,\"#ed7953\"],[0.7777777777777778,\"#fb9f3a\"],[0.8888888888888888,\"#fdca26\"],[1.0,\"#f0f921\"]],\"type\":\"heatmapgl\"}],\"heatmap\":[{\"colorbar\":{\"outlinewidth\":0,\"ticks\":\"\"},\"colorscale\":[[0.0,\"#0d0887\"],[0.1111111111111111,\"#46039f\"],[0.2222222222222222,\"#7201a8\"],[0.3333333333333333,\"#9c179e\"],[0.4444444444444444,\"#bd3786\"],[0.5555555555555556,\"#d8576b\"],[0.6666666666666666,\"#ed7953\"],[0.7777777777777778,\"#fb9f3a\"],[0.8888888888888888,\"#fdca26\"],[1.0,\"#f0f921\"]],\"type\":\"heatmap\"}],\"histogram2dcontour\":[{\"colorbar\":{\"outlinewidth\":0,\"ticks\":\"\"},\"colorscale\":[[0.0,\"#0d0887\"],[0.1111111111111111,\"#46039f\"],[0.2222222222222222,\"#7201a8\"],[0.3333333333333333,\"#9c179e\"],[0.4444444444444444,\"#bd3786\"],[0.5555555555555556,\"#d8576b\"],[0.6666666666666666,\"#ed7953\"],[0.7777777777777778,\"#fb9f3a\"],[0.8888888888888888,\"#fdca26\"],[1.0,\"#f0f921\"]],\"type\":\"histogram2dcontour\"}],\"histogram2d\":[{\"colorbar\":{\"outlinewidth\":0,\"ticks\":\"\"},\"colorscale\":[[0.0,\"#0d0887\"],[0.1111111111111111,\"#46039f\"],[0.2222222222222222,\"#7201a8\"],[0.3333333333333333,\"#9c179e\"],[0.4444444444444444,\"#bd3786\"],[0.5555555555555556,\"#d8576b\"],[0.6666666666666666,\"#ed7953\"],[0.7777777777777778,\"#fb9f3a\"],[0.8888888888888888,\"#fdca26\"],[1.0,\"#f0f921\"]],\"type\":\"histogram2d\"}],\"histogram\":[{\"marker\":{\"pattern\":{\"fillmode\":\"overlay\",\"size\":10,\"solidity\":0.2}},\"type\":\"histogram\"}],\"mesh3d\":[{\"colorbar\":{\"outlinewidth\":0,\"ticks\":\"\"},\"type\":\"mesh3d\"}],\"parcoords\":[{\"line\":{\"colorbar\":{\"outlinewidth\":0,\"ticks\":\"\"}},\"type\":\"parcoords\"}],\"pie\":[{\"automargin\":true,\"type\":\"pie\"}],\"scatter3d\":[{\"line\":{\"colorbar\":{\"outlinewidth\":0,\"ticks\":\"\"}},\"marker\":{\"colorbar\":{\"outlinewidth\":0,\"ticks\":\"\"}},\"type\":\"scatter3d\"}],\"scattercarpet\":[{\"marker\":{\"colorbar\":{\"outlinewidth\":0,\"ticks\":\"\"}},\"type\":\"scattercarpet\"}],\"scattergeo\":[{\"marker\":{\"colorbar\":{\"outlinewidth\":0,\"ticks\":\"\"}},\"type\":\"scattergeo\"}],\"scattergl\":[{\"marker\":{\"colorbar\":{\"outlinewidth\":0,\"ticks\":\"\"}},\"type\":\"scattergl\"}],\"scattermapbox\":[{\"marker\":{\"colorbar\":{\"outlinewidth\":0,\"ticks\":\"\"}},\"type\":\"scattermapbox\"}],\"scatterpolargl\":[{\"marker\":{\"colorbar\":{\"outlinewidth\":0,\"ticks\":\"\"}},\"type\":\"scatterpolargl\"}],\"scatterpolar\":[{\"marker\":{\"colorbar\":{\"outlinewidth\":0,\"ticks\":\"\"}},\"type\":\"scatterpolar\"}],\"scatter\":[{\"marker\":{\"colorbar\":{\"outlinewidth\":0,\"ticks\":\"\"}},\"type\":\"scatter\"}],\"scatterternary\":[{\"marker\":{\"colorbar\":{\"outlinewidth\":0,\"ticks\":\"\"}},\"type\":\"scatterternary\"}],\"surface\":[{\"colorbar\":{\"outlinewidth\":0,\"ticks\":\"\"},\"colorscale\":[[0.0,\"#0d0887\"],[0.1111111111111111,\"#46039f\"],[0.2222222222222222,\"#7201a8\"],[0.3333333333333333,\"#9c179e\"],[0.4444444444444444,\"#bd3786\"],[0.5555555555555556,\"#d8576b\"],[0.6666666666666666,\"#ed7953\"],[0.7777777777777778,\"#fb9f3a\"],[0.8888888888888888,\"#fdca26\"],[1.0,\"#f0f921\"]],\"type\":\"surface\"}],\"table\":[{\"cells\":{\"fill\":{\"color\":\"#EBF0F8\"},\"line\":{\"color\":\"white\"}},\"header\":{\"fill\":{\"color\":\"#C8D4E3\"},\"line\":{\"color\":\"white\"}},\"type\":\"table\"}]},\"layout\":{\"annotationdefaults\":{\"arrowcolor\":\"#2a3f5f\",\"arrowhead\":0,\"arrowwidth\":1},\"autotypenumbers\":\"strict\",\"coloraxis\":{\"colorbar\":{\"outlinewidth\":0,\"ticks\":\"\"}},\"colorscale\":{\"diverging\":[[0,\"#8e0152\"],[0.1,\"#c51b7d\"],[0.2,\"#de77ae\"],[0.3,\"#f1b6da\"],[0.4,\"#fde0ef\"],[0.5,\"#f7f7f7\"],[0.6,\"#e6f5d0\"],[0.7,\"#b8e186\"],[0.8,\"#7fbc41\"],[0.9,\"#4d9221\"],[1,\"#276419\"]],\"sequential\":[[0.0,\"#0d0887\"],[0.1111111111111111,\"#46039f\"],[0.2222222222222222,\"#7201a8\"],[0.3333333333333333,\"#9c179e\"],[0.4444444444444444,\"#bd3786\"],[0.5555555555555556,\"#d8576b\"],[0.6666666666666666,\"#ed7953\"],[0.7777777777777778,\"#fb9f3a\"],[0.8888888888888888,\"#fdca26\"],[1.0,\"#f0f921\"]],\"sequentialminus\":[[0.0,\"#0d0887\"],[0.1111111111111111,\"#46039f\"],[0.2222222222222222,\"#7201a8\"],[0.3333333333333333,\"#9c179e\"],[0.4444444444444444,\"#bd3786\"],[0.5555555555555556,\"#d8576b\"],[0.6666666666666666,\"#ed7953\"],[0.7777777777777778,\"#fb9f3a\"],[0.8888888888888888,\"#fdca26\"],[1.0,\"#f0f921\"]]},\"colorway\":[\"#636efa\",\"#EF553B\",\"#00cc96\",\"#ab63fa\",\"#FFA15A\",\"#19d3f3\",\"#FF6692\",\"#B6E880\",\"#FF97FF\",\"#FECB52\"],\"font\":{\"color\":\"#2a3f5f\"},\"geo\":{\"bgcolor\":\"white\",\"lakecolor\":\"white\",\"landcolor\":\"#E5ECF6\",\"showlakes\":true,\"showland\":true,\"subunitcolor\":\"white\"},\"hoverlabel\":{\"align\":\"left\"},\"hovermode\":\"closest\",\"mapbox\":{\"style\":\"light\"},\"paper_bgcolor\":\"white\",\"plot_bgcolor\":\"#E5ECF6\",\"polar\":{\"angularaxis\":{\"gridcolor\":\"white\",\"linecolor\":\"white\",\"ticks\":\"\"},\"bgcolor\":\"#E5ECF6\",\"radialaxis\":{\"gridcolor\":\"white\",\"linecolor\":\"white\",\"ticks\":\"\"}},\"scene\":{\"xaxis\":{\"backgroundcolor\":\"#E5ECF6\",\"gridcolor\":\"white\",\"gridwidth\":2,\"linecolor\":\"white\",\"showbackground\":true,\"ticks\":\"\",\"zerolinecolor\":\"white\"},\"yaxis\":{\"backgroundcolor\":\"#E5ECF6\",\"gridcolor\":\"white\",\"gridwidth\":2,\"linecolor\":\"white\",\"showbackground\":true,\"ticks\":\"\",\"zerolinecolor\":\"white\"},\"zaxis\":{\"backgroundcolor\":\"#E5ECF6\",\"gridcolor\":\"white\",\"gridwidth\":2,\"linecolor\":\"white\",\"showbackground\":true,\"ticks\":\"\",\"zerolinecolor\":\"white\"}},\"shapedefaults\":{\"line\":{\"color\":\"#2a3f5f\"}},\"ternary\":{\"aaxis\":{\"gridcolor\":\"white\",\"linecolor\":\"white\",\"ticks\":\"\"},\"baxis\":{\"gridcolor\":\"white\",\"linecolor\":\"white\",\"ticks\":\"\"},\"bgcolor\":\"#E5ECF6\",\"caxis\":{\"gridcolor\":\"white\",\"linecolor\":\"white\",\"ticks\":\"\"}},\"title\":{\"x\":0.05},\"xaxis\":{\"automargin\":true,\"gridcolor\":\"white\",\"linecolor\":\"white\",\"ticks\":\"\",\"title\":{\"standoff\":15},\"zerolinecolor\":\"white\",\"zerolinewidth\":2},\"yaxis\":{\"automargin\":true,\"gridcolor\":\"white\",\"linecolor\":\"white\",\"ticks\":\"\",\"title\":{\"standoff\":15},\"zerolinecolor\":\"white\",\"zerolinewidth\":2}}},\"title\":{\"font\":{\"color\":\"#4D5663\"}},\"xaxis\":{\"gridcolor\":\"#E1E5ED\",\"showgrid\":true,\"tickfont\":{\"color\":\"#4D5663\"},\"title\":{\"font\":{\"color\":\"#4D5663\"},\"text\":\"\"},\"zerolinecolor\":\"#E1E5ED\"},\"yaxis\":{\"gridcolor\":\"#E1E5ED\",\"showgrid\":true,\"tickfont\":{\"color\":\"#4D5663\"},\"title\":{\"font\":{\"color\":\"#4D5663\"},\"text\":\"\"},\"zerolinecolor\":\"#E1E5ED\"}},                        {\"showLink\": true, \"linkText\": \"Export to plot.ly\", \"plotlyServerURL\": \"https://plot.ly\", \"responsive\": true}                    ).then(function(){\n",
       "                            \n",
       "var gd = document.getElementById('66bc09b5-d0cf-4eb1-9a12-fabe71b4e5c8');\n",
       "var x = new MutationObserver(function (mutations, observer) {{\n",
       "        var display = window.getComputedStyle(gd).display;\n",
       "        if (!display || display === 'none') {{\n",
       "            console.log([gd, 'removed!']);\n",
       "            Plotly.purge(gd);\n",
       "            observer.disconnect();\n",
       "        }}\n",
       "}});\n",
       "\n",
       "// Listen for the removal of the full notebook cells\n",
       "var notebookContainer = gd.closest('#notebook-container');\n",
       "if (notebookContainer) {{\n",
       "    x.observe(notebookContainer, {childList: true});\n",
       "}}\n",
       "\n",
       "// Listen for the clearing of the current output cell\n",
       "var outputEl = gd.closest('.output');\n",
       "if (outputEl) {{\n",
       "    x.observe(outputEl, {childList: true});\n",
       "}}\n",
       "\n",
       "                        })                };                });            </script>        </div>"
      ]
     },
     "metadata": {},
     "output_type": "display_data"
    }
   ],
   "source": [
    "df.iplot(kind='scatter',x='A',y='B',mode='markers',size=10)"
   ]
  },
  {
   "cell_type": "markdown",
   "metadata": {},
   "source": [
    "## Bar Plots"
   ]
  },
  {
   "cell_type": "code",
   "execution_count": 11,
   "metadata": {},
   "outputs": [
    {
     "data": {
      "application/vnd.plotly.v1+json": {
       "config": {
        "linkText": "Export to plot.ly",
        "plotlyServerURL": "https://plot.ly",
        "showLink": true
       },
       "data": [
        {
         "marker": {
          "color": "rgba(255, 153, 51, 0.6)",
          "line": {
           "color": "rgba(255, 153, 51, 1.0)",
           "width": 1
          }
         },
         "name": "Values",
         "orientation": "v",
         "text": "",
         "type": "bar",
         "x": [
          "A",
          "B",
          "C"
         ],
         "y": [
          32,
          43,
          50
         ]
        }
       ],
       "layout": {
        "legend": {
         "bgcolor": "#F5F6F9",
         "font": {
          "color": "#4D5663"
         }
        },
        "paper_bgcolor": "#F5F6F9",
        "plot_bgcolor": "#F5F6F9",
        "template": {
         "data": {
          "bar": [
           {
            "error_x": {
             "color": "#2a3f5f"
            },
            "error_y": {
             "color": "#2a3f5f"
            },
            "marker": {
             "line": {
              "color": "#E5ECF6",
              "width": 0.5
             },
             "pattern": {
              "fillmode": "overlay",
              "size": 10,
              "solidity": 0.2
             }
            },
            "type": "bar"
           }
          ],
          "barpolar": [
           {
            "marker": {
             "line": {
              "color": "#E5ECF6",
              "width": 0.5
             },
             "pattern": {
              "fillmode": "overlay",
              "size": 10,
              "solidity": 0.2
             }
            },
            "type": "barpolar"
           }
          ],
          "carpet": [
           {
            "aaxis": {
             "endlinecolor": "#2a3f5f",
             "gridcolor": "white",
             "linecolor": "white",
             "minorgridcolor": "white",
             "startlinecolor": "#2a3f5f"
            },
            "baxis": {
             "endlinecolor": "#2a3f5f",
             "gridcolor": "white",
             "linecolor": "white",
             "minorgridcolor": "white",
             "startlinecolor": "#2a3f5f"
            },
            "type": "carpet"
           }
          ],
          "choropleth": [
           {
            "colorbar": {
             "outlinewidth": 0,
             "ticks": ""
            },
            "type": "choropleth"
           }
          ],
          "contour": [
           {
            "colorbar": {
             "outlinewidth": 0,
             "ticks": ""
            },
            "colorscale": [
             [
              0,
              "#0d0887"
             ],
             [
              0.1111111111111111,
              "#46039f"
             ],
             [
              0.2222222222222222,
              "#7201a8"
             ],
             [
              0.3333333333333333,
              "#9c179e"
             ],
             [
              0.4444444444444444,
              "#bd3786"
             ],
             [
              0.5555555555555556,
              "#d8576b"
             ],
             [
              0.6666666666666666,
              "#ed7953"
             ],
             [
              0.7777777777777778,
              "#fb9f3a"
             ],
             [
              0.8888888888888888,
              "#fdca26"
             ],
             [
              1,
              "#f0f921"
             ]
            ],
            "type": "contour"
           }
          ],
          "contourcarpet": [
           {
            "colorbar": {
             "outlinewidth": 0,
             "ticks": ""
            },
            "type": "contourcarpet"
           }
          ],
          "heatmap": [
           {
            "colorbar": {
             "outlinewidth": 0,
             "ticks": ""
            },
            "colorscale": [
             [
              0,
              "#0d0887"
             ],
             [
              0.1111111111111111,
              "#46039f"
             ],
             [
              0.2222222222222222,
              "#7201a8"
             ],
             [
              0.3333333333333333,
              "#9c179e"
             ],
             [
              0.4444444444444444,
              "#bd3786"
             ],
             [
              0.5555555555555556,
              "#d8576b"
             ],
             [
              0.6666666666666666,
              "#ed7953"
             ],
             [
              0.7777777777777778,
              "#fb9f3a"
             ],
             [
              0.8888888888888888,
              "#fdca26"
             ],
             [
              1,
              "#f0f921"
             ]
            ],
            "type": "heatmap"
           }
          ],
          "heatmapgl": [
           {
            "colorbar": {
             "outlinewidth": 0,
             "ticks": ""
            },
            "colorscale": [
             [
              0,
              "#0d0887"
             ],
             [
              0.1111111111111111,
              "#46039f"
             ],
             [
              0.2222222222222222,
              "#7201a8"
             ],
             [
              0.3333333333333333,
              "#9c179e"
             ],
             [
              0.4444444444444444,
              "#bd3786"
             ],
             [
              0.5555555555555556,
              "#d8576b"
             ],
             [
              0.6666666666666666,
              "#ed7953"
             ],
             [
              0.7777777777777778,
              "#fb9f3a"
             ],
             [
              0.8888888888888888,
              "#fdca26"
             ],
             [
              1,
              "#f0f921"
             ]
            ],
            "type": "heatmapgl"
           }
          ],
          "histogram": [
           {
            "marker": {
             "pattern": {
              "fillmode": "overlay",
              "size": 10,
              "solidity": 0.2
             }
            },
            "type": "histogram"
           }
          ],
          "histogram2d": [
           {
            "colorbar": {
             "outlinewidth": 0,
             "ticks": ""
            },
            "colorscale": [
             [
              0,
              "#0d0887"
             ],
             [
              0.1111111111111111,
              "#46039f"
             ],
             [
              0.2222222222222222,
              "#7201a8"
             ],
             [
              0.3333333333333333,
              "#9c179e"
             ],
             [
              0.4444444444444444,
              "#bd3786"
             ],
             [
              0.5555555555555556,
              "#d8576b"
             ],
             [
              0.6666666666666666,
              "#ed7953"
             ],
             [
              0.7777777777777778,
              "#fb9f3a"
             ],
             [
              0.8888888888888888,
              "#fdca26"
             ],
             [
              1,
              "#f0f921"
             ]
            ],
            "type": "histogram2d"
           }
          ],
          "histogram2dcontour": [
           {
            "colorbar": {
             "outlinewidth": 0,
             "ticks": ""
            },
            "colorscale": [
             [
              0,
              "#0d0887"
             ],
             [
              0.1111111111111111,
              "#46039f"
             ],
             [
              0.2222222222222222,
              "#7201a8"
             ],
             [
              0.3333333333333333,
              "#9c179e"
             ],
             [
              0.4444444444444444,
              "#bd3786"
             ],
             [
              0.5555555555555556,
              "#d8576b"
             ],
             [
              0.6666666666666666,
              "#ed7953"
             ],
             [
              0.7777777777777778,
              "#fb9f3a"
             ],
             [
              0.8888888888888888,
              "#fdca26"
             ],
             [
              1,
              "#f0f921"
             ]
            ],
            "type": "histogram2dcontour"
           }
          ],
          "mesh3d": [
           {
            "colorbar": {
             "outlinewidth": 0,
             "ticks": ""
            },
            "type": "mesh3d"
           }
          ],
          "parcoords": [
           {
            "line": {
             "colorbar": {
              "outlinewidth": 0,
              "ticks": ""
             }
            },
            "type": "parcoords"
           }
          ],
          "pie": [
           {
            "automargin": true,
            "type": "pie"
           }
          ],
          "scatter": [
           {
            "marker": {
             "colorbar": {
              "outlinewidth": 0,
              "ticks": ""
             }
            },
            "type": "scatter"
           }
          ],
          "scatter3d": [
           {
            "line": {
             "colorbar": {
              "outlinewidth": 0,
              "ticks": ""
             }
            },
            "marker": {
             "colorbar": {
              "outlinewidth": 0,
              "ticks": ""
             }
            },
            "type": "scatter3d"
           }
          ],
          "scattercarpet": [
           {
            "marker": {
             "colorbar": {
              "outlinewidth": 0,
              "ticks": ""
             }
            },
            "type": "scattercarpet"
           }
          ],
          "scattergeo": [
           {
            "marker": {
             "colorbar": {
              "outlinewidth": 0,
              "ticks": ""
             }
            },
            "type": "scattergeo"
           }
          ],
          "scattergl": [
           {
            "marker": {
             "colorbar": {
              "outlinewidth": 0,
              "ticks": ""
             }
            },
            "type": "scattergl"
           }
          ],
          "scattermapbox": [
           {
            "marker": {
             "colorbar": {
              "outlinewidth": 0,
              "ticks": ""
             }
            },
            "type": "scattermapbox"
           }
          ],
          "scatterpolar": [
           {
            "marker": {
             "colorbar": {
              "outlinewidth": 0,
              "ticks": ""
             }
            },
            "type": "scatterpolar"
           }
          ],
          "scatterpolargl": [
           {
            "marker": {
             "colorbar": {
              "outlinewidth": 0,
              "ticks": ""
             }
            },
            "type": "scatterpolargl"
           }
          ],
          "scatterternary": [
           {
            "marker": {
             "colorbar": {
              "outlinewidth": 0,
              "ticks": ""
             }
            },
            "type": "scatterternary"
           }
          ],
          "surface": [
           {
            "colorbar": {
             "outlinewidth": 0,
             "ticks": ""
            },
            "colorscale": [
             [
              0,
              "#0d0887"
             ],
             [
              0.1111111111111111,
              "#46039f"
             ],
             [
              0.2222222222222222,
              "#7201a8"
             ],
             [
              0.3333333333333333,
              "#9c179e"
             ],
             [
              0.4444444444444444,
              "#bd3786"
             ],
             [
              0.5555555555555556,
              "#d8576b"
             ],
             [
              0.6666666666666666,
              "#ed7953"
             ],
             [
              0.7777777777777778,
              "#fb9f3a"
             ],
             [
              0.8888888888888888,
              "#fdca26"
             ],
             [
              1,
              "#f0f921"
             ]
            ],
            "type": "surface"
           }
          ],
          "table": [
           {
            "cells": {
             "fill": {
              "color": "#EBF0F8"
             },
             "line": {
              "color": "white"
             }
            },
            "header": {
             "fill": {
              "color": "#C8D4E3"
             },
             "line": {
              "color": "white"
             }
            },
            "type": "table"
           }
          ]
         },
         "layout": {
          "annotationdefaults": {
           "arrowcolor": "#2a3f5f",
           "arrowhead": 0,
           "arrowwidth": 1
          },
          "autotypenumbers": "strict",
          "coloraxis": {
           "colorbar": {
            "outlinewidth": 0,
            "ticks": ""
           }
          },
          "colorscale": {
           "diverging": [
            [
             0,
             "#8e0152"
            ],
            [
             0.1,
             "#c51b7d"
            ],
            [
             0.2,
             "#de77ae"
            ],
            [
             0.3,
             "#f1b6da"
            ],
            [
             0.4,
             "#fde0ef"
            ],
            [
             0.5,
             "#f7f7f7"
            ],
            [
             0.6,
             "#e6f5d0"
            ],
            [
             0.7,
             "#b8e186"
            ],
            [
             0.8,
             "#7fbc41"
            ],
            [
             0.9,
             "#4d9221"
            ],
            [
             1,
             "#276419"
            ]
           ],
           "sequential": [
            [
             0,
             "#0d0887"
            ],
            [
             0.1111111111111111,
             "#46039f"
            ],
            [
             0.2222222222222222,
             "#7201a8"
            ],
            [
             0.3333333333333333,
             "#9c179e"
            ],
            [
             0.4444444444444444,
             "#bd3786"
            ],
            [
             0.5555555555555556,
             "#d8576b"
            ],
            [
             0.6666666666666666,
             "#ed7953"
            ],
            [
             0.7777777777777778,
             "#fb9f3a"
            ],
            [
             0.8888888888888888,
             "#fdca26"
            ],
            [
             1,
             "#f0f921"
            ]
           ],
           "sequentialminus": [
            [
             0,
             "#0d0887"
            ],
            [
             0.1111111111111111,
             "#46039f"
            ],
            [
             0.2222222222222222,
             "#7201a8"
            ],
            [
             0.3333333333333333,
             "#9c179e"
            ],
            [
             0.4444444444444444,
             "#bd3786"
            ],
            [
             0.5555555555555556,
             "#d8576b"
            ],
            [
             0.6666666666666666,
             "#ed7953"
            ],
            [
             0.7777777777777778,
             "#fb9f3a"
            ],
            [
             0.8888888888888888,
             "#fdca26"
            ],
            [
             1,
             "#f0f921"
            ]
           ]
          },
          "colorway": [
           "#636efa",
           "#EF553B",
           "#00cc96",
           "#ab63fa",
           "#FFA15A",
           "#19d3f3",
           "#FF6692",
           "#B6E880",
           "#FF97FF",
           "#FECB52"
          ],
          "font": {
           "color": "#2a3f5f"
          },
          "geo": {
           "bgcolor": "white",
           "lakecolor": "white",
           "landcolor": "#E5ECF6",
           "showlakes": true,
           "showland": true,
           "subunitcolor": "white"
          },
          "hoverlabel": {
           "align": "left"
          },
          "hovermode": "closest",
          "mapbox": {
           "style": "light"
          },
          "paper_bgcolor": "white",
          "plot_bgcolor": "#E5ECF6",
          "polar": {
           "angularaxis": {
            "gridcolor": "white",
            "linecolor": "white",
            "ticks": ""
           },
           "bgcolor": "#E5ECF6",
           "radialaxis": {
            "gridcolor": "white",
            "linecolor": "white",
            "ticks": ""
           }
          },
          "scene": {
           "xaxis": {
            "backgroundcolor": "#E5ECF6",
            "gridcolor": "white",
            "gridwidth": 2,
            "linecolor": "white",
            "showbackground": true,
            "ticks": "",
            "zerolinecolor": "white"
           },
           "yaxis": {
            "backgroundcolor": "#E5ECF6",
            "gridcolor": "white",
            "gridwidth": 2,
            "linecolor": "white",
            "showbackground": true,
            "ticks": "",
            "zerolinecolor": "white"
           },
           "zaxis": {
            "backgroundcolor": "#E5ECF6",
            "gridcolor": "white",
            "gridwidth": 2,
            "linecolor": "white",
            "showbackground": true,
            "ticks": "",
            "zerolinecolor": "white"
           }
          },
          "shapedefaults": {
           "line": {
            "color": "#2a3f5f"
           }
          },
          "ternary": {
           "aaxis": {
            "gridcolor": "white",
            "linecolor": "white",
            "ticks": ""
           },
           "baxis": {
            "gridcolor": "white",
            "linecolor": "white",
            "ticks": ""
           },
           "bgcolor": "#E5ECF6",
           "caxis": {
            "gridcolor": "white",
            "linecolor": "white",
            "ticks": ""
           }
          },
          "title": {
           "x": 0.05
          },
          "xaxis": {
           "automargin": true,
           "gridcolor": "white",
           "linecolor": "white",
           "ticks": "",
           "title": {
            "standoff": 15
           },
           "zerolinecolor": "white",
           "zerolinewidth": 2
          },
          "yaxis": {
           "automargin": true,
           "gridcolor": "white",
           "linecolor": "white",
           "ticks": "",
           "title": {
            "standoff": 15
           },
           "zerolinecolor": "white",
           "zerolinewidth": 2
          }
         }
        },
        "title": {
         "font": {
          "color": "#4D5663"
         }
        },
        "xaxis": {
         "gridcolor": "#E1E5ED",
         "showgrid": true,
         "tickfont": {
          "color": "#4D5663"
         },
         "title": {
          "font": {
           "color": "#4D5663"
          },
          "text": ""
         },
         "zerolinecolor": "#E1E5ED"
        },
        "yaxis": {
         "gridcolor": "#E1E5ED",
         "showgrid": true,
         "tickfont": {
          "color": "#4D5663"
         },
         "title": {
          "font": {
           "color": "#4D5663"
          },
          "text": ""
         },
         "zerolinecolor": "#E1E5ED"
        }
       }
      },
      "text/html": [
       "<div>                            <div id=\"1bbb05b1-68d1-4047-a5ee-43ce03f01281\" class=\"plotly-graph-div\" style=\"height:525px; width:100%;\"></div>            <script type=\"text/javascript\">                require([\"plotly\"], function(Plotly) {                    window.PLOTLYENV=window.PLOTLYENV || {};\n",
       "                    window.PLOTLYENV.BASE_URL='https://plot.ly';                                    if (document.getElementById(\"1bbb05b1-68d1-4047-a5ee-43ce03f01281\")) {                    Plotly.newPlot(                        \"1bbb05b1-68d1-4047-a5ee-43ce03f01281\",                        [{\"marker\":{\"color\":\"rgba(255, 153, 51, 0.6)\",\"line\":{\"color\":\"rgba(255, 153, 51, 1.0)\",\"width\":1}},\"name\":\"Values\",\"orientation\":\"v\",\"text\":\"\",\"x\":[\"A\",\"B\",\"C\"],\"y\":[32,43,50],\"type\":\"bar\"}],                        {\"legend\":{\"bgcolor\":\"#F5F6F9\",\"font\":{\"color\":\"#4D5663\"}},\"paper_bgcolor\":\"#F5F6F9\",\"plot_bgcolor\":\"#F5F6F9\",\"template\":{\"data\":{\"barpolar\":[{\"marker\":{\"line\":{\"color\":\"#E5ECF6\",\"width\":0.5},\"pattern\":{\"fillmode\":\"overlay\",\"size\":10,\"solidity\":0.2}},\"type\":\"barpolar\"}],\"bar\":[{\"error_x\":{\"color\":\"#2a3f5f\"},\"error_y\":{\"color\":\"#2a3f5f\"},\"marker\":{\"line\":{\"color\":\"#E5ECF6\",\"width\":0.5},\"pattern\":{\"fillmode\":\"overlay\",\"size\":10,\"solidity\":0.2}},\"type\":\"bar\"}],\"carpet\":[{\"aaxis\":{\"endlinecolor\":\"#2a3f5f\",\"gridcolor\":\"white\",\"linecolor\":\"white\",\"minorgridcolor\":\"white\",\"startlinecolor\":\"#2a3f5f\"},\"baxis\":{\"endlinecolor\":\"#2a3f5f\",\"gridcolor\":\"white\",\"linecolor\":\"white\",\"minorgridcolor\":\"white\",\"startlinecolor\":\"#2a3f5f\"},\"type\":\"carpet\"}],\"choropleth\":[{\"colorbar\":{\"outlinewidth\":0,\"ticks\":\"\"},\"type\":\"choropleth\"}],\"contourcarpet\":[{\"colorbar\":{\"outlinewidth\":0,\"ticks\":\"\"},\"type\":\"contourcarpet\"}],\"contour\":[{\"colorbar\":{\"outlinewidth\":0,\"ticks\":\"\"},\"colorscale\":[[0.0,\"#0d0887\"],[0.1111111111111111,\"#46039f\"],[0.2222222222222222,\"#7201a8\"],[0.3333333333333333,\"#9c179e\"],[0.4444444444444444,\"#bd3786\"],[0.5555555555555556,\"#d8576b\"],[0.6666666666666666,\"#ed7953\"],[0.7777777777777778,\"#fb9f3a\"],[0.8888888888888888,\"#fdca26\"],[1.0,\"#f0f921\"]],\"type\":\"contour\"}],\"heatmapgl\":[{\"colorbar\":{\"outlinewidth\":0,\"ticks\":\"\"},\"colorscale\":[[0.0,\"#0d0887\"],[0.1111111111111111,\"#46039f\"],[0.2222222222222222,\"#7201a8\"],[0.3333333333333333,\"#9c179e\"],[0.4444444444444444,\"#bd3786\"],[0.5555555555555556,\"#d8576b\"],[0.6666666666666666,\"#ed7953\"],[0.7777777777777778,\"#fb9f3a\"],[0.8888888888888888,\"#fdca26\"],[1.0,\"#f0f921\"]],\"type\":\"heatmapgl\"}],\"heatmap\":[{\"colorbar\":{\"outlinewidth\":0,\"ticks\":\"\"},\"colorscale\":[[0.0,\"#0d0887\"],[0.1111111111111111,\"#46039f\"],[0.2222222222222222,\"#7201a8\"],[0.3333333333333333,\"#9c179e\"],[0.4444444444444444,\"#bd3786\"],[0.5555555555555556,\"#d8576b\"],[0.6666666666666666,\"#ed7953\"],[0.7777777777777778,\"#fb9f3a\"],[0.8888888888888888,\"#fdca26\"],[1.0,\"#f0f921\"]],\"type\":\"heatmap\"}],\"histogram2dcontour\":[{\"colorbar\":{\"outlinewidth\":0,\"ticks\":\"\"},\"colorscale\":[[0.0,\"#0d0887\"],[0.1111111111111111,\"#46039f\"],[0.2222222222222222,\"#7201a8\"],[0.3333333333333333,\"#9c179e\"],[0.4444444444444444,\"#bd3786\"],[0.5555555555555556,\"#d8576b\"],[0.6666666666666666,\"#ed7953\"],[0.7777777777777778,\"#fb9f3a\"],[0.8888888888888888,\"#fdca26\"],[1.0,\"#f0f921\"]],\"type\":\"histogram2dcontour\"}],\"histogram2d\":[{\"colorbar\":{\"outlinewidth\":0,\"ticks\":\"\"},\"colorscale\":[[0.0,\"#0d0887\"],[0.1111111111111111,\"#46039f\"],[0.2222222222222222,\"#7201a8\"],[0.3333333333333333,\"#9c179e\"],[0.4444444444444444,\"#bd3786\"],[0.5555555555555556,\"#d8576b\"],[0.6666666666666666,\"#ed7953\"],[0.7777777777777778,\"#fb9f3a\"],[0.8888888888888888,\"#fdca26\"],[1.0,\"#f0f921\"]],\"type\":\"histogram2d\"}],\"histogram\":[{\"marker\":{\"pattern\":{\"fillmode\":\"overlay\",\"size\":10,\"solidity\":0.2}},\"type\":\"histogram\"}],\"mesh3d\":[{\"colorbar\":{\"outlinewidth\":0,\"ticks\":\"\"},\"type\":\"mesh3d\"}],\"parcoords\":[{\"line\":{\"colorbar\":{\"outlinewidth\":0,\"ticks\":\"\"}},\"type\":\"parcoords\"}],\"pie\":[{\"automargin\":true,\"type\":\"pie\"}],\"scatter3d\":[{\"line\":{\"colorbar\":{\"outlinewidth\":0,\"ticks\":\"\"}},\"marker\":{\"colorbar\":{\"outlinewidth\":0,\"ticks\":\"\"}},\"type\":\"scatter3d\"}],\"scattercarpet\":[{\"marker\":{\"colorbar\":{\"outlinewidth\":0,\"ticks\":\"\"}},\"type\":\"scattercarpet\"}],\"scattergeo\":[{\"marker\":{\"colorbar\":{\"outlinewidth\":0,\"ticks\":\"\"}},\"type\":\"scattergeo\"}],\"scattergl\":[{\"marker\":{\"colorbar\":{\"outlinewidth\":0,\"ticks\":\"\"}},\"type\":\"scattergl\"}],\"scattermapbox\":[{\"marker\":{\"colorbar\":{\"outlinewidth\":0,\"ticks\":\"\"}},\"type\":\"scattermapbox\"}],\"scatterpolargl\":[{\"marker\":{\"colorbar\":{\"outlinewidth\":0,\"ticks\":\"\"}},\"type\":\"scatterpolargl\"}],\"scatterpolar\":[{\"marker\":{\"colorbar\":{\"outlinewidth\":0,\"ticks\":\"\"}},\"type\":\"scatterpolar\"}],\"scatter\":[{\"marker\":{\"colorbar\":{\"outlinewidth\":0,\"ticks\":\"\"}},\"type\":\"scatter\"}],\"scatterternary\":[{\"marker\":{\"colorbar\":{\"outlinewidth\":0,\"ticks\":\"\"}},\"type\":\"scatterternary\"}],\"surface\":[{\"colorbar\":{\"outlinewidth\":0,\"ticks\":\"\"},\"colorscale\":[[0.0,\"#0d0887\"],[0.1111111111111111,\"#46039f\"],[0.2222222222222222,\"#7201a8\"],[0.3333333333333333,\"#9c179e\"],[0.4444444444444444,\"#bd3786\"],[0.5555555555555556,\"#d8576b\"],[0.6666666666666666,\"#ed7953\"],[0.7777777777777778,\"#fb9f3a\"],[0.8888888888888888,\"#fdca26\"],[1.0,\"#f0f921\"]],\"type\":\"surface\"}],\"table\":[{\"cells\":{\"fill\":{\"color\":\"#EBF0F8\"},\"line\":{\"color\":\"white\"}},\"header\":{\"fill\":{\"color\":\"#C8D4E3\"},\"line\":{\"color\":\"white\"}},\"type\":\"table\"}]},\"layout\":{\"annotationdefaults\":{\"arrowcolor\":\"#2a3f5f\",\"arrowhead\":0,\"arrowwidth\":1},\"autotypenumbers\":\"strict\",\"coloraxis\":{\"colorbar\":{\"outlinewidth\":0,\"ticks\":\"\"}},\"colorscale\":{\"diverging\":[[0,\"#8e0152\"],[0.1,\"#c51b7d\"],[0.2,\"#de77ae\"],[0.3,\"#f1b6da\"],[0.4,\"#fde0ef\"],[0.5,\"#f7f7f7\"],[0.6,\"#e6f5d0\"],[0.7,\"#b8e186\"],[0.8,\"#7fbc41\"],[0.9,\"#4d9221\"],[1,\"#276419\"]],\"sequential\":[[0.0,\"#0d0887\"],[0.1111111111111111,\"#46039f\"],[0.2222222222222222,\"#7201a8\"],[0.3333333333333333,\"#9c179e\"],[0.4444444444444444,\"#bd3786\"],[0.5555555555555556,\"#d8576b\"],[0.6666666666666666,\"#ed7953\"],[0.7777777777777778,\"#fb9f3a\"],[0.8888888888888888,\"#fdca26\"],[1.0,\"#f0f921\"]],\"sequentialminus\":[[0.0,\"#0d0887\"],[0.1111111111111111,\"#46039f\"],[0.2222222222222222,\"#7201a8\"],[0.3333333333333333,\"#9c179e\"],[0.4444444444444444,\"#bd3786\"],[0.5555555555555556,\"#d8576b\"],[0.6666666666666666,\"#ed7953\"],[0.7777777777777778,\"#fb9f3a\"],[0.8888888888888888,\"#fdca26\"],[1.0,\"#f0f921\"]]},\"colorway\":[\"#636efa\",\"#EF553B\",\"#00cc96\",\"#ab63fa\",\"#FFA15A\",\"#19d3f3\",\"#FF6692\",\"#B6E880\",\"#FF97FF\",\"#FECB52\"],\"font\":{\"color\":\"#2a3f5f\"},\"geo\":{\"bgcolor\":\"white\",\"lakecolor\":\"white\",\"landcolor\":\"#E5ECF6\",\"showlakes\":true,\"showland\":true,\"subunitcolor\":\"white\"},\"hoverlabel\":{\"align\":\"left\"},\"hovermode\":\"closest\",\"mapbox\":{\"style\":\"light\"},\"paper_bgcolor\":\"white\",\"plot_bgcolor\":\"#E5ECF6\",\"polar\":{\"angularaxis\":{\"gridcolor\":\"white\",\"linecolor\":\"white\",\"ticks\":\"\"},\"bgcolor\":\"#E5ECF6\",\"radialaxis\":{\"gridcolor\":\"white\",\"linecolor\":\"white\",\"ticks\":\"\"}},\"scene\":{\"xaxis\":{\"backgroundcolor\":\"#E5ECF6\",\"gridcolor\":\"white\",\"gridwidth\":2,\"linecolor\":\"white\",\"showbackground\":true,\"ticks\":\"\",\"zerolinecolor\":\"white\"},\"yaxis\":{\"backgroundcolor\":\"#E5ECF6\",\"gridcolor\":\"white\",\"gridwidth\":2,\"linecolor\":\"white\",\"showbackground\":true,\"ticks\":\"\",\"zerolinecolor\":\"white\"},\"zaxis\":{\"backgroundcolor\":\"#E5ECF6\",\"gridcolor\":\"white\",\"gridwidth\":2,\"linecolor\":\"white\",\"showbackground\":true,\"ticks\":\"\",\"zerolinecolor\":\"white\"}},\"shapedefaults\":{\"line\":{\"color\":\"#2a3f5f\"}},\"ternary\":{\"aaxis\":{\"gridcolor\":\"white\",\"linecolor\":\"white\",\"ticks\":\"\"},\"baxis\":{\"gridcolor\":\"white\",\"linecolor\":\"white\",\"ticks\":\"\"},\"bgcolor\":\"#E5ECF6\",\"caxis\":{\"gridcolor\":\"white\",\"linecolor\":\"white\",\"ticks\":\"\"}},\"title\":{\"x\":0.05},\"xaxis\":{\"automargin\":true,\"gridcolor\":\"white\",\"linecolor\":\"white\",\"ticks\":\"\",\"title\":{\"standoff\":15},\"zerolinecolor\":\"white\",\"zerolinewidth\":2},\"yaxis\":{\"automargin\":true,\"gridcolor\":\"white\",\"linecolor\":\"white\",\"ticks\":\"\",\"title\":{\"standoff\":15},\"zerolinecolor\":\"white\",\"zerolinewidth\":2}}},\"title\":{\"font\":{\"color\":\"#4D5663\"}},\"xaxis\":{\"gridcolor\":\"#E1E5ED\",\"showgrid\":true,\"tickfont\":{\"color\":\"#4D5663\"},\"title\":{\"font\":{\"color\":\"#4D5663\"},\"text\":\"\"},\"zerolinecolor\":\"#E1E5ED\"},\"yaxis\":{\"gridcolor\":\"#E1E5ED\",\"showgrid\":true,\"tickfont\":{\"color\":\"#4D5663\"},\"title\":{\"font\":{\"color\":\"#4D5663\"},\"text\":\"\"},\"zerolinecolor\":\"#E1E5ED\"}},                        {\"showLink\": true, \"linkText\": \"Export to plot.ly\", \"plotlyServerURL\": \"https://plot.ly\", \"responsive\": true}                    ).then(function(){\n",
       "                            \n",
       "var gd = document.getElementById('1bbb05b1-68d1-4047-a5ee-43ce03f01281');\n",
       "var x = new MutationObserver(function (mutations, observer) {{\n",
       "        var display = window.getComputedStyle(gd).display;\n",
       "        if (!display || display === 'none') {{\n",
       "            console.log([gd, 'removed!']);\n",
       "            Plotly.purge(gd);\n",
       "            observer.disconnect();\n",
       "        }}\n",
       "}});\n",
       "\n",
       "// Listen for the removal of the full notebook cells\n",
       "var notebookContainer = gd.closest('#notebook-container');\n",
       "if (notebookContainer) {{\n",
       "    x.observe(notebookContainer, {childList: true});\n",
       "}}\n",
       "\n",
       "// Listen for the clearing of the current output cell\n",
       "var outputEl = gd.closest('.output');\n",
       "if (outputEl) {{\n",
       "    x.observe(outputEl, {childList: true});\n",
       "}}\n",
       "\n",
       "                        })                };                });            </script>        </div>"
      ]
     },
     "metadata": {},
     "output_type": "display_data"
    }
   ],
   "source": [
    "df2.iplot(kind='bar',x='Category',y='Values')"
   ]
  },
  {
   "cell_type": "code",
   "execution_count": 12,
   "metadata": {},
   "outputs": [
    {
     "data": {
      "application/vnd.plotly.v1+json": {
       "config": {
        "linkText": "Export to plot.ly",
        "plotlyServerURL": "https://plot.ly",
        "showLink": true
       },
       "data": [
        {
         "marker": {
          "color": "rgba(255, 153, 51, 0.6)",
          "line": {
           "color": "rgba(255, 153, 51, 1.0)",
           "width": 1
          }
         },
         "name": "None",
         "orientation": "v",
         "text": "",
         "type": "bar",
         "x": [
          "A",
          "B",
          "C",
          "D"
         ],
         "y": [
          100,
          100,
          100,
          100
         ]
        }
       ],
       "layout": {
        "legend": {
         "bgcolor": "#F5F6F9",
         "font": {
          "color": "#4D5663"
         }
        },
        "paper_bgcolor": "#F5F6F9",
        "plot_bgcolor": "#F5F6F9",
        "template": {
         "data": {
          "bar": [
           {
            "error_x": {
             "color": "#2a3f5f"
            },
            "error_y": {
             "color": "#2a3f5f"
            },
            "marker": {
             "line": {
              "color": "#E5ECF6",
              "width": 0.5
             },
             "pattern": {
              "fillmode": "overlay",
              "size": 10,
              "solidity": 0.2
             }
            },
            "type": "bar"
           }
          ],
          "barpolar": [
           {
            "marker": {
             "line": {
              "color": "#E5ECF6",
              "width": 0.5
             },
             "pattern": {
              "fillmode": "overlay",
              "size": 10,
              "solidity": 0.2
             }
            },
            "type": "barpolar"
           }
          ],
          "carpet": [
           {
            "aaxis": {
             "endlinecolor": "#2a3f5f",
             "gridcolor": "white",
             "linecolor": "white",
             "minorgridcolor": "white",
             "startlinecolor": "#2a3f5f"
            },
            "baxis": {
             "endlinecolor": "#2a3f5f",
             "gridcolor": "white",
             "linecolor": "white",
             "minorgridcolor": "white",
             "startlinecolor": "#2a3f5f"
            },
            "type": "carpet"
           }
          ],
          "choropleth": [
           {
            "colorbar": {
             "outlinewidth": 0,
             "ticks": ""
            },
            "type": "choropleth"
           }
          ],
          "contour": [
           {
            "colorbar": {
             "outlinewidth": 0,
             "ticks": ""
            },
            "colorscale": [
             [
              0,
              "#0d0887"
             ],
             [
              0.1111111111111111,
              "#46039f"
             ],
             [
              0.2222222222222222,
              "#7201a8"
             ],
             [
              0.3333333333333333,
              "#9c179e"
             ],
             [
              0.4444444444444444,
              "#bd3786"
             ],
             [
              0.5555555555555556,
              "#d8576b"
             ],
             [
              0.6666666666666666,
              "#ed7953"
             ],
             [
              0.7777777777777778,
              "#fb9f3a"
             ],
             [
              0.8888888888888888,
              "#fdca26"
             ],
             [
              1,
              "#f0f921"
             ]
            ],
            "type": "contour"
           }
          ],
          "contourcarpet": [
           {
            "colorbar": {
             "outlinewidth": 0,
             "ticks": ""
            },
            "type": "contourcarpet"
           }
          ],
          "heatmap": [
           {
            "colorbar": {
             "outlinewidth": 0,
             "ticks": ""
            },
            "colorscale": [
             [
              0,
              "#0d0887"
             ],
             [
              0.1111111111111111,
              "#46039f"
             ],
             [
              0.2222222222222222,
              "#7201a8"
             ],
             [
              0.3333333333333333,
              "#9c179e"
             ],
             [
              0.4444444444444444,
              "#bd3786"
             ],
             [
              0.5555555555555556,
              "#d8576b"
             ],
             [
              0.6666666666666666,
              "#ed7953"
             ],
             [
              0.7777777777777778,
              "#fb9f3a"
             ],
             [
              0.8888888888888888,
              "#fdca26"
             ],
             [
              1,
              "#f0f921"
             ]
            ],
            "type": "heatmap"
           }
          ],
          "heatmapgl": [
           {
            "colorbar": {
             "outlinewidth": 0,
             "ticks": ""
            },
            "colorscale": [
             [
              0,
              "#0d0887"
             ],
             [
              0.1111111111111111,
              "#46039f"
             ],
             [
              0.2222222222222222,
              "#7201a8"
             ],
             [
              0.3333333333333333,
              "#9c179e"
             ],
             [
              0.4444444444444444,
              "#bd3786"
             ],
             [
              0.5555555555555556,
              "#d8576b"
             ],
             [
              0.6666666666666666,
              "#ed7953"
             ],
             [
              0.7777777777777778,
              "#fb9f3a"
             ],
             [
              0.8888888888888888,
              "#fdca26"
             ],
             [
              1,
              "#f0f921"
             ]
            ],
            "type": "heatmapgl"
           }
          ],
          "histogram": [
           {
            "marker": {
             "pattern": {
              "fillmode": "overlay",
              "size": 10,
              "solidity": 0.2
             }
            },
            "type": "histogram"
           }
          ],
          "histogram2d": [
           {
            "colorbar": {
             "outlinewidth": 0,
             "ticks": ""
            },
            "colorscale": [
             [
              0,
              "#0d0887"
             ],
             [
              0.1111111111111111,
              "#46039f"
             ],
             [
              0.2222222222222222,
              "#7201a8"
             ],
             [
              0.3333333333333333,
              "#9c179e"
             ],
             [
              0.4444444444444444,
              "#bd3786"
             ],
             [
              0.5555555555555556,
              "#d8576b"
             ],
             [
              0.6666666666666666,
              "#ed7953"
             ],
             [
              0.7777777777777778,
              "#fb9f3a"
             ],
             [
              0.8888888888888888,
              "#fdca26"
             ],
             [
              1,
              "#f0f921"
             ]
            ],
            "type": "histogram2d"
           }
          ],
          "histogram2dcontour": [
           {
            "colorbar": {
             "outlinewidth": 0,
             "ticks": ""
            },
            "colorscale": [
             [
              0,
              "#0d0887"
             ],
             [
              0.1111111111111111,
              "#46039f"
             ],
             [
              0.2222222222222222,
              "#7201a8"
             ],
             [
              0.3333333333333333,
              "#9c179e"
             ],
             [
              0.4444444444444444,
              "#bd3786"
             ],
             [
              0.5555555555555556,
              "#d8576b"
             ],
             [
              0.6666666666666666,
              "#ed7953"
             ],
             [
              0.7777777777777778,
              "#fb9f3a"
             ],
             [
              0.8888888888888888,
              "#fdca26"
             ],
             [
              1,
              "#f0f921"
             ]
            ],
            "type": "histogram2dcontour"
           }
          ],
          "mesh3d": [
           {
            "colorbar": {
             "outlinewidth": 0,
             "ticks": ""
            },
            "type": "mesh3d"
           }
          ],
          "parcoords": [
           {
            "line": {
             "colorbar": {
              "outlinewidth": 0,
              "ticks": ""
             }
            },
            "type": "parcoords"
           }
          ],
          "pie": [
           {
            "automargin": true,
            "type": "pie"
           }
          ],
          "scatter": [
           {
            "marker": {
             "colorbar": {
              "outlinewidth": 0,
              "ticks": ""
             }
            },
            "type": "scatter"
           }
          ],
          "scatter3d": [
           {
            "line": {
             "colorbar": {
              "outlinewidth": 0,
              "ticks": ""
             }
            },
            "marker": {
             "colorbar": {
              "outlinewidth": 0,
              "ticks": ""
             }
            },
            "type": "scatter3d"
           }
          ],
          "scattercarpet": [
           {
            "marker": {
             "colorbar": {
              "outlinewidth": 0,
              "ticks": ""
             }
            },
            "type": "scattercarpet"
           }
          ],
          "scattergeo": [
           {
            "marker": {
             "colorbar": {
              "outlinewidth": 0,
              "ticks": ""
             }
            },
            "type": "scattergeo"
           }
          ],
          "scattergl": [
           {
            "marker": {
             "colorbar": {
              "outlinewidth": 0,
              "ticks": ""
             }
            },
            "type": "scattergl"
           }
          ],
          "scattermapbox": [
           {
            "marker": {
             "colorbar": {
              "outlinewidth": 0,
              "ticks": ""
             }
            },
            "type": "scattermapbox"
           }
          ],
          "scatterpolar": [
           {
            "marker": {
             "colorbar": {
              "outlinewidth": 0,
              "ticks": ""
             }
            },
            "type": "scatterpolar"
           }
          ],
          "scatterpolargl": [
           {
            "marker": {
             "colorbar": {
              "outlinewidth": 0,
              "ticks": ""
             }
            },
            "type": "scatterpolargl"
           }
          ],
          "scatterternary": [
           {
            "marker": {
             "colorbar": {
              "outlinewidth": 0,
              "ticks": ""
             }
            },
            "type": "scatterternary"
           }
          ],
          "surface": [
           {
            "colorbar": {
             "outlinewidth": 0,
             "ticks": ""
            },
            "colorscale": [
             [
              0,
              "#0d0887"
             ],
             [
              0.1111111111111111,
              "#46039f"
             ],
             [
              0.2222222222222222,
              "#7201a8"
             ],
             [
              0.3333333333333333,
              "#9c179e"
             ],
             [
              0.4444444444444444,
              "#bd3786"
             ],
             [
              0.5555555555555556,
              "#d8576b"
             ],
             [
              0.6666666666666666,
              "#ed7953"
             ],
             [
              0.7777777777777778,
              "#fb9f3a"
             ],
             [
              0.8888888888888888,
              "#fdca26"
             ],
             [
              1,
              "#f0f921"
             ]
            ],
            "type": "surface"
           }
          ],
          "table": [
           {
            "cells": {
             "fill": {
              "color": "#EBF0F8"
             },
             "line": {
              "color": "white"
             }
            },
            "header": {
             "fill": {
              "color": "#C8D4E3"
             },
             "line": {
              "color": "white"
             }
            },
            "type": "table"
           }
          ]
         },
         "layout": {
          "annotationdefaults": {
           "arrowcolor": "#2a3f5f",
           "arrowhead": 0,
           "arrowwidth": 1
          },
          "autotypenumbers": "strict",
          "coloraxis": {
           "colorbar": {
            "outlinewidth": 0,
            "ticks": ""
           }
          },
          "colorscale": {
           "diverging": [
            [
             0,
             "#8e0152"
            ],
            [
             0.1,
             "#c51b7d"
            ],
            [
             0.2,
             "#de77ae"
            ],
            [
             0.3,
             "#f1b6da"
            ],
            [
             0.4,
             "#fde0ef"
            ],
            [
             0.5,
             "#f7f7f7"
            ],
            [
             0.6,
             "#e6f5d0"
            ],
            [
             0.7,
             "#b8e186"
            ],
            [
             0.8,
             "#7fbc41"
            ],
            [
             0.9,
             "#4d9221"
            ],
            [
             1,
             "#276419"
            ]
           ],
           "sequential": [
            [
             0,
             "#0d0887"
            ],
            [
             0.1111111111111111,
             "#46039f"
            ],
            [
             0.2222222222222222,
             "#7201a8"
            ],
            [
             0.3333333333333333,
             "#9c179e"
            ],
            [
             0.4444444444444444,
             "#bd3786"
            ],
            [
             0.5555555555555556,
             "#d8576b"
            ],
            [
             0.6666666666666666,
             "#ed7953"
            ],
            [
             0.7777777777777778,
             "#fb9f3a"
            ],
            [
             0.8888888888888888,
             "#fdca26"
            ],
            [
             1,
             "#f0f921"
            ]
           ],
           "sequentialminus": [
            [
             0,
             "#0d0887"
            ],
            [
             0.1111111111111111,
             "#46039f"
            ],
            [
             0.2222222222222222,
             "#7201a8"
            ],
            [
             0.3333333333333333,
             "#9c179e"
            ],
            [
             0.4444444444444444,
             "#bd3786"
            ],
            [
             0.5555555555555556,
             "#d8576b"
            ],
            [
             0.6666666666666666,
             "#ed7953"
            ],
            [
             0.7777777777777778,
             "#fb9f3a"
            ],
            [
             0.8888888888888888,
             "#fdca26"
            ],
            [
             1,
             "#f0f921"
            ]
           ]
          },
          "colorway": [
           "#636efa",
           "#EF553B",
           "#00cc96",
           "#ab63fa",
           "#FFA15A",
           "#19d3f3",
           "#FF6692",
           "#B6E880",
           "#FF97FF",
           "#FECB52"
          ],
          "font": {
           "color": "#2a3f5f"
          },
          "geo": {
           "bgcolor": "white",
           "lakecolor": "white",
           "landcolor": "#E5ECF6",
           "showlakes": true,
           "showland": true,
           "subunitcolor": "white"
          },
          "hoverlabel": {
           "align": "left"
          },
          "hovermode": "closest",
          "mapbox": {
           "style": "light"
          },
          "paper_bgcolor": "white",
          "plot_bgcolor": "#E5ECF6",
          "polar": {
           "angularaxis": {
            "gridcolor": "white",
            "linecolor": "white",
            "ticks": ""
           },
           "bgcolor": "#E5ECF6",
           "radialaxis": {
            "gridcolor": "white",
            "linecolor": "white",
            "ticks": ""
           }
          },
          "scene": {
           "xaxis": {
            "backgroundcolor": "#E5ECF6",
            "gridcolor": "white",
            "gridwidth": 2,
            "linecolor": "white",
            "showbackground": true,
            "ticks": "",
            "zerolinecolor": "white"
           },
           "yaxis": {
            "backgroundcolor": "#E5ECF6",
            "gridcolor": "white",
            "gridwidth": 2,
            "linecolor": "white",
            "showbackground": true,
            "ticks": "",
            "zerolinecolor": "white"
           },
           "zaxis": {
            "backgroundcolor": "#E5ECF6",
            "gridcolor": "white",
            "gridwidth": 2,
            "linecolor": "white",
            "showbackground": true,
            "ticks": "",
            "zerolinecolor": "white"
           }
          },
          "shapedefaults": {
           "line": {
            "color": "#2a3f5f"
           }
          },
          "ternary": {
           "aaxis": {
            "gridcolor": "white",
            "linecolor": "white",
            "ticks": ""
           },
           "baxis": {
            "gridcolor": "white",
            "linecolor": "white",
            "ticks": ""
           },
           "bgcolor": "#E5ECF6",
           "caxis": {
            "gridcolor": "white",
            "linecolor": "white",
            "ticks": ""
           }
          },
          "title": {
           "x": 0.05
          },
          "xaxis": {
           "automargin": true,
           "gridcolor": "white",
           "linecolor": "white",
           "ticks": "",
           "title": {
            "standoff": 15
           },
           "zerolinecolor": "white",
           "zerolinewidth": 2
          },
          "yaxis": {
           "automargin": true,
           "gridcolor": "white",
           "linecolor": "white",
           "ticks": "",
           "title": {
            "standoff": 15
           },
           "zerolinecolor": "white",
           "zerolinewidth": 2
          }
         }
        },
        "title": {
         "font": {
          "color": "#4D5663"
         }
        },
        "xaxis": {
         "gridcolor": "#E1E5ED",
         "showgrid": true,
         "tickfont": {
          "color": "#4D5663"
         },
         "title": {
          "font": {
           "color": "#4D5663"
          },
          "text": ""
         },
         "zerolinecolor": "#E1E5ED"
        },
        "yaxis": {
         "gridcolor": "#E1E5ED",
         "showgrid": true,
         "tickfont": {
          "color": "#4D5663"
         },
         "title": {
          "font": {
           "color": "#4D5663"
          },
          "text": ""
         },
         "zerolinecolor": "#E1E5ED"
        }
       }
      },
      "text/html": [
       "<div>                            <div id=\"b336a612-e735-49c0-b742-08dcb8a42101\" class=\"plotly-graph-div\" style=\"height:525px; width:100%;\"></div>            <script type=\"text/javascript\">                require([\"plotly\"], function(Plotly) {                    window.PLOTLYENV=window.PLOTLYENV || {};\n",
       "                    window.PLOTLYENV.BASE_URL='https://plot.ly';                                    if (document.getElementById(\"b336a612-e735-49c0-b742-08dcb8a42101\")) {                    Plotly.newPlot(                        \"b336a612-e735-49c0-b742-08dcb8a42101\",                        [{\"marker\":{\"color\":\"rgba(255, 153, 51, 0.6)\",\"line\":{\"color\":\"rgba(255, 153, 51, 1.0)\",\"width\":1}},\"name\":\"None\",\"orientation\":\"v\",\"text\":\"\",\"x\":[\"A\",\"B\",\"C\",\"D\"],\"y\":[100,100,100,100],\"type\":\"bar\"}],                        {\"legend\":{\"bgcolor\":\"#F5F6F9\",\"font\":{\"color\":\"#4D5663\"}},\"paper_bgcolor\":\"#F5F6F9\",\"plot_bgcolor\":\"#F5F6F9\",\"template\":{\"data\":{\"barpolar\":[{\"marker\":{\"line\":{\"color\":\"#E5ECF6\",\"width\":0.5},\"pattern\":{\"fillmode\":\"overlay\",\"size\":10,\"solidity\":0.2}},\"type\":\"barpolar\"}],\"bar\":[{\"error_x\":{\"color\":\"#2a3f5f\"},\"error_y\":{\"color\":\"#2a3f5f\"},\"marker\":{\"line\":{\"color\":\"#E5ECF6\",\"width\":0.5},\"pattern\":{\"fillmode\":\"overlay\",\"size\":10,\"solidity\":0.2}},\"type\":\"bar\"}],\"carpet\":[{\"aaxis\":{\"endlinecolor\":\"#2a3f5f\",\"gridcolor\":\"white\",\"linecolor\":\"white\",\"minorgridcolor\":\"white\",\"startlinecolor\":\"#2a3f5f\"},\"baxis\":{\"endlinecolor\":\"#2a3f5f\",\"gridcolor\":\"white\",\"linecolor\":\"white\",\"minorgridcolor\":\"white\",\"startlinecolor\":\"#2a3f5f\"},\"type\":\"carpet\"}],\"choropleth\":[{\"colorbar\":{\"outlinewidth\":0,\"ticks\":\"\"},\"type\":\"choropleth\"}],\"contourcarpet\":[{\"colorbar\":{\"outlinewidth\":0,\"ticks\":\"\"},\"type\":\"contourcarpet\"}],\"contour\":[{\"colorbar\":{\"outlinewidth\":0,\"ticks\":\"\"},\"colorscale\":[[0.0,\"#0d0887\"],[0.1111111111111111,\"#46039f\"],[0.2222222222222222,\"#7201a8\"],[0.3333333333333333,\"#9c179e\"],[0.4444444444444444,\"#bd3786\"],[0.5555555555555556,\"#d8576b\"],[0.6666666666666666,\"#ed7953\"],[0.7777777777777778,\"#fb9f3a\"],[0.8888888888888888,\"#fdca26\"],[1.0,\"#f0f921\"]],\"type\":\"contour\"}],\"heatmapgl\":[{\"colorbar\":{\"outlinewidth\":0,\"ticks\":\"\"},\"colorscale\":[[0.0,\"#0d0887\"],[0.1111111111111111,\"#46039f\"],[0.2222222222222222,\"#7201a8\"],[0.3333333333333333,\"#9c179e\"],[0.4444444444444444,\"#bd3786\"],[0.5555555555555556,\"#d8576b\"],[0.6666666666666666,\"#ed7953\"],[0.7777777777777778,\"#fb9f3a\"],[0.8888888888888888,\"#fdca26\"],[1.0,\"#f0f921\"]],\"type\":\"heatmapgl\"}],\"heatmap\":[{\"colorbar\":{\"outlinewidth\":0,\"ticks\":\"\"},\"colorscale\":[[0.0,\"#0d0887\"],[0.1111111111111111,\"#46039f\"],[0.2222222222222222,\"#7201a8\"],[0.3333333333333333,\"#9c179e\"],[0.4444444444444444,\"#bd3786\"],[0.5555555555555556,\"#d8576b\"],[0.6666666666666666,\"#ed7953\"],[0.7777777777777778,\"#fb9f3a\"],[0.8888888888888888,\"#fdca26\"],[1.0,\"#f0f921\"]],\"type\":\"heatmap\"}],\"histogram2dcontour\":[{\"colorbar\":{\"outlinewidth\":0,\"ticks\":\"\"},\"colorscale\":[[0.0,\"#0d0887\"],[0.1111111111111111,\"#46039f\"],[0.2222222222222222,\"#7201a8\"],[0.3333333333333333,\"#9c179e\"],[0.4444444444444444,\"#bd3786\"],[0.5555555555555556,\"#d8576b\"],[0.6666666666666666,\"#ed7953\"],[0.7777777777777778,\"#fb9f3a\"],[0.8888888888888888,\"#fdca26\"],[1.0,\"#f0f921\"]],\"type\":\"histogram2dcontour\"}],\"histogram2d\":[{\"colorbar\":{\"outlinewidth\":0,\"ticks\":\"\"},\"colorscale\":[[0.0,\"#0d0887\"],[0.1111111111111111,\"#46039f\"],[0.2222222222222222,\"#7201a8\"],[0.3333333333333333,\"#9c179e\"],[0.4444444444444444,\"#bd3786\"],[0.5555555555555556,\"#d8576b\"],[0.6666666666666666,\"#ed7953\"],[0.7777777777777778,\"#fb9f3a\"],[0.8888888888888888,\"#fdca26\"],[1.0,\"#f0f921\"]],\"type\":\"histogram2d\"}],\"histogram\":[{\"marker\":{\"pattern\":{\"fillmode\":\"overlay\",\"size\":10,\"solidity\":0.2}},\"type\":\"histogram\"}],\"mesh3d\":[{\"colorbar\":{\"outlinewidth\":0,\"ticks\":\"\"},\"type\":\"mesh3d\"}],\"parcoords\":[{\"line\":{\"colorbar\":{\"outlinewidth\":0,\"ticks\":\"\"}},\"type\":\"parcoords\"}],\"pie\":[{\"automargin\":true,\"type\":\"pie\"}],\"scatter3d\":[{\"line\":{\"colorbar\":{\"outlinewidth\":0,\"ticks\":\"\"}},\"marker\":{\"colorbar\":{\"outlinewidth\":0,\"ticks\":\"\"}},\"type\":\"scatter3d\"}],\"scattercarpet\":[{\"marker\":{\"colorbar\":{\"outlinewidth\":0,\"ticks\":\"\"}},\"type\":\"scattercarpet\"}],\"scattergeo\":[{\"marker\":{\"colorbar\":{\"outlinewidth\":0,\"ticks\":\"\"}},\"type\":\"scattergeo\"}],\"scattergl\":[{\"marker\":{\"colorbar\":{\"outlinewidth\":0,\"ticks\":\"\"}},\"type\":\"scattergl\"}],\"scattermapbox\":[{\"marker\":{\"colorbar\":{\"outlinewidth\":0,\"ticks\":\"\"}},\"type\":\"scattermapbox\"}],\"scatterpolargl\":[{\"marker\":{\"colorbar\":{\"outlinewidth\":0,\"ticks\":\"\"}},\"type\":\"scatterpolargl\"}],\"scatterpolar\":[{\"marker\":{\"colorbar\":{\"outlinewidth\":0,\"ticks\":\"\"}},\"type\":\"scatterpolar\"}],\"scatter\":[{\"marker\":{\"colorbar\":{\"outlinewidth\":0,\"ticks\":\"\"}},\"type\":\"scatter\"}],\"scatterternary\":[{\"marker\":{\"colorbar\":{\"outlinewidth\":0,\"ticks\":\"\"}},\"type\":\"scatterternary\"}],\"surface\":[{\"colorbar\":{\"outlinewidth\":0,\"ticks\":\"\"},\"colorscale\":[[0.0,\"#0d0887\"],[0.1111111111111111,\"#46039f\"],[0.2222222222222222,\"#7201a8\"],[0.3333333333333333,\"#9c179e\"],[0.4444444444444444,\"#bd3786\"],[0.5555555555555556,\"#d8576b\"],[0.6666666666666666,\"#ed7953\"],[0.7777777777777778,\"#fb9f3a\"],[0.8888888888888888,\"#fdca26\"],[1.0,\"#f0f921\"]],\"type\":\"surface\"}],\"table\":[{\"cells\":{\"fill\":{\"color\":\"#EBF0F8\"},\"line\":{\"color\":\"white\"}},\"header\":{\"fill\":{\"color\":\"#C8D4E3\"},\"line\":{\"color\":\"white\"}},\"type\":\"table\"}]},\"layout\":{\"annotationdefaults\":{\"arrowcolor\":\"#2a3f5f\",\"arrowhead\":0,\"arrowwidth\":1},\"autotypenumbers\":\"strict\",\"coloraxis\":{\"colorbar\":{\"outlinewidth\":0,\"ticks\":\"\"}},\"colorscale\":{\"diverging\":[[0,\"#8e0152\"],[0.1,\"#c51b7d\"],[0.2,\"#de77ae\"],[0.3,\"#f1b6da\"],[0.4,\"#fde0ef\"],[0.5,\"#f7f7f7\"],[0.6,\"#e6f5d0\"],[0.7,\"#b8e186\"],[0.8,\"#7fbc41\"],[0.9,\"#4d9221\"],[1,\"#276419\"]],\"sequential\":[[0.0,\"#0d0887\"],[0.1111111111111111,\"#46039f\"],[0.2222222222222222,\"#7201a8\"],[0.3333333333333333,\"#9c179e\"],[0.4444444444444444,\"#bd3786\"],[0.5555555555555556,\"#d8576b\"],[0.6666666666666666,\"#ed7953\"],[0.7777777777777778,\"#fb9f3a\"],[0.8888888888888888,\"#fdca26\"],[1.0,\"#f0f921\"]],\"sequentialminus\":[[0.0,\"#0d0887\"],[0.1111111111111111,\"#46039f\"],[0.2222222222222222,\"#7201a8\"],[0.3333333333333333,\"#9c179e\"],[0.4444444444444444,\"#bd3786\"],[0.5555555555555556,\"#d8576b\"],[0.6666666666666666,\"#ed7953\"],[0.7777777777777778,\"#fb9f3a\"],[0.8888888888888888,\"#fdca26\"],[1.0,\"#f0f921\"]]},\"colorway\":[\"#636efa\",\"#EF553B\",\"#00cc96\",\"#ab63fa\",\"#FFA15A\",\"#19d3f3\",\"#FF6692\",\"#B6E880\",\"#FF97FF\",\"#FECB52\"],\"font\":{\"color\":\"#2a3f5f\"},\"geo\":{\"bgcolor\":\"white\",\"lakecolor\":\"white\",\"landcolor\":\"#E5ECF6\",\"showlakes\":true,\"showland\":true,\"subunitcolor\":\"white\"},\"hoverlabel\":{\"align\":\"left\"},\"hovermode\":\"closest\",\"mapbox\":{\"style\":\"light\"},\"paper_bgcolor\":\"white\",\"plot_bgcolor\":\"#E5ECF6\",\"polar\":{\"angularaxis\":{\"gridcolor\":\"white\",\"linecolor\":\"white\",\"ticks\":\"\"},\"bgcolor\":\"#E5ECF6\",\"radialaxis\":{\"gridcolor\":\"white\",\"linecolor\":\"white\",\"ticks\":\"\"}},\"scene\":{\"xaxis\":{\"backgroundcolor\":\"#E5ECF6\",\"gridcolor\":\"white\",\"gridwidth\":2,\"linecolor\":\"white\",\"showbackground\":true,\"ticks\":\"\",\"zerolinecolor\":\"white\"},\"yaxis\":{\"backgroundcolor\":\"#E5ECF6\",\"gridcolor\":\"white\",\"gridwidth\":2,\"linecolor\":\"white\",\"showbackground\":true,\"ticks\":\"\",\"zerolinecolor\":\"white\"},\"zaxis\":{\"backgroundcolor\":\"#E5ECF6\",\"gridcolor\":\"white\",\"gridwidth\":2,\"linecolor\":\"white\",\"showbackground\":true,\"ticks\":\"\",\"zerolinecolor\":\"white\"}},\"shapedefaults\":{\"line\":{\"color\":\"#2a3f5f\"}},\"ternary\":{\"aaxis\":{\"gridcolor\":\"white\",\"linecolor\":\"white\",\"ticks\":\"\"},\"baxis\":{\"gridcolor\":\"white\",\"linecolor\":\"white\",\"ticks\":\"\"},\"bgcolor\":\"#E5ECF6\",\"caxis\":{\"gridcolor\":\"white\",\"linecolor\":\"white\",\"ticks\":\"\"}},\"title\":{\"x\":0.05},\"xaxis\":{\"automargin\":true,\"gridcolor\":\"white\",\"linecolor\":\"white\",\"ticks\":\"\",\"title\":{\"standoff\":15},\"zerolinecolor\":\"white\",\"zerolinewidth\":2},\"yaxis\":{\"automargin\":true,\"gridcolor\":\"white\",\"linecolor\":\"white\",\"ticks\":\"\",\"title\":{\"standoff\":15},\"zerolinecolor\":\"white\",\"zerolinewidth\":2}}},\"title\":{\"font\":{\"color\":\"#4D5663\"}},\"xaxis\":{\"gridcolor\":\"#E1E5ED\",\"showgrid\":true,\"tickfont\":{\"color\":\"#4D5663\"},\"title\":{\"font\":{\"color\":\"#4D5663\"},\"text\":\"\"},\"zerolinecolor\":\"#E1E5ED\"},\"yaxis\":{\"gridcolor\":\"#E1E5ED\",\"showgrid\":true,\"tickfont\":{\"color\":\"#4D5663\"},\"title\":{\"font\":{\"color\":\"#4D5663\"},\"text\":\"\"},\"zerolinecolor\":\"#E1E5ED\"}},                        {\"showLink\": true, \"linkText\": \"Export to plot.ly\", \"plotlyServerURL\": \"https://plot.ly\", \"responsive\": true}                    ).then(function(){\n",
       "                            \n",
       "var gd = document.getElementById('b336a612-e735-49c0-b742-08dcb8a42101');\n",
       "var x = new MutationObserver(function (mutations, observer) {{\n",
       "        var display = window.getComputedStyle(gd).display;\n",
       "        if (!display || display === 'none') {{\n",
       "            console.log([gd, 'removed!']);\n",
       "            Plotly.purge(gd);\n",
       "            observer.disconnect();\n",
       "        }}\n",
       "}});\n",
       "\n",
       "// Listen for the removal of the full notebook cells\n",
       "var notebookContainer = gd.closest('#notebook-container');\n",
       "if (notebookContainer) {{\n",
       "    x.observe(notebookContainer, {childList: true});\n",
       "}}\n",
       "\n",
       "// Listen for the clearing of the current output cell\n",
       "var outputEl = gd.closest('.output');\n",
       "if (outputEl) {{\n",
       "    x.observe(outputEl, {childList: true});\n",
       "}}\n",
       "\n",
       "                        })                };                });            </script>        </div>"
      ]
     },
     "metadata": {},
     "output_type": "display_data"
    }
   ],
   "source": [
    "df.count().iplot(kind='bar')"
   ]
  },
  {
   "cell_type": "markdown",
   "metadata": {},
   "source": [
    "## Boxplots"
   ]
  },
  {
   "cell_type": "code",
   "execution_count": 13,
   "metadata": {},
   "outputs": [
    {
     "data": {
      "application/vnd.plotly.v1+json": {
       "config": {
        "linkText": "Export to plot.ly",
        "plotlyServerURL": "https://plot.ly",
        "showLink": true
       },
       "data": [
        {
         "boxpoints": false,
         "line": {
          "width": 1.3
         },
         "marker": {
          "color": "rgba(255, 153, 51, 1.0)"
         },
         "name": "A",
         "orientation": "v",
         "type": "box",
         "y": [
          0.6704549516109599,
          0.082535443479542,
          -0.030277607876463258,
          -0.7296129081944889,
          0.1527265413175817,
          -0.33813441137032424,
          1.9042339492772191,
          -0.7588056246726919,
          -0.8707965588081601,
          0.2896340361845918,
          -1.5237665192059862,
          0.9484620621971421,
          0.10553141650462003,
          0.2092718349405866,
          1.1640347231125636,
          0.4858426802866781,
          0.11933983453608828,
          0.2728169531371193,
          0.28919657021806133,
          1.073483561244945,
          0.07028375795764374,
          -0.1887932147115583,
          -1.0600689448473835,
          -0.3019363572412175,
          -0.8126307144185704,
          0.04021264055831378,
          -0.9798153152930743,
          -0.6070842061572903,
          -0.8067785203768048,
          -0.36628255849385094,
          -0.490724497613985,
          -0.11948959467927889,
          0.48024340826134854,
          -1.1114681568524802,
          0.00876717415713063,
          0.6153754248886335,
          -1.4120273218003125,
          -0.29772386315529703,
          -1.5277547107763774,
          0.8806863350762015,
          -0.02202561406455898,
          0.18378231072850623,
          -1.2931621264832485,
          -0.3972448926752685,
          -0.5753141033381041,
          0.6099801439466861,
          -0.8322217489099195,
          -0.05349257776630721,
          0.8517356264904371,
          -0.6052906360039375,
          -0.016646820797517226,
          -0.8891175447176948,
          1.8392114049926793,
          -1.189159093024214,
          -1.469324037228592,
          -0.20638700121277379,
          1.2880732643088497,
          1.011507627731839,
          -0.3227307063649429,
          1.2961924610631739,
          -0.7642289271104794,
          -0.8007653934311705,
          0.4603318905907266,
          1.0522096884457013,
          1.3600251679490534,
          -0.36805019645124054,
          -0.5252295655825047,
          0.3721275871542655,
          -1.1589425465940177,
          0.2552543469502206,
          -1.219051279316724,
          0.7809900058034129,
          0.6429968571185835,
          -0.9685863470324628,
          1.2932642257498272,
          0.8991878465435622,
          0.6702614740877187,
          -1.53023911252679,
          -0.33211763988874765,
          1.4833033292419877,
          0.5966607396311193,
          -1.3509756071664498,
          0.8079238287024253,
          1.6795389610664637,
          -0.6956294545177134,
          0.7239483934768534,
          -0.8703039150087871,
          2.4752648340661243,
          0.6095555501482074,
          -0.05135436217061349,
          -1.441317146126483,
          -1.7698229100332996,
          -0.854867235643374,
          0.01573115303956426,
          0.01366965315720599,
          -0.055649749827862735,
          0.9996389487811868,
          0.23448412479115777,
          1.3109218538891279,
          0.11222823118418822
         ]
        },
        {
         "boxpoints": false,
         "line": {
          "width": 1.3
         },
         "marker": {
          "color": "rgba(55, 128, 191, 1.0)"
         },
         "name": "B",
         "orientation": "v",
         "type": "box",
         "y": [
          -0.2682455403138665,
          0.9219032901867988,
          -2.6316192007926147,
          -0.7002221680723266,
          -1.1410201172424725,
          0.1982088166397885,
          -0.36916858732116814,
          -0.346988451454806,
          -0.5067690548727558,
          -0.48657622979598436,
          -0.3779466626884306,
          -0.9057264109845606,
          -1.0904291766858063,
          -0.7245917615110173,
          -0.7023340161584938,
          -0.12909160467106529,
          -0.8886651919263007,
          0.3823079631484114,
          -1.0900373872538167,
          0.04590737193270273,
          0.3449595019039827,
          -0.21952347502178463,
          -0.045830801280706795,
          0.27039014309921827,
          0.9752355335661154,
          -0.6297684032026852,
          -1.4341538818078072,
          -2.928405166974158,
          -0.24271171257920754,
          -0.8045786019109605,
          -0.7726865519387884,
          -0.38402965758197344,
          0.43511238729760066,
          0.6040661512852107,
          -0.55675228038275,
          -2.0752224149061544,
          0.30665005723854494,
          1.052301828580547,
          -0.3096428207681808,
          -1.1114785994044372,
          0.16438707146105638,
          0.7303825344045778,
          -0.6668291129437066,
          -1.2047590788659568,
          -0.6527833867437385,
          -0.17869000879867572,
          0.6164832688470566,
          1.1410378050428858,
          -1.723664068438458,
          -0.6046277913177348,
          -0.5054846301754152,
          0.776550047785937,
          0.46522658965141034,
          1.0350918146874746,
          0.9008286556081461,
          0.6095189639974038,
          -0.5152331945488056,
          0.23869453965612214,
          -1.395265038890855,
          0.509141026613451,
          -0.20929089012008917,
          -0.27011429036927975,
          0.8636244035153211,
          -0.688059366148949,
          -0.8832300590337048,
          -2.928352824671613,
          0.07989375770754963,
          -1.9431385480998216,
          -1.8746224168674628,
          0.2443443760851938,
          0.3794392960523368,
          0.11523202363410734,
          0.12093706648550032,
          -0.483520740771378,
          -1.371270121893702,
          -0.0751091049119595,
          0.09543516448164553,
          0.7550659367358067,
          1.4773525481483383,
          -1.6667177545418252,
          0.024320580466173938,
          -0.42969113088106947,
          -0.4717015774845612,
          -0.8692805274518534,
          0.8098607957408062,
          -0.7958892117997776,
          -2.532441312455747,
          0.22346344034817142,
          0.8033086864689049,
          1.684673808657013,
          0.3552602777281829,
          0.3419395197719315,
          -0.12852374038004932,
          1.382975119289779,
          -0.0655957106522503,
          -0.3145521070114627,
          -1.4393287908028378,
          -0.3295221740812238,
          -0.42722999899320613,
          -0.9031641314456635
         ]
        },
        {
         "boxpoints": false,
         "line": {
          "width": 1.3
         },
         "marker": {
          "color": "rgba(50, 171, 96, 1.0)"
         },
         "name": "C",
         "orientation": "v",
         "type": "box",
         "y": [
          0.36701710595825254,
          0.46000033353965614,
          0.9737334163013094,
          0.19854008303274714,
          0.5998526204284188,
          -1.3946066889939361,
          -0.12155804082863964,
          1.0055548804895427,
          0.0810987255363289,
          1.103511469305969,
          0.26398199983883763,
          0.14593148133072104,
          0.37985804050238503,
          -0.7153516367654928,
          -0.7176568175878837,
          0.03275806960429191,
          -0.21948315755816733,
          -0.49153818956942047,
          0.9659477856167753,
          0.4249527366042526,
          1.3111017977551336,
          -0.019792522179095374,
          -1.2732567736519131,
          -1.3970325048240173,
          0.9667427222174672,
          -0.9379307460303506,
          0.6225612400113906,
          0.3574663346986022,
          -0.03668086876447439,
          1.1837503274675245,
          -1.604460223832529,
          -0.6401589833583028,
          0.13026600116142184,
          -0.4135757855699605,
          1.4515954587331912,
          -1.3241217249524266,
          1.1936281693711277,
          -1.0231318785892891,
          0.09220417397157808,
          0.06295717441328277,
          -1.301709312357675,
          0.8692975221881372,
          1.0152154701158727,
          -1.9967647136128595,
          2.363876410286345,
          -0.7321134713851997,
          -0.846238770549181,
          -0.225280736209897,
          -0.26119808038949116,
          0.49557985426913875,
          -0.9118071933419445,
          -1.2594602159056778,
          -0.013575887746153474,
          0.6005294650913788,
          -0.030760494323134456,
          1.7743909371825128,
          0.4638200144398666,
          0.9744914947314348,
          -0.5788267384660811,
          1.8585222777023265,
          -0.017519813758613143,
          -0.355558060494097,
          1.2429028981992543,
          0.005605265585401496,
          -0.42698953276129514,
          0.775773218390474,
          -0.7991494715942651,
          0.5925055503475269,
          0.16788535015079373,
          -0.4488485182848409,
          -0.6859757858458887,
          0.7003274647135272,
          0.9056208476111676,
          0.8718717808239559,
          -1.164773779135178,
          0.4592593402858712,
          0.4973666576735957,
          -0.5131693678338795,
          1.557724043455767,
          0.5536660281074894,
          2.2010221554819656,
          0.5646823570649336,
          0.028072525274820983,
          1.543652803147221,
          1.6559690185397318,
          0.1043096014372564,
          1.397254925511402,
          0.8511227651769517,
          -0.02821729362196425,
          0.9102249082441589,
          1.2937701916636015,
          -0.7799757916089121,
          -0.6309236250550366,
          -0.4968154982488999,
          -2.3002338182880306,
          1.513093666990525,
          0.8167253534870564,
          0.1612722302995093,
          0.5813704403961676,
          -1.9056960300675936
         ]
        },
        {
         "boxpoints": false,
         "line": {
          "width": 1.3
         },
         "marker": {
          "color": "rgba(128, 0, 128, 1.0)"
         },
         "name": "D",
         "orientation": "v",
         "type": "box",
         "y": [
          0.10213612530568543,
          0.2937547169864263,
          0.1767055109002836,
          -0.2973183925802308,
          -0.14908000139268454,
          -0.8430874326093657,
          -0.4928879427187282,
          -0.28143857828686214,
          0.5735779816605117,
          -1.7476240727312766,
          0.5728574698103156,
          0.4903527368293395,
          0.9201769929563614,
          -0.014260584015353406,
          1.5784970560581673,
          0.04636486504864947,
          0.3060238789060607,
          -0.5406887352236077,
          -0.17173543197806548,
          -0.011516235303470181,
          1.240140805137977,
          -1.2050535786432073,
          -0.5541191683151043,
          -0.9146304500683474,
          -0.5340983179598195,
          -0.07040673498763442,
          -0.4621503597065403,
          -0.7636828242655683,
          -1.301258686639732,
          1.0785528258849082,
          1.9231140457625895,
          1.329345179022494,
          1.7905122345768874,
          1.1658786598167523,
          0.06524024621921286,
          0.3685130262936316,
          -0.9311335605389865,
          -0.8828996672227901,
          0.6349125466014539,
          -0.5285273878824718,
          0.020699294724895533,
          -0.5714428638656869,
          0.18357762539896405,
          -0.5933002305324663,
          -0.4209975009909785,
          -0.3243940199330944,
          0.43509435259205076,
          -1.080742958739633,
          -0.6118672086666948,
          -0.11163370868526934,
          -2.2876449940546997,
          -0.9306439540241452,
          1.4011408323027417,
          -0.8738049031801042,
          -0.048256258626752396,
          1.5221648999316875,
          0.1320770519253603,
          -1.7680350812494758,
          0.9077479529281082,
          -0.8975405670433891,
          0.7077909193645673,
          -1.9270895807980386,
          -0.4199393369219335,
          0.1674516448100253,
          -1.5185518792015826,
          0.5677447768752817,
          -0.5375934160356332,
          -0.1881416759471227,
          0.26082005397708397,
          0.48122195937146056,
          0.8846181120180732,
          -0.11799314877619538,
          1.3462376552479272,
          0.6293309974259682,
          0.3066584709802117,
          0.7802284075387983,
          -0.46532319123341886,
          -0.06140283921866073,
          -1.5990645135051367,
          -1.3718944770156531,
          -0.3080484872878169,
          1.1249697012649895,
          0.8873925291791959,
          -0.14853390348956538,
          -1.9278022989972456,
          2.25380956208247,
          -0.7269355547852893,
          -0.4031203870809856,
          2.587540074395344,
          0.8110955245271798,
          0.3043075736415618,
          0.31788238600464414,
          -0.4492455940110283,
          0.5036771492114919,
          0.32183790974466225,
          -0.7508092478926194,
          -0.029156372004654006,
          -0.5786496044667773,
          -0.5232462829238717,
          -0.8090008048759896
         ]
        }
       ],
       "layout": {
        "legend": {
         "bgcolor": "#F5F6F9",
         "font": {
          "color": "#4D5663"
         }
        },
        "paper_bgcolor": "#F5F6F9",
        "plot_bgcolor": "#F5F6F9",
        "template": {
         "data": {
          "bar": [
           {
            "error_x": {
             "color": "#2a3f5f"
            },
            "error_y": {
             "color": "#2a3f5f"
            },
            "marker": {
             "line": {
              "color": "#E5ECF6",
              "width": 0.5
             },
             "pattern": {
              "fillmode": "overlay",
              "size": 10,
              "solidity": 0.2
             }
            },
            "type": "bar"
           }
          ],
          "barpolar": [
           {
            "marker": {
             "line": {
              "color": "#E5ECF6",
              "width": 0.5
             },
             "pattern": {
              "fillmode": "overlay",
              "size": 10,
              "solidity": 0.2
             }
            },
            "type": "barpolar"
           }
          ],
          "carpet": [
           {
            "aaxis": {
             "endlinecolor": "#2a3f5f",
             "gridcolor": "white",
             "linecolor": "white",
             "minorgridcolor": "white",
             "startlinecolor": "#2a3f5f"
            },
            "baxis": {
             "endlinecolor": "#2a3f5f",
             "gridcolor": "white",
             "linecolor": "white",
             "minorgridcolor": "white",
             "startlinecolor": "#2a3f5f"
            },
            "type": "carpet"
           }
          ],
          "choropleth": [
           {
            "colorbar": {
             "outlinewidth": 0,
             "ticks": ""
            },
            "type": "choropleth"
           }
          ],
          "contour": [
           {
            "colorbar": {
             "outlinewidth": 0,
             "ticks": ""
            },
            "colorscale": [
             [
              0,
              "#0d0887"
             ],
             [
              0.1111111111111111,
              "#46039f"
             ],
             [
              0.2222222222222222,
              "#7201a8"
             ],
             [
              0.3333333333333333,
              "#9c179e"
             ],
             [
              0.4444444444444444,
              "#bd3786"
             ],
             [
              0.5555555555555556,
              "#d8576b"
             ],
             [
              0.6666666666666666,
              "#ed7953"
             ],
             [
              0.7777777777777778,
              "#fb9f3a"
             ],
             [
              0.8888888888888888,
              "#fdca26"
             ],
             [
              1,
              "#f0f921"
             ]
            ],
            "type": "contour"
           }
          ],
          "contourcarpet": [
           {
            "colorbar": {
             "outlinewidth": 0,
             "ticks": ""
            },
            "type": "contourcarpet"
           }
          ],
          "heatmap": [
           {
            "colorbar": {
             "outlinewidth": 0,
             "ticks": ""
            },
            "colorscale": [
             [
              0,
              "#0d0887"
             ],
             [
              0.1111111111111111,
              "#46039f"
             ],
             [
              0.2222222222222222,
              "#7201a8"
             ],
             [
              0.3333333333333333,
              "#9c179e"
             ],
             [
              0.4444444444444444,
              "#bd3786"
             ],
             [
              0.5555555555555556,
              "#d8576b"
             ],
             [
              0.6666666666666666,
              "#ed7953"
             ],
             [
              0.7777777777777778,
              "#fb9f3a"
             ],
             [
              0.8888888888888888,
              "#fdca26"
             ],
             [
              1,
              "#f0f921"
             ]
            ],
            "type": "heatmap"
           }
          ],
          "heatmapgl": [
           {
            "colorbar": {
             "outlinewidth": 0,
             "ticks": ""
            },
            "colorscale": [
             [
              0,
              "#0d0887"
             ],
             [
              0.1111111111111111,
              "#46039f"
             ],
             [
              0.2222222222222222,
              "#7201a8"
             ],
             [
              0.3333333333333333,
              "#9c179e"
             ],
             [
              0.4444444444444444,
              "#bd3786"
             ],
             [
              0.5555555555555556,
              "#d8576b"
             ],
             [
              0.6666666666666666,
              "#ed7953"
             ],
             [
              0.7777777777777778,
              "#fb9f3a"
             ],
             [
              0.8888888888888888,
              "#fdca26"
             ],
             [
              1,
              "#f0f921"
             ]
            ],
            "type": "heatmapgl"
           }
          ],
          "histogram": [
           {
            "marker": {
             "pattern": {
              "fillmode": "overlay",
              "size": 10,
              "solidity": 0.2
             }
            },
            "type": "histogram"
           }
          ],
          "histogram2d": [
           {
            "colorbar": {
             "outlinewidth": 0,
             "ticks": ""
            },
            "colorscale": [
             [
              0,
              "#0d0887"
             ],
             [
              0.1111111111111111,
              "#46039f"
             ],
             [
              0.2222222222222222,
              "#7201a8"
             ],
             [
              0.3333333333333333,
              "#9c179e"
             ],
             [
              0.4444444444444444,
              "#bd3786"
             ],
             [
              0.5555555555555556,
              "#d8576b"
             ],
             [
              0.6666666666666666,
              "#ed7953"
             ],
             [
              0.7777777777777778,
              "#fb9f3a"
             ],
             [
              0.8888888888888888,
              "#fdca26"
             ],
             [
              1,
              "#f0f921"
             ]
            ],
            "type": "histogram2d"
           }
          ],
          "histogram2dcontour": [
           {
            "colorbar": {
             "outlinewidth": 0,
             "ticks": ""
            },
            "colorscale": [
             [
              0,
              "#0d0887"
             ],
             [
              0.1111111111111111,
              "#46039f"
             ],
             [
              0.2222222222222222,
              "#7201a8"
             ],
             [
              0.3333333333333333,
              "#9c179e"
             ],
             [
              0.4444444444444444,
              "#bd3786"
             ],
             [
              0.5555555555555556,
              "#d8576b"
             ],
             [
              0.6666666666666666,
              "#ed7953"
             ],
             [
              0.7777777777777778,
              "#fb9f3a"
             ],
             [
              0.8888888888888888,
              "#fdca26"
             ],
             [
              1,
              "#f0f921"
             ]
            ],
            "type": "histogram2dcontour"
           }
          ],
          "mesh3d": [
           {
            "colorbar": {
             "outlinewidth": 0,
             "ticks": ""
            },
            "type": "mesh3d"
           }
          ],
          "parcoords": [
           {
            "line": {
             "colorbar": {
              "outlinewidth": 0,
              "ticks": ""
             }
            },
            "type": "parcoords"
           }
          ],
          "pie": [
           {
            "automargin": true,
            "type": "pie"
           }
          ],
          "scatter": [
           {
            "marker": {
             "colorbar": {
              "outlinewidth": 0,
              "ticks": ""
             }
            },
            "type": "scatter"
           }
          ],
          "scatter3d": [
           {
            "line": {
             "colorbar": {
              "outlinewidth": 0,
              "ticks": ""
             }
            },
            "marker": {
             "colorbar": {
              "outlinewidth": 0,
              "ticks": ""
             }
            },
            "type": "scatter3d"
           }
          ],
          "scattercarpet": [
           {
            "marker": {
             "colorbar": {
              "outlinewidth": 0,
              "ticks": ""
             }
            },
            "type": "scattercarpet"
           }
          ],
          "scattergeo": [
           {
            "marker": {
             "colorbar": {
              "outlinewidth": 0,
              "ticks": ""
             }
            },
            "type": "scattergeo"
           }
          ],
          "scattergl": [
           {
            "marker": {
             "colorbar": {
              "outlinewidth": 0,
              "ticks": ""
             }
            },
            "type": "scattergl"
           }
          ],
          "scattermapbox": [
           {
            "marker": {
             "colorbar": {
              "outlinewidth": 0,
              "ticks": ""
             }
            },
            "type": "scattermapbox"
           }
          ],
          "scatterpolar": [
           {
            "marker": {
             "colorbar": {
              "outlinewidth": 0,
              "ticks": ""
             }
            },
            "type": "scatterpolar"
           }
          ],
          "scatterpolargl": [
           {
            "marker": {
             "colorbar": {
              "outlinewidth": 0,
              "ticks": ""
             }
            },
            "type": "scatterpolargl"
           }
          ],
          "scatterternary": [
           {
            "marker": {
             "colorbar": {
              "outlinewidth": 0,
              "ticks": ""
             }
            },
            "type": "scatterternary"
           }
          ],
          "surface": [
           {
            "colorbar": {
             "outlinewidth": 0,
             "ticks": ""
            },
            "colorscale": [
             [
              0,
              "#0d0887"
             ],
             [
              0.1111111111111111,
              "#46039f"
             ],
             [
              0.2222222222222222,
              "#7201a8"
             ],
             [
              0.3333333333333333,
              "#9c179e"
             ],
             [
              0.4444444444444444,
              "#bd3786"
             ],
             [
              0.5555555555555556,
              "#d8576b"
             ],
             [
              0.6666666666666666,
              "#ed7953"
             ],
             [
              0.7777777777777778,
              "#fb9f3a"
             ],
             [
              0.8888888888888888,
              "#fdca26"
             ],
             [
              1,
              "#f0f921"
             ]
            ],
            "type": "surface"
           }
          ],
          "table": [
           {
            "cells": {
             "fill": {
              "color": "#EBF0F8"
             },
             "line": {
              "color": "white"
             }
            },
            "header": {
             "fill": {
              "color": "#C8D4E3"
             },
             "line": {
              "color": "white"
             }
            },
            "type": "table"
           }
          ]
         },
         "layout": {
          "annotationdefaults": {
           "arrowcolor": "#2a3f5f",
           "arrowhead": 0,
           "arrowwidth": 1
          },
          "autotypenumbers": "strict",
          "coloraxis": {
           "colorbar": {
            "outlinewidth": 0,
            "ticks": ""
           }
          },
          "colorscale": {
           "diverging": [
            [
             0,
             "#8e0152"
            ],
            [
             0.1,
             "#c51b7d"
            ],
            [
             0.2,
             "#de77ae"
            ],
            [
             0.3,
             "#f1b6da"
            ],
            [
             0.4,
             "#fde0ef"
            ],
            [
             0.5,
             "#f7f7f7"
            ],
            [
             0.6,
             "#e6f5d0"
            ],
            [
             0.7,
             "#b8e186"
            ],
            [
             0.8,
             "#7fbc41"
            ],
            [
             0.9,
             "#4d9221"
            ],
            [
             1,
             "#276419"
            ]
           ],
           "sequential": [
            [
             0,
             "#0d0887"
            ],
            [
             0.1111111111111111,
             "#46039f"
            ],
            [
             0.2222222222222222,
             "#7201a8"
            ],
            [
             0.3333333333333333,
             "#9c179e"
            ],
            [
             0.4444444444444444,
             "#bd3786"
            ],
            [
             0.5555555555555556,
             "#d8576b"
            ],
            [
             0.6666666666666666,
             "#ed7953"
            ],
            [
             0.7777777777777778,
             "#fb9f3a"
            ],
            [
             0.8888888888888888,
             "#fdca26"
            ],
            [
             1,
             "#f0f921"
            ]
           ],
           "sequentialminus": [
            [
             0,
             "#0d0887"
            ],
            [
             0.1111111111111111,
             "#46039f"
            ],
            [
             0.2222222222222222,
             "#7201a8"
            ],
            [
             0.3333333333333333,
             "#9c179e"
            ],
            [
             0.4444444444444444,
             "#bd3786"
            ],
            [
             0.5555555555555556,
             "#d8576b"
            ],
            [
             0.6666666666666666,
             "#ed7953"
            ],
            [
             0.7777777777777778,
             "#fb9f3a"
            ],
            [
             0.8888888888888888,
             "#fdca26"
            ],
            [
             1,
             "#f0f921"
            ]
           ]
          },
          "colorway": [
           "#636efa",
           "#EF553B",
           "#00cc96",
           "#ab63fa",
           "#FFA15A",
           "#19d3f3",
           "#FF6692",
           "#B6E880",
           "#FF97FF",
           "#FECB52"
          ],
          "font": {
           "color": "#2a3f5f"
          },
          "geo": {
           "bgcolor": "white",
           "lakecolor": "white",
           "landcolor": "#E5ECF6",
           "showlakes": true,
           "showland": true,
           "subunitcolor": "white"
          },
          "hoverlabel": {
           "align": "left"
          },
          "hovermode": "closest",
          "mapbox": {
           "style": "light"
          },
          "paper_bgcolor": "white",
          "plot_bgcolor": "#E5ECF6",
          "polar": {
           "angularaxis": {
            "gridcolor": "white",
            "linecolor": "white",
            "ticks": ""
           },
           "bgcolor": "#E5ECF6",
           "radialaxis": {
            "gridcolor": "white",
            "linecolor": "white",
            "ticks": ""
           }
          },
          "scene": {
           "xaxis": {
            "backgroundcolor": "#E5ECF6",
            "gridcolor": "white",
            "gridwidth": 2,
            "linecolor": "white",
            "showbackground": true,
            "ticks": "",
            "zerolinecolor": "white"
           },
           "yaxis": {
            "backgroundcolor": "#E5ECF6",
            "gridcolor": "white",
            "gridwidth": 2,
            "linecolor": "white",
            "showbackground": true,
            "ticks": "",
            "zerolinecolor": "white"
           },
           "zaxis": {
            "backgroundcolor": "#E5ECF6",
            "gridcolor": "white",
            "gridwidth": 2,
            "linecolor": "white",
            "showbackground": true,
            "ticks": "",
            "zerolinecolor": "white"
           }
          },
          "shapedefaults": {
           "line": {
            "color": "#2a3f5f"
           }
          },
          "ternary": {
           "aaxis": {
            "gridcolor": "white",
            "linecolor": "white",
            "ticks": ""
           },
           "baxis": {
            "gridcolor": "white",
            "linecolor": "white",
            "ticks": ""
           },
           "bgcolor": "#E5ECF6",
           "caxis": {
            "gridcolor": "white",
            "linecolor": "white",
            "ticks": ""
           }
          },
          "title": {
           "x": 0.05
          },
          "xaxis": {
           "automargin": true,
           "gridcolor": "white",
           "linecolor": "white",
           "ticks": "",
           "title": {
            "standoff": 15
           },
           "zerolinecolor": "white",
           "zerolinewidth": 2
          },
          "yaxis": {
           "automargin": true,
           "gridcolor": "white",
           "linecolor": "white",
           "ticks": "",
           "title": {
            "standoff": 15
           },
           "zerolinecolor": "white",
           "zerolinewidth": 2
          }
         }
        },
        "title": {
         "font": {
          "color": "#4D5663"
         }
        },
        "xaxis": {
         "gridcolor": "#E1E5ED",
         "showgrid": true,
         "tickfont": {
          "color": "#4D5663"
         },
         "title": {
          "font": {
           "color": "#4D5663"
          },
          "text": ""
         },
         "zerolinecolor": "#E1E5ED"
        },
        "yaxis": {
         "gridcolor": "#E1E5ED",
         "showgrid": true,
         "tickfont": {
          "color": "#4D5663"
         },
         "title": {
          "font": {
           "color": "#4D5663"
          },
          "text": ""
         },
         "zerolinecolor": "#E1E5ED"
        }
       }
      },
      "text/html": [
       "<div>                            <div id=\"fd7beb75-40c1-4d03-abb0-857fe333c3ec\" class=\"plotly-graph-div\" style=\"height:525px; width:100%;\"></div>            <script type=\"text/javascript\">                require([\"plotly\"], function(Plotly) {                    window.PLOTLYENV=window.PLOTLYENV || {};\n",
       "                    window.PLOTLYENV.BASE_URL='https://plot.ly';                                    if (document.getElementById(\"fd7beb75-40c1-4d03-abb0-857fe333c3ec\")) {                    Plotly.newPlot(                        \"fd7beb75-40c1-4d03-abb0-857fe333c3ec\",                        [{\"boxpoints\":false,\"line\":{\"width\":1.3},\"marker\":{\"color\":\"rgba(255, 153, 51, 1.0)\"},\"name\":\"A\",\"orientation\":\"v\",\"y\":[0.6704549516109599,0.082535443479542,-0.030277607876463258,-0.7296129081944889,0.1527265413175817,-0.33813441137032424,1.9042339492772191,-0.7588056246726919,-0.8707965588081601,0.2896340361845918,-1.5237665192059862,0.9484620621971421,0.10553141650462003,0.2092718349405866,1.1640347231125636,0.4858426802866781,0.11933983453608828,0.2728169531371193,0.28919657021806133,1.073483561244945,0.07028375795764374,-0.1887932147115583,-1.0600689448473835,-0.3019363572412175,-0.8126307144185704,0.04021264055831378,-0.9798153152930743,-0.6070842061572903,-0.8067785203768048,-0.36628255849385094,-0.490724497613985,-0.11948959467927889,0.48024340826134854,-1.1114681568524802,0.00876717415713063,0.6153754248886335,-1.4120273218003125,-0.29772386315529703,-1.5277547107763774,0.8806863350762015,-0.02202561406455898,0.18378231072850623,-1.2931621264832485,-0.3972448926752685,-0.5753141033381041,0.6099801439466861,-0.8322217489099195,-0.05349257776630721,0.8517356264904371,-0.6052906360039375,-0.016646820797517226,-0.8891175447176948,1.8392114049926793,-1.189159093024214,-1.469324037228592,-0.20638700121277379,1.2880732643088497,1.011507627731839,-0.3227307063649429,1.2961924610631739,-0.7642289271104794,-0.8007653934311705,0.4603318905907266,1.0522096884457013,1.3600251679490534,-0.36805019645124054,-0.5252295655825047,0.3721275871542655,-1.1589425465940177,0.2552543469502206,-1.219051279316724,0.7809900058034129,0.6429968571185835,-0.9685863470324628,1.2932642257498272,0.8991878465435622,0.6702614740877187,-1.53023911252679,-0.33211763988874765,1.4833033292419877,0.5966607396311193,-1.3509756071664498,0.8079238287024253,1.6795389610664637,-0.6956294545177134,0.7239483934768534,-0.8703039150087871,2.4752648340661243,0.6095555501482074,-0.05135436217061349,-1.441317146126483,-1.7698229100332996,-0.854867235643374,0.01573115303956426,0.01366965315720599,-0.055649749827862735,0.9996389487811868,0.23448412479115777,1.3109218538891279,0.11222823118418822],\"type\":\"box\"},{\"boxpoints\":false,\"line\":{\"width\":1.3},\"marker\":{\"color\":\"rgba(55, 128, 191, 1.0)\"},\"name\":\"B\",\"orientation\":\"v\",\"y\":[-0.2682455403138665,0.9219032901867988,-2.6316192007926147,-0.7002221680723266,-1.1410201172424725,0.1982088166397885,-0.36916858732116814,-0.346988451454806,-0.5067690548727558,-0.48657622979598436,-0.3779466626884306,-0.9057264109845606,-1.0904291766858063,-0.7245917615110173,-0.7023340161584938,-0.12909160467106529,-0.8886651919263007,0.3823079631484114,-1.0900373872538167,0.04590737193270273,0.3449595019039827,-0.21952347502178463,-0.045830801280706795,0.27039014309921827,0.9752355335661154,-0.6297684032026852,-1.4341538818078072,-2.928405166974158,-0.24271171257920754,-0.8045786019109605,-0.7726865519387884,-0.38402965758197344,0.43511238729760066,0.6040661512852107,-0.55675228038275,-2.0752224149061544,0.30665005723854494,1.052301828580547,-0.3096428207681808,-1.1114785994044372,0.16438707146105638,0.7303825344045778,-0.6668291129437066,-1.2047590788659568,-0.6527833867437385,-0.17869000879867572,0.6164832688470566,1.1410378050428858,-1.723664068438458,-0.6046277913177348,-0.5054846301754152,0.776550047785937,0.46522658965141034,1.0350918146874746,0.9008286556081461,0.6095189639974038,-0.5152331945488056,0.23869453965612214,-1.395265038890855,0.509141026613451,-0.20929089012008917,-0.27011429036927975,0.8636244035153211,-0.688059366148949,-0.8832300590337048,-2.928352824671613,0.07989375770754963,-1.9431385480998216,-1.8746224168674628,0.2443443760851938,0.3794392960523368,0.11523202363410734,0.12093706648550032,-0.483520740771378,-1.371270121893702,-0.0751091049119595,0.09543516448164553,0.7550659367358067,1.4773525481483383,-1.6667177545418252,0.024320580466173938,-0.42969113088106947,-0.4717015774845612,-0.8692805274518534,0.8098607957408062,-0.7958892117997776,-2.532441312455747,0.22346344034817142,0.8033086864689049,1.684673808657013,0.3552602777281829,0.3419395197719315,-0.12852374038004932,1.382975119289779,-0.0655957106522503,-0.3145521070114627,-1.4393287908028378,-0.3295221740812238,-0.42722999899320613,-0.9031641314456635],\"type\":\"box\"},{\"boxpoints\":false,\"line\":{\"width\":1.3},\"marker\":{\"color\":\"rgba(50, 171, 96, 1.0)\"},\"name\":\"C\",\"orientation\":\"v\",\"y\":[0.36701710595825254,0.46000033353965614,0.9737334163013094,0.19854008303274714,0.5998526204284188,-1.3946066889939361,-0.12155804082863964,1.0055548804895427,0.0810987255363289,1.103511469305969,0.26398199983883763,0.14593148133072104,0.37985804050238503,-0.7153516367654928,-0.7176568175878837,0.03275806960429191,-0.21948315755816733,-0.49153818956942047,0.9659477856167753,0.4249527366042526,1.3111017977551336,-0.019792522179095374,-1.2732567736519131,-1.3970325048240173,0.9667427222174672,-0.9379307460303506,0.6225612400113906,0.3574663346986022,-0.03668086876447439,1.1837503274675245,-1.604460223832529,-0.6401589833583028,0.13026600116142184,-0.4135757855699605,1.4515954587331912,-1.3241217249524266,1.1936281693711277,-1.0231318785892891,0.09220417397157808,0.06295717441328277,-1.301709312357675,0.8692975221881372,1.0152154701158727,-1.9967647136128595,2.363876410286345,-0.7321134713851997,-0.846238770549181,-0.225280736209897,-0.26119808038949116,0.49557985426913875,-0.9118071933419445,-1.2594602159056778,-0.013575887746153474,0.6005294650913788,-0.030760494323134456,1.7743909371825128,0.4638200144398666,0.9744914947314348,-0.5788267384660811,1.8585222777023265,-0.017519813758613143,-0.355558060494097,1.2429028981992543,0.005605265585401496,-0.42698953276129514,0.775773218390474,-0.7991494715942651,0.5925055503475269,0.16788535015079373,-0.4488485182848409,-0.6859757858458887,0.7003274647135272,0.9056208476111676,0.8718717808239559,-1.164773779135178,0.4592593402858712,0.4973666576735957,-0.5131693678338795,1.557724043455767,0.5536660281074894,2.2010221554819656,0.5646823570649336,0.028072525274820983,1.543652803147221,1.6559690185397318,0.1043096014372564,1.397254925511402,0.8511227651769517,-0.02821729362196425,0.9102249082441589,1.2937701916636015,-0.7799757916089121,-0.6309236250550366,-0.4968154982488999,-2.3002338182880306,1.513093666990525,0.8167253534870564,0.1612722302995093,0.5813704403961676,-1.9056960300675936],\"type\":\"box\"},{\"boxpoints\":false,\"line\":{\"width\":1.3},\"marker\":{\"color\":\"rgba(128, 0, 128, 1.0)\"},\"name\":\"D\",\"orientation\":\"v\",\"y\":[0.10213612530568543,0.2937547169864263,0.1767055109002836,-0.2973183925802308,-0.14908000139268454,-0.8430874326093657,-0.4928879427187282,-0.28143857828686214,0.5735779816605117,-1.7476240727312766,0.5728574698103156,0.4903527368293395,0.9201769929563614,-0.014260584015353406,1.5784970560581673,0.04636486504864947,0.3060238789060607,-0.5406887352236077,-0.17173543197806548,-0.011516235303470181,1.240140805137977,-1.2050535786432073,-0.5541191683151043,-0.9146304500683474,-0.5340983179598195,-0.07040673498763442,-0.4621503597065403,-0.7636828242655683,-1.301258686639732,1.0785528258849082,1.9231140457625895,1.329345179022494,1.7905122345768874,1.1658786598167523,0.06524024621921286,0.3685130262936316,-0.9311335605389865,-0.8828996672227901,0.6349125466014539,-0.5285273878824718,0.020699294724895533,-0.5714428638656869,0.18357762539896405,-0.5933002305324663,-0.4209975009909785,-0.3243940199330944,0.43509435259205076,-1.080742958739633,-0.6118672086666948,-0.11163370868526934,-2.2876449940546997,-0.9306439540241452,1.4011408323027417,-0.8738049031801042,-0.048256258626752396,1.5221648999316875,0.1320770519253603,-1.7680350812494758,0.9077479529281082,-0.8975405670433891,0.7077909193645673,-1.9270895807980386,-0.4199393369219335,0.1674516448100253,-1.5185518792015826,0.5677447768752817,-0.5375934160356332,-0.1881416759471227,0.26082005397708397,0.48122195937146056,0.8846181120180732,-0.11799314877619538,1.3462376552479272,0.6293309974259682,0.3066584709802117,0.7802284075387983,-0.46532319123341886,-0.06140283921866073,-1.5990645135051367,-1.3718944770156531,-0.3080484872878169,1.1249697012649895,0.8873925291791959,-0.14853390348956538,-1.9278022989972456,2.25380956208247,-0.7269355547852893,-0.4031203870809856,2.587540074395344,0.8110955245271798,0.3043075736415618,0.31788238600464414,-0.4492455940110283,0.5036771492114919,0.32183790974466225,-0.7508092478926194,-0.029156372004654006,-0.5786496044667773,-0.5232462829238717,-0.8090008048759896],\"type\":\"box\"}],                        {\"legend\":{\"bgcolor\":\"#F5F6F9\",\"font\":{\"color\":\"#4D5663\"}},\"paper_bgcolor\":\"#F5F6F9\",\"plot_bgcolor\":\"#F5F6F9\",\"template\":{\"data\":{\"barpolar\":[{\"marker\":{\"line\":{\"color\":\"#E5ECF6\",\"width\":0.5},\"pattern\":{\"fillmode\":\"overlay\",\"size\":10,\"solidity\":0.2}},\"type\":\"barpolar\"}],\"bar\":[{\"error_x\":{\"color\":\"#2a3f5f\"},\"error_y\":{\"color\":\"#2a3f5f\"},\"marker\":{\"line\":{\"color\":\"#E5ECF6\",\"width\":0.5},\"pattern\":{\"fillmode\":\"overlay\",\"size\":10,\"solidity\":0.2}},\"type\":\"bar\"}],\"carpet\":[{\"aaxis\":{\"endlinecolor\":\"#2a3f5f\",\"gridcolor\":\"white\",\"linecolor\":\"white\",\"minorgridcolor\":\"white\",\"startlinecolor\":\"#2a3f5f\"},\"baxis\":{\"endlinecolor\":\"#2a3f5f\",\"gridcolor\":\"white\",\"linecolor\":\"white\",\"minorgridcolor\":\"white\",\"startlinecolor\":\"#2a3f5f\"},\"type\":\"carpet\"}],\"choropleth\":[{\"colorbar\":{\"outlinewidth\":0,\"ticks\":\"\"},\"type\":\"choropleth\"}],\"contourcarpet\":[{\"colorbar\":{\"outlinewidth\":0,\"ticks\":\"\"},\"type\":\"contourcarpet\"}],\"contour\":[{\"colorbar\":{\"outlinewidth\":0,\"ticks\":\"\"},\"colorscale\":[[0.0,\"#0d0887\"],[0.1111111111111111,\"#46039f\"],[0.2222222222222222,\"#7201a8\"],[0.3333333333333333,\"#9c179e\"],[0.4444444444444444,\"#bd3786\"],[0.5555555555555556,\"#d8576b\"],[0.6666666666666666,\"#ed7953\"],[0.7777777777777778,\"#fb9f3a\"],[0.8888888888888888,\"#fdca26\"],[1.0,\"#f0f921\"]],\"type\":\"contour\"}],\"heatmapgl\":[{\"colorbar\":{\"outlinewidth\":0,\"ticks\":\"\"},\"colorscale\":[[0.0,\"#0d0887\"],[0.1111111111111111,\"#46039f\"],[0.2222222222222222,\"#7201a8\"],[0.3333333333333333,\"#9c179e\"],[0.4444444444444444,\"#bd3786\"],[0.5555555555555556,\"#d8576b\"],[0.6666666666666666,\"#ed7953\"],[0.7777777777777778,\"#fb9f3a\"],[0.8888888888888888,\"#fdca26\"],[1.0,\"#f0f921\"]],\"type\":\"heatmapgl\"}],\"heatmap\":[{\"colorbar\":{\"outlinewidth\":0,\"ticks\":\"\"},\"colorscale\":[[0.0,\"#0d0887\"],[0.1111111111111111,\"#46039f\"],[0.2222222222222222,\"#7201a8\"],[0.3333333333333333,\"#9c179e\"],[0.4444444444444444,\"#bd3786\"],[0.5555555555555556,\"#d8576b\"],[0.6666666666666666,\"#ed7953\"],[0.7777777777777778,\"#fb9f3a\"],[0.8888888888888888,\"#fdca26\"],[1.0,\"#f0f921\"]],\"type\":\"heatmap\"}],\"histogram2dcontour\":[{\"colorbar\":{\"outlinewidth\":0,\"ticks\":\"\"},\"colorscale\":[[0.0,\"#0d0887\"],[0.1111111111111111,\"#46039f\"],[0.2222222222222222,\"#7201a8\"],[0.3333333333333333,\"#9c179e\"],[0.4444444444444444,\"#bd3786\"],[0.5555555555555556,\"#d8576b\"],[0.6666666666666666,\"#ed7953\"],[0.7777777777777778,\"#fb9f3a\"],[0.8888888888888888,\"#fdca26\"],[1.0,\"#f0f921\"]],\"type\":\"histogram2dcontour\"}],\"histogram2d\":[{\"colorbar\":{\"outlinewidth\":0,\"ticks\":\"\"},\"colorscale\":[[0.0,\"#0d0887\"],[0.1111111111111111,\"#46039f\"],[0.2222222222222222,\"#7201a8\"],[0.3333333333333333,\"#9c179e\"],[0.4444444444444444,\"#bd3786\"],[0.5555555555555556,\"#d8576b\"],[0.6666666666666666,\"#ed7953\"],[0.7777777777777778,\"#fb9f3a\"],[0.8888888888888888,\"#fdca26\"],[1.0,\"#f0f921\"]],\"type\":\"histogram2d\"}],\"histogram\":[{\"marker\":{\"pattern\":{\"fillmode\":\"overlay\",\"size\":10,\"solidity\":0.2}},\"type\":\"histogram\"}],\"mesh3d\":[{\"colorbar\":{\"outlinewidth\":0,\"ticks\":\"\"},\"type\":\"mesh3d\"}],\"parcoords\":[{\"line\":{\"colorbar\":{\"outlinewidth\":0,\"ticks\":\"\"}},\"type\":\"parcoords\"}],\"pie\":[{\"automargin\":true,\"type\":\"pie\"}],\"scatter3d\":[{\"line\":{\"colorbar\":{\"outlinewidth\":0,\"ticks\":\"\"}},\"marker\":{\"colorbar\":{\"outlinewidth\":0,\"ticks\":\"\"}},\"type\":\"scatter3d\"}],\"scattercarpet\":[{\"marker\":{\"colorbar\":{\"outlinewidth\":0,\"ticks\":\"\"}},\"type\":\"scattercarpet\"}],\"scattergeo\":[{\"marker\":{\"colorbar\":{\"outlinewidth\":0,\"ticks\":\"\"}},\"type\":\"scattergeo\"}],\"scattergl\":[{\"marker\":{\"colorbar\":{\"outlinewidth\":0,\"ticks\":\"\"}},\"type\":\"scattergl\"}],\"scattermapbox\":[{\"marker\":{\"colorbar\":{\"outlinewidth\":0,\"ticks\":\"\"}},\"type\":\"scattermapbox\"}],\"scatterpolargl\":[{\"marker\":{\"colorbar\":{\"outlinewidth\":0,\"ticks\":\"\"}},\"type\":\"scatterpolargl\"}],\"scatterpolar\":[{\"marker\":{\"colorbar\":{\"outlinewidth\":0,\"ticks\":\"\"}},\"type\":\"scatterpolar\"}],\"scatter\":[{\"marker\":{\"colorbar\":{\"outlinewidth\":0,\"ticks\":\"\"}},\"type\":\"scatter\"}],\"scatterternary\":[{\"marker\":{\"colorbar\":{\"outlinewidth\":0,\"ticks\":\"\"}},\"type\":\"scatterternary\"}],\"surface\":[{\"colorbar\":{\"outlinewidth\":0,\"ticks\":\"\"},\"colorscale\":[[0.0,\"#0d0887\"],[0.1111111111111111,\"#46039f\"],[0.2222222222222222,\"#7201a8\"],[0.3333333333333333,\"#9c179e\"],[0.4444444444444444,\"#bd3786\"],[0.5555555555555556,\"#d8576b\"],[0.6666666666666666,\"#ed7953\"],[0.7777777777777778,\"#fb9f3a\"],[0.8888888888888888,\"#fdca26\"],[1.0,\"#f0f921\"]],\"type\":\"surface\"}],\"table\":[{\"cells\":{\"fill\":{\"color\":\"#EBF0F8\"},\"line\":{\"color\":\"white\"}},\"header\":{\"fill\":{\"color\":\"#C8D4E3\"},\"line\":{\"color\":\"white\"}},\"type\":\"table\"}]},\"layout\":{\"annotationdefaults\":{\"arrowcolor\":\"#2a3f5f\",\"arrowhead\":0,\"arrowwidth\":1},\"autotypenumbers\":\"strict\",\"coloraxis\":{\"colorbar\":{\"outlinewidth\":0,\"ticks\":\"\"}},\"colorscale\":{\"diverging\":[[0,\"#8e0152\"],[0.1,\"#c51b7d\"],[0.2,\"#de77ae\"],[0.3,\"#f1b6da\"],[0.4,\"#fde0ef\"],[0.5,\"#f7f7f7\"],[0.6,\"#e6f5d0\"],[0.7,\"#b8e186\"],[0.8,\"#7fbc41\"],[0.9,\"#4d9221\"],[1,\"#276419\"]],\"sequential\":[[0.0,\"#0d0887\"],[0.1111111111111111,\"#46039f\"],[0.2222222222222222,\"#7201a8\"],[0.3333333333333333,\"#9c179e\"],[0.4444444444444444,\"#bd3786\"],[0.5555555555555556,\"#d8576b\"],[0.6666666666666666,\"#ed7953\"],[0.7777777777777778,\"#fb9f3a\"],[0.8888888888888888,\"#fdca26\"],[1.0,\"#f0f921\"]],\"sequentialminus\":[[0.0,\"#0d0887\"],[0.1111111111111111,\"#46039f\"],[0.2222222222222222,\"#7201a8\"],[0.3333333333333333,\"#9c179e\"],[0.4444444444444444,\"#bd3786\"],[0.5555555555555556,\"#d8576b\"],[0.6666666666666666,\"#ed7953\"],[0.7777777777777778,\"#fb9f3a\"],[0.8888888888888888,\"#fdca26\"],[1.0,\"#f0f921\"]]},\"colorway\":[\"#636efa\",\"#EF553B\",\"#00cc96\",\"#ab63fa\",\"#FFA15A\",\"#19d3f3\",\"#FF6692\",\"#B6E880\",\"#FF97FF\",\"#FECB52\"],\"font\":{\"color\":\"#2a3f5f\"},\"geo\":{\"bgcolor\":\"white\",\"lakecolor\":\"white\",\"landcolor\":\"#E5ECF6\",\"showlakes\":true,\"showland\":true,\"subunitcolor\":\"white\"},\"hoverlabel\":{\"align\":\"left\"},\"hovermode\":\"closest\",\"mapbox\":{\"style\":\"light\"},\"paper_bgcolor\":\"white\",\"plot_bgcolor\":\"#E5ECF6\",\"polar\":{\"angularaxis\":{\"gridcolor\":\"white\",\"linecolor\":\"white\",\"ticks\":\"\"},\"bgcolor\":\"#E5ECF6\",\"radialaxis\":{\"gridcolor\":\"white\",\"linecolor\":\"white\",\"ticks\":\"\"}},\"scene\":{\"xaxis\":{\"backgroundcolor\":\"#E5ECF6\",\"gridcolor\":\"white\",\"gridwidth\":2,\"linecolor\":\"white\",\"showbackground\":true,\"ticks\":\"\",\"zerolinecolor\":\"white\"},\"yaxis\":{\"backgroundcolor\":\"#E5ECF6\",\"gridcolor\":\"white\",\"gridwidth\":2,\"linecolor\":\"white\",\"showbackground\":true,\"ticks\":\"\",\"zerolinecolor\":\"white\"},\"zaxis\":{\"backgroundcolor\":\"#E5ECF6\",\"gridcolor\":\"white\",\"gridwidth\":2,\"linecolor\":\"white\",\"showbackground\":true,\"ticks\":\"\",\"zerolinecolor\":\"white\"}},\"shapedefaults\":{\"line\":{\"color\":\"#2a3f5f\"}},\"ternary\":{\"aaxis\":{\"gridcolor\":\"white\",\"linecolor\":\"white\",\"ticks\":\"\"},\"baxis\":{\"gridcolor\":\"white\",\"linecolor\":\"white\",\"ticks\":\"\"},\"bgcolor\":\"#E5ECF6\",\"caxis\":{\"gridcolor\":\"white\",\"linecolor\":\"white\",\"ticks\":\"\"}},\"title\":{\"x\":0.05},\"xaxis\":{\"automargin\":true,\"gridcolor\":\"white\",\"linecolor\":\"white\",\"ticks\":\"\",\"title\":{\"standoff\":15},\"zerolinecolor\":\"white\",\"zerolinewidth\":2},\"yaxis\":{\"automargin\":true,\"gridcolor\":\"white\",\"linecolor\":\"white\",\"ticks\":\"\",\"title\":{\"standoff\":15},\"zerolinecolor\":\"white\",\"zerolinewidth\":2}}},\"title\":{\"font\":{\"color\":\"#4D5663\"}},\"xaxis\":{\"gridcolor\":\"#E1E5ED\",\"showgrid\":true,\"tickfont\":{\"color\":\"#4D5663\"},\"title\":{\"font\":{\"color\":\"#4D5663\"},\"text\":\"\"},\"zerolinecolor\":\"#E1E5ED\"},\"yaxis\":{\"gridcolor\":\"#E1E5ED\",\"showgrid\":true,\"tickfont\":{\"color\":\"#4D5663\"},\"title\":{\"font\":{\"color\":\"#4D5663\"},\"text\":\"\"},\"zerolinecolor\":\"#E1E5ED\"}},                        {\"showLink\": true, \"linkText\": \"Export to plot.ly\", \"plotlyServerURL\": \"https://plot.ly\", \"responsive\": true}                    ).then(function(){\n",
       "                            \n",
       "var gd = document.getElementById('fd7beb75-40c1-4d03-abb0-857fe333c3ec');\n",
       "var x = new MutationObserver(function (mutations, observer) {{\n",
       "        var display = window.getComputedStyle(gd).display;\n",
       "        if (!display || display === 'none') {{\n",
       "            console.log([gd, 'removed!']);\n",
       "            Plotly.purge(gd);\n",
       "            observer.disconnect();\n",
       "        }}\n",
       "}});\n",
       "\n",
       "// Listen for the removal of the full notebook cells\n",
       "var notebookContainer = gd.closest('#notebook-container');\n",
       "if (notebookContainer) {{\n",
       "    x.observe(notebookContainer, {childList: true});\n",
       "}}\n",
       "\n",
       "// Listen for the clearing of the current output cell\n",
       "var outputEl = gd.closest('.output');\n",
       "if (outputEl) {{\n",
       "    x.observe(outputEl, {childList: true});\n",
       "}}\n",
       "\n",
       "                        })                };                });            </script>        </div>"
      ]
     },
     "metadata": {},
     "output_type": "display_data"
    }
   ],
   "source": [
    "df.iplot(kind='box')"
   ]
  },
  {
   "cell_type": "markdown",
   "metadata": {},
   "source": [
    "## 3d Surface"
   ]
  },
  {
   "cell_type": "code",
   "execution_count": 14,
   "metadata": {},
   "outputs": [
    {
     "data": {
      "application/vnd.plotly.v1+json": {
       "config": {
        "linkText": "Export to plot.ly",
        "plotlyServerURL": "https://plot.ly",
        "showLink": true
       },
       "data": [
        {
         "colorscale": [
          [
           0,
           "rgb(165,0,38)"
          ],
          [
           0.1,
           "rgb(215,48,39)"
          ],
          [
           0.2,
           "rgb(244,109,67)"
          ],
          [
           0.3,
           "rgb(253,174,97)"
          ],
          [
           0.4,
           "rgb(254,224,144)"
          ],
          [
           0.5,
           "rgb(255,255,191)"
          ],
          [
           0.6,
           "rgb(224,243,248)"
          ],
          [
           0.7,
           "rgb(171,217,233)"
          ],
          [
           0.8,
           "rgb(116,173,209)"
          ],
          [
           0.9,
           "rgb(69,117,180)"
          ],
          [
           1,
           "rgb(49,54,149)"
          ]
         ],
         "type": "surface",
         "x": [
          0,
          1,
          2,
          3,
          4
         ],
         "y": [
          "x",
          "y",
          "z"
         ],
         "z": [
          [
           1,
           2,
           3,
           4,
           5
          ],
          [
           10,
           20,
           30,
           20,
           10
          ],
          [
           5,
           4,
           3,
           2,
           1
          ]
         ]
        }
       ],
       "layout": {
        "legend": {
         "bgcolor": "#F5F6F9",
         "font": {
          "color": "#4D5663"
         }
        },
        "paper_bgcolor": "#F5F6F9",
        "plot_bgcolor": "#F5F6F9",
        "template": {
         "data": {
          "bar": [
           {
            "error_x": {
             "color": "#2a3f5f"
            },
            "error_y": {
             "color": "#2a3f5f"
            },
            "marker": {
             "line": {
              "color": "#E5ECF6",
              "width": 0.5
             },
             "pattern": {
              "fillmode": "overlay",
              "size": 10,
              "solidity": 0.2
             }
            },
            "type": "bar"
           }
          ],
          "barpolar": [
           {
            "marker": {
             "line": {
              "color": "#E5ECF6",
              "width": 0.5
             },
             "pattern": {
              "fillmode": "overlay",
              "size": 10,
              "solidity": 0.2
             }
            },
            "type": "barpolar"
           }
          ],
          "carpet": [
           {
            "aaxis": {
             "endlinecolor": "#2a3f5f",
             "gridcolor": "white",
             "linecolor": "white",
             "minorgridcolor": "white",
             "startlinecolor": "#2a3f5f"
            },
            "baxis": {
             "endlinecolor": "#2a3f5f",
             "gridcolor": "white",
             "linecolor": "white",
             "minorgridcolor": "white",
             "startlinecolor": "#2a3f5f"
            },
            "type": "carpet"
           }
          ],
          "choropleth": [
           {
            "colorbar": {
             "outlinewidth": 0,
             "ticks": ""
            },
            "type": "choropleth"
           }
          ],
          "contour": [
           {
            "colorbar": {
             "outlinewidth": 0,
             "ticks": ""
            },
            "colorscale": [
             [
              0,
              "#0d0887"
             ],
             [
              0.1111111111111111,
              "#46039f"
             ],
             [
              0.2222222222222222,
              "#7201a8"
             ],
             [
              0.3333333333333333,
              "#9c179e"
             ],
             [
              0.4444444444444444,
              "#bd3786"
             ],
             [
              0.5555555555555556,
              "#d8576b"
             ],
             [
              0.6666666666666666,
              "#ed7953"
             ],
             [
              0.7777777777777778,
              "#fb9f3a"
             ],
             [
              0.8888888888888888,
              "#fdca26"
             ],
             [
              1,
              "#f0f921"
             ]
            ],
            "type": "contour"
           }
          ],
          "contourcarpet": [
           {
            "colorbar": {
             "outlinewidth": 0,
             "ticks": ""
            },
            "type": "contourcarpet"
           }
          ],
          "heatmap": [
           {
            "colorbar": {
             "outlinewidth": 0,
             "ticks": ""
            },
            "colorscale": [
             [
              0,
              "#0d0887"
             ],
             [
              0.1111111111111111,
              "#46039f"
             ],
             [
              0.2222222222222222,
              "#7201a8"
             ],
             [
              0.3333333333333333,
              "#9c179e"
             ],
             [
              0.4444444444444444,
              "#bd3786"
             ],
             [
              0.5555555555555556,
              "#d8576b"
             ],
             [
              0.6666666666666666,
              "#ed7953"
             ],
             [
              0.7777777777777778,
              "#fb9f3a"
             ],
             [
              0.8888888888888888,
              "#fdca26"
             ],
             [
              1,
              "#f0f921"
             ]
            ],
            "type": "heatmap"
           }
          ],
          "heatmapgl": [
           {
            "colorbar": {
             "outlinewidth": 0,
             "ticks": ""
            },
            "colorscale": [
             [
              0,
              "#0d0887"
             ],
             [
              0.1111111111111111,
              "#46039f"
             ],
             [
              0.2222222222222222,
              "#7201a8"
             ],
             [
              0.3333333333333333,
              "#9c179e"
             ],
             [
              0.4444444444444444,
              "#bd3786"
             ],
             [
              0.5555555555555556,
              "#d8576b"
             ],
             [
              0.6666666666666666,
              "#ed7953"
             ],
             [
              0.7777777777777778,
              "#fb9f3a"
             ],
             [
              0.8888888888888888,
              "#fdca26"
             ],
             [
              1,
              "#f0f921"
             ]
            ],
            "type": "heatmapgl"
           }
          ],
          "histogram": [
           {
            "marker": {
             "pattern": {
              "fillmode": "overlay",
              "size": 10,
              "solidity": 0.2
             }
            },
            "type": "histogram"
           }
          ],
          "histogram2d": [
           {
            "colorbar": {
             "outlinewidth": 0,
             "ticks": ""
            },
            "colorscale": [
             [
              0,
              "#0d0887"
             ],
             [
              0.1111111111111111,
              "#46039f"
             ],
             [
              0.2222222222222222,
              "#7201a8"
             ],
             [
              0.3333333333333333,
              "#9c179e"
             ],
             [
              0.4444444444444444,
              "#bd3786"
             ],
             [
              0.5555555555555556,
              "#d8576b"
             ],
             [
              0.6666666666666666,
              "#ed7953"
             ],
             [
              0.7777777777777778,
              "#fb9f3a"
             ],
             [
              0.8888888888888888,
              "#fdca26"
             ],
             [
              1,
              "#f0f921"
             ]
            ],
            "type": "histogram2d"
           }
          ],
          "histogram2dcontour": [
           {
            "colorbar": {
             "outlinewidth": 0,
             "ticks": ""
            },
            "colorscale": [
             [
              0,
              "#0d0887"
             ],
             [
              0.1111111111111111,
              "#46039f"
             ],
             [
              0.2222222222222222,
              "#7201a8"
             ],
             [
              0.3333333333333333,
              "#9c179e"
             ],
             [
              0.4444444444444444,
              "#bd3786"
             ],
             [
              0.5555555555555556,
              "#d8576b"
             ],
             [
              0.6666666666666666,
              "#ed7953"
             ],
             [
              0.7777777777777778,
              "#fb9f3a"
             ],
             [
              0.8888888888888888,
              "#fdca26"
             ],
             [
              1,
              "#f0f921"
             ]
            ],
            "type": "histogram2dcontour"
           }
          ],
          "mesh3d": [
           {
            "colorbar": {
             "outlinewidth": 0,
             "ticks": ""
            },
            "type": "mesh3d"
           }
          ],
          "parcoords": [
           {
            "line": {
             "colorbar": {
              "outlinewidth": 0,
              "ticks": ""
             }
            },
            "type": "parcoords"
           }
          ],
          "pie": [
           {
            "automargin": true,
            "type": "pie"
           }
          ],
          "scatter": [
           {
            "marker": {
             "colorbar": {
              "outlinewidth": 0,
              "ticks": ""
             }
            },
            "type": "scatter"
           }
          ],
          "scatter3d": [
           {
            "line": {
             "colorbar": {
              "outlinewidth": 0,
              "ticks": ""
             }
            },
            "marker": {
             "colorbar": {
              "outlinewidth": 0,
              "ticks": ""
             }
            },
            "type": "scatter3d"
           }
          ],
          "scattercarpet": [
           {
            "marker": {
             "colorbar": {
              "outlinewidth": 0,
              "ticks": ""
             }
            },
            "type": "scattercarpet"
           }
          ],
          "scattergeo": [
           {
            "marker": {
             "colorbar": {
              "outlinewidth": 0,
              "ticks": ""
             }
            },
            "type": "scattergeo"
           }
          ],
          "scattergl": [
           {
            "marker": {
             "colorbar": {
              "outlinewidth": 0,
              "ticks": ""
             }
            },
            "type": "scattergl"
           }
          ],
          "scattermapbox": [
           {
            "marker": {
             "colorbar": {
              "outlinewidth": 0,
              "ticks": ""
             }
            },
            "type": "scattermapbox"
           }
          ],
          "scatterpolar": [
           {
            "marker": {
             "colorbar": {
              "outlinewidth": 0,
              "ticks": ""
             }
            },
            "type": "scatterpolar"
           }
          ],
          "scatterpolargl": [
           {
            "marker": {
             "colorbar": {
              "outlinewidth": 0,
              "ticks": ""
             }
            },
            "type": "scatterpolargl"
           }
          ],
          "scatterternary": [
           {
            "marker": {
             "colorbar": {
              "outlinewidth": 0,
              "ticks": ""
             }
            },
            "type": "scatterternary"
           }
          ],
          "surface": [
           {
            "colorbar": {
             "outlinewidth": 0,
             "ticks": ""
            },
            "colorscale": [
             [
              0,
              "#0d0887"
             ],
             [
              0.1111111111111111,
              "#46039f"
             ],
             [
              0.2222222222222222,
              "#7201a8"
             ],
             [
              0.3333333333333333,
              "#9c179e"
             ],
             [
              0.4444444444444444,
              "#bd3786"
             ],
             [
              0.5555555555555556,
              "#d8576b"
             ],
             [
              0.6666666666666666,
              "#ed7953"
             ],
             [
              0.7777777777777778,
              "#fb9f3a"
             ],
             [
              0.8888888888888888,
              "#fdca26"
             ],
             [
              1,
              "#f0f921"
             ]
            ],
            "type": "surface"
           }
          ],
          "table": [
           {
            "cells": {
             "fill": {
              "color": "#EBF0F8"
             },
             "line": {
              "color": "white"
             }
            },
            "header": {
             "fill": {
              "color": "#C8D4E3"
             },
             "line": {
              "color": "white"
             }
            },
            "type": "table"
           }
          ]
         },
         "layout": {
          "annotationdefaults": {
           "arrowcolor": "#2a3f5f",
           "arrowhead": 0,
           "arrowwidth": 1
          },
          "autotypenumbers": "strict",
          "coloraxis": {
           "colorbar": {
            "outlinewidth": 0,
            "ticks": ""
           }
          },
          "colorscale": {
           "diverging": [
            [
             0,
             "#8e0152"
            ],
            [
             0.1,
             "#c51b7d"
            ],
            [
             0.2,
             "#de77ae"
            ],
            [
             0.3,
             "#f1b6da"
            ],
            [
             0.4,
             "#fde0ef"
            ],
            [
             0.5,
             "#f7f7f7"
            ],
            [
             0.6,
             "#e6f5d0"
            ],
            [
             0.7,
             "#b8e186"
            ],
            [
             0.8,
             "#7fbc41"
            ],
            [
             0.9,
             "#4d9221"
            ],
            [
             1,
             "#276419"
            ]
           ],
           "sequential": [
            [
             0,
             "#0d0887"
            ],
            [
             0.1111111111111111,
             "#46039f"
            ],
            [
             0.2222222222222222,
             "#7201a8"
            ],
            [
             0.3333333333333333,
             "#9c179e"
            ],
            [
             0.4444444444444444,
             "#bd3786"
            ],
            [
             0.5555555555555556,
             "#d8576b"
            ],
            [
             0.6666666666666666,
             "#ed7953"
            ],
            [
             0.7777777777777778,
             "#fb9f3a"
            ],
            [
             0.8888888888888888,
             "#fdca26"
            ],
            [
             1,
             "#f0f921"
            ]
           ],
           "sequentialminus": [
            [
             0,
             "#0d0887"
            ],
            [
             0.1111111111111111,
             "#46039f"
            ],
            [
             0.2222222222222222,
             "#7201a8"
            ],
            [
             0.3333333333333333,
             "#9c179e"
            ],
            [
             0.4444444444444444,
             "#bd3786"
            ],
            [
             0.5555555555555556,
             "#d8576b"
            ],
            [
             0.6666666666666666,
             "#ed7953"
            ],
            [
             0.7777777777777778,
             "#fb9f3a"
            ],
            [
             0.8888888888888888,
             "#fdca26"
            ],
            [
             1,
             "#f0f921"
            ]
           ]
          },
          "colorway": [
           "#636efa",
           "#EF553B",
           "#00cc96",
           "#ab63fa",
           "#FFA15A",
           "#19d3f3",
           "#FF6692",
           "#B6E880",
           "#FF97FF",
           "#FECB52"
          ],
          "font": {
           "color": "#2a3f5f"
          },
          "geo": {
           "bgcolor": "white",
           "lakecolor": "white",
           "landcolor": "#E5ECF6",
           "showlakes": true,
           "showland": true,
           "subunitcolor": "white"
          },
          "hoverlabel": {
           "align": "left"
          },
          "hovermode": "closest",
          "mapbox": {
           "style": "light"
          },
          "paper_bgcolor": "white",
          "plot_bgcolor": "#E5ECF6",
          "polar": {
           "angularaxis": {
            "gridcolor": "white",
            "linecolor": "white",
            "ticks": ""
           },
           "bgcolor": "#E5ECF6",
           "radialaxis": {
            "gridcolor": "white",
            "linecolor": "white",
            "ticks": ""
           }
          },
          "scene": {
           "xaxis": {
            "backgroundcolor": "#E5ECF6",
            "gridcolor": "white",
            "gridwidth": 2,
            "linecolor": "white",
            "showbackground": true,
            "ticks": "",
            "zerolinecolor": "white"
           },
           "yaxis": {
            "backgroundcolor": "#E5ECF6",
            "gridcolor": "white",
            "gridwidth": 2,
            "linecolor": "white",
            "showbackground": true,
            "ticks": "",
            "zerolinecolor": "white"
           },
           "zaxis": {
            "backgroundcolor": "#E5ECF6",
            "gridcolor": "white",
            "gridwidth": 2,
            "linecolor": "white",
            "showbackground": true,
            "ticks": "",
            "zerolinecolor": "white"
           }
          },
          "shapedefaults": {
           "line": {
            "color": "#2a3f5f"
           }
          },
          "ternary": {
           "aaxis": {
            "gridcolor": "white",
            "linecolor": "white",
            "ticks": ""
           },
           "baxis": {
            "gridcolor": "white",
            "linecolor": "white",
            "ticks": ""
           },
           "bgcolor": "#E5ECF6",
           "caxis": {
            "gridcolor": "white",
            "linecolor": "white",
            "ticks": ""
           }
          },
          "title": {
           "x": 0.05
          },
          "xaxis": {
           "automargin": true,
           "gridcolor": "white",
           "linecolor": "white",
           "ticks": "",
           "title": {
            "standoff": 15
           },
           "zerolinecolor": "white",
           "zerolinewidth": 2
          },
          "yaxis": {
           "automargin": true,
           "gridcolor": "white",
           "linecolor": "white",
           "ticks": "",
           "title": {
            "standoff": 15
           },
           "zerolinecolor": "white",
           "zerolinewidth": 2
          }
         }
        },
        "title": {
         "font": {
          "color": "#4D5663"
         }
        },
        "xaxis": {
         "gridcolor": "#E1E5ED",
         "showgrid": true,
         "tickfont": {
          "color": "#4D5663"
         },
         "title": {
          "font": {
           "color": "#4D5663"
          },
          "text": ""
         },
         "zerolinecolor": "#E1E5ED"
        },
        "yaxis": {
         "gridcolor": "#E1E5ED",
         "showgrid": true,
         "tickfont": {
          "color": "#4D5663"
         },
         "title": {
          "font": {
           "color": "#4D5663"
          },
          "text": ""
         },
         "zerolinecolor": "#E1E5ED"
        }
       }
      },
      "text/html": [
       "<div>                            <div id=\"42370ead-3859-464a-9c5d-1f1f07332902\" class=\"plotly-graph-div\" style=\"height:525px; width:100%;\"></div>            <script type=\"text/javascript\">                require([\"plotly\"], function(Plotly) {                    window.PLOTLYENV=window.PLOTLYENV || {};\n",
       "                    window.PLOTLYENV.BASE_URL='https://plot.ly';                                    if (document.getElementById(\"42370ead-3859-464a-9c5d-1f1f07332902\")) {                    Plotly.newPlot(                        \"42370ead-3859-464a-9c5d-1f1f07332902\",                        [{\"colorscale\":[[0.0,\"rgb(165,0,38)\"],[0.1,\"rgb(215,48,39)\"],[0.2,\"rgb(244,109,67)\"],[0.3,\"rgb(253,174,97)\"],[0.4,\"rgb(254,224,144)\"],[0.5,\"rgb(255,255,191)\"],[0.6,\"rgb(224,243,248)\"],[0.7,\"rgb(171,217,233)\"],[0.8,\"rgb(116,173,209)\"],[0.9,\"rgb(69,117,180)\"],[1.0,\"rgb(49,54,149)\"]],\"x\":[0,1,2,3,4],\"y\":[\"x\",\"y\",\"z\"],\"z\":[[1,2,3,4,5],[10,20,30,20,10],[5,4,3,2,1]],\"type\":\"surface\"}],                        {\"legend\":{\"bgcolor\":\"#F5F6F9\",\"font\":{\"color\":\"#4D5663\"}},\"paper_bgcolor\":\"#F5F6F9\",\"plot_bgcolor\":\"#F5F6F9\",\"template\":{\"data\":{\"barpolar\":[{\"marker\":{\"line\":{\"color\":\"#E5ECF6\",\"width\":0.5},\"pattern\":{\"fillmode\":\"overlay\",\"size\":10,\"solidity\":0.2}},\"type\":\"barpolar\"}],\"bar\":[{\"error_x\":{\"color\":\"#2a3f5f\"},\"error_y\":{\"color\":\"#2a3f5f\"},\"marker\":{\"line\":{\"color\":\"#E5ECF6\",\"width\":0.5},\"pattern\":{\"fillmode\":\"overlay\",\"size\":10,\"solidity\":0.2}},\"type\":\"bar\"}],\"carpet\":[{\"aaxis\":{\"endlinecolor\":\"#2a3f5f\",\"gridcolor\":\"white\",\"linecolor\":\"white\",\"minorgridcolor\":\"white\",\"startlinecolor\":\"#2a3f5f\"},\"baxis\":{\"endlinecolor\":\"#2a3f5f\",\"gridcolor\":\"white\",\"linecolor\":\"white\",\"minorgridcolor\":\"white\",\"startlinecolor\":\"#2a3f5f\"},\"type\":\"carpet\"}],\"choropleth\":[{\"colorbar\":{\"outlinewidth\":0,\"ticks\":\"\"},\"type\":\"choropleth\"}],\"contourcarpet\":[{\"colorbar\":{\"outlinewidth\":0,\"ticks\":\"\"},\"type\":\"contourcarpet\"}],\"contour\":[{\"colorbar\":{\"outlinewidth\":0,\"ticks\":\"\"},\"colorscale\":[[0.0,\"#0d0887\"],[0.1111111111111111,\"#46039f\"],[0.2222222222222222,\"#7201a8\"],[0.3333333333333333,\"#9c179e\"],[0.4444444444444444,\"#bd3786\"],[0.5555555555555556,\"#d8576b\"],[0.6666666666666666,\"#ed7953\"],[0.7777777777777778,\"#fb9f3a\"],[0.8888888888888888,\"#fdca26\"],[1.0,\"#f0f921\"]],\"type\":\"contour\"}],\"heatmapgl\":[{\"colorbar\":{\"outlinewidth\":0,\"ticks\":\"\"},\"colorscale\":[[0.0,\"#0d0887\"],[0.1111111111111111,\"#46039f\"],[0.2222222222222222,\"#7201a8\"],[0.3333333333333333,\"#9c179e\"],[0.4444444444444444,\"#bd3786\"],[0.5555555555555556,\"#d8576b\"],[0.6666666666666666,\"#ed7953\"],[0.7777777777777778,\"#fb9f3a\"],[0.8888888888888888,\"#fdca26\"],[1.0,\"#f0f921\"]],\"type\":\"heatmapgl\"}],\"heatmap\":[{\"colorbar\":{\"outlinewidth\":0,\"ticks\":\"\"},\"colorscale\":[[0.0,\"#0d0887\"],[0.1111111111111111,\"#46039f\"],[0.2222222222222222,\"#7201a8\"],[0.3333333333333333,\"#9c179e\"],[0.4444444444444444,\"#bd3786\"],[0.5555555555555556,\"#d8576b\"],[0.6666666666666666,\"#ed7953\"],[0.7777777777777778,\"#fb9f3a\"],[0.8888888888888888,\"#fdca26\"],[1.0,\"#f0f921\"]],\"type\":\"heatmap\"}],\"histogram2dcontour\":[{\"colorbar\":{\"outlinewidth\":0,\"ticks\":\"\"},\"colorscale\":[[0.0,\"#0d0887\"],[0.1111111111111111,\"#46039f\"],[0.2222222222222222,\"#7201a8\"],[0.3333333333333333,\"#9c179e\"],[0.4444444444444444,\"#bd3786\"],[0.5555555555555556,\"#d8576b\"],[0.6666666666666666,\"#ed7953\"],[0.7777777777777778,\"#fb9f3a\"],[0.8888888888888888,\"#fdca26\"],[1.0,\"#f0f921\"]],\"type\":\"histogram2dcontour\"}],\"histogram2d\":[{\"colorbar\":{\"outlinewidth\":0,\"ticks\":\"\"},\"colorscale\":[[0.0,\"#0d0887\"],[0.1111111111111111,\"#46039f\"],[0.2222222222222222,\"#7201a8\"],[0.3333333333333333,\"#9c179e\"],[0.4444444444444444,\"#bd3786\"],[0.5555555555555556,\"#d8576b\"],[0.6666666666666666,\"#ed7953\"],[0.7777777777777778,\"#fb9f3a\"],[0.8888888888888888,\"#fdca26\"],[1.0,\"#f0f921\"]],\"type\":\"histogram2d\"}],\"histogram\":[{\"marker\":{\"pattern\":{\"fillmode\":\"overlay\",\"size\":10,\"solidity\":0.2}},\"type\":\"histogram\"}],\"mesh3d\":[{\"colorbar\":{\"outlinewidth\":0,\"ticks\":\"\"},\"type\":\"mesh3d\"}],\"parcoords\":[{\"line\":{\"colorbar\":{\"outlinewidth\":0,\"ticks\":\"\"}},\"type\":\"parcoords\"}],\"pie\":[{\"automargin\":true,\"type\":\"pie\"}],\"scatter3d\":[{\"line\":{\"colorbar\":{\"outlinewidth\":0,\"ticks\":\"\"}},\"marker\":{\"colorbar\":{\"outlinewidth\":0,\"ticks\":\"\"}},\"type\":\"scatter3d\"}],\"scattercarpet\":[{\"marker\":{\"colorbar\":{\"outlinewidth\":0,\"ticks\":\"\"}},\"type\":\"scattercarpet\"}],\"scattergeo\":[{\"marker\":{\"colorbar\":{\"outlinewidth\":0,\"ticks\":\"\"}},\"type\":\"scattergeo\"}],\"scattergl\":[{\"marker\":{\"colorbar\":{\"outlinewidth\":0,\"ticks\":\"\"}},\"type\":\"scattergl\"}],\"scattermapbox\":[{\"marker\":{\"colorbar\":{\"outlinewidth\":0,\"ticks\":\"\"}},\"type\":\"scattermapbox\"}],\"scatterpolargl\":[{\"marker\":{\"colorbar\":{\"outlinewidth\":0,\"ticks\":\"\"}},\"type\":\"scatterpolargl\"}],\"scatterpolar\":[{\"marker\":{\"colorbar\":{\"outlinewidth\":0,\"ticks\":\"\"}},\"type\":\"scatterpolar\"}],\"scatter\":[{\"marker\":{\"colorbar\":{\"outlinewidth\":0,\"ticks\":\"\"}},\"type\":\"scatter\"}],\"scatterternary\":[{\"marker\":{\"colorbar\":{\"outlinewidth\":0,\"ticks\":\"\"}},\"type\":\"scatterternary\"}],\"surface\":[{\"colorbar\":{\"outlinewidth\":0,\"ticks\":\"\"},\"colorscale\":[[0.0,\"#0d0887\"],[0.1111111111111111,\"#46039f\"],[0.2222222222222222,\"#7201a8\"],[0.3333333333333333,\"#9c179e\"],[0.4444444444444444,\"#bd3786\"],[0.5555555555555556,\"#d8576b\"],[0.6666666666666666,\"#ed7953\"],[0.7777777777777778,\"#fb9f3a\"],[0.8888888888888888,\"#fdca26\"],[1.0,\"#f0f921\"]],\"type\":\"surface\"}],\"table\":[{\"cells\":{\"fill\":{\"color\":\"#EBF0F8\"},\"line\":{\"color\":\"white\"}},\"header\":{\"fill\":{\"color\":\"#C8D4E3\"},\"line\":{\"color\":\"white\"}},\"type\":\"table\"}]},\"layout\":{\"annotationdefaults\":{\"arrowcolor\":\"#2a3f5f\",\"arrowhead\":0,\"arrowwidth\":1},\"autotypenumbers\":\"strict\",\"coloraxis\":{\"colorbar\":{\"outlinewidth\":0,\"ticks\":\"\"}},\"colorscale\":{\"diverging\":[[0,\"#8e0152\"],[0.1,\"#c51b7d\"],[0.2,\"#de77ae\"],[0.3,\"#f1b6da\"],[0.4,\"#fde0ef\"],[0.5,\"#f7f7f7\"],[0.6,\"#e6f5d0\"],[0.7,\"#b8e186\"],[0.8,\"#7fbc41\"],[0.9,\"#4d9221\"],[1,\"#276419\"]],\"sequential\":[[0.0,\"#0d0887\"],[0.1111111111111111,\"#46039f\"],[0.2222222222222222,\"#7201a8\"],[0.3333333333333333,\"#9c179e\"],[0.4444444444444444,\"#bd3786\"],[0.5555555555555556,\"#d8576b\"],[0.6666666666666666,\"#ed7953\"],[0.7777777777777778,\"#fb9f3a\"],[0.8888888888888888,\"#fdca26\"],[1.0,\"#f0f921\"]],\"sequentialminus\":[[0.0,\"#0d0887\"],[0.1111111111111111,\"#46039f\"],[0.2222222222222222,\"#7201a8\"],[0.3333333333333333,\"#9c179e\"],[0.4444444444444444,\"#bd3786\"],[0.5555555555555556,\"#d8576b\"],[0.6666666666666666,\"#ed7953\"],[0.7777777777777778,\"#fb9f3a\"],[0.8888888888888888,\"#fdca26\"],[1.0,\"#f0f921\"]]},\"colorway\":[\"#636efa\",\"#EF553B\",\"#00cc96\",\"#ab63fa\",\"#FFA15A\",\"#19d3f3\",\"#FF6692\",\"#B6E880\",\"#FF97FF\",\"#FECB52\"],\"font\":{\"color\":\"#2a3f5f\"},\"geo\":{\"bgcolor\":\"white\",\"lakecolor\":\"white\",\"landcolor\":\"#E5ECF6\",\"showlakes\":true,\"showland\":true,\"subunitcolor\":\"white\"},\"hoverlabel\":{\"align\":\"left\"},\"hovermode\":\"closest\",\"mapbox\":{\"style\":\"light\"},\"paper_bgcolor\":\"white\",\"plot_bgcolor\":\"#E5ECF6\",\"polar\":{\"angularaxis\":{\"gridcolor\":\"white\",\"linecolor\":\"white\",\"ticks\":\"\"},\"bgcolor\":\"#E5ECF6\",\"radialaxis\":{\"gridcolor\":\"white\",\"linecolor\":\"white\",\"ticks\":\"\"}},\"scene\":{\"xaxis\":{\"backgroundcolor\":\"#E5ECF6\",\"gridcolor\":\"white\",\"gridwidth\":2,\"linecolor\":\"white\",\"showbackground\":true,\"ticks\":\"\",\"zerolinecolor\":\"white\"},\"yaxis\":{\"backgroundcolor\":\"#E5ECF6\",\"gridcolor\":\"white\",\"gridwidth\":2,\"linecolor\":\"white\",\"showbackground\":true,\"ticks\":\"\",\"zerolinecolor\":\"white\"},\"zaxis\":{\"backgroundcolor\":\"#E5ECF6\",\"gridcolor\":\"white\",\"gridwidth\":2,\"linecolor\":\"white\",\"showbackground\":true,\"ticks\":\"\",\"zerolinecolor\":\"white\"}},\"shapedefaults\":{\"line\":{\"color\":\"#2a3f5f\"}},\"ternary\":{\"aaxis\":{\"gridcolor\":\"white\",\"linecolor\":\"white\",\"ticks\":\"\"},\"baxis\":{\"gridcolor\":\"white\",\"linecolor\":\"white\",\"ticks\":\"\"},\"bgcolor\":\"#E5ECF6\",\"caxis\":{\"gridcolor\":\"white\",\"linecolor\":\"white\",\"ticks\":\"\"}},\"title\":{\"x\":0.05},\"xaxis\":{\"automargin\":true,\"gridcolor\":\"white\",\"linecolor\":\"white\",\"ticks\":\"\",\"title\":{\"standoff\":15},\"zerolinecolor\":\"white\",\"zerolinewidth\":2},\"yaxis\":{\"automargin\":true,\"gridcolor\":\"white\",\"linecolor\":\"white\",\"ticks\":\"\",\"title\":{\"standoff\":15},\"zerolinecolor\":\"white\",\"zerolinewidth\":2}}},\"title\":{\"font\":{\"color\":\"#4D5663\"}},\"xaxis\":{\"gridcolor\":\"#E1E5ED\",\"showgrid\":true,\"tickfont\":{\"color\":\"#4D5663\"},\"title\":{\"font\":{\"color\":\"#4D5663\"},\"text\":\"\"},\"zerolinecolor\":\"#E1E5ED\"},\"yaxis\":{\"gridcolor\":\"#E1E5ED\",\"showgrid\":true,\"tickfont\":{\"color\":\"#4D5663\"},\"title\":{\"font\":{\"color\":\"#4D5663\"},\"text\":\"\"},\"zerolinecolor\":\"#E1E5ED\"}},                        {\"showLink\": true, \"linkText\": \"Export to plot.ly\", \"plotlyServerURL\": \"https://plot.ly\", \"responsive\": true}                    ).then(function(){\n",
       "                            \n",
       "var gd = document.getElementById('42370ead-3859-464a-9c5d-1f1f07332902');\n",
       "var x = new MutationObserver(function (mutations, observer) {{\n",
       "        var display = window.getComputedStyle(gd).display;\n",
       "        if (!display || display === 'none') {{\n",
       "            console.log([gd, 'removed!']);\n",
       "            Plotly.purge(gd);\n",
       "            observer.disconnect();\n",
       "        }}\n",
       "}});\n",
       "\n",
       "// Listen for the removal of the full notebook cells\n",
       "var notebookContainer = gd.closest('#notebook-container');\n",
       "if (notebookContainer) {{\n",
       "    x.observe(notebookContainer, {childList: true});\n",
       "}}\n",
       "\n",
       "// Listen for the clearing of the current output cell\n",
       "var outputEl = gd.closest('.output');\n",
       "if (outputEl) {{\n",
       "    x.observe(outputEl, {childList: true});\n",
       "}}\n",
       "\n",
       "                        })                };                });            </script>        </div>"
      ]
     },
     "metadata": {},
     "output_type": "display_data"
    }
   ],
   "source": [
    "df3 = pd.DataFrame({'x':[1,2,3,4,5],'y':[10,20,30,20,10],'z':[5,4,3,2,1]})\n",
    "df3.iplot(kind='surface',colorscale='rdylbu')"
   ]
  },
  {
   "cell_type": "markdown",
   "metadata": {},
   "source": [
    "## Spread"
   ]
  },
  {
   "cell_type": "code",
   "execution_count": 15,
   "metadata": {},
   "outputs": [
    {
     "name": "stderr",
     "output_type": "stream",
     "text": [
      "C:\\Users\\tjspi\\anaconda3\\lib\\site-packages\\cufflinks\\plotlytools.py:849: FutureWarning:\n",
      "\n",
      "The pandas.np module is deprecated and will be removed from pandas in a future version. Import numpy directly instead.\n",
      "\n",
      "C:\\Users\\tjspi\\anaconda3\\lib\\site-packages\\cufflinks\\plotlytools.py:850: FutureWarning:\n",
      "\n",
      "The pandas.np module is deprecated and will be removed from pandas in a future version. Import numpy directly instead.\n",
      "\n"
     ]
    },
    {
     "data": {
      "application/vnd.plotly.v1+json": {
       "config": {
        "linkText": "Export to plot.ly",
        "plotlyServerURL": "https://plot.ly",
        "showLink": true
       },
       "data": [
        {
         "line": {
          "color": "rgba(255, 153, 51, 1.0)",
          "dash": "solid",
          "shape": "linear",
          "width": 1.3
         },
         "mode": "lines",
         "name": "A",
         "text": "",
         "type": "scatter",
         "x": [
          0,
          1,
          2,
          3,
          4,
          5,
          6,
          7,
          8,
          9,
          10,
          11,
          12,
          13,
          14,
          15,
          16,
          17,
          18,
          19,
          20,
          21,
          22,
          23,
          24,
          25,
          26,
          27,
          28,
          29,
          30,
          31,
          32,
          33,
          34,
          35,
          36,
          37,
          38,
          39,
          40,
          41,
          42,
          43,
          44,
          45,
          46,
          47,
          48,
          49,
          50,
          51,
          52,
          53,
          54,
          55,
          56,
          57,
          58,
          59,
          60,
          61,
          62,
          63,
          64,
          65,
          66,
          67,
          68,
          69,
          70,
          71,
          72,
          73,
          74,
          75,
          76,
          77,
          78,
          79,
          80,
          81,
          82,
          83,
          84,
          85,
          86,
          87,
          88,
          89,
          90,
          91,
          92,
          93,
          94,
          95,
          96,
          97,
          98,
          99
         ],
         "y": [
          0.6704549516109599,
          0.082535443479542,
          -0.030277607876463258,
          -0.7296129081944889,
          0.1527265413175817,
          -0.33813441137032424,
          1.9042339492772191,
          -0.7588056246726919,
          -0.8707965588081601,
          0.2896340361845918,
          -1.5237665192059862,
          0.9484620621971421,
          0.10553141650462003,
          0.2092718349405866,
          1.1640347231125636,
          0.4858426802866781,
          0.11933983453608828,
          0.2728169531371193,
          0.28919657021806133,
          1.073483561244945,
          0.07028375795764374,
          -0.1887932147115583,
          -1.0600689448473835,
          -0.3019363572412175,
          -0.8126307144185704,
          0.04021264055831378,
          -0.9798153152930743,
          -0.6070842061572903,
          -0.8067785203768048,
          -0.36628255849385094,
          -0.490724497613985,
          -0.11948959467927889,
          0.48024340826134854,
          -1.1114681568524802,
          0.00876717415713063,
          0.6153754248886335,
          -1.4120273218003125,
          -0.29772386315529703,
          -1.5277547107763774,
          0.8806863350762015,
          -0.02202561406455898,
          0.18378231072850623,
          -1.2931621264832485,
          -0.3972448926752685,
          -0.5753141033381041,
          0.6099801439466861,
          -0.8322217489099195,
          -0.05349257776630721,
          0.8517356264904371,
          -0.6052906360039375,
          -0.016646820797517226,
          -0.8891175447176948,
          1.8392114049926793,
          -1.189159093024214,
          -1.469324037228592,
          -0.20638700121277379,
          1.2880732643088497,
          1.011507627731839,
          -0.3227307063649429,
          1.2961924610631739,
          -0.7642289271104794,
          -0.8007653934311705,
          0.4603318905907266,
          1.0522096884457013,
          1.3600251679490534,
          -0.36805019645124054,
          -0.5252295655825047,
          0.3721275871542655,
          -1.1589425465940177,
          0.2552543469502206,
          -1.219051279316724,
          0.7809900058034129,
          0.6429968571185835,
          -0.9685863470324628,
          1.2932642257498272,
          0.8991878465435622,
          0.6702614740877187,
          -1.53023911252679,
          -0.33211763988874765,
          1.4833033292419877,
          0.5966607396311193,
          -1.3509756071664498,
          0.8079238287024253,
          1.6795389610664637,
          -0.6956294545177134,
          0.7239483934768534,
          -0.8703039150087871,
          2.4752648340661243,
          0.6095555501482074,
          -0.05135436217061349,
          -1.441317146126483,
          -1.7698229100332996,
          -0.854867235643374,
          0.01573115303956426,
          0.01366965315720599,
          -0.055649749827862735,
          0.9996389487811868,
          0.23448412479115777,
          1.3109218538891279,
          0.11222823118418822
         ]
        },
        {
         "line": {
          "color": "rgba(55, 128, 191, 1.0)",
          "dash": "solid",
          "shape": "linear",
          "width": 1.3
         },
         "mode": "lines",
         "name": "B",
         "text": "",
         "type": "scatter",
         "x": [
          0,
          1,
          2,
          3,
          4,
          5,
          6,
          7,
          8,
          9,
          10,
          11,
          12,
          13,
          14,
          15,
          16,
          17,
          18,
          19,
          20,
          21,
          22,
          23,
          24,
          25,
          26,
          27,
          28,
          29,
          30,
          31,
          32,
          33,
          34,
          35,
          36,
          37,
          38,
          39,
          40,
          41,
          42,
          43,
          44,
          45,
          46,
          47,
          48,
          49,
          50,
          51,
          52,
          53,
          54,
          55,
          56,
          57,
          58,
          59,
          60,
          61,
          62,
          63,
          64,
          65,
          66,
          67,
          68,
          69,
          70,
          71,
          72,
          73,
          74,
          75,
          76,
          77,
          78,
          79,
          80,
          81,
          82,
          83,
          84,
          85,
          86,
          87,
          88,
          89,
          90,
          91,
          92,
          93,
          94,
          95,
          96,
          97,
          98,
          99
         ],
         "y": [
          -0.2682455403138665,
          0.9219032901867988,
          -2.6316192007926147,
          -0.7002221680723266,
          -1.1410201172424725,
          0.1982088166397885,
          -0.36916858732116814,
          -0.346988451454806,
          -0.5067690548727558,
          -0.48657622979598436,
          -0.3779466626884306,
          -0.9057264109845606,
          -1.0904291766858063,
          -0.7245917615110173,
          -0.7023340161584938,
          -0.12909160467106529,
          -0.8886651919263007,
          0.3823079631484114,
          -1.0900373872538167,
          0.04590737193270273,
          0.3449595019039827,
          -0.21952347502178463,
          -0.045830801280706795,
          0.27039014309921827,
          0.9752355335661154,
          -0.6297684032026852,
          -1.4341538818078072,
          -2.928405166974158,
          -0.24271171257920754,
          -0.8045786019109605,
          -0.7726865519387884,
          -0.38402965758197344,
          0.43511238729760066,
          0.6040661512852107,
          -0.55675228038275,
          -2.0752224149061544,
          0.30665005723854494,
          1.052301828580547,
          -0.3096428207681808,
          -1.1114785994044372,
          0.16438707146105638,
          0.7303825344045778,
          -0.6668291129437066,
          -1.2047590788659568,
          -0.6527833867437385,
          -0.17869000879867572,
          0.6164832688470566,
          1.1410378050428858,
          -1.723664068438458,
          -0.6046277913177348,
          -0.5054846301754152,
          0.776550047785937,
          0.46522658965141034,
          1.0350918146874746,
          0.9008286556081461,
          0.6095189639974038,
          -0.5152331945488056,
          0.23869453965612214,
          -1.395265038890855,
          0.509141026613451,
          -0.20929089012008917,
          -0.27011429036927975,
          0.8636244035153211,
          -0.688059366148949,
          -0.8832300590337048,
          -2.928352824671613,
          0.07989375770754963,
          -1.9431385480998216,
          -1.8746224168674628,
          0.2443443760851938,
          0.3794392960523368,
          0.11523202363410734,
          0.12093706648550032,
          -0.483520740771378,
          -1.371270121893702,
          -0.0751091049119595,
          0.09543516448164553,
          0.7550659367358067,
          1.4773525481483383,
          -1.6667177545418252,
          0.024320580466173938,
          -0.42969113088106947,
          -0.4717015774845612,
          -0.8692805274518534,
          0.8098607957408062,
          -0.7958892117997776,
          -2.532441312455747,
          0.22346344034817142,
          0.8033086864689049,
          1.684673808657013,
          0.3552602777281829,
          0.3419395197719315,
          -0.12852374038004932,
          1.382975119289779,
          -0.0655957106522503,
          -0.3145521070114627,
          -1.4393287908028378,
          -0.3295221740812238,
          -0.42722999899320613,
          -0.9031641314456635
         ]
        },
        {
         "connectgaps": false,
         "fill": "tozeroy",
         "line": {
          "color": "green",
          "dash": "solid",
          "shape": "linear",
          "width": 0.5
         },
         "mode": "lines",
         "name": "Spread",
         "showlegend": false,
         "type": "scatter",
         "x": [
          0,
          1,
          2,
          3,
          4,
          5,
          6,
          7,
          8,
          9,
          10,
          11,
          12,
          13,
          14,
          15,
          16,
          17,
          18,
          19,
          20,
          21,
          22,
          23,
          24,
          25,
          26,
          27,
          28,
          29,
          30,
          31,
          32,
          33,
          34,
          35,
          36,
          37,
          38,
          39,
          40,
          41,
          42,
          43,
          44,
          45,
          46,
          47,
          48,
          49,
          50,
          51,
          52,
          53,
          54,
          55,
          56,
          57,
          58,
          59,
          60,
          61,
          62,
          63,
          64,
          65,
          66,
          67,
          68,
          69,
          70,
          71,
          72,
          73,
          74,
          75,
          76,
          77,
          78,
          79,
          80,
          81,
          82,
          83,
          84,
          85,
          86,
          87,
          88,
          89,
          90,
          91,
          92,
          93,
          94,
          95,
          96,
          97,
          98,
          99
         ],
         "xaxis": "x2",
         "y": [
          0.9387004919248264,
          "",
          2.6013415929161514,
          "",
          1.2937466585600543,
          "",
          2.2734025365983874,
          "",
          "",
          0.7762102659805762,
          "",
          1.8541884731817029,
          1.1959605931904262,
          0.933863596451604,
          1.8663687392710573,
          0.6149342849577434,
          1.008005026462389,
          "",
          1.379233957471878,
          1.0275761893122421,
          "",
          0.030730260310226326,
          "",
          "",
          "",
          0.669981043760999,
          0.4543385665147329,
          2.321320960816868,
          "",
          0.4382960434171096,
          0.2819620543248034,
          0.26454006290269455,
          0.04513102096374788,
          "",
          0.5655194545398807,
          2.690597839794788,
          "",
          "",
          "",
          1.9921649344806387,
          "",
          "",
          "",
          0.8075141861906883,
          0.07746928340563441,
          0.7886701527453618,
          "",
          "",
          2.5753996949288953,
          "",
          0.488837809377898,
          "",
          1.373984815341269,
          "",
          "",
          "",
          1.8033064588576553,
          0.7728130880757169,
          1.072534332525912,
          0.7870514344497229,
          "",
          "",
          "",
          1.7402690545946502,
          2.2432552269827584,
          2.5603026282203727,
          "",
          2.3152661352540873,
          0.715679870273445,
          0.010909970865026791,
          "",
          0.6657579821693056,
          0.5220597906330832,
          "",
          2.6645343476435293,
          0.9742969514555218,
          0.5748263096060732,
          "",
          "",
          3.150021083783813,
          0.5723401591649454,
          "",
          1.2796254061869865,
          2.5488194885183173,
          "",
          1.519837605276631,
          1.6621373974469598,
          2.251801393717953,
          "",
          "",
          "",
          "",
          "",
          "",
          0.07926536380945629,
          0.25890235718359994,
          2.4389677395840246,
          0.5640062988723815,
          1.7381518528823339,
          1.0153923626298518
         ],
         "yaxis": "y2"
        },
        {
         "connectgaps": false,
         "fill": "tozeroy",
         "line": {
          "color": "red",
          "dash": "solid",
          "shape": "linear",
          "width": 0.5
         },
         "mode": "lines",
         "name": "Spread",
         "showlegend": false,
         "type": "scatter",
         "x": [
          0,
          1,
          2,
          3,
          4,
          5,
          6,
          7,
          8,
          9,
          10,
          11,
          12,
          13,
          14,
          15,
          16,
          17,
          18,
          19,
          20,
          21,
          22,
          23,
          24,
          25,
          26,
          27,
          28,
          29,
          30,
          31,
          32,
          33,
          34,
          35,
          36,
          37,
          38,
          39,
          40,
          41,
          42,
          43,
          44,
          45,
          46,
          47,
          48,
          49,
          50,
          51,
          52,
          53,
          54,
          55,
          56,
          57,
          58,
          59,
          60,
          61,
          62,
          63,
          64,
          65,
          66,
          67,
          68,
          69,
          70,
          71,
          72,
          73,
          74,
          75,
          76,
          77,
          78,
          79,
          80,
          81,
          82,
          83,
          84,
          85,
          86,
          87,
          88,
          89,
          90,
          91,
          92,
          93,
          94,
          95,
          96,
          97,
          98,
          99
         ],
         "xaxis": "x2",
         "y": [
          "",
          -0.8393678467072568,
          "",
          -0.02939074012216225,
          "",
          -0.5363432280101128,
          "",
          -0.41181717321788586,
          -0.3640275039354043,
          "",
          -1.1458198565175555,
          "",
          "",
          "",
          "",
          "",
          "",
          -0.10949101001129213,
          "",
          "",
          -0.274675743946339,
          "",
          -1.0142381435666767,
          -0.5723265003404358,
          -1.7878662479846859,
          "",
          "",
          "",
          -0.5640668077975972,
          "",
          "",
          "",
          "",
          -1.7155343081376908,
          "",
          "",
          -1.7186773790388574,
          -1.350025691735844,
          -1.2181118900081966,
          "",
          -0.18641268552561535,
          -0.5466002236760715,
          -0.6263330135395418,
          "",
          "",
          "",
          -1.4487050177569762,
          -1.1945303828091929,
          "",
          -0.0006628446862027015,
          "",
          -1.6656675925036317,
          "",
          -2.2242509077116885,
          -2.3701526928367382,
          -0.8159059652101776,
          "",
          "",
          "",
          "",
          -0.5549380369903902,
          -0.5306511030618908,
          -0.4032925129245945,
          "",
          "",
          "",
          -0.6051233232900542,
          "",
          "",
          "",
          -1.5984905753690608,
          "",
          "",
          -0.4850656062610848,
          "",
          "",
          "",
          -2.285305049262597,
          -1.809470188037086,
          "",
          "",
          -0.9212844762853803,
          "",
          "",
          -1.5054902502585197,
          "",
          "",
          "",
          -0.19375313632069746,
          -1.7360281708276264,
          -1.7965774238546661,
          -2.111762429805231,
          -0.7263434952633246,
          -1.3672439662502147,
          "",
          "",
          "",
          "",
          "",
          ""
         ],
         "yaxis": "y2"
        }
       ],
       "layout": {
        "hovermode": "x",
        "legend": {
         "bgcolor": "#F5F6F9",
         "font": {
          "color": "#4D5663"
         }
        },
        "paper_bgcolor": "#F5F6F9",
        "plot_bgcolor": "#F5F6F9",
        "template": {
         "data": {
          "bar": [
           {
            "error_x": {
             "color": "#2a3f5f"
            },
            "error_y": {
             "color": "#2a3f5f"
            },
            "marker": {
             "line": {
              "color": "#E5ECF6",
              "width": 0.5
             },
             "pattern": {
              "fillmode": "overlay",
              "size": 10,
              "solidity": 0.2
             }
            },
            "type": "bar"
           }
          ],
          "barpolar": [
           {
            "marker": {
             "line": {
              "color": "#E5ECF6",
              "width": 0.5
             },
             "pattern": {
              "fillmode": "overlay",
              "size": 10,
              "solidity": 0.2
             }
            },
            "type": "barpolar"
           }
          ],
          "carpet": [
           {
            "aaxis": {
             "endlinecolor": "#2a3f5f",
             "gridcolor": "white",
             "linecolor": "white",
             "minorgridcolor": "white",
             "startlinecolor": "#2a3f5f"
            },
            "baxis": {
             "endlinecolor": "#2a3f5f",
             "gridcolor": "white",
             "linecolor": "white",
             "minorgridcolor": "white",
             "startlinecolor": "#2a3f5f"
            },
            "type": "carpet"
           }
          ],
          "choropleth": [
           {
            "colorbar": {
             "outlinewidth": 0,
             "ticks": ""
            },
            "type": "choropleth"
           }
          ],
          "contour": [
           {
            "colorbar": {
             "outlinewidth": 0,
             "ticks": ""
            },
            "colorscale": [
             [
              0,
              "#0d0887"
             ],
             [
              0.1111111111111111,
              "#46039f"
             ],
             [
              0.2222222222222222,
              "#7201a8"
             ],
             [
              0.3333333333333333,
              "#9c179e"
             ],
             [
              0.4444444444444444,
              "#bd3786"
             ],
             [
              0.5555555555555556,
              "#d8576b"
             ],
             [
              0.6666666666666666,
              "#ed7953"
             ],
             [
              0.7777777777777778,
              "#fb9f3a"
             ],
             [
              0.8888888888888888,
              "#fdca26"
             ],
             [
              1,
              "#f0f921"
             ]
            ],
            "type": "contour"
           }
          ],
          "contourcarpet": [
           {
            "colorbar": {
             "outlinewidth": 0,
             "ticks": ""
            },
            "type": "contourcarpet"
           }
          ],
          "heatmap": [
           {
            "colorbar": {
             "outlinewidth": 0,
             "ticks": ""
            },
            "colorscale": [
             [
              0,
              "#0d0887"
             ],
             [
              0.1111111111111111,
              "#46039f"
             ],
             [
              0.2222222222222222,
              "#7201a8"
             ],
             [
              0.3333333333333333,
              "#9c179e"
             ],
             [
              0.4444444444444444,
              "#bd3786"
             ],
             [
              0.5555555555555556,
              "#d8576b"
             ],
             [
              0.6666666666666666,
              "#ed7953"
             ],
             [
              0.7777777777777778,
              "#fb9f3a"
             ],
             [
              0.8888888888888888,
              "#fdca26"
             ],
             [
              1,
              "#f0f921"
             ]
            ],
            "type": "heatmap"
           }
          ],
          "heatmapgl": [
           {
            "colorbar": {
             "outlinewidth": 0,
             "ticks": ""
            },
            "colorscale": [
             [
              0,
              "#0d0887"
             ],
             [
              0.1111111111111111,
              "#46039f"
             ],
             [
              0.2222222222222222,
              "#7201a8"
             ],
             [
              0.3333333333333333,
              "#9c179e"
             ],
             [
              0.4444444444444444,
              "#bd3786"
             ],
             [
              0.5555555555555556,
              "#d8576b"
             ],
             [
              0.6666666666666666,
              "#ed7953"
             ],
             [
              0.7777777777777778,
              "#fb9f3a"
             ],
             [
              0.8888888888888888,
              "#fdca26"
             ],
             [
              1,
              "#f0f921"
             ]
            ],
            "type": "heatmapgl"
           }
          ],
          "histogram": [
           {
            "marker": {
             "pattern": {
              "fillmode": "overlay",
              "size": 10,
              "solidity": 0.2
             }
            },
            "type": "histogram"
           }
          ],
          "histogram2d": [
           {
            "colorbar": {
             "outlinewidth": 0,
             "ticks": ""
            },
            "colorscale": [
             [
              0,
              "#0d0887"
             ],
             [
              0.1111111111111111,
              "#46039f"
             ],
             [
              0.2222222222222222,
              "#7201a8"
             ],
             [
              0.3333333333333333,
              "#9c179e"
             ],
             [
              0.4444444444444444,
              "#bd3786"
             ],
             [
              0.5555555555555556,
              "#d8576b"
             ],
             [
              0.6666666666666666,
              "#ed7953"
             ],
             [
              0.7777777777777778,
              "#fb9f3a"
             ],
             [
              0.8888888888888888,
              "#fdca26"
             ],
             [
              1,
              "#f0f921"
             ]
            ],
            "type": "histogram2d"
           }
          ],
          "histogram2dcontour": [
           {
            "colorbar": {
             "outlinewidth": 0,
             "ticks": ""
            },
            "colorscale": [
             [
              0,
              "#0d0887"
             ],
             [
              0.1111111111111111,
              "#46039f"
             ],
             [
              0.2222222222222222,
              "#7201a8"
             ],
             [
              0.3333333333333333,
              "#9c179e"
             ],
             [
              0.4444444444444444,
              "#bd3786"
             ],
             [
              0.5555555555555556,
              "#d8576b"
             ],
             [
              0.6666666666666666,
              "#ed7953"
             ],
             [
              0.7777777777777778,
              "#fb9f3a"
             ],
             [
              0.8888888888888888,
              "#fdca26"
             ],
             [
              1,
              "#f0f921"
             ]
            ],
            "type": "histogram2dcontour"
           }
          ],
          "mesh3d": [
           {
            "colorbar": {
             "outlinewidth": 0,
             "ticks": ""
            },
            "type": "mesh3d"
           }
          ],
          "parcoords": [
           {
            "line": {
             "colorbar": {
              "outlinewidth": 0,
              "ticks": ""
             }
            },
            "type": "parcoords"
           }
          ],
          "pie": [
           {
            "automargin": true,
            "type": "pie"
           }
          ],
          "scatter": [
           {
            "marker": {
             "colorbar": {
              "outlinewidth": 0,
              "ticks": ""
             }
            },
            "type": "scatter"
           }
          ],
          "scatter3d": [
           {
            "line": {
             "colorbar": {
              "outlinewidth": 0,
              "ticks": ""
             }
            },
            "marker": {
             "colorbar": {
              "outlinewidth": 0,
              "ticks": ""
             }
            },
            "type": "scatter3d"
           }
          ],
          "scattercarpet": [
           {
            "marker": {
             "colorbar": {
              "outlinewidth": 0,
              "ticks": ""
             }
            },
            "type": "scattercarpet"
           }
          ],
          "scattergeo": [
           {
            "marker": {
             "colorbar": {
              "outlinewidth": 0,
              "ticks": ""
             }
            },
            "type": "scattergeo"
           }
          ],
          "scattergl": [
           {
            "marker": {
             "colorbar": {
              "outlinewidth": 0,
              "ticks": ""
             }
            },
            "type": "scattergl"
           }
          ],
          "scattermapbox": [
           {
            "marker": {
             "colorbar": {
              "outlinewidth": 0,
              "ticks": ""
             }
            },
            "type": "scattermapbox"
           }
          ],
          "scatterpolar": [
           {
            "marker": {
             "colorbar": {
              "outlinewidth": 0,
              "ticks": ""
             }
            },
            "type": "scatterpolar"
           }
          ],
          "scatterpolargl": [
           {
            "marker": {
             "colorbar": {
              "outlinewidth": 0,
              "ticks": ""
             }
            },
            "type": "scatterpolargl"
           }
          ],
          "scatterternary": [
           {
            "marker": {
             "colorbar": {
              "outlinewidth": 0,
              "ticks": ""
             }
            },
            "type": "scatterternary"
           }
          ],
          "surface": [
           {
            "colorbar": {
             "outlinewidth": 0,
             "ticks": ""
            },
            "colorscale": [
             [
              0,
              "#0d0887"
             ],
             [
              0.1111111111111111,
              "#46039f"
             ],
             [
              0.2222222222222222,
              "#7201a8"
             ],
             [
              0.3333333333333333,
              "#9c179e"
             ],
             [
              0.4444444444444444,
              "#bd3786"
             ],
             [
              0.5555555555555556,
              "#d8576b"
             ],
             [
              0.6666666666666666,
              "#ed7953"
             ],
             [
              0.7777777777777778,
              "#fb9f3a"
             ],
             [
              0.8888888888888888,
              "#fdca26"
             ],
             [
              1,
              "#f0f921"
             ]
            ],
            "type": "surface"
           }
          ],
          "table": [
           {
            "cells": {
             "fill": {
              "color": "#EBF0F8"
             },
             "line": {
              "color": "white"
             }
            },
            "header": {
             "fill": {
              "color": "#C8D4E3"
             },
             "line": {
              "color": "white"
             }
            },
            "type": "table"
           }
          ]
         },
         "layout": {
          "annotationdefaults": {
           "arrowcolor": "#2a3f5f",
           "arrowhead": 0,
           "arrowwidth": 1
          },
          "autotypenumbers": "strict",
          "coloraxis": {
           "colorbar": {
            "outlinewidth": 0,
            "ticks": ""
           }
          },
          "colorscale": {
           "diverging": [
            [
             0,
             "#8e0152"
            ],
            [
             0.1,
             "#c51b7d"
            ],
            [
             0.2,
             "#de77ae"
            ],
            [
             0.3,
             "#f1b6da"
            ],
            [
             0.4,
             "#fde0ef"
            ],
            [
             0.5,
             "#f7f7f7"
            ],
            [
             0.6,
             "#e6f5d0"
            ],
            [
             0.7,
             "#b8e186"
            ],
            [
             0.8,
             "#7fbc41"
            ],
            [
             0.9,
             "#4d9221"
            ],
            [
             1,
             "#276419"
            ]
           ],
           "sequential": [
            [
             0,
             "#0d0887"
            ],
            [
             0.1111111111111111,
             "#46039f"
            ],
            [
             0.2222222222222222,
             "#7201a8"
            ],
            [
             0.3333333333333333,
             "#9c179e"
            ],
            [
             0.4444444444444444,
             "#bd3786"
            ],
            [
             0.5555555555555556,
             "#d8576b"
            ],
            [
             0.6666666666666666,
             "#ed7953"
            ],
            [
             0.7777777777777778,
             "#fb9f3a"
            ],
            [
             0.8888888888888888,
             "#fdca26"
            ],
            [
             1,
             "#f0f921"
            ]
           ],
           "sequentialminus": [
            [
             0,
             "#0d0887"
            ],
            [
             0.1111111111111111,
             "#46039f"
            ],
            [
             0.2222222222222222,
             "#7201a8"
            ],
            [
             0.3333333333333333,
             "#9c179e"
            ],
            [
             0.4444444444444444,
             "#bd3786"
            ],
            [
             0.5555555555555556,
             "#d8576b"
            ],
            [
             0.6666666666666666,
             "#ed7953"
            ],
            [
             0.7777777777777778,
             "#fb9f3a"
            ],
            [
             0.8888888888888888,
             "#fdca26"
            ],
            [
             1,
             "#f0f921"
            ]
           ]
          },
          "colorway": [
           "#636efa",
           "#EF553B",
           "#00cc96",
           "#ab63fa",
           "#FFA15A",
           "#19d3f3",
           "#FF6692",
           "#B6E880",
           "#FF97FF",
           "#FECB52"
          ],
          "font": {
           "color": "#2a3f5f"
          },
          "geo": {
           "bgcolor": "white",
           "lakecolor": "white",
           "landcolor": "#E5ECF6",
           "showlakes": true,
           "showland": true,
           "subunitcolor": "white"
          },
          "hoverlabel": {
           "align": "left"
          },
          "hovermode": "closest",
          "mapbox": {
           "style": "light"
          },
          "paper_bgcolor": "white",
          "plot_bgcolor": "#E5ECF6",
          "polar": {
           "angularaxis": {
            "gridcolor": "white",
            "linecolor": "white",
            "ticks": ""
           },
           "bgcolor": "#E5ECF6",
           "radialaxis": {
            "gridcolor": "white",
            "linecolor": "white",
            "ticks": ""
           }
          },
          "scene": {
           "xaxis": {
            "backgroundcolor": "#E5ECF6",
            "gridcolor": "white",
            "gridwidth": 2,
            "linecolor": "white",
            "showbackground": true,
            "ticks": "",
            "zerolinecolor": "white"
           },
           "yaxis": {
            "backgroundcolor": "#E5ECF6",
            "gridcolor": "white",
            "gridwidth": 2,
            "linecolor": "white",
            "showbackground": true,
            "ticks": "",
            "zerolinecolor": "white"
           },
           "zaxis": {
            "backgroundcolor": "#E5ECF6",
            "gridcolor": "white",
            "gridwidth": 2,
            "linecolor": "white",
            "showbackground": true,
            "ticks": "",
            "zerolinecolor": "white"
           }
          },
          "shapedefaults": {
           "line": {
            "color": "#2a3f5f"
           }
          },
          "ternary": {
           "aaxis": {
            "gridcolor": "white",
            "linecolor": "white",
            "ticks": ""
           },
           "baxis": {
            "gridcolor": "white",
            "linecolor": "white",
            "ticks": ""
           },
           "bgcolor": "#E5ECF6",
           "caxis": {
            "gridcolor": "white",
            "linecolor": "white",
            "ticks": ""
           }
          },
          "title": {
           "x": 0.05
          },
          "xaxis": {
           "automargin": true,
           "gridcolor": "white",
           "linecolor": "white",
           "ticks": "",
           "title": {
            "standoff": 15
           },
           "zerolinecolor": "white",
           "zerolinewidth": 2
          },
          "yaxis": {
           "automargin": true,
           "gridcolor": "white",
           "linecolor": "white",
           "ticks": "",
           "title": {
            "standoff": 15
           },
           "zerolinecolor": "white",
           "zerolinewidth": 2
          }
         }
        },
        "title": {
         "font": {
          "color": "#4D5663"
         }
        },
        "xaxis": {
         "gridcolor": "#E1E5ED",
         "showgrid": true,
         "tickfont": {
          "color": "#4D5663"
         },
         "title": {
          "font": {
           "color": "#4D5663"
          },
          "text": ""
         },
         "zerolinecolor": "#E1E5ED"
        },
        "xaxis2": {
         "anchor": "y2",
         "gridcolor": "#E1E5ED",
         "showgrid": true,
         "showticklabels": false,
         "tickfont": {
          "color": "#4D5663"
         },
         "title": {
          "font": {
           "color": "#4D5663"
          },
          "text": ""
         },
         "zerolinecolor": "#E1E5ED"
        },
        "yaxis": {
         "domain": [
          0.3,
          1
         ],
         "gridcolor": "#E1E5ED",
         "showgrid": true,
         "tickfont": {
          "color": "#4D5663"
         },
         "title": {
          "font": {
           "color": "#4D5663"
          },
          "text": ""
         },
         "zerolinecolor": "#E1E5ED"
        },
        "yaxis2": {
         "domain": [
          0,
          0.25
         ],
         "gridcolor": "#E1E5ED",
         "showgrid": true,
         "tickfont": {
          "color": "#4D5663"
         },
         "title": {
          "font": {
           "color": "#4D5663"
          },
          "text": "Spread"
         },
         "zerolinecolor": "#E1E5ED"
        }
       }
      },
      "text/html": [
       "<div>                            <div id=\"463f29b8-4bcb-4269-af0b-53e3e36d4dc9\" class=\"plotly-graph-div\" style=\"height:525px; width:100%;\"></div>            <script type=\"text/javascript\">                require([\"plotly\"], function(Plotly) {                    window.PLOTLYENV=window.PLOTLYENV || {};\n",
       "                    window.PLOTLYENV.BASE_URL='https://plot.ly';                                    if (document.getElementById(\"463f29b8-4bcb-4269-af0b-53e3e36d4dc9\")) {                    Plotly.newPlot(                        \"463f29b8-4bcb-4269-af0b-53e3e36d4dc9\",                        [{\"line\":{\"color\":\"rgba(255, 153, 51, 1.0)\",\"dash\":\"solid\",\"shape\":\"linear\",\"width\":1.3},\"mode\":\"lines\",\"name\":\"A\",\"text\":\"\",\"x\":[0,1,2,3,4,5,6,7,8,9,10,11,12,13,14,15,16,17,18,19,20,21,22,23,24,25,26,27,28,29,30,31,32,33,34,35,36,37,38,39,40,41,42,43,44,45,46,47,48,49,50,51,52,53,54,55,56,57,58,59,60,61,62,63,64,65,66,67,68,69,70,71,72,73,74,75,76,77,78,79,80,81,82,83,84,85,86,87,88,89,90,91,92,93,94,95,96,97,98,99],\"y\":[0.6704549516109599,0.082535443479542,-0.030277607876463258,-0.7296129081944889,0.1527265413175817,-0.33813441137032424,1.9042339492772191,-0.7588056246726919,-0.8707965588081601,0.2896340361845918,-1.5237665192059862,0.9484620621971421,0.10553141650462003,0.2092718349405866,1.1640347231125636,0.4858426802866781,0.11933983453608828,0.2728169531371193,0.28919657021806133,1.073483561244945,0.07028375795764374,-0.1887932147115583,-1.0600689448473835,-0.3019363572412175,-0.8126307144185704,0.04021264055831378,-0.9798153152930743,-0.6070842061572903,-0.8067785203768048,-0.36628255849385094,-0.490724497613985,-0.11948959467927889,0.48024340826134854,-1.1114681568524802,0.00876717415713063,0.6153754248886335,-1.4120273218003125,-0.29772386315529703,-1.5277547107763774,0.8806863350762015,-0.02202561406455898,0.18378231072850623,-1.2931621264832485,-0.3972448926752685,-0.5753141033381041,0.6099801439466861,-0.8322217489099195,-0.05349257776630721,0.8517356264904371,-0.6052906360039375,-0.016646820797517226,-0.8891175447176948,1.8392114049926793,-1.189159093024214,-1.469324037228592,-0.20638700121277379,1.2880732643088497,1.011507627731839,-0.3227307063649429,1.2961924610631739,-0.7642289271104794,-0.8007653934311705,0.4603318905907266,1.0522096884457013,1.3600251679490534,-0.36805019645124054,-0.5252295655825047,0.3721275871542655,-1.1589425465940177,0.2552543469502206,-1.219051279316724,0.7809900058034129,0.6429968571185835,-0.9685863470324628,1.2932642257498272,0.8991878465435622,0.6702614740877187,-1.53023911252679,-0.33211763988874765,1.4833033292419877,0.5966607396311193,-1.3509756071664498,0.8079238287024253,1.6795389610664637,-0.6956294545177134,0.7239483934768534,-0.8703039150087871,2.4752648340661243,0.6095555501482074,-0.05135436217061349,-1.441317146126483,-1.7698229100332996,-0.854867235643374,0.01573115303956426,0.01366965315720599,-0.055649749827862735,0.9996389487811868,0.23448412479115777,1.3109218538891279,0.11222823118418822],\"type\":\"scatter\"},{\"line\":{\"color\":\"rgba(55, 128, 191, 1.0)\",\"dash\":\"solid\",\"shape\":\"linear\",\"width\":1.3},\"mode\":\"lines\",\"name\":\"B\",\"text\":\"\",\"x\":[0,1,2,3,4,5,6,7,8,9,10,11,12,13,14,15,16,17,18,19,20,21,22,23,24,25,26,27,28,29,30,31,32,33,34,35,36,37,38,39,40,41,42,43,44,45,46,47,48,49,50,51,52,53,54,55,56,57,58,59,60,61,62,63,64,65,66,67,68,69,70,71,72,73,74,75,76,77,78,79,80,81,82,83,84,85,86,87,88,89,90,91,92,93,94,95,96,97,98,99],\"y\":[-0.2682455403138665,0.9219032901867988,-2.6316192007926147,-0.7002221680723266,-1.1410201172424725,0.1982088166397885,-0.36916858732116814,-0.346988451454806,-0.5067690548727558,-0.48657622979598436,-0.3779466626884306,-0.9057264109845606,-1.0904291766858063,-0.7245917615110173,-0.7023340161584938,-0.12909160467106529,-0.8886651919263007,0.3823079631484114,-1.0900373872538167,0.04590737193270273,0.3449595019039827,-0.21952347502178463,-0.045830801280706795,0.27039014309921827,0.9752355335661154,-0.6297684032026852,-1.4341538818078072,-2.928405166974158,-0.24271171257920754,-0.8045786019109605,-0.7726865519387884,-0.38402965758197344,0.43511238729760066,0.6040661512852107,-0.55675228038275,-2.0752224149061544,0.30665005723854494,1.052301828580547,-0.3096428207681808,-1.1114785994044372,0.16438707146105638,0.7303825344045778,-0.6668291129437066,-1.2047590788659568,-0.6527833867437385,-0.17869000879867572,0.6164832688470566,1.1410378050428858,-1.723664068438458,-0.6046277913177348,-0.5054846301754152,0.776550047785937,0.46522658965141034,1.0350918146874746,0.9008286556081461,0.6095189639974038,-0.5152331945488056,0.23869453965612214,-1.395265038890855,0.509141026613451,-0.20929089012008917,-0.27011429036927975,0.8636244035153211,-0.688059366148949,-0.8832300590337048,-2.928352824671613,0.07989375770754963,-1.9431385480998216,-1.8746224168674628,0.2443443760851938,0.3794392960523368,0.11523202363410734,0.12093706648550032,-0.483520740771378,-1.371270121893702,-0.0751091049119595,0.09543516448164553,0.7550659367358067,1.4773525481483383,-1.6667177545418252,0.024320580466173938,-0.42969113088106947,-0.4717015774845612,-0.8692805274518534,0.8098607957408062,-0.7958892117997776,-2.532441312455747,0.22346344034817142,0.8033086864689049,1.684673808657013,0.3552602777281829,0.3419395197719315,-0.12852374038004932,1.382975119289779,-0.0655957106522503,-0.3145521070114627,-1.4393287908028378,-0.3295221740812238,-0.42722999899320613,-0.9031641314456635],\"type\":\"scatter\"},{\"connectgaps\":false,\"fill\":\"tozeroy\",\"line\":{\"color\":\"green\",\"dash\":\"solid\",\"shape\":\"linear\",\"width\":0.5},\"mode\":\"lines\",\"name\":\"Spread\",\"showlegend\":false,\"x\":[0,1,2,3,4,5,6,7,8,9,10,11,12,13,14,15,16,17,18,19,20,21,22,23,24,25,26,27,28,29,30,31,32,33,34,35,36,37,38,39,40,41,42,43,44,45,46,47,48,49,50,51,52,53,54,55,56,57,58,59,60,61,62,63,64,65,66,67,68,69,70,71,72,73,74,75,76,77,78,79,80,81,82,83,84,85,86,87,88,89,90,91,92,93,94,95,96,97,98,99],\"xaxis\":\"x2\",\"y\":[0.9387004919248264,\"\",2.6013415929161514,\"\",1.2937466585600543,\"\",2.2734025365983874,\"\",\"\",0.7762102659805762,\"\",1.8541884731817029,1.1959605931904262,0.933863596451604,1.8663687392710573,0.6149342849577434,1.008005026462389,\"\",1.379233957471878,1.0275761893122421,\"\",0.030730260310226326,\"\",\"\",\"\",0.669981043760999,0.4543385665147329,2.321320960816868,\"\",0.4382960434171096,0.2819620543248034,0.26454006290269455,0.04513102096374788,\"\",0.5655194545398807,2.690597839794788,\"\",\"\",\"\",1.9921649344806387,\"\",\"\",\"\",0.8075141861906883,0.07746928340563441,0.7886701527453618,\"\",\"\",2.5753996949288953,\"\",0.488837809377898,\"\",1.373984815341269,\"\",\"\",\"\",1.8033064588576553,0.7728130880757169,1.072534332525912,0.7870514344497229,\"\",\"\",\"\",1.7402690545946502,2.2432552269827584,2.5603026282203727,\"\",2.3152661352540873,0.715679870273445,0.010909970865026791,\"\",0.6657579821693056,0.5220597906330832,\"\",2.6645343476435293,0.9742969514555218,0.5748263096060732,\"\",\"\",3.150021083783813,0.5723401591649454,\"\",1.2796254061869865,2.5488194885183173,\"\",1.519837605276631,1.6621373974469598,2.251801393717953,\"\",\"\",\"\",\"\",\"\",\"\",0.07926536380945629,0.25890235718359994,2.4389677395840246,0.5640062988723815,1.7381518528823339,1.0153923626298518],\"yaxis\":\"y2\",\"type\":\"scatter\"},{\"connectgaps\":false,\"fill\":\"tozeroy\",\"line\":{\"color\":\"red\",\"dash\":\"solid\",\"shape\":\"linear\",\"width\":0.5},\"mode\":\"lines\",\"name\":\"Spread\",\"showlegend\":false,\"x\":[0,1,2,3,4,5,6,7,8,9,10,11,12,13,14,15,16,17,18,19,20,21,22,23,24,25,26,27,28,29,30,31,32,33,34,35,36,37,38,39,40,41,42,43,44,45,46,47,48,49,50,51,52,53,54,55,56,57,58,59,60,61,62,63,64,65,66,67,68,69,70,71,72,73,74,75,76,77,78,79,80,81,82,83,84,85,86,87,88,89,90,91,92,93,94,95,96,97,98,99],\"xaxis\":\"x2\",\"y\":[\"\",-0.8393678467072568,\"\",-0.02939074012216225,\"\",-0.5363432280101128,\"\",-0.41181717321788586,-0.3640275039354043,\"\",-1.1458198565175555,\"\",\"\",\"\",\"\",\"\",\"\",-0.10949101001129213,\"\",\"\",-0.274675743946339,\"\",-1.0142381435666767,-0.5723265003404358,-1.7878662479846859,\"\",\"\",\"\",-0.5640668077975972,\"\",\"\",\"\",\"\",-1.7155343081376908,\"\",\"\",-1.7186773790388574,-1.350025691735844,-1.2181118900081966,\"\",-0.18641268552561535,-0.5466002236760715,-0.6263330135395418,\"\",\"\",\"\",-1.4487050177569762,-1.1945303828091929,\"\",-0.0006628446862027015,\"\",-1.6656675925036317,\"\",-2.2242509077116885,-2.3701526928367382,-0.8159059652101776,\"\",\"\",\"\",\"\",-0.5549380369903902,-0.5306511030618908,-0.4032925129245945,\"\",\"\",\"\",-0.6051233232900542,\"\",\"\",\"\",-1.5984905753690608,\"\",\"\",-0.4850656062610848,\"\",\"\",\"\",-2.285305049262597,-1.809470188037086,\"\",\"\",-0.9212844762853803,\"\",\"\",-1.5054902502585197,\"\",\"\",\"\",-0.19375313632069746,-1.7360281708276264,-1.7965774238546661,-2.111762429805231,-0.7263434952633246,-1.3672439662502147,\"\",\"\",\"\",\"\",\"\",\"\"],\"yaxis\":\"y2\",\"type\":\"scatter\"}],                        {\"hovermode\":\"x\",\"legend\":{\"bgcolor\":\"#F5F6F9\",\"font\":{\"color\":\"#4D5663\"}},\"paper_bgcolor\":\"#F5F6F9\",\"plot_bgcolor\":\"#F5F6F9\",\"template\":{\"data\":{\"barpolar\":[{\"marker\":{\"line\":{\"color\":\"#E5ECF6\",\"width\":0.5},\"pattern\":{\"fillmode\":\"overlay\",\"size\":10,\"solidity\":0.2}},\"type\":\"barpolar\"}],\"bar\":[{\"error_x\":{\"color\":\"#2a3f5f\"},\"error_y\":{\"color\":\"#2a3f5f\"},\"marker\":{\"line\":{\"color\":\"#E5ECF6\",\"width\":0.5},\"pattern\":{\"fillmode\":\"overlay\",\"size\":10,\"solidity\":0.2}},\"type\":\"bar\"}],\"carpet\":[{\"aaxis\":{\"endlinecolor\":\"#2a3f5f\",\"gridcolor\":\"white\",\"linecolor\":\"white\",\"minorgridcolor\":\"white\",\"startlinecolor\":\"#2a3f5f\"},\"baxis\":{\"endlinecolor\":\"#2a3f5f\",\"gridcolor\":\"white\",\"linecolor\":\"white\",\"minorgridcolor\":\"white\",\"startlinecolor\":\"#2a3f5f\"},\"type\":\"carpet\"}],\"choropleth\":[{\"colorbar\":{\"outlinewidth\":0,\"ticks\":\"\"},\"type\":\"choropleth\"}],\"contourcarpet\":[{\"colorbar\":{\"outlinewidth\":0,\"ticks\":\"\"},\"type\":\"contourcarpet\"}],\"contour\":[{\"colorbar\":{\"outlinewidth\":0,\"ticks\":\"\"},\"colorscale\":[[0.0,\"#0d0887\"],[0.1111111111111111,\"#46039f\"],[0.2222222222222222,\"#7201a8\"],[0.3333333333333333,\"#9c179e\"],[0.4444444444444444,\"#bd3786\"],[0.5555555555555556,\"#d8576b\"],[0.6666666666666666,\"#ed7953\"],[0.7777777777777778,\"#fb9f3a\"],[0.8888888888888888,\"#fdca26\"],[1.0,\"#f0f921\"]],\"type\":\"contour\"}],\"heatmapgl\":[{\"colorbar\":{\"outlinewidth\":0,\"ticks\":\"\"},\"colorscale\":[[0.0,\"#0d0887\"],[0.1111111111111111,\"#46039f\"],[0.2222222222222222,\"#7201a8\"],[0.3333333333333333,\"#9c179e\"],[0.4444444444444444,\"#bd3786\"],[0.5555555555555556,\"#d8576b\"],[0.6666666666666666,\"#ed7953\"],[0.7777777777777778,\"#fb9f3a\"],[0.8888888888888888,\"#fdca26\"],[1.0,\"#f0f921\"]],\"type\":\"heatmapgl\"}],\"heatmap\":[{\"colorbar\":{\"outlinewidth\":0,\"ticks\":\"\"},\"colorscale\":[[0.0,\"#0d0887\"],[0.1111111111111111,\"#46039f\"],[0.2222222222222222,\"#7201a8\"],[0.3333333333333333,\"#9c179e\"],[0.4444444444444444,\"#bd3786\"],[0.5555555555555556,\"#d8576b\"],[0.6666666666666666,\"#ed7953\"],[0.7777777777777778,\"#fb9f3a\"],[0.8888888888888888,\"#fdca26\"],[1.0,\"#f0f921\"]],\"type\":\"heatmap\"}],\"histogram2dcontour\":[{\"colorbar\":{\"outlinewidth\":0,\"ticks\":\"\"},\"colorscale\":[[0.0,\"#0d0887\"],[0.1111111111111111,\"#46039f\"],[0.2222222222222222,\"#7201a8\"],[0.3333333333333333,\"#9c179e\"],[0.4444444444444444,\"#bd3786\"],[0.5555555555555556,\"#d8576b\"],[0.6666666666666666,\"#ed7953\"],[0.7777777777777778,\"#fb9f3a\"],[0.8888888888888888,\"#fdca26\"],[1.0,\"#f0f921\"]],\"type\":\"histogram2dcontour\"}],\"histogram2d\":[{\"colorbar\":{\"outlinewidth\":0,\"ticks\":\"\"},\"colorscale\":[[0.0,\"#0d0887\"],[0.1111111111111111,\"#46039f\"],[0.2222222222222222,\"#7201a8\"],[0.3333333333333333,\"#9c179e\"],[0.4444444444444444,\"#bd3786\"],[0.5555555555555556,\"#d8576b\"],[0.6666666666666666,\"#ed7953\"],[0.7777777777777778,\"#fb9f3a\"],[0.8888888888888888,\"#fdca26\"],[1.0,\"#f0f921\"]],\"type\":\"histogram2d\"}],\"histogram\":[{\"marker\":{\"pattern\":{\"fillmode\":\"overlay\",\"size\":10,\"solidity\":0.2}},\"type\":\"histogram\"}],\"mesh3d\":[{\"colorbar\":{\"outlinewidth\":0,\"ticks\":\"\"},\"type\":\"mesh3d\"}],\"parcoords\":[{\"line\":{\"colorbar\":{\"outlinewidth\":0,\"ticks\":\"\"}},\"type\":\"parcoords\"}],\"pie\":[{\"automargin\":true,\"type\":\"pie\"}],\"scatter3d\":[{\"line\":{\"colorbar\":{\"outlinewidth\":0,\"ticks\":\"\"}},\"marker\":{\"colorbar\":{\"outlinewidth\":0,\"ticks\":\"\"}},\"type\":\"scatter3d\"}],\"scattercarpet\":[{\"marker\":{\"colorbar\":{\"outlinewidth\":0,\"ticks\":\"\"}},\"type\":\"scattercarpet\"}],\"scattergeo\":[{\"marker\":{\"colorbar\":{\"outlinewidth\":0,\"ticks\":\"\"}},\"type\":\"scattergeo\"}],\"scattergl\":[{\"marker\":{\"colorbar\":{\"outlinewidth\":0,\"ticks\":\"\"}},\"type\":\"scattergl\"}],\"scattermapbox\":[{\"marker\":{\"colorbar\":{\"outlinewidth\":0,\"ticks\":\"\"}},\"type\":\"scattermapbox\"}],\"scatterpolargl\":[{\"marker\":{\"colorbar\":{\"outlinewidth\":0,\"ticks\":\"\"}},\"type\":\"scatterpolargl\"}],\"scatterpolar\":[{\"marker\":{\"colorbar\":{\"outlinewidth\":0,\"ticks\":\"\"}},\"type\":\"scatterpolar\"}],\"scatter\":[{\"marker\":{\"colorbar\":{\"outlinewidth\":0,\"ticks\":\"\"}},\"type\":\"scatter\"}],\"scatterternary\":[{\"marker\":{\"colorbar\":{\"outlinewidth\":0,\"ticks\":\"\"}},\"type\":\"scatterternary\"}],\"surface\":[{\"colorbar\":{\"outlinewidth\":0,\"ticks\":\"\"},\"colorscale\":[[0.0,\"#0d0887\"],[0.1111111111111111,\"#46039f\"],[0.2222222222222222,\"#7201a8\"],[0.3333333333333333,\"#9c179e\"],[0.4444444444444444,\"#bd3786\"],[0.5555555555555556,\"#d8576b\"],[0.6666666666666666,\"#ed7953\"],[0.7777777777777778,\"#fb9f3a\"],[0.8888888888888888,\"#fdca26\"],[1.0,\"#f0f921\"]],\"type\":\"surface\"}],\"table\":[{\"cells\":{\"fill\":{\"color\":\"#EBF0F8\"},\"line\":{\"color\":\"white\"}},\"header\":{\"fill\":{\"color\":\"#C8D4E3\"},\"line\":{\"color\":\"white\"}},\"type\":\"table\"}]},\"layout\":{\"annotationdefaults\":{\"arrowcolor\":\"#2a3f5f\",\"arrowhead\":0,\"arrowwidth\":1},\"autotypenumbers\":\"strict\",\"coloraxis\":{\"colorbar\":{\"outlinewidth\":0,\"ticks\":\"\"}},\"colorscale\":{\"diverging\":[[0,\"#8e0152\"],[0.1,\"#c51b7d\"],[0.2,\"#de77ae\"],[0.3,\"#f1b6da\"],[0.4,\"#fde0ef\"],[0.5,\"#f7f7f7\"],[0.6,\"#e6f5d0\"],[0.7,\"#b8e186\"],[0.8,\"#7fbc41\"],[0.9,\"#4d9221\"],[1,\"#276419\"]],\"sequential\":[[0.0,\"#0d0887\"],[0.1111111111111111,\"#46039f\"],[0.2222222222222222,\"#7201a8\"],[0.3333333333333333,\"#9c179e\"],[0.4444444444444444,\"#bd3786\"],[0.5555555555555556,\"#d8576b\"],[0.6666666666666666,\"#ed7953\"],[0.7777777777777778,\"#fb9f3a\"],[0.8888888888888888,\"#fdca26\"],[1.0,\"#f0f921\"]],\"sequentialminus\":[[0.0,\"#0d0887\"],[0.1111111111111111,\"#46039f\"],[0.2222222222222222,\"#7201a8\"],[0.3333333333333333,\"#9c179e\"],[0.4444444444444444,\"#bd3786\"],[0.5555555555555556,\"#d8576b\"],[0.6666666666666666,\"#ed7953\"],[0.7777777777777778,\"#fb9f3a\"],[0.8888888888888888,\"#fdca26\"],[1.0,\"#f0f921\"]]},\"colorway\":[\"#636efa\",\"#EF553B\",\"#00cc96\",\"#ab63fa\",\"#FFA15A\",\"#19d3f3\",\"#FF6692\",\"#B6E880\",\"#FF97FF\",\"#FECB52\"],\"font\":{\"color\":\"#2a3f5f\"},\"geo\":{\"bgcolor\":\"white\",\"lakecolor\":\"white\",\"landcolor\":\"#E5ECF6\",\"showlakes\":true,\"showland\":true,\"subunitcolor\":\"white\"},\"hoverlabel\":{\"align\":\"left\"},\"hovermode\":\"closest\",\"mapbox\":{\"style\":\"light\"},\"paper_bgcolor\":\"white\",\"plot_bgcolor\":\"#E5ECF6\",\"polar\":{\"angularaxis\":{\"gridcolor\":\"white\",\"linecolor\":\"white\",\"ticks\":\"\"},\"bgcolor\":\"#E5ECF6\",\"radialaxis\":{\"gridcolor\":\"white\",\"linecolor\":\"white\",\"ticks\":\"\"}},\"scene\":{\"xaxis\":{\"backgroundcolor\":\"#E5ECF6\",\"gridcolor\":\"white\",\"gridwidth\":2,\"linecolor\":\"white\",\"showbackground\":true,\"ticks\":\"\",\"zerolinecolor\":\"white\"},\"yaxis\":{\"backgroundcolor\":\"#E5ECF6\",\"gridcolor\":\"white\",\"gridwidth\":2,\"linecolor\":\"white\",\"showbackground\":true,\"ticks\":\"\",\"zerolinecolor\":\"white\"},\"zaxis\":{\"backgroundcolor\":\"#E5ECF6\",\"gridcolor\":\"white\",\"gridwidth\":2,\"linecolor\":\"white\",\"showbackground\":true,\"ticks\":\"\",\"zerolinecolor\":\"white\"}},\"shapedefaults\":{\"line\":{\"color\":\"#2a3f5f\"}},\"ternary\":{\"aaxis\":{\"gridcolor\":\"white\",\"linecolor\":\"white\",\"ticks\":\"\"},\"baxis\":{\"gridcolor\":\"white\",\"linecolor\":\"white\",\"ticks\":\"\"},\"bgcolor\":\"#E5ECF6\",\"caxis\":{\"gridcolor\":\"white\",\"linecolor\":\"white\",\"ticks\":\"\"}},\"title\":{\"x\":0.05},\"xaxis\":{\"automargin\":true,\"gridcolor\":\"white\",\"linecolor\":\"white\",\"ticks\":\"\",\"title\":{\"standoff\":15},\"zerolinecolor\":\"white\",\"zerolinewidth\":2},\"yaxis\":{\"automargin\":true,\"gridcolor\":\"white\",\"linecolor\":\"white\",\"ticks\":\"\",\"title\":{\"standoff\":15},\"zerolinecolor\":\"white\",\"zerolinewidth\":2}}},\"title\":{\"font\":{\"color\":\"#4D5663\"}},\"xaxis\":{\"gridcolor\":\"#E1E5ED\",\"showgrid\":true,\"tickfont\":{\"color\":\"#4D5663\"},\"title\":{\"font\":{\"color\":\"#4D5663\"},\"text\":\"\"},\"zerolinecolor\":\"#E1E5ED\"},\"yaxis\":{\"domain\":[0.3,1],\"gridcolor\":\"#E1E5ED\",\"showgrid\":true,\"tickfont\":{\"color\":\"#4D5663\"},\"title\":{\"font\":{\"color\":\"#4D5663\"},\"text\":\"\"},\"zerolinecolor\":\"#E1E5ED\"},\"yaxis2\":{\"domain\":[0,0.25],\"gridcolor\":\"#E1E5ED\",\"showgrid\":true,\"tickfont\":{\"color\":\"#4D5663\"},\"title\":{\"font\":{\"color\":\"#4D5663\"},\"text\":\"Spread\"},\"zerolinecolor\":\"#E1E5ED\"},\"xaxis2\":{\"anchor\":\"y2\",\"gridcolor\":\"#E1E5ED\",\"showgrid\":true,\"showticklabels\":false,\"tickfont\":{\"color\":\"#4D5663\"},\"title\":{\"font\":{\"color\":\"#4D5663\"},\"text\":\"\"},\"zerolinecolor\":\"#E1E5ED\"}},                        {\"showLink\": true, \"linkText\": \"Export to plot.ly\", \"plotlyServerURL\": \"https://plot.ly\", \"responsive\": true}                    ).then(function(){\n",
       "                            \n",
       "var gd = document.getElementById('463f29b8-4bcb-4269-af0b-53e3e36d4dc9');\n",
       "var x = new MutationObserver(function (mutations, observer) {{\n",
       "        var display = window.getComputedStyle(gd).display;\n",
       "        if (!display || display === 'none') {{\n",
       "            console.log([gd, 'removed!']);\n",
       "            Plotly.purge(gd);\n",
       "            observer.disconnect();\n",
       "        }}\n",
       "}});\n",
       "\n",
       "// Listen for the removal of the full notebook cells\n",
       "var notebookContainer = gd.closest('#notebook-container');\n",
       "if (notebookContainer) {{\n",
       "    x.observe(notebookContainer, {childList: true});\n",
       "}}\n",
       "\n",
       "// Listen for the clearing of the current output cell\n",
       "var outputEl = gd.closest('.output');\n",
       "if (outputEl) {{\n",
       "    x.observe(outputEl, {childList: true});\n",
       "}}\n",
       "\n",
       "                        })                };                });            </script>        </div>"
      ]
     },
     "metadata": {},
     "output_type": "display_data"
    }
   ],
   "source": [
    "df[['A','B']].iplot(kind='spread')"
   ]
  },
  {
   "cell_type": "markdown",
   "metadata": {},
   "source": [
    "## histogram"
   ]
  },
  {
   "cell_type": "code",
   "execution_count": 16,
   "metadata": {},
   "outputs": [
    {
     "data": {
      "application/vnd.plotly.v1+json": {
       "config": {
        "linkText": "Export to plot.ly",
        "plotlyServerURL": "https://plot.ly",
        "showLink": true
       },
       "data": [
        {
         "histfunc": "count",
         "histnorm": "",
         "marker": {
          "color": "rgba(255, 153, 51, 1.0)",
          "line": {
           "color": "#4D5663",
           "width": 1.3
          }
         },
         "name": "A",
         "nbinsx": 25,
         "opacity": 0.8,
         "orientation": "v",
         "type": "histogram",
         "x": [
          0.6704549516109599,
          0.082535443479542,
          -0.030277607876463258,
          -0.7296129081944889,
          0.1527265413175817,
          -0.33813441137032424,
          1.9042339492772191,
          -0.7588056246726919,
          -0.8707965588081601,
          0.2896340361845918,
          -1.5237665192059862,
          0.9484620621971421,
          0.10553141650462003,
          0.2092718349405866,
          1.1640347231125636,
          0.4858426802866781,
          0.11933983453608828,
          0.2728169531371193,
          0.28919657021806133,
          1.073483561244945,
          0.07028375795764374,
          -0.1887932147115583,
          -1.0600689448473835,
          -0.3019363572412175,
          -0.8126307144185704,
          0.04021264055831378,
          -0.9798153152930743,
          -0.6070842061572903,
          -0.8067785203768048,
          -0.36628255849385094,
          -0.490724497613985,
          -0.11948959467927889,
          0.48024340826134854,
          -1.1114681568524802,
          0.00876717415713063,
          0.6153754248886335,
          -1.4120273218003125,
          -0.29772386315529703,
          -1.5277547107763774,
          0.8806863350762015,
          -0.02202561406455898,
          0.18378231072850623,
          -1.2931621264832485,
          -0.3972448926752685,
          -0.5753141033381041,
          0.6099801439466861,
          -0.8322217489099195,
          -0.05349257776630721,
          0.8517356264904371,
          -0.6052906360039375,
          -0.016646820797517226,
          -0.8891175447176948,
          1.8392114049926793,
          -1.189159093024214,
          -1.469324037228592,
          -0.20638700121277379,
          1.2880732643088497,
          1.011507627731839,
          -0.3227307063649429,
          1.2961924610631739,
          -0.7642289271104794,
          -0.8007653934311705,
          0.4603318905907266,
          1.0522096884457013,
          1.3600251679490534,
          -0.36805019645124054,
          -0.5252295655825047,
          0.3721275871542655,
          -1.1589425465940177,
          0.2552543469502206,
          -1.219051279316724,
          0.7809900058034129,
          0.6429968571185835,
          -0.9685863470324628,
          1.2932642257498272,
          0.8991878465435622,
          0.6702614740877187,
          -1.53023911252679,
          -0.33211763988874765,
          1.4833033292419877,
          0.5966607396311193,
          -1.3509756071664498,
          0.8079238287024253,
          1.6795389610664637,
          -0.6956294545177134,
          0.7239483934768534,
          -0.8703039150087871,
          2.4752648340661243,
          0.6095555501482074,
          -0.05135436217061349,
          -1.441317146126483,
          -1.7698229100332996,
          -0.854867235643374,
          0.01573115303956426,
          0.01366965315720599,
          -0.055649749827862735,
          0.9996389487811868,
          0.23448412479115777,
          1.3109218538891279,
          0.11222823118418822
         ]
        }
       ],
       "layout": {
        "barmode": "overlay",
        "legend": {
         "bgcolor": "#F5F6F9",
         "font": {
          "color": "#4D5663"
         }
        },
        "paper_bgcolor": "#F5F6F9",
        "plot_bgcolor": "#F5F6F9",
        "template": {
         "data": {
          "bar": [
           {
            "error_x": {
             "color": "#2a3f5f"
            },
            "error_y": {
             "color": "#2a3f5f"
            },
            "marker": {
             "line": {
              "color": "#E5ECF6",
              "width": 0.5
             },
             "pattern": {
              "fillmode": "overlay",
              "size": 10,
              "solidity": 0.2
             }
            },
            "type": "bar"
           }
          ],
          "barpolar": [
           {
            "marker": {
             "line": {
              "color": "#E5ECF6",
              "width": 0.5
             },
             "pattern": {
              "fillmode": "overlay",
              "size": 10,
              "solidity": 0.2
             }
            },
            "type": "barpolar"
           }
          ],
          "carpet": [
           {
            "aaxis": {
             "endlinecolor": "#2a3f5f",
             "gridcolor": "white",
             "linecolor": "white",
             "minorgridcolor": "white",
             "startlinecolor": "#2a3f5f"
            },
            "baxis": {
             "endlinecolor": "#2a3f5f",
             "gridcolor": "white",
             "linecolor": "white",
             "minorgridcolor": "white",
             "startlinecolor": "#2a3f5f"
            },
            "type": "carpet"
           }
          ],
          "choropleth": [
           {
            "colorbar": {
             "outlinewidth": 0,
             "ticks": ""
            },
            "type": "choropleth"
           }
          ],
          "contour": [
           {
            "colorbar": {
             "outlinewidth": 0,
             "ticks": ""
            },
            "colorscale": [
             [
              0,
              "#0d0887"
             ],
             [
              0.1111111111111111,
              "#46039f"
             ],
             [
              0.2222222222222222,
              "#7201a8"
             ],
             [
              0.3333333333333333,
              "#9c179e"
             ],
             [
              0.4444444444444444,
              "#bd3786"
             ],
             [
              0.5555555555555556,
              "#d8576b"
             ],
             [
              0.6666666666666666,
              "#ed7953"
             ],
             [
              0.7777777777777778,
              "#fb9f3a"
             ],
             [
              0.8888888888888888,
              "#fdca26"
             ],
             [
              1,
              "#f0f921"
             ]
            ],
            "type": "contour"
           }
          ],
          "contourcarpet": [
           {
            "colorbar": {
             "outlinewidth": 0,
             "ticks": ""
            },
            "type": "contourcarpet"
           }
          ],
          "heatmap": [
           {
            "colorbar": {
             "outlinewidth": 0,
             "ticks": ""
            },
            "colorscale": [
             [
              0,
              "#0d0887"
             ],
             [
              0.1111111111111111,
              "#46039f"
             ],
             [
              0.2222222222222222,
              "#7201a8"
             ],
             [
              0.3333333333333333,
              "#9c179e"
             ],
             [
              0.4444444444444444,
              "#bd3786"
             ],
             [
              0.5555555555555556,
              "#d8576b"
             ],
             [
              0.6666666666666666,
              "#ed7953"
             ],
             [
              0.7777777777777778,
              "#fb9f3a"
             ],
             [
              0.8888888888888888,
              "#fdca26"
             ],
             [
              1,
              "#f0f921"
             ]
            ],
            "type": "heatmap"
           }
          ],
          "heatmapgl": [
           {
            "colorbar": {
             "outlinewidth": 0,
             "ticks": ""
            },
            "colorscale": [
             [
              0,
              "#0d0887"
             ],
             [
              0.1111111111111111,
              "#46039f"
             ],
             [
              0.2222222222222222,
              "#7201a8"
             ],
             [
              0.3333333333333333,
              "#9c179e"
             ],
             [
              0.4444444444444444,
              "#bd3786"
             ],
             [
              0.5555555555555556,
              "#d8576b"
             ],
             [
              0.6666666666666666,
              "#ed7953"
             ],
             [
              0.7777777777777778,
              "#fb9f3a"
             ],
             [
              0.8888888888888888,
              "#fdca26"
             ],
             [
              1,
              "#f0f921"
             ]
            ],
            "type": "heatmapgl"
           }
          ],
          "histogram": [
           {
            "marker": {
             "pattern": {
              "fillmode": "overlay",
              "size": 10,
              "solidity": 0.2
             }
            },
            "type": "histogram"
           }
          ],
          "histogram2d": [
           {
            "colorbar": {
             "outlinewidth": 0,
             "ticks": ""
            },
            "colorscale": [
             [
              0,
              "#0d0887"
             ],
             [
              0.1111111111111111,
              "#46039f"
             ],
             [
              0.2222222222222222,
              "#7201a8"
             ],
             [
              0.3333333333333333,
              "#9c179e"
             ],
             [
              0.4444444444444444,
              "#bd3786"
             ],
             [
              0.5555555555555556,
              "#d8576b"
             ],
             [
              0.6666666666666666,
              "#ed7953"
             ],
             [
              0.7777777777777778,
              "#fb9f3a"
             ],
             [
              0.8888888888888888,
              "#fdca26"
             ],
             [
              1,
              "#f0f921"
             ]
            ],
            "type": "histogram2d"
           }
          ],
          "histogram2dcontour": [
           {
            "colorbar": {
             "outlinewidth": 0,
             "ticks": ""
            },
            "colorscale": [
             [
              0,
              "#0d0887"
             ],
             [
              0.1111111111111111,
              "#46039f"
             ],
             [
              0.2222222222222222,
              "#7201a8"
             ],
             [
              0.3333333333333333,
              "#9c179e"
             ],
             [
              0.4444444444444444,
              "#bd3786"
             ],
             [
              0.5555555555555556,
              "#d8576b"
             ],
             [
              0.6666666666666666,
              "#ed7953"
             ],
             [
              0.7777777777777778,
              "#fb9f3a"
             ],
             [
              0.8888888888888888,
              "#fdca26"
             ],
             [
              1,
              "#f0f921"
             ]
            ],
            "type": "histogram2dcontour"
           }
          ],
          "mesh3d": [
           {
            "colorbar": {
             "outlinewidth": 0,
             "ticks": ""
            },
            "type": "mesh3d"
           }
          ],
          "parcoords": [
           {
            "line": {
             "colorbar": {
              "outlinewidth": 0,
              "ticks": ""
             }
            },
            "type": "parcoords"
           }
          ],
          "pie": [
           {
            "automargin": true,
            "type": "pie"
           }
          ],
          "scatter": [
           {
            "marker": {
             "colorbar": {
              "outlinewidth": 0,
              "ticks": ""
             }
            },
            "type": "scatter"
           }
          ],
          "scatter3d": [
           {
            "line": {
             "colorbar": {
              "outlinewidth": 0,
              "ticks": ""
             }
            },
            "marker": {
             "colorbar": {
              "outlinewidth": 0,
              "ticks": ""
             }
            },
            "type": "scatter3d"
           }
          ],
          "scattercarpet": [
           {
            "marker": {
             "colorbar": {
              "outlinewidth": 0,
              "ticks": ""
             }
            },
            "type": "scattercarpet"
           }
          ],
          "scattergeo": [
           {
            "marker": {
             "colorbar": {
              "outlinewidth": 0,
              "ticks": ""
             }
            },
            "type": "scattergeo"
           }
          ],
          "scattergl": [
           {
            "marker": {
             "colorbar": {
              "outlinewidth": 0,
              "ticks": ""
             }
            },
            "type": "scattergl"
           }
          ],
          "scattermapbox": [
           {
            "marker": {
             "colorbar": {
              "outlinewidth": 0,
              "ticks": ""
             }
            },
            "type": "scattermapbox"
           }
          ],
          "scatterpolar": [
           {
            "marker": {
             "colorbar": {
              "outlinewidth": 0,
              "ticks": ""
             }
            },
            "type": "scatterpolar"
           }
          ],
          "scatterpolargl": [
           {
            "marker": {
             "colorbar": {
              "outlinewidth": 0,
              "ticks": ""
             }
            },
            "type": "scatterpolargl"
           }
          ],
          "scatterternary": [
           {
            "marker": {
             "colorbar": {
              "outlinewidth": 0,
              "ticks": ""
             }
            },
            "type": "scatterternary"
           }
          ],
          "surface": [
           {
            "colorbar": {
             "outlinewidth": 0,
             "ticks": ""
            },
            "colorscale": [
             [
              0,
              "#0d0887"
             ],
             [
              0.1111111111111111,
              "#46039f"
             ],
             [
              0.2222222222222222,
              "#7201a8"
             ],
             [
              0.3333333333333333,
              "#9c179e"
             ],
             [
              0.4444444444444444,
              "#bd3786"
             ],
             [
              0.5555555555555556,
              "#d8576b"
             ],
             [
              0.6666666666666666,
              "#ed7953"
             ],
             [
              0.7777777777777778,
              "#fb9f3a"
             ],
             [
              0.8888888888888888,
              "#fdca26"
             ],
             [
              1,
              "#f0f921"
             ]
            ],
            "type": "surface"
           }
          ],
          "table": [
           {
            "cells": {
             "fill": {
              "color": "#EBF0F8"
             },
             "line": {
              "color": "white"
             }
            },
            "header": {
             "fill": {
              "color": "#C8D4E3"
             },
             "line": {
              "color": "white"
             }
            },
            "type": "table"
           }
          ]
         },
         "layout": {
          "annotationdefaults": {
           "arrowcolor": "#2a3f5f",
           "arrowhead": 0,
           "arrowwidth": 1
          },
          "autotypenumbers": "strict",
          "coloraxis": {
           "colorbar": {
            "outlinewidth": 0,
            "ticks": ""
           }
          },
          "colorscale": {
           "diverging": [
            [
             0,
             "#8e0152"
            ],
            [
             0.1,
             "#c51b7d"
            ],
            [
             0.2,
             "#de77ae"
            ],
            [
             0.3,
             "#f1b6da"
            ],
            [
             0.4,
             "#fde0ef"
            ],
            [
             0.5,
             "#f7f7f7"
            ],
            [
             0.6,
             "#e6f5d0"
            ],
            [
             0.7,
             "#b8e186"
            ],
            [
             0.8,
             "#7fbc41"
            ],
            [
             0.9,
             "#4d9221"
            ],
            [
             1,
             "#276419"
            ]
           ],
           "sequential": [
            [
             0,
             "#0d0887"
            ],
            [
             0.1111111111111111,
             "#46039f"
            ],
            [
             0.2222222222222222,
             "#7201a8"
            ],
            [
             0.3333333333333333,
             "#9c179e"
            ],
            [
             0.4444444444444444,
             "#bd3786"
            ],
            [
             0.5555555555555556,
             "#d8576b"
            ],
            [
             0.6666666666666666,
             "#ed7953"
            ],
            [
             0.7777777777777778,
             "#fb9f3a"
            ],
            [
             0.8888888888888888,
             "#fdca26"
            ],
            [
             1,
             "#f0f921"
            ]
           ],
           "sequentialminus": [
            [
             0,
             "#0d0887"
            ],
            [
             0.1111111111111111,
             "#46039f"
            ],
            [
             0.2222222222222222,
             "#7201a8"
            ],
            [
             0.3333333333333333,
             "#9c179e"
            ],
            [
             0.4444444444444444,
             "#bd3786"
            ],
            [
             0.5555555555555556,
             "#d8576b"
            ],
            [
             0.6666666666666666,
             "#ed7953"
            ],
            [
             0.7777777777777778,
             "#fb9f3a"
            ],
            [
             0.8888888888888888,
             "#fdca26"
            ],
            [
             1,
             "#f0f921"
            ]
           ]
          },
          "colorway": [
           "#636efa",
           "#EF553B",
           "#00cc96",
           "#ab63fa",
           "#FFA15A",
           "#19d3f3",
           "#FF6692",
           "#B6E880",
           "#FF97FF",
           "#FECB52"
          ],
          "font": {
           "color": "#2a3f5f"
          },
          "geo": {
           "bgcolor": "white",
           "lakecolor": "white",
           "landcolor": "#E5ECF6",
           "showlakes": true,
           "showland": true,
           "subunitcolor": "white"
          },
          "hoverlabel": {
           "align": "left"
          },
          "hovermode": "closest",
          "mapbox": {
           "style": "light"
          },
          "paper_bgcolor": "white",
          "plot_bgcolor": "#E5ECF6",
          "polar": {
           "angularaxis": {
            "gridcolor": "white",
            "linecolor": "white",
            "ticks": ""
           },
           "bgcolor": "#E5ECF6",
           "radialaxis": {
            "gridcolor": "white",
            "linecolor": "white",
            "ticks": ""
           }
          },
          "scene": {
           "xaxis": {
            "backgroundcolor": "#E5ECF6",
            "gridcolor": "white",
            "gridwidth": 2,
            "linecolor": "white",
            "showbackground": true,
            "ticks": "",
            "zerolinecolor": "white"
           },
           "yaxis": {
            "backgroundcolor": "#E5ECF6",
            "gridcolor": "white",
            "gridwidth": 2,
            "linecolor": "white",
            "showbackground": true,
            "ticks": "",
            "zerolinecolor": "white"
           },
           "zaxis": {
            "backgroundcolor": "#E5ECF6",
            "gridcolor": "white",
            "gridwidth": 2,
            "linecolor": "white",
            "showbackground": true,
            "ticks": "",
            "zerolinecolor": "white"
           }
          },
          "shapedefaults": {
           "line": {
            "color": "#2a3f5f"
           }
          },
          "ternary": {
           "aaxis": {
            "gridcolor": "white",
            "linecolor": "white",
            "ticks": ""
           },
           "baxis": {
            "gridcolor": "white",
            "linecolor": "white",
            "ticks": ""
           },
           "bgcolor": "#E5ECF6",
           "caxis": {
            "gridcolor": "white",
            "linecolor": "white",
            "ticks": ""
           }
          },
          "title": {
           "x": 0.05
          },
          "xaxis": {
           "automargin": true,
           "gridcolor": "white",
           "linecolor": "white",
           "ticks": "",
           "title": {
            "standoff": 15
           },
           "zerolinecolor": "white",
           "zerolinewidth": 2
          },
          "yaxis": {
           "automargin": true,
           "gridcolor": "white",
           "linecolor": "white",
           "ticks": "",
           "title": {
            "standoff": 15
           },
           "zerolinecolor": "white",
           "zerolinewidth": 2
          }
         }
        },
        "title": {
         "font": {
          "color": "#4D5663"
         }
        },
        "xaxis": {
         "gridcolor": "#E1E5ED",
         "showgrid": true,
         "tickfont": {
          "color": "#4D5663"
         },
         "title": {
          "font": {
           "color": "#4D5663"
          },
          "text": ""
         },
         "zerolinecolor": "#E1E5ED"
        },
        "yaxis": {
         "gridcolor": "#E1E5ED",
         "showgrid": true,
         "tickfont": {
          "color": "#4D5663"
         },
         "title": {
          "font": {
           "color": "#4D5663"
          },
          "text": ""
         },
         "zerolinecolor": "#E1E5ED"
        }
       }
      },
      "text/html": [
       "<div>                            <div id=\"a75ef47b-fbeb-4fcd-8c2e-dc3752424987\" class=\"plotly-graph-div\" style=\"height:525px; width:100%;\"></div>            <script type=\"text/javascript\">                require([\"plotly\"], function(Plotly) {                    window.PLOTLYENV=window.PLOTLYENV || {};\n",
       "                    window.PLOTLYENV.BASE_URL='https://plot.ly';                                    if (document.getElementById(\"a75ef47b-fbeb-4fcd-8c2e-dc3752424987\")) {                    Plotly.newPlot(                        \"a75ef47b-fbeb-4fcd-8c2e-dc3752424987\",                        [{\"histfunc\":\"count\",\"histnorm\":\"\",\"marker\":{\"color\":\"rgba(255, 153, 51, 1.0)\",\"line\":{\"color\":\"#4D5663\",\"width\":1.3}},\"name\":\"A\",\"nbinsx\":25,\"opacity\":0.8,\"orientation\":\"v\",\"x\":[0.6704549516109599,0.082535443479542,-0.030277607876463258,-0.7296129081944889,0.1527265413175817,-0.33813441137032424,1.9042339492772191,-0.7588056246726919,-0.8707965588081601,0.2896340361845918,-1.5237665192059862,0.9484620621971421,0.10553141650462003,0.2092718349405866,1.1640347231125636,0.4858426802866781,0.11933983453608828,0.2728169531371193,0.28919657021806133,1.073483561244945,0.07028375795764374,-0.1887932147115583,-1.0600689448473835,-0.3019363572412175,-0.8126307144185704,0.04021264055831378,-0.9798153152930743,-0.6070842061572903,-0.8067785203768048,-0.36628255849385094,-0.490724497613985,-0.11948959467927889,0.48024340826134854,-1.1114681568524802,0.00876717415713063,0.6153754248886335,-1.4120273218003125,-0.29772386315529703,-1.5277547107763774,0.8806863350762015,-0.02202561406455898,0.18378231072850623,-1.2931621264832485,-0.3972448926752685,-0.5753141033381041,0.6099801439466861,-0.8322217489099195,-0.05349257776630721,0.8517356264904371,-0.6052906360039375,-0.016646820797517226,-0.8891175447176948,1.8392114049926793,-1.189159093024214,-1.469324037228592,-0.20638700121277379,1.2880732643088497,1.011507627731839,-0.3227307063649429,1.2961924610631739,-0.7642289271104794,-0.8007653934311705,0.4603318905907266,1.0522096884457013,1.3600251679490534,-0.36805019645124054,-0.5252295655825047,0.3721275871542655,-1.1589425465940177,0.2552543469502206,-1.219051279316724,0.7809900058034129,0.6429968571185835,-0.9685863470324628,1.2932642257498272,0.8991878465435622,0.6702614740877187,-1.53023911252679,-0.33211763988874765,1.4833033292419877,0.5966607396311193,-1.3509756071664498,0.8079238287024253,1.6795389610664637,-0.6956294545177134,0.7239483934768534,-0.8703039150087871,2.4752648340661243,0.6095555501482074,-0.05135436217061349,-1.441317146126483,-1.7698229100332996,-0.854867235643374,0.01573115303956426,0.01366965315720599,-0.055649749827862735,0.9996389487811868,0.23448412479115777,1.3109218538891279,0.11222823118418822],\"type\":\"histogram\"}],                        {\"barmode\":\"overlay\",\"legend\":{\"bgcolor\":\"#F5F6F9\",\"font\":{\"color\":\"#4D5663\"}},\"paper_bgcolor\":\"#F5F6F9\",\"plot_bgcolor\":\"#F5F6F9\",\"template\":{\"data\":{\"barpolar\":[{\"marker\":{\"line\":{\"color\":\"#E5ECF6\",\"width\":0.5},\"pattern\":{\"fillmode\":\"overlay\",\"size\":10,\"solidity\":0.2}},\"type\":\"barpolar\"}],\"bar\":[{\"error_x\":{\"color\":\"#2a3f5f\"},\"error_y\":{\"color\":\"#2a3f5f\"},\"marker\":{\"line\":{\"color\":\"#E5ECF6\",\"width\":0.5},\"pattern\":{\"fillmode\":\"overlay\",\"size\":10,\"solidity\":0.2}},\"type\":\"bar\"}],\"carpet\":[{\"aaxis\":{\"endlinecolor\":\"#2a3f5f\",\"gridcolor\":\"white\",\"linecolor\":\"white\",\"minorgridcolor\":\"white\",\"startlinecolor\":\"#2a3f5f\"},\"baxis\":{\"endlinecolor\":\"#2a3f5f\",\"gridcolor\":\"white\",\"linecolor\":\"white\",\"minorgridcolor\":\"white\",\"startlinecolor\":\"#2a3f5f\"},\"type\":\"carpet\"}],\"choropleth\":[{\"colorbar\":{\"outlinewidth\":0,\"ticks\":\"\"},\"type\":\"choropleth\"}],\"contourcarpet\":[{\"colorbar\":{\"outlinewidth\":0,\"ticks\":\"\"},\"type\":\"contourcarpet\"}],\"contour\":[{\"colorbar\":{\"outlinewidth\":0,\"ticks\":\"\"},\"colorscale\":[[0.0,\"#0d0887\"],[0.1111111111111111,\"#46039f\"],[0.2222222222222222,\"#7201a8\"],[0.3333333333333333,\"#9c179e\"],[0.4444444444444444,\"#bd3786\"],[0.5555555555555556,\"#d8576b\"],[0.6666666666666666,\"#ed7953\"],[0.7777777777777778,\"#fb9f3a\"],[0.8888888888888888,\"#fdca26\"],[1.0,\"#f0f921\"]],\"type\":\"contour\"}],\"heatmapgl\":[{\"colorbar\":{\"outlinewidth\":0,\"ticks\":\"\"},\"colorscale\":[[0.0,\"#0d0887\"],[0.1111111111111111,\"#46039f\"],[0.2222222222222222,\"#7201a8\"],[0.3333333333333333,\"#9c179e\"],[0.4444444444444444,\"#bd3786\"],[0.5555555555555556,\"#d8576b\"],[0.6666666666666666,\"#ed7953\"],[0.7777777777777778,\"#fb9f3a\"],[0.8888888888888888,\"#fdca26\"],[1.0,\"#f0f921\"]],\"type\":\"heatmapgl\"}],\"heatmap\":[{\"colorbar\":{\"outlinewidth\":0,\"ticks\":\"\"},\"colorscale\":[[0.0,\"#0d0887\"],[0.1111111111111111,\"#46039f\"],[0.2222222222222222,\"#7201a8\"],[0.3333333333333333,\"#9c179e\"],[0.4444444444444444,\"#bd3786\"],[0.5555555555555556,\"#d8576b\"],[0.6666666666666666,\"#ed7953\"],[0.7777777777777778,\"#fb9f3a\"],[0.8888888888888888,\"#fdca26\"],[1.0,\"#f0f921\"]],\"type\":\"heatmap\"}],\"histogram2dcontour\":[{\"colorbar\":{\"outlinewidth\":0,\"ticks\":\"\"},\"colorscale\":[[0.0,\"#0d0887\"],[0.1111111111111111,\"#46039f\"],[0.2222222222222222,\"#7201a8\"],[0.3333333333333333,\"#9c179e\"],[0.4444444444444444,\"#bd3786\"],[0.5555555555555556,\"#d8576b\"],[0.6666666666666666,\"#ed7953\"],[0.7777777777777778,\"#fb9f3a\"],[0.8888888888888888,\"#fdca26\"],[1.0,\"#f0f921\"]],\"type\":\"histogram2dcontour\"}],\"histogram2d\":[{\"colorbar\":{\"outlinewidth\":0,\"ticks\":\"\"},\"colorscale\":[[0.0,\"#0d0887\"],[0.1111111111111111,\"#46039f\"],[0.2222222222222222,\"#7201a8\"],[0.3333333333333333,\"#9c179e\"],[0.4444444444444444,\"#bd3786\"],[0.5555555555555556,\"#d8576b\"],[0.6666666666666666,\"#ed7953\"],[0.7777777777777778,\"#fb9f3a\"],[0.8888888888888888,\"#fdca26\"],[1.0,\"#f0f921\"]],\"type\":\"histogram2d\"}],\"histogram\":[{\"marker\":{\"pattern\":{\"fillmode\":\"overlay\",\"size\":10,\"solidity\":0.2}},\"type\":\"histogram\"}],\"mesh3d\":[{\"colorbar\":{\"outlinewidth\":0,\"ticks\":\"\"},\"type\":\"mesh3d\"}],\"parcoords\":[{\"line\":{\"colorbar\":{\"outlinewidth\":0,\"ticks\":\"\"}},\"type\":\"parcoords\"}],\"pie\":[{\"automargin\":true,\"type\":\"pie\"}],\"scatter3d\":[{\"line\":{\"colorbar\":{\"outlinewidth\":0,\"ticks\":\"\"}},\"marker\":{\"colorbar\":{\"outlinewidth\":0,\"ticks\":\"\"}},\"type\":\"scatter3d\"}],\"scattercarpet\":[{\"marker\":{\"colorbar\":{\"outlinewidth\":0,\"ticks\":\"\"}},\"type\":\"scattercarpet\"}],\"scattergeo\":[{\"marker\":{\"colorbar\":{\"outlinewidth\":0,\"ticks\":\"\"}},\"type\":\"scattergeo\"}],\"scattergl\":[{\"marker\":{\"colorbar\":{\"outlinewidth\":0,\"ticks\":\"\"}},\"type\":\"scattergl\"}],\"scattermapbox\":[{\"marker\":{\"colorbar\":{\"outlinewidth\":0,\"ticks\":\"\"}},\"type\":\"scattermapbox\"}],\"scatterpolargl\":[{\"marker\":{\"colorbar\":{\"outlinewidth\":0,\"ticks\":\"\"}},\"type\":\"scatterpolargl\"}],\"scatterpolar\":[{\"marker\":{\"colorbar\":{\"outlinewidth\":0,\"ticks\":\"\"}},\"type\":\"scatterpolar\"}],\"scatter\":[{\"marker\":{\"colorbar\":{\"outlinewidth\":0,\"ticks\":\"\"}},\"type\":\"scatter\"}],\"scatterternary\":[{\"marker\":{\"colorbar\":{\"outlinewidth\":0,\"ticks\":\"\"}},\"type\":\"scatterternary\"}],\"surface\":[{\"colorbar\":{\"outlinewidth\":0,\"ticks\":\"\"},\"colorscale\":[[0.0,\"#0d0887\"],[0.1111111111111111,\"#46039f\"],[0.2222222222222222,\"#7201a8\"],[0.3333333333333333,\"#9c179e\"],[0.4444444444444444,\"#bd3786\"],[0.5555555555555556,\"#d8576b\"],[0.6666666666666666,\"#ed7953\"],[0.7777777777777778,\"#fb9f3a\"],[0.8888888888888888,\"#fdca26\"],[1.0,\"#f0f921\"]],\"type\":\"surface\"}],\"table\":[{\"cells\":{\"fill\":{\"color\":\"#EBF0F8\"},\"line\":{\"color\":\"white\"}},\"header\":{\"fill\":{\"color\":\"#C8D4E3\"},\"line\":{\"color\":\"white\"}},\"type\":\"table\"}]},\"layout\":{\"annotationdefaults\":{\"arrowcolor\":\"#2a3f5f\",\"arrowhead\":0,\"arrowwidth\":1},\"autotypenumbers\":\"strict\",\"coloraxis\":{\"colorbar\":{\"outlinewidth\":0,\"ticks\":\"\"}},\"colorscale\":{\"diverging\":[[0,\"#8e0152\"],[0.1,\"#c51b7d\"],[0.2,\"#de77ae\"],[0.3,\"#f1b6da\"],[0.4,\"#fde0ef\"],[0.5,\"#f7f7f7\"],[0.6,\"#e6f5d0\"],[0.7,\"#b8e186\"],[0.8,\"#7fbc41\"],[0.9,\"#4d9221\"],[1,\"#276419\"]],\"sequential\":[[0.0,\"#0d0887\"],[0.1111111111111111,\"#46039f\"],[0.2222222222222222,\"#7201a8\"],[0.3333333333333333,\"#9c179e\"],[0.4444444444444444,\"#bd3786\"],[0.5555555555555556,\"#d8576b\"],[0.6666666666666666,\"#ed7953\"],[0.7777777777777778,\"#fb9f3a\"],[0.8888888888888888,\"#fdca26\"],[1.0,\"#f0f921\"]],\"sequentialminus\":[[0.0,\"#0d0887\"],[0.1111111111111111,\"#46039f\"],[0.2222222222222222,\"#7201a8\"],[0.3333333333333333,\"#9c179e\"],[0.4444444444444444,\"#bd3786\"],[0.5555555555555556,\"#d8576b\"],[0.6666666666666666,\"#ed7953\"],[0.7777777777777778,\"#fb9f3a\"],[0.8888888888888888,\"#fdca26\"],[1.0,\"#f0f921\"]]},\"colorway\":[\"#636efa\",\"#EF553B\",\"#00cc96\",\"#ab63fa\",\"#FFA15A\",\"#19d3f3\",\"#FF6692\",\"#B6E880\",\"#FF97FF\",\"#FECB52\"],\"font\":{\"color\":\"#2a3f5f\"},\"geo\":{\"bgcolor\":\"white\",\"lakecolor\":\"white\",\"landcolor\":\"#E5ECF6\",\"showlakes\":true,\"showland\":true,\"subunitcolor\":\"white\"},\"hoverlabel\":{\"align\":\"left\"},\"hovermode\":\"closest\",\"mapbox\":{\"style\":\"light\"},\"paper_bgcolor\":\"white\",\"plot_bgcolor\":\"#E5ECF6\",\"polar\":{\"angularaxis\":{\"gridcolor\":\"white\",\"linecolor\":\"white\",\"ticks\":\"\"},\"bgcolor\":\"#E5ECF6\",\"radialaxis\":{\"gridcolor\":\"white\",\"linecolor\":\"white\",\"ticks\":\"\"}},\"scene\":{\"xaxis\":{\"backgroundcolor\":\"#E5ECF6\",\"gridcolor\":\"white\",\"gridwidth\":2,\"linecolor\":\"white\",\"showbackground\":true,\"ticks\":\"\",\"zerolinecolor\":\"white\"},\"yaxis\":{\"backgroundcolor\":\"#E5ECF6\",\"gridcolor\":\"white\",\"gridwidth\":2,\"linecolor\":\"white\",\"showbackground\":true,\"ticks\":\"\",\"zerolinecolor\":\"white\"},\"zaxis\":{\"backgroundcolor\":\"#E5ECF6\",\"gridcolor\":\"white\",\"gridwidth\":2,\"linecolor\":\"white\",\"showbackground\":true,\"ticks\":\"\",\"zerolinecolor\":\"white\"}},\"shapedefaults\":{\"line\":{\"color\":\"#2a3f5f\"}},\"ternary\":{\"aaxis\":{\"gridcolor\":\"white\",\"linecolor\":\"white\",\"ticks\":\"\"},\"baxis\":{\"gridcolor\":\"white\",\"linecolor\":\"white\",\"ticks\":\"\"},\"bgcolor\":\"#E5ECF6\",\"caxis\":{\"gridcolor\":\"white\",\"linecolor\":\"white\",\"ticks\":\"\"}},\"title\":{\"x\":0.05},\"xaxis\":{\"automargin\":true,\"gridcolor\":\"white\",\"linecolor\":\"white\",\"ticks\":\"\",\"title\":{\"standoff\":15},\"zerolinecolor\":\"white\",\"zerolinewidth\":2},\"yaxis\":{\"automargin\":true,\"gridcolor\":\"white\",\"linecolor\":\"white\",\"ticks\":\"\",\"title\":{\"standoff\":15},\"zerolinecolor\":\"white\",\"zerolinewidth\":2}}},\"title\":{\"font\":{\"color\":\"#4D5663\"}},\"xaxis\":{\"gridcolor\":\"#E1E5ED\",\"showgrid\":true,\"tickfont\":{\"color\":\"#4D5663\"},\"title\":{\"font\":{\"color\":\"#4D5663\"},\"text\":\"\"},\"zerolinecolor\":\"#E1E5ED\"},\"yaxis\":{\"gridcolor\":\"#E1E5ED\",\"showgrid\":true,\"tickfont\":{\"color\":\"#4D5663\"},\"title\":{\"font\":{\"color\":\"#4D5663\"},\"text\":\"\"},\"zerolinecolor\":\"#E1E5ED\"}},                        {\"showLink\": true, \"linkText\": \"Export to plot.ly\", \"plotlyServerURL\": \"https://plot.ly\", \"responsive\": true}                    ).then(function(){\n",
       "                            \n",
       "var gd = document.getElementById('a75ef47b-fbeb-4fcd-8c2e-dc3752424987');\n",
       "var x = new MutationObserver(function (mutations, observer) {{\n",
       "        var display = window.getComputedStyle(gd).display;\n",
       "        if (!display || display === 'none') {{\n",
       "            console.log([gd, 'removed!']);\n",
       "            Plotly.purge(gd);\n",
       "            observer.disconnect();\n",
       "        }}\n",
       "}});\n",
       "\n",
       "// Listen for the removal of the full notebook cells\n",
       "var notebookContainer = gd.closest('#notebook-container');\n",
       "if (notebookContainer) {{\n",
       "    x.observe(notebookContainer, {childList: true});\n",
       "}}\n",
       "\n",
       "// Listen for the clearing of the current output cell\n",
       "var outputEl = gd.closest('.output');\n",
       "if (outputEl) {{\n",
       "    x.observe(outputEl, {childList: true});\n",
       "}}\n",
       "\n",
       "                        })                };                });            </script>        </div>"
      ]
     },
     "metadata": {},
     "output_type": "display_data"
    }
   ],
   "source": [
    "df['A'].iplot(kind='hist',bins=25)"
   ]
  },
  {
   "cell_type": "code",
   "execution_count": 17,
   "metadata": {},
   "outputs": [
    {
     "data": {
      "application/vnd.plotly.v1+json": {
       "config": {
        "linkText": "Export to plot.ly",
        "plotlyServerURL": "https://plot.ly",
        "showLink": true
       },
       "data": [
        {
         "marker": {
          "color": [
           "rgb(255, 153, 51)",
           "rgb(55, 128, 191)",
           "rgb(50, 171, 96)",
           "rgb(128, 0, 128)",
           "rgb(219, 64, 82)",
           "rgb(0, 128, 128)",
           "rgb(255, 255, 51)",
           "rgb(128, 128, 0)",
           "rgb(251, 128, 114)",
           "rgb(128, 177, 211)"
          ],
          "line": {
           "width": 1.3
          },
          "size": [
           69,
           71,
           82,
           65,
           74,
           31,
           58,
           82,
           63,
           84,
           66,
           64,
           69,
           45,
           45,
           62,
           56,
           50,
           82,
           70,
           89,
           60,
           34,
           31,
           82,
           41,
           74,
           68,
           60,
           86,
           26,
           47,
           64,
           52,
           92,
           32,
           86,
           39,
           63,
           62,
           33,
           79,
           83,
           18,
           112,
           45,
           43,
           56,
           55,
           71,
           41,
           34,
           61,
           74,
           60,
           99,
           71,
           82,
           48,
           101,
           60,
           53,
           87,
           61,
           52,
           77,
           44,
           74,
           64,
           51,
           46,
           76,
           80,
           80,
           36,
           71,
           71,
           50,
           94,
           73,
           108,
           73,
           61,
           94,
           96,
           63,
           91,
           79,
           60,
           80,
           89,
           44,
           47,
           50,
           12,
           93,
           78,
           64,
           73,
           20
          ],
          "symbol": "circle"
         },
         "mode": "markers",
         "text": "",
         "type": "scatter",
         "x": [
          0.6704549516109599,
          0.082535443479542,
          -0.030277607876463258,
          -0.7296129081944889,
          0.1527265413175817,
          -0.33813441137032424,
          1.9042339492772191,
          -0.7588056246726919,
          -0.8707965588081601,
          0.2896340361845918,
          -1.5237665192059862,
          0.9484620621971421,
          0.10553141650462003,
          0.2092718349405866,
          1.1640347231125636,
          0.4858426802866781,
          0.11933983453608828,
          0.2728169531371193,
          0.28919657021806133,
          1.073483561244945,
          0.07028375795764374,
          -0.1887932147115583,
          -1.0600689448473835,
          -0.3019363572412175,
          -0.8126307144185704,
          0.04021264055831378,
          -0.9798153152930743,
          -0.6070842061572903,
          -0.8067785203768048,
          -0.36628255849385094,
          -0.490724497613985,
          -0.11948959467927889,
          0.48024340826134854,
          -1.1114681568524802,
          0.00876717415713063,
          0.6153754248886335,
          -1.4120273218003125,
          -0.29772386315529703,
          -1.5277547107763774,
          0.8806863350762015,
          -0.02202561406455898,
          0.18378231072850623,
          -1.2931621264832485,
          -0.3972448926752685,
          -0.5753141033381041,
          0.6099801439466861,
          -0.8322217489099195,
          -0.05349257776630721,
          0.8517356264904371,
          -0.6052906360039375,
          -0.016646820797517226,
          -0.8891175447176948,
          1.8392114049926793,
          -1.189159093024214,
          -1.469324037228592,
          -0.20638700121277379,
          1.2880732643088497,
          1.011507627731839,
          -0.3227307063649429,
          1.2961924610631739,
          -0.7642289271104794,
          -0.8007653934311705,
          0.4603318905907266,
          1.0522096884457013,
          1.3600251679490534,
          -0.36805019645124054,
          -0.5252295655825047,
          0.3721275871542655,
          -1.1589425465940177,
          0.2552543469502206,
          -1.219051279316724,
          0.7809900058034129,
          0.6429968571185835,
          -0.9685863470324628,
          1.2932642257498272,
          0.8991878465435622,
          0.6702614740877187,
          -1.53023911252679,
          -0.33211763988874765,
          1.4833033292419877,
          0.5966607396311193,
          -1.3509756071664498,
          0.8079238287024253,
          1.6795389610664637,
          -0.6956294545177134,
          0.7239483934768534,
          -0.8703039150087871,
          2.4752648340661243,
          0.6095555501482074,
          -0.05135436217061349,
          -1.441317146126483,
          -1.7698229100332996,
          -0.854867235643374,
          0.01573115303956426,
          0.01366965315720599,
          -0.055649749827862735,
          0.9996389487811868,
          0.23448412479115777,
          1.3109218538891279,
          0.11222823118418822
         ],
         "y": [
          -0.2682455403138665,
          0.9219032901867988,
          -2.6316192007926147,
          -0.7002221680723266,
          -1.1410201172424725,
          0.1982088166397885,
          -0.36916858732116814,
          -0.346988451454806,
          -0.5067690548727558,
          -0.48657622979598436,
          -0.3779466626884306,
          -0.9057264109845606,
          -1.0904291766858063,
          -0.7245917615110173,
          -0.7023340161584938,
          -0.12909160467106529,
          -0.8886651919263007,
          0.3823079631484114,
          -1.0900373872538167,
          0.04590737193270273,
          0.3449595019039827,
          -0.21952347502178463,
          -0.045830801280706795,
          0.27039014309921827,
          0.9752355335661154,
          -0.6297684032026852,
          -1.4341538818078072,
          -2.928405166974158,
          -0.24271171257920754,
          -0.8045786019109605,
          -0.7726865519387884,
          -0.38402965758197344,
          0.43511238729760066,
          0.6040661512852107,
          -0.55675228038275,
          -2.0752224149061544,
          0.30665005723854494,
          1.052301828580547,
          -0.3096428207681808,
          -1.1114785994044372,
          0.16438707146105638,
          0.7303825344045778,
          -0.6668291129437066,
          -1.2047590788659568,
          -0.6527833867437385,
          -0.17869000879867572,
          0.6164832688470566,
          1.1410378050428858,
          -1.723664068438458,
          -0.6046277913177348,
          -0.5054846301754152,
          0.776550047785937,
          0.46522658965141034,
          1.0350918146874746,
          0.9008286556081461,
          0.6095189639974038,
          -0.5152331945488056,
          0.23869453965612214,
          -1.395265038890855,
          0.509141026613451,
          -0.20929089012008917,
          -0.27011429036927975,
          0.8636244035153211,
          -0.688059366148949,
          -0.8832300590337048,
          -2.928352824671613,
          0.07989375770754963,
          -1.9431385480998216,
          -1.8746224168674628,
          0.2443443760851938,
          0.3794392960523368,
          0.11523202363410734,
          0.12093706648550032,
          -0.483520740771378,
          -1.371270121893702,
          -0.0751091049119595,
          0.09543516448164553,
          0.7550659367358067,
          1.4773525481483383,
          -1.6667177545418252,
          0.024320580466173938,
          -0.42969113088106947,
          -0.4717015774845612,
          -0.8692805274518534,
          0.8098607957408062,
          -0.7958892117997776,
          -2.532441312455747,
          0.22346344034817142,
          0.8033086864689049,
          1.684673808657013,
          0.3552602777281829,
          0.3419395197719315,
          -0.12852374038004932,
          1.382975119289779,
          -0.0655957106522503,
          -0.3145521070114627,
          -1.4393287908028378,
          -0.3295221740812238,
          -0.42722999899320613,
          -0.9031641314456635
         ]
        }
       ],
       "layout": {
        "legend": {
         "bgcolor": "#F5F6F9",
         "font": {
          "color": "#4D5663"
         }
        },
        "paper_bgcolor": "#F5F6F9",
        "plot_bgcolor": "#F5F6F9",
        "template": {
         "data": {
          "bar": [
           {
            "error_x": {
             "color": "#2a3f5f"
            },
            "error_y": {
             "color": "#2a3f5f"
            },
            "marker": {
             "line": {
              "color": "#E5ECF6",
              "width": 0.5
             },
             "pattern": {
              "fillmode": "overlay",
              "size": 10,
              "solidity": 0.2
             }
            },
            "type": "bar"
           }
          ],
          "barpolar": [
           {
            "marker": {
             "line": {
              "color": "#E5ECF6",
              "width": 0.5
             },
             "pattern": {
              "fillmode": "overlay",
              "size": 10,
              "solidity": 0.2
             }
            },
            "type": "barpolar"
           }
          ],
          "carpet": [
           {
            "aaxis": {
             "endlinecolor": "#2a3f5f",
             "gridcolor": "white",
             "linecolor": "white",
             "minorgridcolor": "white",
             "startlinecolor": "#2a3f5f"
            },
            "baxis": {
             "endlinecolor": "#2a3f5f",
             "gridcolor": "white",
             "linecolor": "white",
             "minorgridcolor": "white",
             "startlinecolor": "#2a3f5f"
            },
            "type": "carpet"
           }
          ],
          "choropleth": [
           {
            "colorbar": {
             "outlinewidth": 0,
             "ticks": ""
            },
            "type": "choropleth"
           }
          ],
          "contour": [
           {
            "colorbar": {
             "outlinewidth": 0,
             "ticks": ""
            },
            "colorscale": [
             [
              0,
              "#0d0887"
             ],
             [
              0.1111111111111111,
              "#46039f"
             ],
             [
              0.2222222222222222,
              "#7201a8"
             ],
             [
              0.3333333333333333,
              "#9c179e"
             ],
             [
              0.4444444444444444,
              "#bd3786"
             ],
             [
              0.5555555555555556,
              "#d8576b"
             ],
             [
              0.6666666666666666,
              "#ed7953"
             ],
             [
              0.7777777777777778,
              "#fb9f3a"
             ],
             [
              0.8888888888888888,
              "#fdca26"
             ],
             [
              1,
              "#f0f921"
             ]
            ],
            "type": "contour"
           }
          ],
          "contourcarpet": [
           {
            "colorbar": {
             "outlinewidth": 0,
             "ticks": ""
            },
            "type": "contourcarpet"
           }
          ],
          "heatmap": [
           {
            "colorbar": {
             "outlinewidth": 0,
             "ticks": ""
            },
            "colorscale": [
             [
              0,
              "#0d0887"
             ],
             [
              0.1111111111111111,
              "#46039f"
             ],
             [
              0.2222222222222222,
              "#7201a8"
             ],
             [
              0.3333333333333333,
              "#9c179e"
             ],
             [
              0.4444444444444444,
              "#bd3786"
             ],
             [
              0.5555555555555556,
              "#d8576b"
             ],
             [
              0.6666666666666666,
              "#ed7953"
             ],
             [
              0.7777777777777778,
              "#fb9f3a"
             ],
             [
              0.8888888888888888,
              "#fdca26"
             ],
             [
              1,
              "#f0f921"
             ]
            ],
            "type": "heatmap"
           }
          ],
          "heatmapgl": [
           {
            "colorbar": {
             "outlinewidth": 0,
             "ticks": ""
            },
            "colorscale": [
             [
              0,
              "#0d0887"
             ],
             [
              0.1111111111111111,
              "#46039f"
             ],
             [
              0.2222222222222222,
              "#7201a8"
             ],
             [
              0.3333333333333333,
              "#9c179e"
             ],
             [
              0.4444444444444444,
              "#bd3786"
             ],
             [
              0.5555555555555556,
              "#d8576b"
             ],
             [
              0.6666666666666666,
              "#ed7953"
             ],
             [
              0.7777777777777778,
              "#fb9f3a"
             ],
             [
              0.8888888888888888,
              "#fdca26"
             ],
             [
              1,
              "#f0f921"
             ]
            ],
            "type": "heatmapgl"
           }
          ],
          "histogram": [
           {
            "marker": {
             "pattern": {
              "fillmode": "overlay",
              "size": 10,
              "solidity": 0.2
             }
            },
            "type": "histogram"
           }
          ],
          "histogram2d": [
           {
            "colorbar": {
             "outlinewidth": 0,
             "ticks": ""
            },
            "colorscale": [
             [
              0,
              "#0d0887"
             ],
             [
              0.1111111111111111,
              "#46039f"
             ],
             [
              0.2222222222222222,
              "#7201a8"
             ],
             [
              0.3333333333333333,
              "#9c179e"
             ],
             [
              0.4444444444444444,
              "#bd3786"
             ],
             [
              0.5555555555555556,
              "#d8576b"
             ],
             [
              0.6666666666666666,
              "#ed7953"
             ],
             [
              0.7777777777777778,
              "#fb9f3a"
             ],
             [
              0.8888888888888888,
              "#fdca26"
             ],
             [
              1,
              "#f0f921"
             ]
            ],
            "type": "histogram2d"
           }
          ],
          "histogram2dcontour": [
           {
            "colorbar": {
             "outlinewidth": 0,
             "ticks": ""
            },
            "colorscale": [
             [
              0,
              "#0d0887"
             ],
             [
              0.1111111111111111,
              "#46039f"
             ],
             [
              0.2222222222222222,
              "#7201a8"
             ],
             [
              0.3333333333333333,
              "#9c179e"
             ],
             [
              0.4444444444444444,
              "#bd3786"
             ],
             [
              0.5555555555555556,
              "#d8576b"
             ],
             [
              0.6666666666666666,
              "#ed7953"
             ],
             [
              0.7777777777777778,
              "#fb9f3a"
             ],
             [
              0.8888888888888888,
              "#fdca26"
             ],
             [
              1,
              "#f0f921"
             ]
            ],
            "type": "histogram2dcontour"
           }
          ],
          "mesh3d": [
           {
            "colorbar": {
             "outlinewidth": 0,
             "ticks": ""
            },
            "type": "mesh3d"
           }
          ],
          "parcoords": [
           {
            "line": {
             "colorbar": {
              "outlinewidth": 0,
              "ticks": ""
             }
            },
            "type": "parcoords"
           }
          ],
          "pie": [
           {
            "automargin": true,
            "type": "pie"
           }
          ],
          "scatter": [
           {
            "marker": {
             "colorbar": {
              "outlinewidth": 0,
              "ticks": ""
             }
            },
            "type": "scatter"
           }
          ],
          "scatter3d": [
           {
            "line": {
             "colorbar": {
              "outlinewidth": 0,
              "ticks": ""
             }
            },
            "marker": {
             "colorbar": {
              "outlinewidth": 0,
              "ticks": ""
             }
            },
            "type": "scatter3d"
           }
          ],
          "scattercarpet": [
           {
            "marker": {
             "colorbar": {
              "outlinewidth": 0,
              "ticks": ""
             }
            },
            "type": "scattercarpet"
           }
          ],
          "scattergeo": [
           {
            "marker": {
             "colorbar": {
              "outlinewidth": 0,
              "ticks": ""
             }
            },
            "type": "scattergeo"
           }
          ],
          "scattergl": [
           {
            "marker": {
             "colorbar": {
              "outlinewidth": 0,
              "ticks": ""
             }
            },
            "type": "scattergl"
           }
          ],
          "scattermapbox": [
           {
            "marker": {
             "colorbar": {
              "outlinewidth": 0,
              "ticks": ""
             }
            },
            "type": "scattermapbox"
           }
          ],
          "scatterpolar": [
           {
            "marker": {
             "colorbar": {
              "outlinewidth": 0,
              "ticks": ""
             }
            },
            "type": "scatterpolar"
           }
          ],
          "scatterpolargl": [
           {
            "marker": {
             "colorbar": {
              "outlinewidth": 0,
              "ticks": ""
             }
            },
            "type": "scatterpolargl"
           }
          ],
          "scatterternary": [
           {
            "marker": {
             "colorbar": {
              "outlinewidth": 0,
              "ticks": ""
             }
            },
            "type": "scatterternary"
           }
          ],
          "surface": [
           {
            "colorbar": {
             "outlinewidth": 0,
             "ticks": ""
            },
            "colorscale": [
             [
              0,
              "#0d0887"
             ],
             [
              0.1111111111111111,
              "#46039f"
             ],
             [
              0.2222222222222222,
              "#7201a8"
             ],
             [
              0.3333333333333333,
              "#9c179e"
             ],
             [
              0.4444444444444444,
              "#bd3786"
             ],
             [
              0.5555555555555556,
              "#d8576b"
             ],
             [
              0.6666666666666666,
              "#ed7953"
             ],
             [
              0.7777777777777778,
              "#fb9f3a"
             ],
             [
              0.8888888888888888,
              "#fdca26"
             ],
             [
              1,
              "#f0f921"
             ]
            ],
            "type": "surface"
           }
          ],
          "table": [
           {
            "cells": {
             "fill": {
              "color": "#EBF0F8"
             },
             "line": {
              "color": "white"
             }
            },
            "header": {
             "fill": {
              "color": "#C8D4E3"
             },
             "line": {
              "color": "white"
             }
            },
            "type": "table"
           }
          ]
         },
         "layout": {
          "annotationdefaults": {
           "arrowcolor": "#2a3f5f",
           "arrowhead": 0,
           "arrowwidth": 1
          },
          "autotypenumbers": "strict",
          "coloraxis": {
           "colorbar": {
            "outlinewidth": 0,
            "ticks": ""
           }
          },
          "colorscale": {
           "diverging": [
            [
             0,
             "#8e0152"
            ],
            [
             0.1,
             "#c51b7d"
            ],
            [
             0.2,
             "#de77ae"
            ],
            [
             0.3,
             "#f1b6da"
            ],
            [
             0.4,
             "#fde0ef"
            ],
            [
             0.5,
             "#f7f7f7"
            ],
            [
             0.6,
             "#e6f5d0"
            ],
            [
             0.7,
             "#b8e186"
            ],
            [
             0.8,
             "#7fbc41"
            ],
            [
             0.9,
             "#4d9221"
            ],
            [
             1,
             "#276419"
            ]
           ],
           "sequential": [
            [
             0,
             "#0d0887"
            ],
            [
             0.1111111111111111,
             "#46039f"
            ],
            [
             0.2222222222222222,
             "#7201a8"
            ],
            [
             0.3333333333333333,
             "#9c179e"
            ],
            [
             0.4444444444444444,
             "#bd3786"
            ],
            [
             0.5555555555555556,
             "#d8576b"
            ],
            [
             0.6666666666666666,
             "#ed7953"
            ],
            [
             0.7777777777777778,
             "#fb9f3a"
            ],
            [
             0.8888888888888888,
             "#fdca26"
            ],
            [
             1,
             "#f0f921"
            ]
           ],
           "sequentialminus": [
            [
             0,
             "#0d0887"
            ],
            [
             0.1111111111111111,
             "#46039f"
            ],
            [
             0.2222222222222222,
             "#7201a8"
            ],
            [
             0.3333333333333333,
             "#9c179e"
            ],
            [
             0.4444444444444444,
             "#bd3786"
            ],
            [
             0.5555555555555556,
             "#d8576b"
            ],
            [
             0.6666666666666666,
             "#ed7953"
            ],
            [
             0.7777777777777778,
             "#fb9f3a"
            ],
            [
             0.8888888888888888,
             "#fdca26"
            ],
            [
             1,
             "#f0f921"
            ]
           ]
          },
          "colorway": [
           "#636efa",
           "#EF553B",
           "#00cc96",
           "#ab63fa",
           "#FFA15A",
           "#19d3f3",
           "#FF6692",
           "#B6E880",
           "#FF97FF",
           "#FECB52"
          ],
          "font": {
           "color": "#2a3f5f"
          },
          "geo": {
           "bgcolor": "white",
           "lakecolor": "white",
           "landcolor": "#E5ECF6",
           "showlakes": true,
           "showland": true,
           "subunitcolor": "white"
          },
          "hoverlabel": {
           "align": "left"
          },
          "hovermode": "closest",
          "mapbox": {
           "style": "light"
          },
          "paper_bgcolor": "white",
          "plot_bgcolor": "#E5ECF6",
          "polar": {
           "angularaxis": {
            "gridcolor": "white",
            "linecolor": "white",
            "ticks": ""
           },
           "bgcolor": "#E5ECF6",
           "radialaxis": {
            "gridcolor": "white",
            "linecolor": "white",
            "ticks": ""
           }
          },
          "scene": {
           "xaxis": {
            "backgroundcolor": "#E5ECF6",
            "gridcolor": "white",
            "gridwidth": 2,
            "linecolor": "white",
            "showbackground": true,
            "ticks": "",
            "zerolinecolor": "white"
           },
           "yaxis": {
            "backgroundcolor": "#E5ECF6",
            "gridcolor": "white",
            "gridwidth": 2,
            "linecolor": "white",
            "showbackground": true,
            "ticks": "",
            "zerolinecolor": "white"
           },
           "zaxis": {
            "backgroundcolor": "#E5ECF6",
            "gridcolor": "white",
            "gridwidth": 2,
            "linecolor": "white",
            "showbackground": true,
            "ticks": "",
            "zerolinecolor": "white"
           }
          },
          "shapedefaults": {
           "line": {
            "color": "#2a3f5f"
           }
          },
          "ternary": {
           "aaxis": {
            "gridcolor": "white",
            "linecolor": "white",
            "ticks": ""
           },
           "baxis": {
            "gridcolor": "white",
            "linecolor": "white",
            "ticks": ""
           },
           "bgcolor": "#E5ECF6",
           "caxis": {
            "gridcolor": "white",
            "linecolor": "white",
            "ticks": ""
           }
          },
          "title": {
           "x": 0.05
          },
          "xaxis": {
           "automargin": true,
           "gridcolor": "white",
           "linecolor": "white",
           "ticks": "",
           "title": {
            "standoff": 15
           },
           "zerolinecolor": "white",
           "zerolinewidth": 2
          },
          "yaxis": {
           "automargin": true,
           "gridcolor": "white",
           "linecolor": "white",
           "ticks": "",
           "title": {
            "standoff": 15
           },
           "zerolinecolor": "white",
           "zerolinewidth": 2
          }
         }
        },
        "title": {
         "font": {
          "color": "#4D5663"
         }
        },
        "xaxis": {
         "gridcolor": "#E1E5ED",
         "showgrid": true,
         "tickfont": {
          "color": "#4D5663"
         },
         "title": {
          "font": {
           "color": "#4D5663"
          },
          "text": ""
         },
         "zerolinecolor": "#E1E5ED"
        },
        "yaxis": {
         "gridcolor": "#E1E5ED",
         "showgrid": true,
         "tickfont": {
          "color": "#4D5663"
         },
         "title": {
          "font": {
           "color": "#4D5663"
          },
          "text": ""
         },
         "zerolinecolor": "#E1E5ED"
        }
       }
      },
      "text/html": [
       "<div>                            <div id=\"6f2449a5-7a52-45f2-b097-38c60779c450\" class=\"plotly-graph-div\" style=\"height:525px; width:100%;\"></div>            <script type=\"text/javascript\">                require([\"plotly\"], function(Plotly) {                    window.PLOTLYENV=window.PLOTLYENV || {};\n",
       "                    window.PLOTLYENV.BASE_URL='https://plot.ly';                                    if (document.getElementById(\"6f2449a5-7a52-45f2-b097-38c60779c450\")) {                    Plotly.newPlot(                        \"6f2449a5-7a52-45f2-b097-38c60779c450\",                        [{\"marker\":{\"color\":[\"rgb(255, 153, 51)\",\"rgb(55, 128, 191)\",\"rgb(50, 171, 96)\",\"rgb(128, 0, 128)\",\"rgb(219, 64, 82)\",\"rgb(0, 128, 128)\",\"rgb(255, 255, 51)\",\"rgb(128, 128, 0)\",\"rgb(251, 128, 114)\",\"rgb(128, 177, 211)\"],\"line\":{\"width\":1.3},\"size\":[69,71,82,65,74,31,58,82,63,84,66,64,69,45,45,62,56,50,82,70,89,60,34,31,82,41,74,68,60,86,26,47,64,52,92,32,86,39,63,62,33,79,83,18,112,45,43,56,55,71,41,34,61,74,60,99,71,82,48,101,60,53,87,61,52,77,44,74,64,51,46,76,80,80,36,71,71,50,94,73,108,73,61,94,96,63,91,79,60,80,89,44,47,50,12,93,78,64,73,20],\"symbol\":\"circle\"},\"mode\":\"markers\",\"text\":\"\",\"x\":[0.6704549516109599,0.082535443479542,-0.030277607876463258,-0.7296129081944889,0.1527265413175817,-0.33813441137032424,1.9042339492772191,-0.7588056246726919,-0.8707965588081601,0.2896340361845918,-1.5237665192059862,0.9484620621971421,0.10553141650462003,0.2092718349405866,1.1640347231125636,0.4858426802866781,0.11933983453608828,0.2728169531371193,0.28919657021806133,1.073483561244945,0.07028375795764374,-0.1887932147115583,-1.0600689448473835,-0.3019363572412175,-0.8126307144185704,0.04021264055831378,-0.9798153152930743,-0.6070842061572903,-0.8067785203768048,-0.36628255849385094,-0.490724497613985,-0.11948959467927889,0.48024340826134854,-1.1114681568524802,0.00876717415713063,0.6153754248886335,-1.4120273218003125,-0.29772386315529703,-1.5277547107763774,0.8806863350762015,-0.02202561406455898,0.18378231072850623,-1.2931621264832485,-0.3972448926752685,-0.5753141033381041,0.6099801439466861,-0.8322217489099195,-0.05349257776630721,0.8517356264904371,-0.6052906360039375,-0.016646820797517226,-0.8891175447176948,1.8392114049926793,-1.189159093024214,-1.469324037228592,-0.20638700121277379,1.2880732643088497,1.011507627731839,-0.3227307063649429,1.2961924610631739,-0.7642289271104794,-0.8007653934311705,0.4603318905907266,1.0522096884457013,1.3600251679490534,-0.36805019645124054,-0.5252295655825047,0.3721275871542655,-1.1589425465940177,0.2552543469502206,-1.219051279316724,0.7809900058034129,0.6429968571185835,-0.9685863470324628,1.2932642257498272,0.8991878465435622,0.6702614740877187,-1.53023911252679,-0.33211763988874765,1.4833033292419877,0.5966607396311193,-1.3509756071664498,0.8079238287024253,1.6795389610664637,-0.6956294545177134,0.7239483934768534,-0.8703039150087871,2.4752648340661243,0.6095555501482074,-0.05135436217061349,-1.441317146126483,-1.7698229100332996,-0.854867235643374,0.01573115303956426,0.01366965315720599,-0.055649749827862735,0.9996389487811868,0.23448412479115777,1.3109218538891279,0.11222823118418822],\"y\":[-0.2682455403138665,0.9219032901867988,-2.6316192007926147,-0.7002221680723266,-1.1410201172424725,0.1982088166397885,-0.36916858732116814,-0.346988451454806,-0.5067690548727558,-0.48657622979598436,-0.3779466626884306,-0.9057264109845606,-1.0904291766858063,-0.7245917615110173,-0.7023340161584938,-0.12909160467106529,-0.8886651919263007,0.3823079631484114,-1.0900373872538167,0.04590737193270273,0.3449595019039827,-0.21952347502178463,-0.045830801280706795,0.27039014309921827,0.9752355335661154,-0.6297684032026852,-1.4341538818078072,-2.928405166974158,-0.24271171257920754,-0.8045786019109605,-0.7726865519387884,-0.38402965758197344,0.43511238729760066,0.6040661512852107,-0.55675228038275,-2.0752224149061544,0.30665005723854494,1.052301828580547,-0.3096428207681808,-1.1114785994044372,0.16438707146105638,0.7303825344045778,-0.6668291129437066,-1.2047590788659568,-0.6527833867437385,-0.17869000879867572,0.6164832688470566,1.1410378050428858,-1.723664068438458,-0.6046277913177348,-0.5054846301754152,0.776550047785937,0.46522658965141034,1.0350918146874746,0.9008286556081461,0.6095189639974038,-0.5152331945488056,0.23869453965612214,-1.395265038890855,0.509141026613451,-0.20929089012008917,-0.27011429036927975,0.8636244035153211,-0.688059366148949,-0.8832300590337048,-2.928352824671613,0.07989375770754963,-1.9431385480998216,-1.8746224168674628,0.2443443760851938,0.3794392960523368,0.11523202363410734,0.12093706648550032,-0.483520740771378,-1.371270121893702,-0.0751091049119595,0.09543516448164553,0.7550659367358067,1.4773525481483383,-1.6667177545418252,0.024320580466173938,-0.42969113088106947,-0.4717015774845612,-0.8692805274518534,0.8098607957408062,-0.7958892117997776,-2.532441312455747,0.22346344034817142,0.8033086864689049,1.684673808657013,0.3552602777281829,0.3419395197719315,-0.12852374038004932,1.382975119289779,-0.0655957106522503,-0.3145521070114627,-1.4393287908028378,-0.3295221740812238,-0.42722999899320613,-0.9031641314456635],\"type\":\"scatter\"}],                        {\"legend\":{\"bgcolor\":\"#F5F6F9\",\"font\":{\"color\":\"#4D5663\"}},\"paper_bgcolor\":\"#F5F6F9\",\"plot_bgcolor\":\"#F5F6F9\",\"template\":{\"data\":{\"barpolar\":[{\"marker\":{\"line\":{\"color\":\"#E5ECF6\",\"width\":0.5},\"pattern\":{\"fillmode\":\"overlay\",\"size\":10,\"solidity\":0.2}},\"type\":\"barpolar\"}],\"bar\":[{\"error_x\":{\"color\":\"#2a3f5f\"},\"error_y\":{\"color\":\"#2a3f5f\"},\"marker\":{\"line\":{\"color\":\"#E5ECF6\",\"width\":0.5},\"pattern\":{\"fillmode\":\"overlay\",\"size\":10,\"solidity\":0.2}},\"type\":\"bar\"}],\"carpet\":[{\"aaxis\":{\"endlinecolor\":\"#2a3f5f\",\"gridcolor\":\"white\",\"linecolor\":\"white\",\"minorgridcolor\":\"white\",\"startlinecolor\":\"#2a3f5f\"},\"baxis\":{\"endlinecolor\":\"#2a3f5f\",\"gridcolor\":\"white\",\"linecolor\":\"white\",\"minorgridcolor\":\"white\",\"startlinecolor\":\"#2a3f5f\"},\"type\":\"carpet\"}],\"choropleth\":[{\"colorbar\":{\"outlinewidth\":0,\"ticks\":\"\"},\"type\":\"choropleth\"}],\"contourcarpet\":[{\"colorbar\":{\"outlinewidth\":0,\"ticks\":\"\"},\"type\":\"contourcarpet\"}],\"contour\":[{\"colorbar\":{\"outlinewidth\":0,\"ticks\":\"\"},\"colorscale\":[[0.0,\"#0d0887\"],[0.1111111111111111,\"#46039f\"],[0.2222222222222222,\"#7201a8\"],[0.3333333333333333,\"#9c179e\"],[0.4444444444444444,\"#bd3786\"],[0.5555555555555556,\"#d8576b\"],[0.6666666666666666,\"#ed7953\"],[0.7777777777777778,\"#fb9f3a\"],[0.8888888888888888,\"#fdca26\"],[1.0,\"#f0f921\"]],\"type\":\"contour\"}],\"heatmapgl\":[{\"colorbar\":{\"outlinewidth\":0,\"ticks\":\"\"},\"colorscale\":[[0.0,\"#0d0887\"],[0.1111111111111111,\"#46039f\"],[0.2222222222222222,\"#7201a8\"],[0.3333333333333333,\"#9c179e\"],[0.4444444444444444,\"#bd3786\"],[0.5555555555555556,\"#d8576b\"],[0.6666666666666666,\"#ed7953\"],[0.7777777777777778,\"#fb9f3a\"],[0.8888888888888888,\"#fdca26\"],[1.0,\"#f0f921\"]],\"type\":\"heatmapgl\"}],\"heatmap\":[{\"colorbar\":{\"outlinewidth\":0,\"ticks\":\"\"},\"colorscale\":[[0.0,\"#0d0887\"],[0.1111111111111111,\"#46039f\"],[0.2222222222222222,\"#7201a8\"],[0.3333333333333333,\"#9c179e\"],[0.4444444444444444,\"#bd3786\"],[0.5555555555555556,\"#d8576b\"],[0.6666666666666666,\"#ed7953\"],[0.7777777777777778,\"#fb9f3a\"],[0.8888888888888888,\"#fdca26\"],[1.0,\"#f0f921\"]],\"type\":\"heatmap\"}],\"histogram2dcontour\":[{\"colorbar\":{\"outlinewidth\":0,\"ticks\":\"\"},\"colorscale\":[[0.0,\"#0d0887\"],[0.1111111111111111,\"#46039f\"],[0.2222222222222222,\"#7201a8\"],[0.3333333333333333,\"#9c179e\"],[0.4444444444444444,\"#bd3786\"],[0.5555555555555556,\"#d8576b\"],[0.6666666666666666,\"#ed7953\"],[0.7777777777777778,\"#fb9f3a\"],[0.8888888888888888,\"#fdca26\"],[1.0,\"#f0f921\"]],\"type\":\"histogram2dcontour\"}],\"histogram2d\":[{\"colorbar\":{\"outlinewidth\":0,\"ticks\":\"\"},\"colorscale\":[[0.0,\"#0d0887\"],[0.1111111111111111,\"#46039f\"],[0.2222222222222222,\"#7201a8\"],[0.3333333333333333,\"#9c179e\"],[0.4444444444444444,\"#bd3786\"],[0.5555555555555556,\"#d8576b\"],[0.6666666666666666,\"#ed7953\"],[0.7777777777777778,\"#fb9f3a\"],[0.8888888888888888,\"#fdca26\"],[1.0,\"#f0f921\"]],\"type\":\"histogram2d\"}],\"histogram\":[{\"marker\":{\"pattern\":{\"fillmode\":\"overlay\",\"size\":10,\"solidity\":0.2}},\"type\":\"histogram\"}],\"mesh3d\":[{\"colorbar\":{\"outlinewidth\":0,\"ticks\":\"\"},\"type\":\"mesh3d\"}],\"parcoords\":[{\"line\":{\"colorbar\":{\"outlinewidth\":0,\"ticks\":\"\"}},\"type\":\"parcoords\"}],\"pie\":[{\"automargin\":true,\"type\":\"pie\"}],\"scatter3d\":[{\"line\":{\"colorbar\":{\"outlinewidth\":0,\"ticks\":\"\"}},\"marker\":{\"colorbar\":{\"outlinewidth\":0,\"ticks\":\"\"}},\"type\":\"scatter3d\"}],\"scattercarpet\":[{\"marker\":{\"colorbar\":{\"outlinewidth\":0,\"ticks\":\"\"}},\"type\":\"scattercarpet\"}],\"scattergeo\":[{\"marker\":{\"colorbar\":{\"outlinewidth\":0,\"ticks\":\"\"}},\"type\":\"scattergeo\"}],\"scattergl\":[{\"marker\":{\"colorbar\":{\"outlinewidth\":0,\"ticks\":\"\"}},\"type\":\"scattergl\"}],\"scattermapbox\":[{\"marker\":{\"colorbar\":{\"outlinewidth\":0,\"ticks\":\"\"}},\"type\":\"scattermapbox\"}],\"scatterpolargl\":[{\"marker\":{\"colorbar\":{\"outlinewidth\":0,\"ticks\":\"\"}},\"type\":\"scatterpolargl\"}],\"scatterpolar\":[{\"marker\":{\"colorbar\":{\"outlinewidth\":0,\"ticks\":\"\"}},\"type\":\"scatterpolar\"}],\"scatter\":[{\"marker\":{\"colorbar\":{\"outlinewidth\":0,\"ticks\":\"\"}},\"type\":\"scatter\"}],\"scatterternary\":[{\"marker\":{\"colorbar\":{\"outlinewidth\":0,\"ticks\":\"\"}},\"type\":\"scatterternary\"}],\"surface\":[{\"colorbar\":{\"outlinewidth\":0,\"ticks\":\"\"},\"colorscale\":[[0.0,\"#0d0887\"],[0.1111111111111111,\"#46039f\"],[0.2222222222222222,\"#7201a8\"],[0.3333333333333333,\"#9c179e\"],[0.4444444444444444,\"#bd3786\"],[0.5555555555555556,\"#d8576b\"],[0.6666666666666666,\"#ed7953\"],[0.7777777777777778,\"#fb9f3a\"],[0.8888888888888888,\"#fdca26\"],[1.0,\"#f0f921\"]],\"type\":\"surface\"}],\"table\":[{\"cells\":{\"fill\":{\"color\":\"#EBF0F8\"},\"line\":{\"color\":\"white\"}},\"header\":{\"fill\":{\"color\":\"#C8D4E3\"},\"line\":{\"color\":\"white\"}},\"type\":\"table\"}]},\"layout\":{\"annotationdefaults\":{\"arrowcolor\":\"#2a3f5f\",\"arrowhead\":0,\"arrowwidth\":1},\"autotypenumbers\":\"strict\",\"coloraxis\":{\"colorbar\":{\"outlinewidth\":0,\"ticks\":\"\"}},\"colorscale\":{\"diverging\":[[0,\"#8e0152\"],[0.1,\"#c51b7d\"],[0.2,\"#de77ae\"],[0.3,\"#f1b6da\"],[0.4,\"#fde0ef\"],[0.5,\"#f7f7f7\"],[0.6,\"#e6f5d0\"],[0.7,\"#b8e186\"],[0.8,\"#7fbc41\"],[0.9,\"#4d9221\"],[1,\"#276419\"]],\"sequential\":[[0.0,\"#0d0887\"],[0.1111111111111111,\"#46039f\"],[0.2222222222222222,\"#7201a8\"],[0.3333333333333333,\"#9c179e\"],[0.4444444444444444,\"#bd3786\"],[0.5555555555555556,\"#d8576b\"],[0.6666666666666666,\"#ed7953\"],[0.7777777777777778,\"#fb9f3a\"],[0.8888888888888888,\"#fdca26\"],[1.0,\"#f0f921\"]],\"sequentialminus\":[[0.0,\"#0d0887\"],[0.1111111111111111,\"#46039f\"],[0.2222222222222222,\"#7201a8\"],[0.3333333333333333,\"#9c179e\"],[0.4444444444444444,\"#bd3786\"],[0.5555555555555556,\"#d8576b\"],[0.6666666666666666,\"#ed7953\"],[0.7777777777777778,\"#fb9f3a\"],[0.8888888888888888,\"#fdca26\"],[1.0,\"#f0f921\"]]},\"colorway\":[\"#636efa\",\"#EF553B\",\"#00cc96\",\"#ab63fa\",\"#FFA15A\",\"#19d3f3\",\"#FF6692\",\"#B6E880\",\"#FF97FF\",\"#FECB52\"],\"font\":{\"color\":\"#2a3f5f\"},\"geo\":{\"bgcolor\":\"white\",\"lakecolor\":\"white\",\"landcolor\":\"#E5ECF6\",\"showlakes\":true,\"showland\":true,\"subunitcolor\":\"white\"},\"hoverlabel\":{\"align\":\"left\"},\"hovermode\":\"closest\",\"mapbox\":{\"style\":\"light\"},\"paper_bgcolor\":\"white\",\"plot_bgcolor\":\"#E5ECF6\",\"polar\":{\"angularaxis\":{\"gridcolor\":\"white\",\"linecolor\":\"white\",\"ticks\":\"\"},\"bgcolor\":\"#E5ECF6\",\"radialaxis\":{\"gridcolor\":\"white\",\"linecolor\":\"white\",\"ticks\":\"\"}},\"scene\":{\"xaxis\":{\"backgroundcolor\":\"#E5ECF6\",\"gridcolor\":\"white\",\"gridwidth\":2,\"linecolor\":\"white\",\"showbackground\":true,\"ticks\":\"\",\"zerolinecolor\":\"white\"},\"yaxis\":{\"backgroundcolor\":\"#E5ECF6\",\"gridcolor\":\"white\",\"gridwidth\":2,\"linecolor\":\"white\",\"showbackground\":true,\"ticks\":\"\",\"zerolinecolor\":\"white\"},\"zaxis\":{\"backgroundcolor\":\"#E5ECF6\",\"gridcolor\":\"white\",\"gridwidth\":2,\"linecolor\":\"white\",\"showbackground\":true,\"ticks\":\"\",\"zerolinecolor\":\"white\"}},\"shapedefaults\":{\"line\":{\"color\":\"#2a3f5f\"}},\"ternary\":{\"aaxis\":{\"gridcolor\":\"white\",\"linecolor\":\"white\",\"ticks\":\"\"},\"baxis\":{\"gridcolor\":\"white\",\"linecolor\":\"white\",\"ticks\":\"\"},\"bgcolor\":\"#E5ECF6\",\"caxis\":{\"gridcolor\":\"white\",\"linecolor\":\"white\",\"ticks\":\"\"}},\"title\":{\"x\":0.05},\"xaxis\":{\"automargin\":true,\"gridcolor\":\"white\",\"linecolor\":\"white\",\"ticks\":\"\",\"title\":{\"standoff\":15},\"zerolinecolor\":\"white\",\"zerolinewidth\":2},\"yaxis\":{\"automargin\":true,\"gridcolor\":\"white\",\"linecolor\":\"white\",\"ticks\":\"\",\"title\":{\"standoff\":15},\"zerolinecolor\":\"white\",\"zerolinewidth\":2}}},\"title\":{\"font\":{\"color\":\"#4D5663\"}},\"xaxis\":{\"gridcolor\":\"#E1E5ED\",\"showgrid\":true,\"tickfont\":{\"color\":\"#4D5663\"},\"title\":{\"font\":{\"color\":\"#4D5663\"},\"text\":\"\"},\"zerolinecolor\":\"#E1E5ED\"},\"yaxis\":{\"gridcolor\":\"#E1E5ED\",\"showgrid\":true,\"tickfont\":{\"color\":\"#4D5663\"},\"title\":{\"font\":{\"color\":\"#4D5663\"},\"text\":\"\"},\"zerolinecolor\":\"#E1E5ED\"}},                        {\"showLink\": true, \"linkText\": \"Export to plot.ly\", \"plotlyServerURL\": \"https://plot.ly\", \"responsive\": true}                    ).then(function(){\n",
       "                            \n",
       "var gd = document.getElementById('6f2449a5-7a52-45f2-b097-38c60779c450');\n",
       "var x = new MutationObserver(function (mutations, observer) {{\n",
       "        var display = window.getComputedStyle(gd).display;\n",
       "        if (!display || display === 'none') {{\n",
       "            console.log([gd, 'removed!']);\n",
       "            Plotly.purge(gd);\n",
       "            observer.disconnect();\n",
       "        }}\n",
       "}});\n",
       "\n",
       "// Listen for the removal of the full notebook cells\n",
       "var notebookContainer = gd.closest('#notebook-container');\n",
       "if (notebookContainer) {{\n",
       "    x.observe(notebookContainer, {childList: true});\n",
       "}}\n",
       "\n",
       "// Listen for the clearing of the current output cell\n",
       "var outputEl = gd.closest('.output');\n",
       "if (outputEl) {{\n",
       "    x.observe(outputEl, {childList: true});\n",
       "}}\n",
       "\n",
       "                        })                };                });            </script>        </div>"
      ]
     },
     "metadata": {},
     "output_type": "display_data"
    }
   ],
   "source": [
    "df.iplot(kind='bubble',x='A',y='B',size='C')"
   ]
  },
  {
   "cell_type": "markdown",
   "metadata": {},
   "source": [
    "## scatter_matrix()\n",
    "\n",
    "Similar to sns.pairplot()"
   ]
  },
  {
   "cell_type": "code",
   "execution_count": 18,
   "metadata": {},
   "outputs": [
    {
     "data": {
      "application/vnd.plotly.v1+json": {
       "config": {
        "linkText": "Export to plot.ly",
        "plotlyServerURL": "https://plot.ly",
        "showLink": true
       },
       "data": [
        {
         "histfunc": "count",
         "histnorm": "",
         "marker": {
          "color": "rgba(255, 153, 51, 1.0)",
          "line": {
           "color": "#4D5663",
           "width": 1.3
          }
         },
         "name": "A",
         "nbinsx": 10,
         "opacity": 0.8,
         "orientation": "v",
         "type": "histogram",
         "x": [
          0.6704549516109599,
          0.082535443479542,
          -0.030277607876463258,
          -0.7296129081944889,
          0.1527265413175817,
          -0.33813441137032424,
          1.9042339492772191,
          -0.7588056246726919,
          -0.8707965588081601,
          0.2896340361845918,
          -1.5237665192059862,
          0.9484620621971421,
          0.10553141650462003,
          0.2092718349405866,
          1.1640347231125636,
          0.4858426802866781,
          0.11933983453608828,
          0.2728169531371193,
          0.28919657021806133,
          1.073483561244945,
          0.07028375795764374,
          -0.1887932147115583,
          -1.0600689448473835,
          -0.3019363572412175,
          -0.8126307144185704,
          0.04021264055831378,
          -0.9798153152930743,
          -0.6070842061572903,
          -0.8067785203768048,
          -0.36628255849385094,
          -0.490724497613985,
          -0.11948959467927889,
          0.48024340826134854,
          -1.1114681568524802,
          0.00876717415713063,
          0.6153754248886335,
          -1.4120273218003125,
          -0.29772386315529703,
          -1.5277547107763774,
          0.8806863350762015,
          -0.02202561406455898,
          0.18378231072850623,
          -1.2931621264832485,
          -0.3972448926752685,
          -0.5753141033381041,
          0.6099801439466861,
          -0.8322217489099195,
          -0.05349257776630721,
          0.8517356264904371,
          -0.6052906360039375,
          -0.016646820797517226,
          -0.8891175447176948,
          1.8392114049926793,
          -1.189159093024214,
          -1.469324037228592,
          -0.20638700121277379,
          1.2880732643088497,
          1.011507627731839,
          -0.3227307063649429,
          1.2961924610631739,
          -0.7642289271104794,
          -0.8007653934311705,
          0.4603318905907266,
          1.0522096884457013,
          1.3600251679490534,
          -0.36805019645124054,
          -0.5252295655825047,
          0.3721275871542655,
          -1.1589425465940177,
          0.2552543469502206,
          -1.219051279316724,
          0.7809900058034129,
          0.6429968571185835,
          -0.9685863470324628,
          1.2932642257498272,
          0.8991878465435622,
          0.6702614740877187,
          -1.53023911252679,
          -0.33211763988874765,
          1.4833033292419877,
          0.5966607396311193,
          -1.3509756071664498,
          0.8079238287024253,
          1.6795389610664637,
          -0.6956294545177134,
          0.7239483934768534,
          -0.8703039150087871,
          2.4752648340661243,
          0.6095555501482074,
          -0.05135436217061349,
          -1.441317146126483,
          -1.7698229100332996,
          -0.854867235643374,
          0.01573115303956426,
          0.01366965315720599,
          -0.055649749827862735,
          0.9996389487811868,
          0.23448412479115777,
          1.3109218538891279,
          0.11222823118418822
         ],
         "xaxis": "x",
         "yaxis": "y"
        },
        {
         "line": {
          "color": "rgba(128, 128, 128, 1.0)",
          "dash": "solid",
          "shape": "linear",
          "width": 1.3
         },
         "marker": {
          "size": 2,
          "symbol": "circle"
         },
         "mode": "markers",
         "name": "A",
         "text": "",
         "type": "scatter",
         "x": [
          -0.2682455403138665,
          0.9219032901867988,
          -2.6316192007926147,
          -0.7002221680723266,
          -1.1410201172424725,
          0.1982088166397885,
          -0.36916858732116814,
          -0.346988451454806,
          -0.5067690548727558,
          -0.48657622979598436,
          -0.3779466626884306,
          -0.9057264109845606,
          -1.0904291766858063,
          -0.7245917615110173,
          -0.7023340161584938,
          -0.12909160467106529,
          -0.8886651919263007,
          0.3823079631484114,
          -1.0900373872538167,
          0.04590737193270273,
          0.3449595019039827,
          -0.21952347502178463,
          -0.045830801280706795,
          0.27039014309921827,
          0.9752355335661154,
          -0.6297684032026852,
          -1.4341538818078072,
          -2.928405166974158,
          -0.24271171257920754,
          -0.8045786019109605,
          -0.7726865519387884,
          -0.38402965758197344,
          0.43511238729760066,
          0.6040661512852107,
          -0.55675228038275,
          -2.0752224149061544,
          0.30665005723854494,
          1.052301828580547,
          -0.3096428207681808,
          -1.1114785994044372,
          0.16438707146105638,
          0.7303825344045778,
          -0.6668291129437066,
          -1.2047590788659568,
          -0.6527833867437385,
          -0.17869000879867572,
          0.6164832688470566,
          1.1410378050428858,
          -1.723664068438458,
          -0.6046277913177348,
          -0.5054846301754152,
          0.776550047785937,
          0.46522658965141034,
          1.0350918146874746,
          0.9008286556081461,
          0.6095189639974038,
          -0.5152331945488056,
          0.23869453965612214,
          -1.395265038890855,
          0.509141026613451,
          -0.20929089012008917,
          -0.27011429036927975,
          0.8636244035153211,
          -0.688059366148949,
          -0.8832300590337048,
          -2.928352824671613,
          0.07989375770754963,
          -1.9431385480998216,
          -1.8746224168674628,
          0.2443443760851938,
          0.3794392960523368,
          0.11523202363410734,
          0.12093706648550032,
          -0.483520740771378,
          -1.371270121893702,
          -0.0751091049119595,
          0.09543516448164553,
          0.7550659367358067,
          1.4773525481483383,
          -1.6667177545418252,
          0.024320580466173938,
          -0.42969113088106947,
          -0.4717015774845612,
          -0.8692805274518534,
          0.8098607957408062,
          -0.7958892117997776,
          -2.532441312455747,
          0.22346344034817142,
          0.8033086864689049,
          1.684673808657013,
          0.3552602777281829,
          0.3419395197719315,
          -0.12852374038004932,
          1.382975119289779,
          -0.0655957106522503,
          -0.3145521070114627,
          -1.4393287908028378,
          -0.3295221740812238,
          -0.42722999899320613,
          -0.9031641314456635
         ],
         "xaxis": "x2",
         "y": [
          0.6704549516109599,
          0.082535443479542,
          -0.030277607876463258,
          -0.7296129081944889,
          0.1527265413175817,
          -0.33813441137032424,
          1.9042339492772191,
          -0.7588056246726919,
          -0.8707965588081601,
          0.2896340361845918,
          -1.5237665192059862,
          0.9484620621971421,
          0.10553141650462003,
          0.2092718349405866,
          1.1640347231125636,
          0.4858426802866781,
          0.11933983453608828,
          0.2728169531371193,
          0.28919657021806133,
          1.073483561244945,
          0.07028375795764374,
          -0.1887932147115583,
          -1.0600689448473835,
          -0.3019363572412175,
          -0.8126307144185704,
          0.04021264055831378,
          -0.9798153152930743,
          -0.6070842061572903,
          -0.8067785203768048,
          -0.36628255849385094,
          -0.490724497613985,
          -0.11948959467927889,
          0.48024340826134854,
          -1.1114681568524802,
          0.00876717415713063,
          0.6153754248886335,
          -1.4120273218003125,
          -0.29772386315529703,
          -1.5277547107763774,
          0.8806863350762015,
          -0.02202561406455898,
          0.18378231072850623,
          -1.2931621264832485,
          -0.3972448926752685,
          -0.5753141033381041,
          0.6099801439466861,
          -0.8322217489099195,
          -0.05349257776630721,
          0.8517356264904371,
          -0.6052906360039375,
          -0.016646820797517226,
          -0.8891175447176948,
          1.8392114049926793,
          -1.189159093024214,
          -1.469324037228592,
          -0.20638700121277379,
          1.2880732643088497,
          1.011507627731839,
          -0.3227307063649429,
          1.2961924610631739,
          -0.7642289271104794,
          -0.8007653934311705,
          0.4603318905907266,
          1.0522096884457013,
          1.3600251679490534,
          -0.36805019645124054,
          -0.5252295655825047,
          0.3721275871542655,
          -1.1589425465940177,
          0.2552543469502206,
          -1.219051279316724,
          0.7809900058034129,
          0.6429968571185835,
          -0.9685863470324628,
          1.2932642257498272,
          0.8991878465435622,
          0.6702614740877187,
          -1.53023911252679,
          -0.33211763988874765,
          1.4833033292419877,
          0.5966607396311193,
          -1.3509756071664498,
          0.8079238287024253,
          1.6795389610664637,
          -0.6956294545177134,
          0.7239483934768534,
          -0.8703039150087871,
          2.4752648340661243,
          0.6095555501482074,
          -0.05135436217061349,
          -1.441317146126483,
          -1.7698229100332996,
          -0.854867235643374,
          0.01573115303956426,
          0.01366965315720599,
          -0.055649749827862735,
          0.9996389487811868,
          0.23448412479115777,
          1.3109218538891279,
          0.11222823118418822
         ],
         "yaxis": "y2"
        },
        {
         "line": {
          "color": "rgba(128, 128, 128, 1.0)",
          "dash": "solid",
          "shape": "linear",
          "width": 1.3
         },
         "marker": {
          "size": 2,
          "symbol": "circle"
         },
         "mode": "markers",
         "name": "A",
         "text": "",
         "type": "scatter",
         "x": [
          0.36701710595825254,
          0.46000033353965614,
          0.9737334163013094,
          0.19854008303274714,
          0.5998526204284188,
          -1.3946066889939361,
          -0.12155804082863964,
          1.0055548804895427,
          0.0810987255363289,
          1.103511469305969,
          0.26398199983883763,
          0.14593148133072104,
          0.37985804050238503,
          -0.7153516367654928,
          -0.7176568175878837,
          0.03275806960429191,
          -0.21948315755816733,
          -0.49153818956942047,
          0.9659477856167753,
          0.4249527366042526,
          1.3111017977551336,
          -0.019792522179095374,
          -1.2732567736519131,
          -1.3970325048240173,
          0.9667427222174672,
          -0.9379307460303506,
          0.6225612400113906,
          0.3574663346986022,
          -0.03668086876447439,
          1.1837503274675245,
          -1.604460223832529,
          -0.6401589833583028,
          0.13026600116142184,
          -0.4135757855699605,
          1.4515954587331912,
          -1.3241217249524266,
          1.1936281693711277,
          -1.0231318785892891,
          0.09220417397157808,
          0.06295717441328277,
          -1.301709312357675,
          0.8692975221881372,
          1.0152154701158727,
          -1.9967647136128595,
          2.363876410286345,
          -0.7321134713851997,
          -0.846238770549181,
          -0.225280736209897,
          -0.26119808038949116,
          0.49557985426913875,
          -0.9118071933419445,
          -1.2594602159056778,
          -0.013575887746153474,
          0.6005294650913788,
          -0.030760494323134456,
          1.7743909371825128,
          0.4638200144398666,
          0.9744914947314348,
          -0.5788267384660811,
          1.8585222777023265,
          -0.017519813758613143,
          -0.355558060494097,
          1.2429028981992543,
          0.005605265585401496,
          -0.42698953276129514,
          0.775773218390474,
          -0.7991494715942651,
          0.5925055503475269,
          0.16788535015079373,
          -0.4488485182848409,
          -0.6859757858458887,
          0.7003274647135272,
          0.9056208476111676,
          0.8718717808239559,
          -1.164773779135178,
          0.4592593402858712,
          0.4973666576735957,
          -0.5131693678338795,
          1.557724043455767,
          0.5536660281074894,
          2.2010221554819656,
          0.5646823570649336,
          0.028072525274820983,
          1.543652803147221,
          1.6559690185397318,
          0.1043096014372564,
          1.397254925511402,
          0.8511227651769517,
          -0.02821729362196425,
          0.9102249082441589,
          1.2937701916636015,
          -0.7799757916089121,
          -0.6309236250550366,
          -0.4968154982488999,
          -2.3002338182880306,
          1.513093666990525,
          0.8167253534870564,
          0.1612722302995093,
          0.5813704403961676,
          -1.9056960300675936
         ],
         "xaxis": "x3",
         "y": [
          0.6704549516109599,
          0.082535443479542,
          -0.030277607876463258,
          -0.7296129081944889,
          0.1527265413175817,
          -0.33813441137032424,
          1.9042339492772191,
          -0.7588056246726919,
          -0.8707965588081601,
          0.2896340361845918,
          -1.5237665192059862,
          0.9484620621971421,
          0.10553141650462003,
          0.2092718349405866,
          1.1640347231125636,
          0.4858426802866781,
          0.11933983453608828,
          0.2728169531371193,
          0.28919657021806133,
          1.073483561244945,
          0.07028375795764374,
          -0.1887932147115583,
          -1.0600689448473835,
          -0.3019363572412175,
          -0.8126307144185704,
          0.04021264055831378,
          -0.9798153152930743,
          -0.6070842061572903,
          -0.8067785203768048,
          -0.36628255849385094,
          -0.490724497613985,
          -0.11948959467927889,
          0.48024340826134854,
          -1.1114681568524802,
          0.00876717415713063,
          0.6153754248886335,
          -1.4120273218003125,
          -0.29772386315529703,
          -1.5277547107763774,
          0.8806863350762015,
          -0.02202561406455898,
          0.18378231072850623,
          -1.2931621264832485,
          -0.3972448926752685,
          -0.5753141033381041,
          0.6099801439466861,
          -0.8322217489099195,
          -0.05349257776630721,
          0.8517356264904371,
          -0.6052906360039375,
          -0.016646820797517226,
          -0.8891175447176948,
          1.8392114049926793,
          -1.189159093024214,
          -1.469324037228592,
          -0.20638700121277379,
          1.2880732643088497,
          1.011507627731839,
          -0.3227307063649429,
          1.2961924610631739,
          -0.7642289271104794,
          -0.8007653934311705,
          0.4603318905907266,
          1.0522096884457013,
          1.3600251679490534,
          -0.36805019645124054,
          -0.5252295655825047,
          0.3721275871542655,
          -1.1589425465940177,
          0.2552543469502206,
          -1.219051279316724,
          0.7809900058034129,
          0.6429968571185835,
          -0.9685863470324628,
          1.2932642257498272,
          0.8991878465435622,
          0.6702614740877187,
          -1.53023911252679,
          -0.33211763988874765,
          1.4833033292419877,
          0.5966607396311193,
          -1.3509756071664498,
          0.8079238287024253,
          1.6795389610664637,
          -0.6956294545177134,
          0.7239483934768534,
          -0.8703039150087871,
          2.4752648340661243,
          0.6095555501482074,
          -0.05135436217061349,
          -1.441317146126483,
          -1.7698229100332996,
          -0.854867235643374,
          0.01573115303956426,
          0.01366965315720599,
          -0.055649749827862735,
          0.9996389487811868,
          0.23448412479115777,
          1.3109218538891279,
          0.11222823118418822
         ],
         "yaxis": "y3"
        },
        {
         "line": {
          "color": "rgba(128, 128, 128, 1.0)",
          "dash": "solid",
          "shape": "linear",
          "width": 1.3
         },
         "marker": {
          "size": 2,
          "symbol": "circle"
         },
         "mode": "markers",
         "name": "A",
         "text": "",
         "type": "scatter",
         "x": [
          0.10213612530568543,
          0.2937547169864263,
          0.1767055109002836,
          -0.2973183925802308,
          -0.14908000139268454,
          -0.8430874326093657,
          -0.4928879427187282,
          -0.28143857828686214,
          0.5735779816605117,
          -1.7476240727312766,
          0.5728574698103156,
          0.4903527368293395,
          0.9201769929563614,
          -0.014260584015353406,
          1.5784970560581673,
          0.04636486504864947,
          0.3060238789060607,
          -0.5406887352236077,
          -0.17173543197806548,
          -0.011516235303470181,
          1.240140805137977,
          -1.2050535786432073,
          -0.5541191683151043,
          -0.9146304500683474,
          -0.5340983179598195,
          -0.07040673498763442,
          -0.4621503597065403,
          -0.7636828242655683,
          -1.301258686639732,
          1.0785528258849082,
          1.9231140457625895,
          1.329345179022494,
          1.7905122345768874,
          1.1658786598167523,
          0.06524024621921286,
          0.3685130262936316,
          -0.9311335605389865,
          -0.8828996672227901,
          0.6349125466014539,
          -0.5285273878824718,
          0.020699294724895533,
          -0.5714428638656869,
          0.18357762539896405,
          -0.5933002305324663,
          -0.4209975009909785,
          -0.3243940199330944,
          0.43509435259205076,
          -1.080742958739633,
          -0.6118672086666948,
          -0.11163370868526934,
          -2.2876449940546997,
          -0.9306439540241452,
          1.4011408323027417,
          -0.8738049031801042,
          -0.048256258626752396,
          1.5221648999316875,
          0.1320770519253603,
          -1.7680350812494758,
          0.9077479529281082,
          -0.8975405670433891,
          0.7077909193645673,
          -1.9270895807980386,
          -0.4199393369219335,
          0.1674516448100253,
          -1.5185518792015826,
          0.5677447768752817,
          -0.5375934160356332,
          -0.1881416759471227,
          0.26082005397708397,
          0.48122195937146056,
          0.8846181120180732,
          -0.11799314877619538,
          1.3462376552479272,
          0.6293309974259682,
          0.3066584709802117,
          0.7802284075387983,
          -0.46532319123341886,
          -0.06140283921866073,
          -1.5990645135051367,
          -1.3718944770156531,
          -0.3080484872878169,
          1.1249697012649895,
          0.8873925291791959,
          -0.14853390348956538,
          -1.9278022989972456,
          2.25380956208247,
          -0.7269355547852893,
          -0.4031203870809856,
          2.587540074395344,
          0.8110955245271798,
          0.3043075736415618,
          0.31788238600464414,
          -0.4492455940110283,
          0.5036771492114919,
          0.32183790974466225,
          -0.7508092478926194,
          -0.029156372004654006,
          -0.5786496044667773,
          -0.5232462829238717,
          -0.8090008048759896
         ],
         "xaxis": "x4",
         "y": [
          0.6704549516109599,
          0.082535443479542,
          -0.030277607876463258,
          -0.7296129081944889,
          0.1527265413175817,
          -0.33813441137032424,
          1.9042339492772191,
          -0.7588056246726919,
          -0.8707965588081601,
          0.2896340361845918,
          -1.5237665192059862,
          0.9484620621971421,
          0.10553141650462003,
          0.2092718349405866,
          1.1640347231125636,
          0.4858426802866781,
          0.11933983453608828,
          0.2728169531371193,
          0.28919657021806133,
          1.073483561244945,
          0.07028375795764374,
          -0.1887932147115583,
          -1.0600689448473835,
          -0.3019363572412175,
          -0.8126307144185704,
          0.04021264055831378,
          -0.9798153152930743,
          -0.6070842061572903,
          -0.8067785203768048,
          -0.36628255849385094,
          -0.490724497613985,
          -0.11948959467927889,
          0.48024340826134854,
          -1.1114681568524802,
          0.00876717415713063,
          0.6153754248886335,
          -1.4120273218003125,
          -0.29772386315529703,
          -1.5277547107763774,
          0.8806863350762015,
          -0.02202561406455898,
          0.18378231072850623,
          -1.2931621264832485,
          -0.3972448926752685,
          -0.5753141033381041,
          0.6099801439466861,
          -0.8322217489099195,
          -0.05349257776630721,
          0.8517356264904371,
          -0.6052906360039375,
          -0.016646820797517226,
          -0.8891175447176948,
          1.8392114049926793,
          -1.189159093024214,
          -1.469324037228592,
          -0.20638700121277379,
          1.2880732643088497,
          1.011507627731839,
          -0.3227307063649429,
          1.2961924610631739,
          -0.7642289271104794,
          -0.8007653934311705,
          0.4603318905907266,
          1.0522096884457013,
          1.3600251679490534,
          -0.36805019645124054,
          -0.5252295655825047,
          0.3721275871542655,
          -1.1589425465940177,
          0.2552543469502206,
          -1.219051279316724,
          0.7809900058034129,
          0.6429968571185835,
          -0.9685863470324628,
          1.2932642257498272,
          0.8991878465435622,
          0.6702614740877187,
          -1.53023911252679,
          -0.33211763988874765,
          1.4833033292419877,
          0.5966607396311193,
          -1.3509756071664498,
          0.8079238287024253,
          1.6795389610664637,
          -0.6956294545177134,
          0.7239483934768534,
          -0.8703039150087871,
          2.4752648340661243,
          0.6095555501482074,
          -0.05135436217061349,
          -1.441317146126483,
          -1.7698229100332996,
          -0.854867235643374,
          0.01573115303956426,
          0.01366965315720599,
          -0.055649749827862735,
          0.9996389487811868,
          0.23448412479115777,
          1.3109218538891279,
          0.11222823118418822
         ],
         "yaxis": "y4"
        },
        {
         "line": {
          "color": "rgba(128, 128, 128, 1.0)",
          "dash": "solid",
          "shape": "linear",
          "width": 1.3
         },
         "marker": {
          "size": 2,
          "symbol": "circle"
         },
         "mode": "markers",
         "name": "B",
         "text": "",
         "type": "scatter",
         "x": [
          0.6704549516109599,
          0.082535443479542,
          -0.030277607876463258,
          -0.7296129081944889,
          0.1527265413175817,
          -0.33813441137032424,
          1.9042339492772191,
          -0.7588056246726919,
          -0.8707965588081601,
          0.2896340361845918,
          -1.5237665192059862,
          0.9484620621971421,
          0.10553141650462003,
          0.2092718349405866,
          1.1640347231125636,
          0.4858426802866781,
          0.11933983453608828,
          0.2728169531371193,
          0.28919657021806133,
          1.073483561244945,
          0.07028375795764374,
          -0.1887932147115583,
          -1.0600689448473835,
          -0.3019363572412175,
          -0.8126307144185704,
          0.04021264055831378,
          -0.9798153152930743,
          -0.6070842061572903,
          -0.8067785203768048,
          -0.36628255849385094,
          -0.490724497613985,
          -0.11948959467927889,
          0.48024340826134854,
          -1.1114681568524802,
          0.00876717415713063,
          0.6153754248886335,
          -1.4120273218003125,
          -0.29772386315529703,
          -1.5277547107763774,
          0.8806863350762015,
          -0.02202561406455898,
          0.18378231072850623,
          -1.2931621264832485,
          -0.3972448926752685,
          -0.5753141033381041,
          0.6099801439466861,
          -0.8322217489099195,
          -0.05349257776630721,
          0.8517356264904371,
          -0.6052906360039375,
          -0.016646820797517226,
          -0.8891175447176948,
          1.8392114049926793,
          -1.189159093024214,
          -1.469324037228592,
          -0.20638700121277379,
          1.2880732643088497,
          1.011507627731839,
          -0.3227307063649429,
          1.2961924610631739,
          -0.7642289271104794,
          -0.8007653934311705,
          0.4603318905907266,
          1.0522096884457013,
          1.3600251679490534,
          -0.36805019645124054,
          -0.5252295655825047,
          0.3721275871542655,
          -1.1589425465940177,
          0.2552543469502206,
          -1.219051279316724,
          0.7809900058034129,
          0.6429968571185835,
          -0.9685863470324628,
          1.2932642257498272,
          0.8991878465435622,
          0.6702614740877187,
          -1.53023911252679,
          -0.33211763988874765,
          1.4833033292419877,
          0.5966607396311193,
          -1.3509756071664498,
          0.8079238287024253,
          1.6795389610664637,
          -0.6956294545177134,
          0.7239483934768534,
          -0.8703039150087871,
          2.4752648340661243,
          0.6095555501482074,
          -0.05135436217061349,
          -1.441317146126483,
          -1.7698229100332996,
          -0.854867235643374,
          0.01573115303956426,
          0.01366965315720599,
          -0.055649749827862735,
          0.9996389487811868,
          0.23448412479115777,
          1.3109218538891279,
          0.11222823118418822
         ],
         "xaxis": "x5",
         "y": [
          -0.2682455403138665,
          0.9219032901867988,
          -2.6316192007926147,
          -0.7002221680723266,
          -1.1410201172424725,
          0.1982088166397885,
          -0.36916858732116814,
          -0.346988451454806,
          -0.5067690548727558,
          -0.48657622979598436,
          -0.3779466626884306,
          -0.9057264109845606,
          -1.0904291766858063,
          -0.7245917615110173,
          -0.7023340161584938,
          -0.12909160467106529,
          -0.8886651919263007,
          0.3823079631484114,
          -1.0900373872538167,
          0.04590737193270273,
          0.3449595019039827,
          -0.21952347502178463,
          -0.045830801280706795,
          0.27039014309921827,
          0.9752355335661154,
          -0.6297684032026852,
          -1.4341538818078072,
          -2.928405166974158,
          -0.24271171257920754,
          -0.8045786019109605,
          -0.7726865519387884,
          -0.38402965758197344,
          0.43511238729760066,
          0.6040661512852107,
          -0.55675228038275,
          -2.0752224149061544,
          0.30665005723854494,
          1.052301828580547,
          -0.3096428207681808,
          -1.1114785994044372,
          0.16438707146105638,
          0.7303825344045778,
          -0.6668291129437066,
          -1.2047590788659568,
          -0.6527833867437385,
          -0.17869000879867572,
          0.6164832688470566,
          1.1410378050428858,
          -1.723664068438458,
          -0.6046277913177348,
          -0.5054846301754152,
          0.776550047785937,
          0.46522658965141034,
          1.0350918146874746,
          0.9008286556081461,
          0.6095189639974038,
          -0.5152331945488056,
          0.23869453965612214,
          -1.395265038890855,
          0.509141026613451,
          -0.20929089012008917,
          -0.27011429036927975,
          0.8636244035153211,
          -0.688059366148949,
          -0.8832300590337048,
          -2.928352824671613,
          0.07989375770754963,
          -1.9431385480998216,
          -1.8746224168674628,
          0.2443443760851938,
          0.3794392960523368,
          0.11523202363410734,
          0.12093706648550032,
          -0.483520740771378,
          -1.371270121893702,
          -0.0751091049119595,
          0.09543516448164553,
          0.7550659367358067,
          1.4773525481483383,
          -1.6667177545418252,
          0.024320580466173938,
          -0.42969113088106947,
          -0.4717015774845612,
          -0.8692805274518534,
          0.8098607957408062,
          -0.7958892117997776,
          -2.532441312455747,
          0.22346344034817142,
          0.8033086864689049,
          1.684673808657013,
          0.3552602777281829,
          0.3419395197719315,
          -0.12852374038004932,
          1.382975119289779,
          -0.0655957106522503,
          -0.3145521070114627,
          -1.4393287908028378,
          -0.3295221740812238,
          -0.42722999899320613,
          -0.9031641314456635
         ],
         "yaxis": "y5"
        },
        {
         "histfunc": "count",
         "histnorm": "",
         "marker": {
          "color": "rgba(55, 128, 191, 1.0)",
          "line": {
           "color": "#4D5663",
           "width": 1.3
          }
         },
         "name": "B",
         "nbinsx": 10,
         "opacity": 0.8,
         "orientation": "v",
         "type": "histogram",
         "x": [
          -0.2682455403138665,
          0.9219032901867988,
          -2.6316192007926147,
          -0.7002221680723266,
          -1.1410201172424725,
          0.1982088166397885,
          -0.36916858732116814,
          -0.346988451454806,
          -0.5067690548727558,
          -0.48657622979598436,
          -0.3779466626884306,
          -0.9057264109845606,
          -1.0904291766858063,
          -0.7245917615110173,
          -0.7023340161584938,
          -0.12909160467106529,
          -0.8886651919263007,
          0.3823079631484114,
          -1.0900373872538167,
          0.04590737193270273,
          0.3449595019039827,
          -0.21952347502178463,
          -0.045830801280706795,
          0.27039014309921827,
          0.9752355335661154,
          -0.6297684032026852,
          -1.4341538818078072,
          -2.928405166974158,
          -0.24271171257920754,
          -0.8045786019109605,
          -0.7726865519387884,
          -0.38402965758197344,
          0.43511238729760066,
          0.6040661512852107,
          -0.55675228038275,
          -2.0752224149061544,
          0.30665005723854494,
          1.052301828580547,
          -0.3096428207681808,
          -1.1114785994044372,
          0.16438707146105638,
          0.7303825344045778,
          -0.6668291129437066,
          -1.2047590788659568,
          -0.6527833867437385,
          -0.17869000879867572,
          0.6164832688470566,
          1.1410378050428858,
          -1.723664068438458,
          -0.6046277913177348,
          -0.5054846301754152,
          0.776550047785937,
          0.46522658965141034,
          1.0350918146874746,
          0.9008286556081461,
          0.6095189639974038,
          -0.5152331945488056,
          0.23869453965612214,
          -1.395265038890855,
          0.509141026613451,
          -0.20929089012008917,
          -0.27011429036927975,
          0.8636244035153211,
          -0.688059366148949,
          -0.8832300590337048,
          -2.928352824671613,
          0.07989375770754963,
          -1.9431385480998216,
          -1.8746224168674628,
          0.2443443760851938,
          0.3794392960523368,
          0.11523202363410734,
          0.12093706648550032,
          -0.483520740771378,
          -1.371270121893702,
          -0.0751091049119595,
          0.09543516448164553,
          0.7550659367358067,
          1.4773525481483383,
          -1.6667177545418252,
          0.024320580466173938,
          -0.42969113088106947,
          -0.4717015774845612,
          -0.8692805274518534,
          0.8098607957408062,
          -0.7958892117997776,
          -2.532441312455747,
          0.22346344034817142,
          0.8033086864689049,
          1.684673808657013,
          0.3552602777281829,
          0.3419395197719315,
          -0.12852374038004932,
          1.382975119289779,
          -0.0655957106522503,
          -0.3145521070114627,
          -1.4393287908028378,
          -0.3295221740812238,
          -0.42722999899320613,
          -0.9031641314456635
         ],
         "xaxis": "x6",
         "yaxis": "y6"
        },
        {
         "line": {
          "color": "rgba(128, 128, 128, 1.0)",
          "dash": "solid",
          "shape": "linear",
          "width": 1.3
         },
         "marker": {
          "size": 2,
          "symbol": "circle"
         },
         "mode": "markers",
         "name": "B",
         "text": "",
         "type": "scatter",
         "x": [
          0.36701710595825254,
          0.46000033353965614,
          0.9737334163013094,
          0.19854008303274714,
          0.5998526204284188,
          -1.3946066889939361,
          -0.12155804082863964,
          1.0055548804895427,
          0.0810987255363289,
          1.103511469305969,
          0.26398199983883763,
          0.14593148133072104,
          0.37985804050238503,
          -0.7153516367654928,
          -0.7176568175878837,
          0.03275806960429191,
          -0.21948315755816733,
          -0.49153818956942047,
          0.9659477856167753,
          0.4249527366042526,
          1.3111017977551336,
          -0.019792522179095374,
          -1.2732567736519131,
          -1.3970325048240173,
          0.9667427222174672,
          -0.9379307460303506,
          0.6225612400113906,
          0.3574663346986022,
          -0.03668086876447439,
          1.1837503274675245,
          -1.604460223832529,
          -0.6401589833583028,
          0.13026600116142184,
          -0.4135757855699605,
          1.4515954587331912,
          -1.3241217249524266,
          1.1936281693711277,
          -1.0231318785892891,
          0.09220417397157808,
          0.06295717441328277,
          -1.301709312357675,
          0.8692975221881372,
          1.0152154701158727,
          -1.9967647136128595,
          2.363876410286345,
          -0.7321134713851997,
          -0.846238770549181,
          -0.225280736209897,
          -0.26119808038949116,
          0.49557985426913875,
          -0.9118071933419445,
          -1.2594602159056778,
          -0.013575887746153474,
          0.6005294650913788,
          -0.030760494323134456,
          1.7743909371825128,
          0.4638200144398666,
          0.9744914947314348,
          -0.5788267384660811,
          1.8585222777023265,
          -0.017519813758613143,
          -0.355558060494097,
          1.2429028981992543,
          0.005605265585401496,
          -0.42698953276129514,
          0.775773218390474,
          -0.7991494715942651,
          0.5925055503475269,
          0.16788535015079373,
          -0.4488485182848409,
          -0.6859757858458887,
          0.7003274647135272,
          0.9056208476111676,
          0.8718717808239559,
          -1.164773779135178,
          0.4592593402858712,
          0.4973666576735957,
          -0.5131693678338795,
          1.557724043455767,
          0.5536660281074894,
          2.2010221554819656,
          0.5646823570649336,
          0.028072525274820983,
          1.543652803147221,
          1.6559690185397318,
          0.1043096014372564,
          1.397254925511402,
          0.8511227651769517,
          -0.02821729362196425,
          0.9102249082441589,
          1.2937701916636015,
          -0.7799757916089121,
          -0.6309236250550366,
          -0.4968154982488999,
          -2.3002338182880306,
          1.513093666990525,
          0.8167253534870564,
          0.1612722302995093,
          0.5813704403961676,
          -1.9056960300675936
         ],
         "xaxis": "x7",
         "y": [
          -0.2682455403138665,
          0.9219032901867988,
          -2.6316192007926147,
          -0.7002221680723266,
          -1.1410201172424725,
          0.1982088166397885,
          -0.36916858732116814,
          -0.346988451454806,
          -0.5067690548727558,
          -0.48657622979598436,
          -0.3779466626884306,
          -0.9057264109845606,
          -1.0904291766858063,
          -0.7245917615110173,
          -0.7023340161584938,
          -0.12909160467106529,
          -0.8886651919263007,
          0.3823079631484114,
          -1.0900373872538167,
          0.04590737193270273,
          0.3449595019039827,
          -0.21952347502178463,
          -0.045830801280706795,
          0.27039014309921827,
          0.9752355335661154,
          -0.6297684032026852,
          -1.4341538818078072,
          -2.928405166974158,
          -0.24271171257920754,
          -0.8045786019109605,
          -0.7726865519387884,
          -0.38402965758197344,
          0.43511238729760066,
          0.6040661512852107,
          -0.55675228038275,
          -2.0752224149061544,
          0.30665005723854494,
          1.052301828580547,
          -0.3096428207681808,
          -1.1114785994044372,
          0.16438707146105638,
          0.7303825344045778,
          -0.6668291129437066,
          -1.2047590788659568,
          -0.6527833867437385,
          -0.17869000879867572,
          0.6164832688470566,
          1.1410378050428858,
          -1.723664068438458,
          -0.6046277913177348,
          -0.5054846301754152,
          0.776550047785937,
          0.46522658965141034,
          1.0350918146874746,
          0.9008286556081461,
          0.6095189639974038,
          -0.5152331945488056,
          0.23869453965612214,
          -1.395265038890855,
          0.509141026613451,
          -0.20929089012008917,
          -0.27011429036927975,
          0.8636244035153211,
          -0.688059366148949,
          -0.8832300590337048,
          -2.928352824671613,
          0.07989375770754963,
          -1.9431385480998216,
          -1.8746224168674628,
          0.2443443760851938,
          0.3794392960523368,
          0.11523202363410734,
          0.12093706648550032,
          -0.483520740771378,
          -1.371270121893702,
          -0.0751091049119595,
          0.09543516448164553,
          0.7550659367358067,
          1.4773525481483383,
          -1.6667177545418252,
          0.024320580466173938,
          -0.42969113088106947,
          -0.4717015774845612,
          -0.8692805274518534,
          0.8098607957408062,
          -0.7958892117997776,
          -2.532441312455747,
          0.22346344034817142,
          0.8033086864689049,
          1.684673808657013,
          0.3552602777281829,
          0.3419395197719315,
          -0.12852374038004932,
          1.382975119289779,
          -0.0655957106522503,
          -0.3145521070114627,
          -1.4393287908028378,
          -0.3295221740812238,
          -0.42722999899320613,
          -0.9031641314456635
         ],
         "yaxis": "y7"
        },
        {
         "line": {
          "color": "rgba(128, 128, 128, 1.0)",
          "dash": "solid",
          "shape": "linear",
          "width": 1.3
         },
         "marker": {
          "size": 2,
          "symbol": "circle"
         },
         "mode": "markers",
         "name": "B",
         "text": "",
         "type": "scatter",
         "x": [
          0.10213612530568543,
          0.2937547169864263,
          0.1767055109002836,
          -0.2973183925802308,
          -0.14908000139268454,
          -0.8430874326093657,
          -0.4928879427187282,
          -0.28143857828686214,
          0.5735779816605117,
          -1.7476240727312766,
          0.5728574698103156,
          0.4903527368293395,
          0.9201769929563614,
          -0.014260584015353406,
          1.5784970560581673,
          0.04636486504864947,
          0.3060238789060607,
          -0.5406887352236077,
          -0.17173543197806548,
          -0.011516235303470181,
          1.240140805137977,
          -1.2050535786432073,
          -0.5541191683151043,
          -0.9146304500683474,
          -0.5340983179598195,
          -0.07040673498763442,
          -0.4621503597065403,
          -0.7636828242655683,
          -1.301258686639732,
          1.0785528258849082,
          1.9231140457625895,
          1.329345179022494,
          1.7905122345768874,
          1.1658786598167523,
          0.06524024621921286,
          0.3685130262936316,
          -0.9311335605389865,
          -0.8828996672227901,
          0.6349125466014539,
          -0.5285273878824718,
          0.020699294724895533,
          -0.5714428638656869,
          0.18357762539896405,
          -0.5933002305324663,
          -0.4209975009909785,
          -0.3243940199330944,
          0.43509435259205076,
          -1.080742958739633,
          -0.6118672086666948,
          -0.11163370868526934,
          -2.2876449940546997,
          -0.9306439540241452,
          1.4011408323027417,
          -0.8738049031801042,
          -0.048256258626752396,
          1.5221648999316875,
          0.1320770519253603,
          -1.7680350812494758,
          0.9077479529281082,
          -0.8975405670433891,
          0.7077909193645673,
          -1.9270895807980386,
          -0.4199393369219335,
          0.1674516448100253,
          -1.5185518792015826,
          0.5677447768752817,
          -0.5375934160356332,
          -0.1881416759471227,
          0.26082005397708397,
          0.48122195937146056,
          0.8846181120180732,
          -0.11799314877619538,
          1.3462376552479272,
          0.6293309974259682,
          0.3066584709802117,
          0.7802284075387983,
          -0.46532319123341886,
          -0.06140283921866073,
          -1.5990645135051367,
          -1.3718944770156531,
          -0.3080484872878169,
          1.1249697012649895,
          0.8873925291791959,
          -0.14853390348956538,
          -1.9278022989972456,
          2.25380956208247,
          -0.7269355547852893,
          -0.4031203870809856,
          2.587540074395344,
          0.8110955245271798,
          0.3043075736415618,
          0.31788238600464414,
          -0.4492455940110283,
          0.5036771492114919,
          0.32183790974466225,
          -0.7508092478926194,
          -0.029156372004654006,
          -0.5786496044667773,
          -0.5232462829238717,
          -0.8090008048759896
         ],
         "xaxis": "x8",
         "y": [
          -0.2682455403138665,
          0.9219032901867988,
          -2.6316192007926147,
          -0.7002221680723266,
          -1.1410201172424725,
          0.1982088166397885,
          -0.36916858732116814,
          -0.346988451454806,
          -0.5067690548727558,
          -0.48657622979598436,
          -0.3779466626884306,
          -0.9057264109845606,
          -1.0904291766858063,
          -0.7245917615110173,
          -0.7023340161584938,
          -0.12909160467106529,
          -0.8886651919263007,
          0.3823079631484114,
          -1.0900373872538167,
          0.04590737193270273,
          0.3449595019039827,
          -0.21952347502178463,
          -0.045830801280706795,
          0.27039014309921827,
          0.9752355335661154,
          -0.6297684032026852,
          -1.4341538818078072,
          -2.928405166974158,
          -0.24271171257920754,
          -0.8045786019109605,
          -0.7726865519387884,
          -0.38402965758197344,
          0.43511238729760066,
          0.6040661512852107,
          -0.55675228038275,
          -2.0752224149061544,
          0.30665005723854494,
          1.052301828580547,
          -0.3096428207681808,
          -1.1114785994044372,
          0.16438707146105638,
          0.7303825344045778,
          -0.6668291129437066,
          -1.2047590788659568,
          -0.6527833867437385,
          -0.17869000879867572,
          0.6164832688470566,
          1.1410378050428858,
          -1.723664068438458,
          -0.6046277913177348,
          -0.5054846301754152,
          0.776550047785937,
          0.46522658965141034,
          1.0350918146874746,
          0.9008286556081461,
          0.6095189639974038,
          -0.5152331945488056,
          0.23869453965612214,
          -1.395265038890855,
          0.509141026613451,
          -0.20929089012008917,
          -0.27011429036927975,
          0.8636244035153211,
          -0.688059366148949,
          -0.8832300590337048,
          -2.928352824671613,
          0.07989375770754963,
          -1.9431385480998216,
          -1.8746224168674628,
          0.2443443760851938,
          0.3794392960523368,
          0.11523202363410734,
          0.12093706648550032,
          -0.483520740771378,
          -1.371270121893702,
          -0.0751091049119595,
          0.09543516448164553,
          0.7550659367358067,
          1.4773525481483383,
          -1.6667177545418252,
          0.024320580466173938,
          -0.42969113088106947,
          -0.4717015774845612,
          -0.8692805274518534,
          0.8098607957408062,
          -0.7958892117997776,
          -2.532441312455747,
          0.22346344034817142,
          0.8033086864689049,
          1.684673808657013,
          0.3552602777281829,
          0.3419395197719315,
          -0.12852374038004932,
          1.382975119289779,
          -0.0655957106522503,
          -0.3145521070114627,
          -1.4393287908028378,
          -0.3295221740812238,
          -0.42722999899320613,
          -0.9031641314456635
         ],
         "yaxis": "y8"
        },
        {
         "line": {
          "color": "rgba(128, 128, 128, 1.0)",
          "dash": "solid",
          "shape": "linear",
          "width": 1.3
         },
         "marker": {
          "size": 2,
          "symbol": "circle"
         },
         "mode": "markers",
         "name": "C",
         "text": "",
         "type": "scatter",
         "x": [
          0.6704549516109599,
          0.082535443479542,
          -0.030277607876463258,
          -0.7296129081944889,
          0.1527265413175817,
          -0.33813441137032424,
          1.9042339492772191,
          -0.7588056246726919,
          -0.8707965588081601,
          0.2896340361845918,
          -1.5237665192059862,
          0.9484620621971421,
          0.10553141650462003,
          0.2092718349405866,
          1.1640347231125636,
          0.4858426802866781,
          0.11933983453608828,
          0.2728169531371193,
          0.28919657021806133,
          1.073483561244945,
          0.07028375795764374,
          -0.1887932147115583,
          -1.0600689448473835,
          -0.3019363572412175,
          -0.8126307144185704,
          0.04021264055831378,
          -0.9798153152930743,
          -0.6070842061572903,
          -0.8067785203768048,
          -0.36628255849385094,
          -0.490724497613985,
          -0.11948959467927889,
          0.48024340826134854,
          -1.1114681568524802,
          0.00876717415713063,
          0.6153754248886335,
          -1.4120273218003125,
          -0.29772386315529703,
          -1.5277547107763774,
          0.8806863350762015,
          -0.02202561406455898,
          0.18378231072850623,
          -1.2931621264832485,
          -0.3972448926752685,
          -0.5753141033381041,
          0.6099801439466861,
          -0.8322217489099195,
          -0.05349257776630721,
          0.8517356264904371,
          -0.6052906360039375,
          -0.016646820797517226,
          -0.8891175447176948,
          1.8392114049926793,
          -1.189159093024214,
          -1.469324037228592,
          -0.20638700121277379,
          1.2880732643088497,
          1.011507627731839,
          -0.3227307063649429,
          1.2961924610631739,
          -0.7642289271104794,
          -0.8007653934311705,
          0.4603318905907266,
          1.0522096884457013,
          1.3600251679490534,
          -0.36805019645124054,
          -0.5252295655825047,
          0.3721275871542655,
          -1.1589425465940177,
          0.2552543469502206,
          -1.219051279316724,
          0.7809900058034129,
          0.6429968571185835,
          -0.9685863470324628,
          1.2932642257498272,
          0.8991878465435622,
          0.6702614740877187,
          -1.53023911252679,
          -0.33211763988874765,
          1.4833033292419877,
          0.5966607396311193,
          -1.3509756071664498,
          0.8079238287024253,
          1.6795389610664637,
          -0.6956294545177134,
          0.7239483934768534,
          -0.8703039150087871,
          2.4752648340661243,
          0.6095555501482074,
          -0.05135436217061349,
          -1.441317146126483,
          -1.7698229100332996,
          -0.854867235643374,
          0.01573115303956426,
          0.01366965315720599,
          -0.055649749827862735,
          0.9996389487811868,
          0.23448412479115777,
          1.3109218538891279,
          0.11222823118418822
         ],
         "xaxis": "x9",
         "y": [
          0.36701710595825254,
          0.46000033353965614,
          0.9737334163013094,
          0.19854008303274714,
          0.5998526204284188,
          -1.3946066889939361,
          -0.12155804082863964,
          1.0055548804895427,
          0.0810987255363289,
          1.103511469305969,
          0.26398199983883763,
          0.14593148133072104,
          0.37985804050238503,
          -0.7153516367654928,
          -0.7176568175878837,
          0.03275806960429191,
          -0.21948315755816733,
          -0.49153818956942047,
          0.9659477856167753,
          0.4249527366042526,
          1.3111017977551336,
          -0.019792522179095374,
          -1.2732567736519131,
          -1.3970325048240173,
          0.9667427222174672,
          -0.9379307460303506,
          0.6225612400113906,
          0.3574663346986022,
          -0.03668086876447439,
          1.1837503274675245,
          -1.604460223832529,
          -0.6401589833583028,
          0.13026600116142184,
          -0.4135757855699605,
          1.4515954587331912,
          -1.3241217249524266,
          1.1936281693711277,
          -1.0231318785892891,
          0.09220417397157808,
          0.06295717441328277,
          -1.301709312357675,
          0.8692975221881372,
          1.0152154701158727,
          -1.9967647136128595,
          2.363876410286345,
          -0.7321134713851997,
          -0.846238770549181,
          -0.225280736209897,
          -0.26119808038949116,
          0.49557985426913875,
          -0.9118071933419445,
          -1.2594602159056778,
          -0.013575887746153474,
          0.6005294650913788,
          -0.030760494323134456,
          1.7743909371825128,
          0.4638200144398666,
          0.9744914947314348,
          -0.5788267384660811,
          1.8585222777023265,
          -0.017519813758613143,
          -0.355558060494097,
          1.2429028981992543,
          0.005605265585401496,
          -0.42698953276129514,
          0.775773218390474,
          -0.7991494715942651,
          0.5925055503475269,
          0.16788535015079373,
          -0.4488485182848409,
          -0.6859757858458887,
          0.7003274647135272,
          0.9056208476111676,
          0.8718717808239559,
          -1.164773779135178,
          0.4592593402858712,
          0.4973666576735957,
          -0.5131693678338795,
          1.557724043455767,
          0.5536660281074894,
          2.2010221554819656,
          0.5646823570649336,
          0.028072525274820983,
          1.543652803147221,
          1.6559690185397318,
          0.1043096014372564,
          1.397254925511402,
          0.8511227651769517,
          -0.02821729362196425,
          0.9102249082441589,
          1.2937701916636015,
          -0.7799757916089121,
          -0.6309236250550366,
          -0.4968154982488999,
          -2.3002338182880306,
          1.513093666990525,
          0.8167253534870564,
          0.1612722302995093,
          0.5813704403961676,
          -1.9056960300675936
         ],
         "yaxis": "y9"
        },
        {
         "line": {
          "color": "rgba(128, 128, 128, 1.0)",
          "dash": "solid",
          "shape": "linear",
          "width": 1.3
         },
         "marker": {
          "size": 2,
          "symbol": "circle"
         },
         "mode": "markers",
         "name": "C",
         "text": "",
         "type": "scatter",
         "x": [
          -0.2682455403138665,
          0.9219032901867988,
          -2.6316192007926147,
          -0.7002221680723266,
          -1.1410201172424725,
          0.1982088166397885,
          -0.36916858732116814,
          -0.346988451454806,
          -0.5067690548727558,
          -0.48657622979598436,
          -0.3779466626884306,
          -0.9057264109845606,
          -1.0904291766858063,
          -0.7245917615110173,
          -0.7023340161584938,
          -0.12909160467106529,
          -0.8886651919263007,
          0.3823079631484114,
          -1.0900373872538167,
          0.04590737193270273,
          0.3449595019039827,
          -0.21952347502178463,
          -0.045830801280706795,
          0.27039014309921827,
          0.9752355335661154,
          -0.6297684032026852,
          -1.4341538818078072,
          -2.928405166974158,
          -0.24271171257920754,
          -0.8045786019109605,
          -0.7726865519387884,
          -0.38402965758197344,
          0.43511238729760066,
          0.6040661512852107,
          -0.55675228038275,
          -2.0752224149061544,
          0.30665005723854494,
          1.052301828580547,
          -0.3096428207681808,
          -1.1114785994044372,
          0.16438707146105638,
          0.7303825344045778,
          -0.6668291129437066,
          -1.2047590788659568,
          -0.6527833867437385,
          -0.17869000879867572,
          0.6164832688470566,
          1.1410378050428858,
          -1.723664068438458,
          -0.6046277913177348,
          -0.5054846301754152,
          0.776550047785937,
          0.46522658965141034,
          1.0350918146874746,
          0.9008286556081461,
          0.6095189639974038,
          -0.5152331945488056,
          0.23869453965612214,
          -1.395265038890855,
          0.509141026613451,
          -0.20929089012008917,
          -0.27011429036927975,
          0.8636244035153211,
          -0.688059366148949,
          -0.8832300590337048,
          -2.928352824671613,
          0.07989375770754963,
          -1.9431385480998216,
          -1.8746224168674628,
          0.2443443760851938,
          0.3794392960523368,
          0.11523202363410734,
          0.12093706648550032,
          -0.483520740771378,
          -1.371270121893702,
          -0.0751091049119595,
          0.09543516448164553,
          0.7550659367358067,
          1.4773525481483383,
          -1.6667177545418252,
          0.024320580466173938,
          -0.42969113088106947,
          -0.4717015774845612,
          -0.8692805274518534,
          0.8098607957408062,
          -0.7958892117997776,
          -2.532441312455747,
          0.22346344034817142,
          0.8033086864689049,
          1.684673808657013,
          0.3552602777281829,
          0.3419395197719315,
          -0.12852374038004932,
          1.382975119289779,
          -0.0655957106522503,
          -0.3145521070114627,
          -1.4393287908028378,
          -0.3295221740812238,
          -0.42722999899320613,
          -0.9031641314456635
         ],
         "xaxis": "x10",
         "y": [
          0.36701710595825254,
          0.46000033353965614,
          0.9737334163013094,
          0.19854008303274714,
          0.5998526204284188,
          -1.3946066889939361,
          -0.12155804082863964,
          1.0055548804895427,
          0.0810987255363289,
          1.103511469305969,
          0.26398199983883763,
          0.14593148133072104,
          0.37985804050238503,
          -0.7153516367654928,
          -0.7176568175878837,
          0.03275806960429191,
          -0.21948315755816733,
          -0.49153818956942047,
          0.9659477856167753,
          0.4249527366042526,
          1.3111017977551336,
          -0.019792522179095374,
          -1.2732567736519131,
          -1.3970325048240173,
          0.9667427222174672,
          -0.9379307460303506,
          0.6225612400113906,
          0.3574663346986022,
          -0.03668086876447439,
          1.1837503274675245,
          -1.604460223832529,
          -0.6401589833583028,
          0.13026600116142184,
          -0.4135757855699605,
          1.4515954587331912,
          -1.3241217249524266,
          1.1936281693711277,
          -1.0231318785892891,
          0.09220417397157808,
          0.06295717441328277,
          -1.301709312357675,
          0.8692975221881372,
          1.0152154701158727,
          -1.9967647136128595,
          2.363876410286345,
          -0.7321134713851997,
          -0.846238770549181,
          -0.225280736209897,
          -0.26119808038949116,
          0.49557985426913875,
          -0.9118071933419445,
          -1.2594602159056778,
          -0.013575887746153474,
          0.6005294650913788,
          -0.030760494323134456,
          1.7743909371825128,
          0.4638200144398666,
          0.9744914947314348,
          -0.5788267384660811,
          1.8585222777023265,
          -0.017519813758613143,
          -0.355558060494097,
          1.2429028981992543,
          0.005605265585401496,
          -0.42698953276129514,
          0.775773218390474,
          -0.7991494715942651,
          0.5925055503475269,
          0.16788535015079373,
          -0.4488485182848409,
          -0.6859757858458887,
          0.7003274647135272,
          0.9056208476111676,
          0.8718717808239559,
          -1.164773779135178,
          0.4592593402858712,
          0.4973666576735957,
          -0.5131693678338795,
          1.557724043455767,
          0.5536660281074894,
          2.2010221554819656,
          0.5646823570649336,
          0.028072525274820983,
          1.543652803147221,
          1.6559690185397318,
          0.1043096014372564,
          1.397254925511402,
          0.8511227651769517,
          -0.02821729362196425,
          0.9102249082441589,
          1.2937701916636015,
          -0.7799757916089121,
          -0.6309236250550366,
          -0.4968154982488999,
          -2.3002338182880306,
          1.513093666990525,
          0.8167253534870564,
          0.1612722302995093,
          0.5813704403961676,
          -1.9056960300675936
         ],
         "yaxis": "y10"
        },
        {
         "histfunc": "count",
         "histnorm": "",
         "marker": {
          "color": "rgba(50, 171, 96, 1.0)",
          "line": {
           "color": "#4D5663",
           "width": 1.3
          }
         },
         "name": "C",
         "nbinsx": 10,
         "opacity": 0.8,
         "orientation": "v",
         "type": "histogram",
         "x": [
          0.36701710595825254,
          0.46000033353965614,
          0.9737334163013094,
          0.19854008303274714,
          0.5998526204284188,
          -1.3946066889939361,
          -0.12155804082863964,
          1.0055548804895427,
          0.0810987255363289,
          1.103511469305969,
          0.26398199983883763,
          0.14593148133072104,
          0.37985804050238503,
          -0.7153516367654928,
          -0.7176568175878837,
          0.03275806960429191,
          -0.21948315755816733,
          -0.49153818956942047,
          0.9659477856167753,
          0.4249527366042526,
          1.3111017977551336,
          -0.019792522179095374,
          -1.2732567736519131,
          -1.3970325048240173,
          0.9667427222174672,
          -0.9379307460303506,
          0.6225612400113906,
          0.3574663346986022,
          -0.03668086876447439,
          1.1837503274675245,
          -1.604460223832529,
          -0.6401589833583028,
          0.13026600116142184,
          -0.4135757855699605,
          1.4515954587331912,
          -1.3241217249524266,
          1.1936281693711277,
          -1.0231318785892891,
          0.09220417397157808,
          0.06295717441328277,
          -1.301709312357675,
          0.8692975221881372,
          1.0152154701158727,
          -1.9967647136128595,
          2.363876410286345,
          -0.7321134713851997,
          -0.846238770549181,
          -0.225280736209897,
          -0.26119808038949116,
          0.49557985426913875,
          -0.9118071933419445,
          -1.2594602159056778,
          -0.013575887746153474,
          0.6005294650913788,
          -0.030760494323134456,
          1.7743909371825128,
          0.4638200144398666,
          0.9744914947314348,
          -0.5788267384660811,
          1.8585222777023265,
          -0.017519813758613143,
          -0.355558060494097,
          1.2429028981992543,
          0.005605265585401496,
          -0.42698953276129514,
          0.775773218390474,
          -0.7991494715942651,
          0.5925055503475269,
          0.16788535015079373,
          -0.4488485182848409,
          -0.6859757858458887,
          0.7003274647135272,
          0.9056208476111676,
          0.8718717808239559,
          -1.164773779135178,
          0.4592593402858712,
          0.4973666576735957,
          -0.5131693678338795,
          1.557724043455767,
          0.5536660281074894,
          2.2010221554819656,
          0.5646823570649336,
          0.028072525274820983,
          1.543652803147221,
          1.6559690185397318,
          0.1043096014372564,
          1.397254925511402,
          0.8511227651769517,
          -0.02821729362196425,
          0.9102249082441589,
          1.2937701916636015,
          -0.7799757916089121,
          -0.6309236250550366,
          -0.4968154982488999,
          -2.3002338182880306,
          1.513093666990525,
          0.8167253534870564,
          0.1612722302995093,
          0.5813704403961676,
          -1.9056960300675936
         ],
         "xaxis": "x11",
         "yaxis": "y11"
        },
        {
         "line": {
          "color": "rgba(128, 128, 128, 1.0)",
          "dash": "solid",
          "shape": "linear",
          "width": 1.3
         },
         "marker": {
          "size": 2,
          "symbol": "circle"
         },
         "mode": "markers",
         "name": "C",
         "text": "",
         "type": "scatter",
         "x": [
          0.10213612530568543,
          0.2937547169864263,
          0.1767055109002836,
          -0.2973183925802308,
          -0.14908000139268454,
          -0.8430874326093657,
          -0.4928879427187282,
          -0.28143857828686214,
          0.5735779816605117,
          -1.7476240727312766,
          0.5728574698103156,
          0.4903527368293395,
          0.9201769929563614,
          -0.014260584015353406,
          1.5784970560581673,
          0.04636486504864947,
          0.3060238789060607,
          -0.5406887352236077,
          -0.17173543197806548,
          -0.011516235303470181,
          1.240140805137977,
          -1.2050535786432073,
          -0.5541191683151043,
          -0.9146304500683474,
          -0.5340983179598195,
          -0.07040673498763442,
          -0.4621503597065403,
          -0.7636828242655683,
          -1.301258686639732,
          1.0785528258849082,
          1.9231140457625895,
          1.329345179022494,
          1.7905122345768874,
          1.1658786598167523,
          0.06524024621921286,
          0.3685130262936316,
          -0.9311335605389865,
          -0.8828996672227901,
          0.6349125466014539,
          -0.5285273878824718,
          0.020699294724895533,
          -0.5714428638656869,
          0.18357762539896405,
          -0.5933002305324663,
          -0.4209975009909785,
          -0.3243940199330944,
          0.43509435259205076,
          -1.080742958739633,
          -0.6118672086666948,
          -0.11163370868526934,
          -2.2876449940546997,
          -0.9306439540241452,
          1.4011408323027417,
          -0.8738049031801042,
          -0.048256258626752396,
          1.5221648999316875,
          0.1320770519253603,
          -1.7680350812494758,
          0.9077479529281082,
          -0.8975405670433891,
          0.7077909193645673,
          -1.9270895807980386,
          -0.4199393369219335,
          0.1674516448100253,
          -1.5185518792015826,
          0.5677447768752817,
          -0.5375934160356332,
          -0.1881416759471227,
          0.26082005397708397,
          0.48122195937146056,
          0.8846181120180732,
          -0.11799314877619538,
          1.3462376552479272,
          0.6293309974259682,
          0.3066584709802117,
          0.7802284075387983,
          -0.46532319123341886,
          -0.06140283921866073,
          -1.5990645135051367,
          -1.3718944770156531,
          -0.3080484872878169,
          1.1249697012649895,
          0.8873925291791959,
          -0.14853390348956538,
          -1.9278022989972456,
          2.25380956208247,
          -0.7269355547852893,
          -0.4031203870809856,
          2.587540074395344,
          0.8110955245271798,
          0.3043075736415618,
          0.31788238600464414,
          -0.4492455940110283,
          0.5036771492114919,
          0.32183790974466225,
          -0.7508092478926194,
          -0.029156372004654006,
          -0.5786496044667773,
          -0.5232462829238717,
          -0.8090008048759896
         ],
         "xaxis": "x12",
         "y": [
          0.36701710595825254,
          0.46000033353965614,
          0.9737334163013094,
          0.19854008303274714,
          0.5998526204284188,
          -1.3946066889939361,
          -0.12155804082863964,
          1.0055548804895427,
          0.0810987255363289,
          1.103511469305969,
          0.26398199983883763,
          0.14593148133072104,
          0.37985804050238503,
          -0.7153516367654928,
          -0.7176568175878837,
          0.03275806960429191,
          -0.21948315755816733,
          -0.49153818956942047,
          0.9659477856167753,
          0.4249527366042526,
          1.3111017977551336,
          -0.019792522179095374,
          -1.2732567736519131,
          -1.3970325048240173,
          0.9667427222174672,
          -0.9379307460303506,
          0.6225612400113906,
          0.3574663346986022,
          -0.03668086876447439,
          1.1837503274675245,
          -1.604460223832529,
          -0.6401589833583028,
          0.13026600116142184,
          -0.4135757855699605,
          1.4515954587331912,
          -1.3241217249524266,
          1.1936281693711277,
          -1.0231318785892891,
          0.09220417397157808,
          0.06295717441328277,
          -1.301709312357675,
          0.8692975221881372,
          1.0152154701158727,
          -1.9967647136128595,
          2.363876410286345,
          -0.7321134713851997,
          -0.846238770549181,
          -0.225280736209897,
          -0.26119808038949116,
          0.49557985426913875,
          -0.9118071933419445,
          -1.2594602159056778,
          -0.013575887746153474,
          0.6005294650913788,
          -0.030760494323134456,
          1.7743909371825128,
          0.4638200144398666,
          0.9744914947314348,
          -0.5788267384660811,
          1.8585222777023265,
          -0.017519813758613143,
          -0.355558060494097,
          1.2429028981992543,
          0.005605265585401496,
          -0.42698953276129514,
          0.775773218390474,
          -0.7991494715942651,
          0.5925055503475269,
          0.16788535015079373,
          -0.4488485182848409,
          -0.6859757858458887,
          0.7003274647135272,
          0.9056208476111676,
          0.8718717808239559,
          -1.164773779135178,
          0.4592593402858712,
          0.4973666576735957,
          -0.5131693678338795,
          1.557724043455767,
          0.5536660281074894,
          2.2010221554819656,
          0.5646823570649336,
          0.028072525274820983,
          1.543652803147221,
          1.6559690185397318,
          0.1043096014372564,
          1.397254925511402,
          0.8511227651769517,
          -0.02821729362196425,
          0.9102249082441589,
          1.2937701916636015,
          -0.7799757916089121,
          -0.6309236250550366,
          -0.4968154982488999,
          -2.3002338182880306,
          1.513093666990525,
          0.8167253534870564,
          0.1612722302995093,
          0.5813704403961676,
          -1.9056960300675936
         ],
         "yaxis": "y12"
        },
        {
         "line": {
          "color": "rgba(128, 128, 128, 1.0)",
          "dash": "solid",
          "shape": "linear",
          "width": 1.3
         },
         "marker": {
          "size": 2,
          "symbol": "circle"
         },
         "mode": "markers",
         "name": "D",
         "text": "",
         "type": "scatter",
         "x": [
          0.6704549516109599,
          0.082535443479542,
          -0.030277607876463258,
          -0.7296129081944889,
          0.1527265413175817,
          -0.33813441137032424,
          1.9042339492772191,
          -0.7588056246726919,
          -0.8707965588081601,
          0.2896340361845918,
          -1.5237665192059862,
          0.9484620621971421,
          0.10553141650462003,
          0.2092718349405866,
          1.1640347231125636,
          0.4858426802866781,
          0.11933983453608828,
          0.2728169531371193,
          0.28919657021806133,
          1.073483561244945,
          0.07028375795764374,
          -0.1887932147115583,
          -1.0600689448473835,
          -0.3019363572412175,
          -0.8126307144185704,
          0.04021264055831378,
          -0.9798153152930743,
          -0.6070842061572903,
          -0.8067785203768048,
          -0.36628255849385094,
          -0.490724497613985,
          -0.11948959467927889,
          0.48024340826134854,
          -1.1114681568524802,
          0.00876717415713063,
          0.6153754248886335,
          -1.4120273218003125,
          -0.29772386315529703,
          -1.5277547107763774,
          0.8806863350762015,
          -0.02202561406455898,
          0.18378231072850623,
          -1.2931621264832485,
          -0.3972448926752685,
          -0.5753141033381041,
          0.6099801439466861,
          -0.8322217489099195,
          -0.05349257776630721,
          0.8517356264904371,
          -0.6052906360039375,
          -0.016646820797517226,
          -0.8891175447176948,
          1.8392114049926793,
          -1.189159093024214,
          -1.469324037228592,
          -0.20638700121277379,
          1.2880732643088497,
          1.011507627731839,
          -0.3227307063649429,
          1.2961924610631739,
          -0.7642289271104794,
          -0.8007653934311705,
          0.4603318905907266,
          1.0522096884457013,
          1.3600251679490534,
          -0.36805019645124054,
          -0.5252295655825047,
          0.3721275871542655,
          -1.1589425465940177,
          0.2552543469502206,
          -1.219051279316724,
          0.7809900058034129,
          0.6429968571185835,
          -0.9685863470324628,
          1.2932642257498272,
          0.8991878465435622,
          0.6702614740877187,
          -1.53023911252679,
          -0.33211763988874765,
          1.4833033292419877,
          0.5966607396311193,
          -1.3509756071664498,
          0.8079238287024253,
          1.6795389610664637,
          -0.6956294545177134,
          0.7239483934768534,
          -0.8703039150087871,
          2.4752648340661243,
          0.6095555501482074,
          -0.05135436217061349,
          -1.441317146126483,
          -1.7698229100332996,
          -0.854867235643374,
          0.01573115303956426,
          0.01366965315720599,
          -0.055649749827862735,
          0.9996389487811868,
          0.23448412479115777,
          1.3109218538891279,
          0.11222823118418822
         ],
         "xaxis": "x13",
         "y": [
          0.10213612530568543,
          0.2937547169864263,
          0.1767055109002836,
          -0.2973183925802308,
          -0.14908000139268454,
          -0.8430874326093657,
          -0.4928879427187282,
          -0.28143857828686214,
          0.5735779816605117,
          -1.7476240727312766,
          0.5728574698103156,
          0.4903527368293395,
          0.9201769929563614,
          -0.014260584015353406,
          1.5784970560581673,
          0.04636486504864947,
          0.3060238789060607,
          -0.5406887352236077,
          -0.17173543197806548,
          -0.011516235303470181,
          1.240140805137977,
          -1.2050535786432073,
          -0.5541191683151043,
          -0.9146304500683474,
          -0.5340983179598195,
          -0.07040673498763442,
          -0.4621503597065403,
          -0.7636828242655683,
          -1.301258686639732,
          1.0785528258849082,
          1.9231140457625895,
          1.329345179022494,
          1.7905122345768874,
          1.1658786598167523,
          0.06524024621921286,
          0.3685130262936316,
          -0.9311335605389865,
          -0.8828996672227901,
          0.6349125466014539,
          -0.5285273878824718,
          0.020699294724895533,
          -0.5714428638656869,
          0.18357762539896405,
          -0.5933002305324663,
          -0.4209975009909785,
          -0.3243940199330944,
          0.43509435259205076,
          -1.080742958739633,
          -0.6118672086666948,
          -0.11163370868526934,
          -2.2876449940546997,
          -0.9306439540241452,
          1.4011408323027417,
          -0.8738049031801042,
          -0.048256258626752396,
          1.5221648999316875,
          0.1320770519253603,
          -1.7680350812494758,
          0.9077479529281082,
          -0.8975405670433891,
          0.7077909193645673,
          -1.9270895807980386,
          -0.4199393369219335,
          0.1674516448100253,
          -1.5185518792015826,
          0.5677447768752817,
          -0.5375934160356332,
          -0.1881416759471227,
          0.26082005397708397,
          0.48122195937146056,
          0.8846181120180732,
          -0.11799314877619538,
          1.3462376552479272,
          0.6293309974259682,
          0.3066584709802117,
          0.7802284075387983,
          -0.46532319123341886,
          -0.06140283921866073,
          -1.5990645135051367,
          -1.3718944770156531,
          -0.3080484872878169,
          1.1249697012649895,
          0.8873925291791959,
          -0.14853390348956538,
          -1.9278022989972456,
          2.25380956208247,
          -0.7269355547852893,
          -0.4031203870809856,
          2.587540074395344,
          0.8110955245271798,
          0.3043075736415618,
          0.31788238600464414,
          -0.4492455940110283,
          0.5036771492114919,
          0.32183790974466225,
          -0.7508092478926194,
          -0.029156372004654006,
          -0.5786496044667773,
          -0.5232462829238717,
          -0.8090008048759896
         ],
         "yaxis": "y13"
        },
        {
         "line": {
          "color": "rgba(128, 128, 128, 1.0)",
          "dash": "solid",
          "shape": "linear",
          "width": 1.3
         },
         "marker": {
          "size": 2,
          "symbol": "circle"
         },
         "mode": "markers",
         "name": "D",
         "text": "",
         "type": "scatter",
         "x": [
          -0.2682455403138665,
          0.9219032901867988,
          -2.6316192007926147,
          -0.7002221680723266,
          -1.1410201172424725,
          0.1982088166397885,
          -0.36916858732116814,
          -0.346988451454806,
          -0.5067690548727558,
          -0.48657622979598436,
          -0.3779466626884306,
          -0.9057264109845606,
          -1.0904291766858063,
          -0.7245917615110173,
          -0.7023340161584938,
          -0.12909160467106529,
          -0.8886651919263007,
          0.3823079631484114,
          -1.0900373872538167,
          0.04590737193270273,
          0.3449595019039827,
          -0.21952347502178463,
          -0.045830801280706795,
          0.27039014309921827,
          0.9752355335661154,
          -0.6297684032026852,
          -1.4341538818078072,
          -2.928405166974158,
          -0.24271171257920754,
          -0.8045786019109605,
          -0.7726865519387884,
          -0.38402965758197344,
          0.43511238729760066,
          0.6040661512852107,
          -0.55675228038275,
          -2.0752224149061544,
          0.30665005723854494,
          1.052301828580547,
          -0.3096428207681808,
          -1.1114785994044372,
          0.16438707146105638,
          0.7303825344045778,
          -0.6668291129437066,
          -1.2047590788659568,
          -0.6527833867437385,
          -0.17869000879867572,
          0.6164832688470566,
          1.1410378050428858,
          -1.723664068438458,
          -0.6046277913177348,
          -0.5054846301754152,
          0.776550047785937,
          0.46522658965141034,
          1.0350918146874746,
          0.9008286556081461,
          0.6095189639974038,
          -0.5152331945488056,
          0.23869453965612214,
          -1.395265038890855,
          0.509141026613451,
          -0.20929089012008917,
          -0.27011429036927975,
          0.8636244035153211,
          -0.688059366148949,
          -0.8832300590337048,
          -2.928352824671613,
          0.07989375770754963,
          -1.9431385480998216,
          -1.8746224168674628,
          0.2443443760851938,
          0.3794392960523368,
          0.11523202363410734,
          0.12093706648550032,
          -0.483520740771378,
          -1.371270121893702,
          -0.0751091049119595,
          0.09543516448164553,
          0.7550659367358067,
          1.4773525481483383,
          -1.6667177545418252,
          0.024320580466173938,
          -0.42969113088106947,
          -0.4717015774845612,
          -0.8692805274518534,
          0.8098607957408062,
          -0.7958892117997776,
          -2.532441312455747,
          0.22346344034817142,
          0.8033086864689049,
          1.684673808657013,
          0.3552602777281829,
          0.3419395197719315,
          -0.12852374038004932,
          1.382975119289779,
          -0.0655957106522503,
          -0.3145521070114627,
          -1.4393287908028378,
          -0.3295221740812238,
          -0.42722999899320613,
          -0.9031641314456635
         ],
         "xaxis": "x14",
         "y": [
          0.10213612530568543,
          0.2937547169864263,
          0.1767055109002836,
          -0.2973183925802308,
          -0.14908000139268454,
          -0.8430874326093657,
          -0.4928879427187282,
          -0.28143857828686214,
          0.5735779816605117,
          -1.7476240727312766,
          0.5728574698103156,
          0.4903527368293395,
          0.9201769929563614,
          -0.014260584015353406,
          1.5784970560581673,
          0.04636486504864947,
          0.3060238789060607,
          -0.5406887352236077,
          -0.17173543197806548,
          -0.011516235303470181,
          1.240140805137977,
          -1.2050535786432073,
          -0.5541191683151043,
          -0.9146304500683474,
          -0.5340983179598195,
          -0.07040673498763442,
          -0.4621503597065403,
          -0.7636828242655683,
          -1.301258686639732,
          1.0785528258849082,
          1.9231140457625895,
          1.329345179022494,
          1.7905122345768874,
          1.1658786598167523,
          0.06524024621921286,
          0.3685130262936316,
          -0.9311335605389865,
          -0.8828996672227901,
          0.6349125466014539,
          -0.5285273878824718,
          0.020699294724895533,
          -0.5714428638656869,
          0.18357762539896405,
          -0.5933002305324663,
          -0.4209975009909785,
          -0.3243940199330944,
          0.43509435259205076,
          -1.080742958739633,
          -0.6118672086666948,
          -0.11163370868526934,
          -2.2876449940546997,
          -0.9306439540241452,
          1.4011408323027417,
          -0.8738049031801042,
          -0.048256258626752396,
          1.5221648999316875,
          0.1320770519253603,
          -1.7680350812494758,
          0.9077479529281082,
          -0.8975405670433891,
          0.7077909193645673,
          -1.9270895807980386,
          -0.4199393369219335,
          0.1674516448100253,
          -1.5185518792015826,
          0.5677447768752817,
          -0.5375934160356332,
          -0.1881416759471227,
          0.26082005397708397,
          0.48122195937146056,
          0.8846181120180732,
          -0.11799314877619538,
          1.3462376552479272,
          0.6293309974259682,
          0.3066584709802117,
          0.7802284075387983,
          -0.46532319123341886,
          -0.06140283921866073,
          -1.5990645135051367,
          -1.3718944770156531,
          -0.3080484872878169,
          1.1249697012649895,
          0.8873925291791959,
          -0.14853390348956538,
          -1.9278022989972456,
          2.25380956208247,
          -0.7269355547852893,
          -0.4031203870809856,
          2.587540074395344,
          0.8110955245271798,
          0.3043075736415618,
          0.31788238600464414,
          -0.4492455940110283,
          0.5036771492114919,
          0.32183790974466225,
          -0.7508092478926194,
          -0.029156372004654006,
          -0.5786496044667773,
          -0.5232462829238717,
          -0.8090008048759896
         ],
         "yaxis": "y14"
        },
        {
         "line": {
          "color": "rgba(128, 128, 128, 1.0)",
          "dash": "solid",
          "shape": "linear",
          "width": 1.3
         },
         "marker": {
          "size": 2,
          "symbol": "circle"
         },
         "mode": "markers",
         "name": "D",
         "text": "",
         "type": "scatter",
         "x": [
          0.36701710595825254,
          0.46000033353965614,
          0.9737334163013094,
          0.19854008303274714,
          0.5998526204284188,
          -1.3946066889939361,
          -0.12155804082863964,
          1.0055548804895427,
          0.0810987255363289,
          1.103511469305969,
          0.26398199983883763,
          0.14593148133072104,
          0.37985804050238503,
          -0.7153516367654928,
          -0.7176568175878837,
          0.03275806960429191,
          -0.21948315755816733,
          -0.49153818956942047,
          0.9659477856167753,
          0.4249527366042526,
          1.3111017977551336,
          -0.019792522179095374,
          -1.2732567736519131,
          -1.3970325048240173,
          0.9667427222174672,
          -0.9379307460303506,
          0.6225612400113906,
          0.3574663346986022,
          -0.03668086876447439,
          1.1837503274675245,
          -1.604460223832529,
          -0.6401589833583028,
          0.13026600116142184,
          -0.4135757855699605,
          1.4515954587331912,
          -1.3241217249524266,
          1.1936281693711277,
          -1.0231318785892891,
          0.09220417397157808,
          0.06295717441328277,
          -1.301709312357675,
          0.8692975221881372,
          1.0152154701158727,
          -1.9967647136128595,
          2.363876410286345,
          -0.7321134713851997,
          -0.846238770549181,
          -0.225280736209897,
          -0.26119808038949116,
          0.49557985426913875,
          -0.9118071933419445,
          -1.2594602159056778,
          -0.013575887746153474,
          0.6005294650913788,
          -0.030760494323134456,
          1.7743909371825128,
          0.4638200144398666,
          0.9744914947314348,
          -0.5788267384660811,
          1.8585222777023265,
          -0.017519813758613143,
          -0.355558060494097,
          1.2429028981992543,
          0.005605265585401496,
          -0.42698953276129514,
          0.775773218390474,
          -0.7991494715942651,
          0.5925055503475269,
          0.16788535015079373,
          -0.4488485182848409,
          -0.6859757858458887,
          0.7003274647135272,
          0.9056208476111676,
          0.8718717808239559,
          -1.164773779135178,
          0.4592593402858712,
          0.4973666576735957,
          -0.5131693678338795,
          1.557724043455767,
          0.5536660281074894,
          2.2010221554819656,
          0.5646823570649336,
          0.028072525274820983,
          1.543652803147221,
          1.6559690185397318,
          0.1043096014372564,
          1.397254925511402,
          0.8511227651769517,
          -0.02821729362196425,
          0.9102249082441589,
          1.2937701916636015,
          -0.7799757916089121,
          -0.6309236250550366,
          -0.4968154982488999,
          -2.3002338182880306,
          1.513093666990525,
          0.8167253534870564,
          0.1612722302995093,
          0.5813704403961676,
          -1.9056960300675936
         ],
         "xaxis": "x15",
         "y": [
          0.10213612530568543,
          0.2937547169864263,
          0.1767055109002836,
          -0.2973183925802308,
          -0.14908000139268454,
          -0.8430874326093657,
          -0.4928879427187282,
          -0.28143857828686214,
          0.5735779816605117,
          -1.7476240727312766,
          0.5728574698103156,
          0.4903527368293395,
          0.9201769929563614,
          -0.014260584015353406,
          1.5784970560581673,
          0.04636486504864947,
          0.3060238789060607,
          -0.5406887352236077,
          -0.17173543197806548,
          -0.011516235303470181,
          1.240140805137977,
          -1.2050535786432073,
          -0.5541191683151043,
          -0.9146304500683474,
          -0.5340983179598195,
          -0.07040673498763442,
          -0.4621503597065403,
          -0.7636828242655683,
          -1.301258686639732,
          1.0785528258849082,
          1.9231140457625895,
          1.329345179022494,
          1.7905122345768874,
          1.1658786598167523,
          0.06524024621921286,
          0.3685130262936316,
          -0.9311335605389865,
          -0.8828996672227901,
          0.6349125466014539,
          -0.5285273878824718,
          0.020699294724895533,
          -0.5714428638656869,
          0.18357762539896405,
          -0.5933002305324663,
          -0.4209975009909785,
          -0.3243940199330944,
          0.43509435259205076,
          -1.080742958739633,
          -0.6118672086666948,
          -0.11163370868526934,
          -2.2876449940546997,
          -0.9306439540241452,
          1.4011408323027417,
          -0.8738049031801042,
          -0.048256258626752396,
          1.5221648999316875,
          0.1320770519253603,
          -1.7680350812494758,
          0.9077479529281082,
          -0.8975405670433891,
          0.7077909193645673,
          -1.9270895807980386,
          -0.4199393369219335,
          0.1674516448100253,
          -1.5185518792015826,
          0.5677447768752817,
          -0.5375934160356332,
          -0.1881416759471227,
          0.26082005397708397,
          0.48122195937146056,
          0.8846181120180732,
          -0.11799314877619538,
          1.3462376552479272,
          0.6293309974259682,
          0.3066584709802117,
          0.7802284075387983,
          -0.46532319123341886,
          -0.06140283921866073,
          -1.5990645135051367,
          -1.3718944770156531,
          -0.3080484872878169,
          1.1249697012649895,
          0.8873925291791959,
          -0.14853390348956538,
          -1.9278022989972456,
          2.25380956208247,
          -0.7269355547852893,
          -0.4031203870809856,
          2.587540074395344,
          0.8110955245271798,
          0.3043075736415618,
          0.31788238600464414,
          -0.4492455940110283,
          0.5036771492114919,
          0.32183790974466225,
          -0.7508092478926194,
          -0.029156372004654006,
          -0.5786496044667773,
          -0.5232462829238717,
          -0.8090008048759896
         ],
         "yaxis": "y15"
        },
        {
         "histfunc": "count",
         "histnorm": "",
         "marker": {
          "color": "rgba(128, 0, 128, 1.0)",
          "line": {
           "color": "#4D5663",
           "width": 1.3
          }
         },
         "name": "D",
         "nbinsx": 10,
         "opacity": 0.8,
         "orientation": "v",
         "type": "histogram",
         "x": [
          0.10213612530568543,
          0.2937547169864263,
          0.1767055109002836,
          -0.2973183925802308,
          -0.14908000139268454,
          -0.8430874326093657,
          -0.4928879427187282,
          -0.28143857828686214,
          0.5735779816605117,
          -1.7476240727312766,
          0.5728574698103156,
          0.4903527368293395,
          0.9201769929563614,
          -0.014260584015353406,
          1.5784970560581673,
          0.04636486504864947,
          0.3060238789060607,
          -0.5406887352236077,
          -0.17173543197806548,
          -0.011516235303470181,
          1.240140805137977,
          -1.2050535786432073,
          -0.5541191683151043,
          -0.9146304500683474,
          -0.5340983179598195,
          -0.07040673498763442,
          -0.4621503597065403,
          -0.7636828242655683,
          -1.301258686639732,
          1.0785528258849082,
          1.9231140457625895,
          1.329345179022494,
          1.7905122345768874,
          1.1658786598167523,
          0.06524024621921286,
          0.3685130262936316,
          -0.9311335605389865,
          -0.8828996672227901,
          0.6349125466014539,
          -0.5285273878824718,
          0.020699294724895533,
          -0.5714428638656869,
          0.18357762539896405,
          -0.5933002305324663,
          -0.4209975009909785,
          -0.3243940199330944,
          0.43509435259205076,
          -1.080742958739633,
          -0.6118672086666948,
          -0.11163370868526934,
          -2.2876449940546997,
          -0.9306439540241452,
          1.4011408323027417,
          -0.8738049031801042,
          -0.048256258626752396,
          1.5221648999316875,
          0.1320770519253603,
          -1.7680350812494758,
          0.9077479529281082,
          -0.8975405670433891,
          0.7077909193645673,
          -1.9270895807980386,
          -0.4199393369219335,
          0.1674516448100253,
          -1.5185518792015826,
          0.5677447768752817,
          -0.5375934160356332,
          -0.1881416759471227,
          0.26082005397708397,
          0.48122195937146056,
          0.8846181120180732,
          -0.11799314877619538,
          1.3462376552479272,
          0.6293309974259682,
          0.3066584709802117,
          0.7802284075387983,
          -0.46532319123341886,
          -0.06140283921866073,
          -1.5990645135051367,
          -1.3718944770156531,
          -0.3080484872878169,
          1.1249697012649895,
          0.8873925291791959,
          -0.14853390348956538,
          -1.9278022989972456,
          2.25380956208247,
          -0.7269355547852893,
          -0.4031203870809856,
          2.587540074395344,
          0.8110955245271798,
          0.3043075736415618,
          0.31788238600464414,
          -0.4492455940110283,
          0.5036771492114919,
          0.32183790974466225,
          -0.7508092478926194,
          -0.029156372004654006,
          -0.5786496044667773,
          -0.5232462829238717,
          -0.8090008048759896
         ],
         "xaxis": "x16",
         "yaxis": "y16"
        }
       ],
       "layout": {
        "bargap": 0.02,
        "legend": {
         "bgcolor": "#F5F6F9",
         "font": {
          "color": "#4D5663"
         }
        },
        "paper_bgcolor": "#F5F6F9",
        "plot_bgcolor": "#F5F6F9",
        "showlegend": false,
        "template": {
         "data": {
          "bar": [
           {
            "error_x": {
             "color": "#2a3f5f"
            },
            "error_y": {
             "color": "#2a3f5f"
            },
            "marker": {
             "line": {
              "color": "#E5ECF6",
              "width": 0.5
             },
             "pattern": {
              "fillmode": "overlay",
              "size": 10,
              "solidity": 0.2
             }
            },
            "type": "bar"
           }
          ],
          "barpolar": [
           {
            "marker": {
             "line": {
              "color": "#E5ECF6",
              "width": 0.5
             },
             "pattern": {
              "fillmode": "overlay",
              "size": 10,
              "solidity": 0.2
             }
            },
            "type": "barpolar"
           }
          ],
          "carpet": [
           {
            "aaxis": {
             "endlinecolor": "#2a3f5f",
             "gridcolor": "white",
             "linecolor": "white",
             "minorgridcolor": "white",
             "startlinecolor": "#2a3f5f"
            },
            "baxis": {
             "endlinecolor": "#2a3f5f",
             "gridcolor": "white",
             "linecolor": "white",
             "minorgridcolor": "white",
             "startlinecolor": "#2a3f5f"
            },
            "type": "carpet"
           }
          ],
          "choropleth": [
           {
            "colorbar": {
             "outlinewidth": 0,
             "ticks": ""
            },
            "type": "choropleth"
           }
          ],
          "contour": [
           {
            "colorbar": {
             "outlinewidth": 0,
             "ticks": ""
            },
            "colorscale": [
             [
              0,
              "#0d0887"
             ],
             [
              0.1111111111111111,
              "#46039f"
             ],
             [
              0.2222222222222222,
              "#7201a8"
             ],
             [
              0.3333333333333333,
              "#9c179e"
             ],
             [
              0.4444444444444444,
              "#bd3786"
             ],
             [
              0.5555555555555556,
              "#d8576b"
             ],
             [
              0.6666666666666666,
              "#ed7953"
             ],
             [
              0.7777777777777778,
              "#fb9f3a"
             ],
             [
              0.8888888888888888,
              "#fdca26"
             ],
             [
              1,
              "#f0f921"
             ]
            ],
            "type": "contour"
           }
          ],
          "contourcarpet": [
           {
            "colorbar": {
             "outlinewidth": 0,
             "ticks": ""
            },
            "type": "contourcarpet"
           }
          ],
          "heatmap": [
           {
            "colorbar": {
             "outlinewidth": 0,
             "ticks": ""
            },
            "colorscale": [
             [
              0,
              "#0d0887"
             ],
             [
              0.1111111111111111,
              "#46039f"
             ],
             [
              0.2222222222222222,
              "#7201a8"
             ],
             [
              0.3333333333333333,
              "#9c179e"
             ],
             [
              0.4444444444444444,
              "#bd3786"
             ],
             [
              0.5555555555555556,
              "#d8576b"
             ],
             [
              0.6666666666666666,
              "#ed7953"
             ],
             [
              0.7777777777777778,
              "#fb9f3a"
             ],
             [
              0.8888888888888888,
              "#fdca26"
             ],
             [
              1,
              "#f0f921"
             ]
            ],
            "type": "heatmap"
           }
          ],
          "heatmapgl": [
           {
            "colorbar": {
             "outlinewidth": 0,
             "ticks": ""
            },
            "colorscale": [
             [
              0,
              "#0d0887"
             ],
             [
              0.1111111111111111,
              "#46039f"
             ],
             [
              0.2222222222222222,
              "#7201a8"
             ],
             [
              0.3333333333333333,
              "#9c179e"
             ],
             [
              0.4444444444444444,
              "#bd3786"
             ],
             [
              0.5555555555555556,
              "#d8576b"
             ],
             [
              0.6666666666666666,
              "#ed7953"
             ],
             [
              0.7777777777777778,
              "#fb9f3a"
             ],
             [
              0.8888888888888888,
              "#fdca26"
             ],
             [
              1,
              "#f0f921"
             ]
            ],
            "type": "heatmapgl"
           }
          ],
          "histogram": [
           {
            "marker": {
             "pattern": {
              "fillmode": "overlay",
              "size": 10,
              "solidity": 0.2
             }
            },
            "type": "histogram"
           }
          ],
          "histogram2d": [
           {
            "colorbar": {
             "outlinewidth": 0,
             "ticks": ""
            },
            "colorscale": [
             [
              0,
              "#0d0887"
             ],
             [
              0.1111111111111111,
              "#46039f"
             ],
             [
              0.2222222222222222,
              "#7201a8"
             ],
             [
              0.3333333333333333,
              "#9c179e"
             ],
             [
              0.4444444444444444,
              "#bd3786"
             ],
             [
              0.5555555555555556,
              "#d8576b"
             ],
             [
              0.6666666666666666,
              "#ed7953"
             ],
             [
              0.7777777777777778,
              "#fb9f3a"
             ],
             [
              0.8888888888888888,
              "#fdca26"
             ],
             [
              1,
              "#f0f921"
             ]
            ],
            "type": "histogram2d"
           }
          ],
          "histogram2dcontour": [
           {
            "colorbar": {
             "outlinewidth": 0,
             "ticks": ""
            },
            "colorscale": [
             [
              0,
              "#0d0887"
             ],
             [
              0.1111111111111111,
              "#46039f"
             ],
             [
              0.2222222222222222,
              "#7201a8"
             ],
             [
              0.3333333333333333,
              "#9c179e"
             ],
             [
              0.4444444444444444,
              "#bd3786"
             ],
             [
              0.5555555555555556,
              "#d8576b"
             ],
             [
              0.6666666666666666,
              "#ed7953"
             ],
             [
              0.7777777777777778,
              "#fb9f3a"
             ],
             [
              0.8888888888888888,
              "#fdca26"
             ],
             [
              1,
              "#f0f921"
             ]
            ],
            "type": "histogram2dcontour"
           }
          ],
          "mesh3d": [
           {
            "colorbar": {
             "outlinewidth": 0,
             "ticks": ""
            },
            "type": "mesh3d"
           }
          ],
          "parcoords": [
           {
            "line": {
             "colorbar": {
              "outlinewidth": 0,
              "ticks": ""
             }
            },
            "type": "parcoords"
           }
          ],
          "pie": [
           {
            "automargin": true,
            "type": "pie"
           }
          ],
          "scatter": [
           {
            "marker": {
             "colorbar": {
              "outlinewidth": 0,
              "ticks": ""
             }
            },
            "type": "scatter"
           }
          ],
          "scatter3d": [
           {
            "line": {
             "colorbar": {
              "outlinewidth": 0,
              "ticks": ""
             }
            },
            "marker": {
             "colorbar": {
              "outlinewidth": 0,
              "ticks": ""
             }
            },
            "type": "scatter3d"
           }
          ],
          "scattercarpet": [
           {
            "marker": {
             "colorbar": {
              "outlinewidth": 0,
              "ticks": ""
             }
            },
            "type": "scattercarpet"
           }
          ],
          "scattergeo": [
           {
            "marker": {
             "colorbar": {
              "outlinewidth": 0,
              "ticks": ""
             }
            },
            "type": "scattergeo"
           }
          ],
          "scattergl": [
           {
            "marker": {
             "colorbar": {
              "outlinewidth": 0,
              "ticks": ""
             }
            },
            "type": "scattergl"
           }
          ],
          "scattermapbox": [
           {
            "marker": {
             "colorbar": {
              "outlinewidth": 0,
              "ticks": ""
             }
            },
            "type": "scattermapbox"
           }
          ],
          "scatterpolar": [
           {
            "marker": {
             "colorbar": {
              "outlinewidth": 0,
              "ticks": ""
             }
            },
            "type": "scatterpolar"
           }
          ],
          "scatterpolargl": [
           {
            "marker": {
             "colorbar": {
              "outlinewidth": 0,
              "ticks": ""
             }
            },
            "type": "scatterpolargl"
           }
          ],
          "scatterternary": [
           {
            "marker": {
             "colorbar": {
              "outlinewidth": 0,
              "ticks": ""
             }
            },
            "type": "scatterternary"
           }
          ],
          "surface": [
           {
            "colorbar": {
             "outlinewidth": 0,
             "ticks": ""
            },
            "colorscale": [
             [
              0,
              "#0d0887"
             ],
             [
              0.1111111111111111,
              "#46039f"
             ],
             [
              0.2222222222222222,
              "#7201a8"
             ],
             [
              0.3333333333333333,
              "#9c179e"
             ],
             [
              0.4444444444444444,
              "#bd3786"
             ],
             [
              0.5555555555555556,
              "#d8576b"
             ],
             [
              0.6666666666666666,
              "#ed7953"
             ],
             [
              0.7777777777777778,
              "#fb9f3a"
             ],
             [
              0.8888888888888888,
              "#fdca26"
             ],
             [
              1,
              "#f0f921"
             ]
            ],
            "type": "surface"
           }
          ],
          "table": [
           {
            "cells": {
             "fill": {
              "color": "#EBF0F8"
             },
             "line": {
              "color": "white"
             }
            },
            "header": {
             "fill": {
              "color": "#C8D4E3"
             },
             "line": {
              "color": "white"
             }
            },
            "type": "table"
           }
          ]
         },
         "layout": {
          "annotationdefaults": {
           "arrowcolor": "#2a3f5f",
           "arrowhead": 0,
           "arrowwidth": 1
          },
          "autotypenumbers": "strict",
          "coloraxis": {
           "colorbar": {
            "outlinewidth": 0,
            "ticks": ""
           }
          },
          "colorscale": {
           "diverging": [
            [
             0,
             "#8e0152"
            ],
            [
             0.1,
             "#c51b7d"
            ],
            [
             0.2,
             "#de77ae"
            ],
            [
             0.3,
             "#f1b6da"
            ],
            [
             0.4,
             "#fde0ef"
            ],
            [
             0.5,
             "#f7f7f7"
            ],
            [
             0.6,
             "#e6f5d0"
            ],
            [
             0.7,
             "#b8e186"
            ],
            [
             0.8,
             "#7fbc41"
            ],
            [
             0.9,
             "#4d9221"
            ],
            [
             1,
             "#276419"
            ]
           ],
           "sequential": [
            [
             0,
             "#0d0887"
            ],
            [
             0.1111111111111111,
             "#46039f"
            ],
            [
             0.2222222222222222,
             "#7201a8"
            ],
            [
             0.3333333333333333,
             "#9c179e"
            ],
            [
             0.4444444444444444,
             "#bd3786"
            ],
            [
             0.5555555555555556,
             "#d8576b"
            ],
            [
             0.6666666666666666,
             "#ed7953"
            ],
            [
             0.7777777777777778,
             "#fb9f3a"
            ],
            [
             0.8888888888888888,
             "#fdca26"
            ],
            [
             1,
             "#f0f921"
            ]
           ],
           "sequentialminus": [
            [
             0,
             "#0d0887"
            ],
            [
             0.1111111111111111,
             "#46039f"
            ],
            [
             0.2222222222222222,
             "#7201a8"
            ],
            [
             0.3333333333333333,
             "#9c179e"
            ],
            [
             0.4444444444444444,
             "#bd3786"
            ],
            [
             0.5555555555555556,
             "#d8576b"
            ],
            [
             0.6666666666666666,
             "#ed7953"
            ],
            [
             0.7777777777777778,
             "#fb9f3a"
            ],
            [
             0.8888888888888888,
             "#fdca26"
            ],
            [
             1,
             "#f0f921"
            ]
           ]
          },
          "colorway": [
           "#636efa",
           "#EF553B",
           "#00cc96",
           "#ab63fa",
           "#FFA15A",
           "#19d3f3",
           "#FF6692",
           "#B6E880",
           "#FF97FF",
           "#FECB52"
          ],
          "font": {
           "color": "#2a3f5f"
          },
          "geo": {
           "bgcolor": "white",
           "lakecolor": "white",
           "landcolor": "#E5ECF6",
           "showlakes": true,
           "showland": true,
           "subunitcolor": "white"
          },
          "hoverlabel": {
           "align": "left"
          },
          "hovermode": "closest",
          "mapbox": {
           "style": "light"
          },
          "paper_bgcolor": "white",
          "plot_bgcolor": "#E5ECF6",
          "polar": {
           "angularaxis": {
            "gridcolor": "white",
            "linecolor": "white",
            "ticks": ""
           },
           "bgcolor": "#E5ECF6",
           "radialaxis": {
            "gridcolor": "white",
            "linecolor": "white",
            "ticks": ""
           }
          },
          "scene": {
           "xaxis": {
            "backgroundcolor": "#E5ECF6",
            "gridcolor": "white",
            "gridwidth": 2,
            "linecolor": "white",
            "showbackground": true,
            "ticks": "",
            "zerolinecolor": "white"
           },
           "yaxis": {
            "backgroundcolor": "#E5ECF6",
            "gridcolor": "white",
            "gridwidth": 2,
            "linecolor": "white",
            "showbackground": true,
            "ticks": "",
            "zerolinecolor": "white"
           },
           "zaxis": {
            "backgroundcolor": "#E5ECF6",
            "gridcolor": "white",
            "gridwidth": 2,
            "linecolor": "white",
            "showbackground": true,
            "ticks": "",
            "zerolinecolor": "white"
           }
          },
          "shapedefaults": {
           "line": {
            "color": "#2a3f5f"
           }
          },
          "ternary": {
           "aaxis": {
            "gridcolor": "white",
            "linecolor": "white",
            "ticks": ""
           },
           "baxis": {
            "gridcolor": "white",
            "linecolor": "white",
            "ticks": ""
           },
           "bgcolor": "#E5ECF6",
           "caxis": {
            "gridcolor": "white",
            "linecolor": "white",
            "ticks": ""
           }
          },
          "title": {
           "x": 0.05
          },
          "xaxis": {
           "automargin": true,
           "gridcolor": "white",
           "linecolor": "white",
           "ticks": "",
           "title": {
            "standoff": 15
           },
           "zerolinecolor": "white",
           "zerolinewidth": 2
          },
          "yaxis": {
           "automargin": true,
           "gridcolor": "white",
           "linecolor": "white",
           "ticks": "",
           "title": {
            "standoff": 15
           },
           "zerolinecolor": "white",
           "zerolinewidth": 2
          }
         }
        },
        "title": {
         "font": {
          "color": "#4D5663"
         }
        },
        "xaxis": {
         "anchor": "y",
         "domain": [
          0,
          0.2125
         ],
         "gridcolor": "#E1E5ED",
         "showgrid": false,
         "tickfont": {
          "color": "#4D5663"
         },
         "title": {
          "font": {
           "color": "#4D5663"
          },
          "text": ""
         },
         "zerolinecolor": "#E1E5ED"
        },
        "xaxis10": {
         "anchor": "y10",
         "domain": [
          0.2625,
          0.475
         ],
         "gridcolor": "#E1E5ED",
         "showgrid": false,
         "tickfont": {
          "color": "#4D5663"
         },
         "title": {
          "font": {
           "color": "#4D5663"
          },
          "text": ""
         },
         "zerolinecolor": "#E1E5ED"
        },
        "xaxis11": {
         "anchor": "y11",
         "domain": [
          0.525,
          0.7375
         ],
         "gridcolor": "#E1E5ED",
         "showgrid": false,
         "tickfont": {
          "color": "#4D5663"
         },
         "title": {
          "font": {
           "color": "#4D5663"
          },
          "text": ""
         },
         "zerolinecolor": "#E1E5ED"
        },
        "xaxis12": {
         "anchor": "y12",
         "domain": [
          0.7875,
          1
         ],
         "gridcolor": "#E1E5ED",
         "showgrid": false,
         "tickfont": {
          "color": "#4D5663"
         },
         "title": {
          "font": {
           "color": "#4D5663"
          },
          "text": ""
         },
         "zerolinecolor": "#E1E5ED"
        },
        "xaxis13": {
         "anchor": "y13",
         "domain": [
          0,
          0.2125
         ],
         "gridcolor": "#E1E5ED",
         "showgrid": false,
         "tickfont": {
          "color": "#4D5663"
         },
         "title": {
          "font": {
           "color": "#4D5663"
          },
          "text": ""
         },
         "zerolinecolor": "#E1E5ED"
        },
        "xaxis14": {
         "anchor": "y14",
         "domain": [
          0.2625,
          0.475
         ],
         "gridcolor": "#E1E5ED",
         "showgrid": false,
         "tickfont": {
          "color": "#4D5663"
         },
         "title": {
          "font": {
           "color": "#4D5663"
          },
          "text": ""
         },
         "zerolinecolor": "#E1E5ED"
        },
        "xaxis15": {
         "anchor": "y15",
         "domain": [
          0.525,
          0.7375
         ],
         "gridcolor": "#E1E5ED",
         "showgrid": false,
         "tickfont": {
          "color": "#4D5663"
         },
         "title": {
          "font": {
           "color": "#4D5663"
          },
          "text": ""
         },
         "zerolinecolor": "#E1E5ED"
        },
        "xaxis16": {
         "anchor": "y16",
         "domain": [
          0.7875,
          1
         ],
         "gridcolor": "#E1E5ED",
         "showgrid": false,
         "tickfont": {
          "color": "#4D5663"
         },
         "title": {
          "font": {
           "color": "#4D5663"
          },
          "text": ""
         },
         "zerolinecolor": "#E1E5ED"
        },
        "xaxis2": {
         "anchor": "y2",
         "domain": [
          0.2625,
          0.475
         ],
         "gridcolor": "#E1E5ED",
         "showgrid": false,
         "tickfont": {
          "color": "#4D5663"
         },
         "title": {
          "font": {
           "color": "#4D5663"
          },
          "text": ""
         },
         "zerolinecolor": "#E1E5ED"
        },
        "xaxis3": {
         "anchor": "y3",
         "domain": [
          0.525,
          0.7375
         ],
         "gridcolor": "#E1E5ED",
         "showgrid": false,
         "tickfont": {
          "color": "#4D5663"
         },
         "title": {
          "font": {
           "color": "#4D5663"
          },
          "text": ""
         },
         "zerolinecolor": "#E1E5ED"
        },
        "xaxis4": {
         "anchor": "y4",
         "domain": [
          0.7875,
          1
         ],
         "gridcolor": "#E1E5ED",
         "showgrid": false,
         "tickfont": {
          "color": "#4D5663"
         },
         "title": {
          "font": {
           "color": "#4D5663"
          },
          "text": ""
         },
         "zerolinecolor": "#E1E5ED"
        },
        "xaxis5": {
         "anchor": "y5",
         "domain": [
          0,
          0.2125
         ],
         "gridcolor": "#E1E5ED",
         "showgrid": false,
         "tickfont": {
          "color": "#4D5663"
         },
         "title": {
          "font": {
           "color": "#4D5663"
          },
          "text": ""
         },
         "zerolinecolor": "#E1E5ED"
        },
        "xaxis6": {
         "anchor": "y6",
         "domain": [
          0.2625,
          0.475
         ],
         "gridcolor": "#E1E5ED",
         "showgrid": false,
         "tickfont": {
          "color": "#4D5663"
         },
         "title": {
          "font": {
           "color": "#4D5663"
          },
          "text": ""
         },
         "zerolinecolor": "#E1E5ED"
        },
        "xaxis7": {
         "anchor": "y7",
         "domain": [
          0.525,
          0.7375
         ],
         "gridcolor": "#E1E5ED",
         "showgrid": false,
         "tickfont": {
          "color": "#4D5663"
         },
         "title": {
          "font": {
           "color": "#4D5663"
          },
          "text": ""
         },
         "zerolinecolor": "#E1E5ED"
        },
        "xaxis8": {
         "anchor": "y8",
         "domain": [
          0.7875,
          1
         ],
         "gridcolor": "#E1E5ED",
         "showgrid": false,
         "tickfont": {
          "color": "#4D5663"
         },
         "title": {
          "font": {
           "color": "#4D5663"
          },
          "text": ""
         },
         "zerolinecolor": "#E1E5ED"
        },
        "xaxis9": {
         "anchor": "y9",
         "domain": [
          0,
          0.2125
         ],
         "gridcolor": "#E1E5ED",
         "showgrid": false,
         "tickfont": {
          "color": "#4D5663"
         },
         "title": {
          "font": {
           "color": "#4D5663"
          },
          "text": ""
         },
         "zerolinecolor": "#E1E5ED"
        },
        "yaxis": {
         "anchor": "x",
         "domain": [
          0.8025,
          1
         ],
         "gridcolor": "#E1E5ED",
         "showgrid": false,
         "tickfont": {
          "color": "#4D5663"
         },
         "title": {
          "font": {
           "color": "#4D5663"
          },
          "text": ""
         },
         "zerolinecolor": "#E1E5ED"
        },
        "yaxis10": {
         "anchor": "x10",
         "domain": [
          0.2675,
          0.465
         ],
         "gridcolor": "#E1E5ED",
         "showgrid": false,
         "tickfont": {
          "color": "#4D5663"
         },
         "title": {
          "font": {
           "color": "#4D5663"
          },
          "text": ""
         },
         "zerolinecolor": "#E1E5ED"
        },
        "yaxis11": {
         "anchor": "x11",
         "domain": [
          0.2675,
          0.465
         ],
         "gridcolor": "#E1E5ED",
         "showgrid": false,
         "tickfont": {
          "color": "#4D5663"
         },
         "title": {
          "font": {
           "color": "#4D5663"
          },
          "text": ""
         },
         "zerolinecolor": "#E1E5ED"
        },
        "yaxis12": {
         "anchor": "x12",
         "domain": [
          0.2675,
          0.465
         ],
         "gridcolor": "#E1E5ED",
         "showgrid": false,
         "tickfont": {
          "color": "#4D5663"
         },
         "title": {
          "font": {
           "color": "#4D5663"
          },
          "text": ""
         },
         "zerolinecolor": "#E1E5ED"
        },
        "yaxis13": {
         "anchor": "x13",
         "domain": [
          0,
          0.1975
         ],
         "gridcolor": "#E1E5ED",
         "showgrid": false,
         "tickfont": {
          "color": "#4D5663"
         },
         "title": {
          "font": {
           "color": "#4D5663"
          },
          "text": ""
         },
         "zerolinecolor": "#E1E5ED"
        },
        "yaxis14": {
         "anchor": "x14",
         "domain": [
          0,
          0.1975
         ],
         "gridcolor": "#E1E5ED",
         "showgrid": false,
         "tickfont": {
          "color": "#4D5663"
         },
         "title": {
          "font": {
           "color": "#4D5663"
          },
          "text": ""
         },
         "zerolinecolor": "#E1E5ED"
        },
        "yaxis15": {
         "anchor": "x15",
         "domain": [
          0,
          0.1975
         ],
         "gridcolor": "#E1E5ED",
         "showgrid": false,
         "tickfont": {
          "color": "#4D5663"
         },
         "title": {
          "font": {
           "color": "#4D5663"
          },
          "text": ""
         },
         "zerolinecolor": "#E1E5ED"
        },
        "yaxis16": {
         "anchor": "x16",
         "domain": [
          0,
          0.1975
         ],
         "gridcolor": "#E1E5ED",
         "showgrid": false,
         "tickfont": {
          "color": "#4D5663"
         },
         "title": {
          "font": {
           "color": "#4D5663"
          },
          "text": ""
         },
         "zerolinecolor": "#E1E5ED"
        },
        "yaxis2": {
         "anchor": "x2",
         "domain": [
          0.8025,
          1
         ],
         "gridcolor": "#E1E5ED",
         "showgrid": false,
         "tickfont": {
          "color": "#4D5663"
         },
         "title": {
          "font": {
           "color": "#4D5663"
          },
          "text": ""
         },
         "zerolinecolor": "#E1E5ED"
        },
        "yaxis3": {
         "anchor": "x3",
         "domain": [
          0.8025,
          1
         ],
         "gridcolor": "#E1E5ED",
         "showgrid": false,
         "tickfont": {
          "color": "#4D5663"
         },
         "title": {
          "font": {
           "color": "#4D5663"
          },
          "text": ""
         },
         "zerolinecolor": "#E1E5ED"
        },
        "yaxis4": {
         "anchor": "x4",
         "domain": [
          0.8025,
          1
         ],
         "gridcolor": "#E1E5ED",
         "showgrid": false,
         "tickfont": {
          "color": "#4D5663"
         },
         "title": {
          "font": {
           "color": "#4D5663"
          },
          "text": ""
         },
         "zerolinecolor": "#E1E5ED"
        },
        "yaxis5": {
         "anchor": "x5",
         "domain": [
          0.535,
          0.7325
         ],
         "gridcolor": "#E1E5ED",
         "showgrid": false,
         "tickfont": {
          "color": "#4D5663"
         },
         "title": {
          "font": {
           "color": "#4D5663"
          },
          "text": ""
         },
         "zerolinecolor": "#E1E5ED"
        },
        "yaxis6": {
         "anchor": "x6",
         "domain": [
          0.535,
          0.7325
         ],
         "gridcolor": "#E1E5ED",
         "showgrid": false,
         "tickfont": {
          "color": "#4D5663"
         },
         "title": {
          "font": {
           "color": "#4D5663"
          },
          "text": ""
         },
         "zerolinecolor": "#E1E5ED"
        },
        "yaxis7": {
         "anchor": "x7",
         "domain": [
          0.535,
          0.7325
         ],
         "gridcolor": "#E1E5ED",
         "showgrid": false,
         "tickfont": {
          "color": "#4D5663"
         },
         "title": {
          "font": {
           "color": "#4D5663"
          },
          "text": ""
         },
         "zerolinecolor": "#E1E5ED"
        },
        "yaxis8": {
         "anchor": "x8",
         "domain": [
          0.535,
          0.7325
         ],
         "gridcolor": "#E1E5ED",
         "showgrid": false,
         "tickfont": {
          "color": "#4D5663"
         },
         "title": {
          "font": {
           "color": "#4D5663"
          },
          "text": ""
         },
         "zerolinecolor": "#E1E5ED"
        },
        "yaxis9": {
         "anchor": "x9",
         "domain": [
          0.2675,
          0.465
         ],
         "gridcolor": "#E1E5ED",
         "showgrid": false,
         "tickfont": {
          "color": "#4D5663"
         },
         "title": {
          "font": {
           "color": "#4D5663"
          },
          "text": ""
         },
         "zerolinecolor": "#E1E5ED"
        }
       }
      },
      "text/html": [
       "<div>                            <div id=\"f9ca56dc-40c6-49e3-b782-6ca62457f0cf\" class=\"plotly-graph-div\" style=\"height:525px; width:100%;\"></div>            <script type=\"text/javascript\">                require([\"plotly\"], function(Plotly) {                    window.PLOTLYENV=window.PLOTLYENV || {};\n",
       "                    window.PLOTLYENV.BASE_URL='https://plot.ly';                                    if (document.getElementById(\"f9ca56dc-40c6-49e3-b782-6ca62457f0cf\")) {                    Plotly.newPlot(                        \"f9ca56dc-40c6-49e3-b782-6ca62457f0cf\",                        [{\"histfunc\":\"count\",\"histnorm\":\"\",\"marker\":{\"color\":\"rgba(255, 153, 51, 1.0)\",\"line\":{\"color\":\"#4D5663\",\"width\":1.3}},\"name\":\"A\",\"nbinsx\":10,\"opacity\":0.8,\"orientation\":\"v\",\"x\":[0.6704549516109599,0.082535443479542,-0.030277607876463258,-0.7296129081944889,0.1527265413175817,-0.33813441137032424,1.9042339492772191,-0.7588056246726919,-0.8707965588081601,0.2896340361845918,-1.5237665192059862,0.9484620621971421,0.10553141650462003,0.2092718349405866,1.1640347231125636,0.4858426802866781,0.11933983453608828,0.2728169531371193,0.28919657021806133,1.073483561244945,0.07028375795764374,-0.1887932147115583,-1.0600689448473835,-0.3019363572412175,-0.8126307144185704,0.04021264055831378,-0.9798153152930743,-0.6070842061572903,-0.8067785203768048,-0.36628255849385094,-0.490724497613985,-0.11948959467927889,0.48024340826134854,-1.1114681568524802,0.00876717415713063,0.6153754248886335,-1.4120273218003125,-0.29772386315529703,-1.5277547107763774,0.8806863350762015,-0.02202561406455898,0.18378231072850623,-1.2931621264832485,-0.3972448926752685,-0.5753141033381041,0.6099801439466861,-0.8322217489099195,-0.05349257776630721,0.8517356264904371,-0.6052906360039375,-0.016646820797517226,-0.8891175447176948,1.8392114049926793,-1.189159093024214,-1.469324037228592,-0.20638700121277379,1.2880732643088497,1.011507627731839,-0.3227307063649429,1.2961924610631739,-0.7642289271104794,-0.8007653934311705,0.4603318905907266,1.0522096884457013,1.3600251679490534,-0.36805019645124054,-0.5252295655825047,0.3721275871542655,-1.1589425465940177,0.2552543469502206,-1.219051279316724,0.7809900058034129,0.6429968571185835,-0.9685863470324628,1.2932642257498272,0.8991878465435622,0.6702614740877187,-1.53023911252679,-0.33211763988874765,1.4833033292419877,0.5966607396311193,-1.3509756071664498,0.8079238287024253,1.6795389610664637,-0.6956294545177134,0.7239483934768534,-0.8703039150087871,2.4752648340661243,0.6095555501482074,-0.05135436217061349,-1.441317146126483,-1.7698229100332996,-0.854867235643374,0.01573115303956426,0.01366965315720599,-0.055649749827862735,0.9996389487811868,0.23448412479115777,1.3109218538891279,0.11222823118418822],\"xaxis\":\"x\",\"yaxis\":\"y\",\"type\":\"histogram\"},{\"line\":{\"color\":\"rgba(128, 128, 128, 1.0)\",\"dash\":\"solid\",\"shape\":\"linear\",\"width\":1.3},\"marker\":{\"size\":2,\"symbol\":\"circle\"},\"mode\":\"markers\",\"name\":\"A\",\"text\":\"\",\"x\":[-0.2682455403138665,0.9219032901867988,-2.6316192007926147,-0.7002221680723266,-1.1410201172424725,0.1982088166397885,-0.36916858732116814,-0.346988451454806,-0.5067690548727558,-0.48657622979598436,-0.3779466626884306,-0.9057264109845606,-1.0904291766858063,-0.7245917615110173,-0.7023340161584938,-0.12909160467106529,-0.8886651919263007,0.3823079631484114,-1.0900373872538167,0.04590737193270273,0.3449595019039827,-0.21952347502178463,-0.045830801280706795,0.27039014309921827,0.9752355335661154,-0.6297684032026852,-1.4341538818078072,-2.928405166974158,-0.24271171257920754,-0.8045786019109605,-0.7726865519387884,-0.38402965758197344,0.43511238729760066,0.6040661512852107,-0.55675228038275,-2.0752224149061544,0.30665005723854494,1.052301828580547,-0.3096428207681808,-1.1114785994044372,0.16438707146105638,0.7303825344045778,-0.6668291129437066,-1.2047590788659568,-0.6527833867437385,-0.17869000879867572,0.6164832688470566,1.1410378050428858,-1.723664068438458,-0.6046277913177348,-0.5054846301754152,0.776550047785937,0.46522658965141034,1.0350918146874746,0.9008286556081461,0.6095189639974038,-0.5152331945488056,0.23869453965612214,-1.395265038890855,0.509141026613451,-0.20929089012008917,-0.27011429036927975,0.8636244035153211,-0.688059366148949,-0.8832300590337048,-2.928352824671613,0.07989375770754963,-1.9431385480998216,-1.8746224168674628,0.2443443760851938,0.3794392960523368,0.11523202363410734,0.12093706648550032,-0.483520740771378,-1.371270121893702,-0.0751091049119595,0.09543516448164553,0.7550659367358067,1.4773525481483383,-1.6667177545418252,0.024320580466173938,-0.42969113088106947,-0.4717015774845612,-0.8692805274518534,0.8098607957408062,-0.7958892117997776,-2.532441312455747,0.22346344034817142,0.8033086864689049,1.684673808657013,0.3552602777281829,0.3419395197719315,-0.12852374038004932,1.382975119289779,-0.0655957106522503,-0.3145521070114627,-1.4393287908028378,-0.3295221740812238,-0.42722999899320613,-0.9031641314456635],\"xaxis\":\"x2\",\"y\":[0.6704549516109599,0.082535443479542,-0.030277607876463258,-0.7296129081944889,0.1527265413175817,-0.33813441137032424,1.9042339492772191,-0.7588056246726919,-0.8707965588081601,0.2896340361845918,-1.5237665192059862,0.9484620621971421,0.10553141650462003,0.2092718349405866,1.1640347231125636,0.4858426802866781,0.11933983453608828,0.2728169531371193,0.28919657021806133,1.073483561244945,0.07028375795764374,-0.1887932147115583,-1.0600689448473835,-0.3019363572412175,-0.8126307144185704,0.04021264055831378,-0.9798153152930743,-0.6070842061572903,-0.8067785203768048,-0.36628255849385094,-0.490724497613985,-0.11948959467927889,0.48024340826134854,-1.1114681568524802,0.00876717415713063,0.6153754248886335,-1.4120273218003125,-0.29772386315529703,-1.5277547107763774,0.8806863350762015,-0.02202561406455898,0.18378231072850623,-1.2931621264832485,-0.3972448926752685,-0.5753141033381041,0.6099801439466861,-0.8322217489099195,-0.05349257776630721,0.8517356264904371,-0.6052906360039375,-0.016646820797517226,-0.8891175447176948,1.8392114049926793,-1.189159093024214,-1.469324037228592,-0.20638700121277379,1.2880732643088497,1.011507627731839,-0.3227307063649429,1.2961924610631739,-0.7642289271104794,-0.8007653934311705,0.4603318905907266,1.0522096884457013,1.3600251679490534,-0.36805019645124054,-0.5252295655825047,0.3721275871542655,-1.1589425465940177,0.2552543469502206,-1.219051279316724,0.7809900058034129,0.6429968571185835,-0.9685863470324628,1.2932642257498272,0.8991878465435622,0.6702614740877187,-1.53023911252679,-0.33211763988874765,1.4833033292419877,0.5966607396311193,-1.3509756071664498,0.8079238287024253,1.6795389610664637,-0.6956294545177134,0.7239483934768534,-0.8703039150087871,2.4752648340661243,0.6095555501482074,-0.05135436217061349,-1.441317146126483,-1.7698229100332996,-0.854867235643374,0.01573115303956426,0.01366965315720599,-0.055649749827862735,0.9996389487811868,0.23448412479115777,1.3109218538891279,0.11222823118418822],\"yaxis\":\"y2\",\"type\":\"scatter\"},{\"line\":{\"color\":\"rgba(128, 128, 128, 1.0)\",\"dash\":\"solid\",\"shape\":\"linear\",\"width\":1.3},\"marker\":{\"size\":2,\"symbol\":\"circle\"},\"mode\":\"markers\",\"name\":\"A\",\"text\":\"\",\"x\":[0.36701710595825254,0.46000033353965614,0.9737334163013094,0.19854008303274714,0.5998526204284188,-1.3946066889939361,-0.12155804082863964,1.0055548804895427,0.0810987255363289,1.103511469305969,0.26398199983883763,0.14593148133072104,0.37985804050238503,-0.7153516367654928,-0.7176568175878837,0.03275806960429191,-0.21948315755816733,-0.49153818956942047,0.9659477856167753,0.4249527366042526,1.3111017977551336,-0.019792522179095374,-1.2732567736519131,-1.3970325048240173,0.9667427222174672,-0.9379307460303506,0.6225612400113906,0.3574663346986022,-0.03668086876447439,1.1837503274675245,-1.604460223832529,-0.6401589833583028,0.13026600116142184,-0.4135757855699605,1.4515954587331912,-1.3241217249524266,1.1936281693711277,-1.0231318785892891,0.09220417397157808,0.06295717441328277,-1.301709312357675,0.8692975221881372,1.0152154701158727,-1.9967647136128595,2.363876410286345,-0.7321134713851997,-0.846238770549181,-0.225280736209897,-0.26119808038949116,0.49557985426913875,-0.9118071933419445,-1.2594602159056778,-0.013575887746153474,0.6005294650913788,-0.030760494323134456,1.7743909371825128,0.4638200144398666,0.9744914947314348,-0.5788267384660811,1.8585222777023265,-0.017519813758613143,-0.355558060494097,1.2429028981992543,0.005605265585401496,-0.42698953276129514,0.775773218390474,-0.7991494715942651,0.5925055503475269,0.16788535015079373,-0.4488485182848409,-0.6859757858458887,0.7003274647135272,0.9056208476111676,0.8718717808239559,-1.164773779135178,0.4592593402858712,0.4973666576735957,-0.5131693678338795,1.557724043455767,0.5536660281074894,2.2010221554819656,0.5646823570649336,0.028072525274820983,1.543652803147221,1.6559690185397318,0.1043096014372564,1.397254925511402,0.8511227651769517,-0.02821729362196425,0.9102249082441589,1.2937701916636015,-0.7799757916089121,-0.6309236250550366,-0.4968154982488999,-2.3002338182880306,1.513093666990525,0.8167253534870564,0.1612722302995093,0.5813704403961676,-1.9056960300675936],\"xaxis\":\"x3\",\"y\":[0.6704549516109599,0.082535443479542,-0.030277607876463258,-0.7296129081944889,0.1527265413175817,-0.33813441137032424,1.9042339492772191,-0.7588056246726919,-0.8707965588081601,0.2896340361845918,-1.5237665192059862,0.9484620621971421,0.10553141650462003,0.2092718349405866,1.1640347231125636,0.4858426802866781,0.11933983453608828,0.2728169531371193,0.28919657021806133,1.073483561244945,0.07028375795764374,-0.1887932147115583,-1.0600689448473835,-0.3019363572412175,-0.8126307144185704,0.04021264055831378,-0.9798153152930743,-0.6070842061572903,-0.8067785203768048,-0.36628255849385094,-0.490724497613985,-0.11948959467927889,0.48024340826134854,-1.1114681568524802,0.00876717415713063,0.6153754248886335,-1.4120273218003125,-0.29772386315529703,-1.5277547107763774,0.8806863350762015,-0.02202561406455898,0.18378231072850623,-1.2931621264832485,-0.3972448926752685,-0.5753141033381041,0.6099801439466861,-0.8322217489099195,-0.05349257776630721,0.8517356264904371,-0.6052906360039375,-0.016646820797517226,-0.8891175447176948,1.8392114049926793,-1.189159093024214,-1.469324037228592,-0.20638700121277379,1.2880732643088497,1.011507627731839,-0.3227307063649429,1.2961924610631739,-0.7642289271104794,-0.8007653934311705,0.4603318905907266,1.0522096884457013,1.3600251679490534,-0.36805019645124054,-0.5252295655825047,0.3721275871542655,-1.1589425465940177,0.2552543469502206,-1.219051279316724,0.7809900058034129,0.6429968571185835,-0.9685863470324628,1.2932642257498272,0.8991878465435622,0.6702614740877187,-1.53023911252679,-0.33211763988874765,1.4833033292419877,0.5966607396311193,-1.3509756071664498,0.8079238287024253,1.6795389610664637,-0.6956294545177134,0.7239483934768534,-0.8703039150087871,2.4752648340661243,0.6095555501482074,-0.05135436217061349,-1.441317146126483,-1.7698229100332996,-0.854867235643374,0.01573115303956426,0.01366965315720599,-0.055649749827862735,0.9996389487811868,0.23448412479115777,1.3109218538891279,0.11222823118418822],\"yaxis\":\"y3\",\"type\":\"scatter\"},{\"line\":{\"color\":\"rgba(128, 128, 128, 1.0)\",\"dash\":\"solid\",\"shape\":\"linear\",\"width\":1.3},\"marker\":{\"size\":2,\"symbol\":\"circle\"},\"mode\":\"markers\",\"name\":\"A\",\"text\":\"\",\"x\":[0.10213612530568543,0.2937547169864263,0.1767055109002836,-0.2973183925802308,-0.14908000139268454,-0.8430874326093657,-0.4928879427187282,-0.28143857828686214,0.5735779816605117,-1.7476240727312766,0.5728574698103156,0.4903527368293395,0.9201769929563614,-0.014260584015353406,1.5784970560581673,0.04636486504864947,0.3060238789060607,-0.5406887352236077,-0.17173543197806548,-0.011516235303470181,1.240140805137977,-1.2050535786432073,-0.5541191683151043,-0.9146304500683474,-0.5340983179598195,-0.07040673498763442,-0.4621503597065403,-0.7636828242655683,-1.301258686639732,1.0785528258849082,1.9231140457625895,1.329345179022494,1.7905122345768874,1.1658786598167523,0.06524024621921286,0.3685130262936316,-0.9311335605389865,-0.8828996672227901,0.6349125466014539,-0.5285273878824718,0.020699294724895533,-0.5714428638656869,0.18357762539896405,-0.5933002305324663,-0.4209975009909785,-0.3243940199330944,0.43509435259205076,-1.080742958739633,-0.6118672086666948,-0.11163370868526934,-2.2876449940546997,-0.9306439540241452,1.4011408323027417,-0.8738049031801042,-0.048256258626752396,1.5221648999316875,0.1320770519253603,-1.7680350812494758,0.9077479529281082,-0.8975405670433891,0.7077909193645673,-1.9270895807980386,-0.4199393369219335,0.1674516448100253,-1.5185518792015826,0.5677447768752817,-0.5375934160356332,-0.1881416759471227,0.26082005397708397,0.48122195937146056,0.8846181120180732,-0.11799314877619538,1.3462376552479272,0.6293309974259682,0.3066584709802117,0.7802284075387983,-0.46532319123341886,-0.06140283921866073,-1.5990645135051367,-1.3718944770156531,-0.3080484872878169,1.1249697012649895,0.8873925291791959,-0.14853390348956538,-1.9278022989972456,2.25380956208247,-0.7269355547852893,-0.4031203870809856,2.587540074395344,0.8110955245271798,0.3043075736415618,0.31788238600464414,-0.4492455940110283,0.5036771492114919,0.32183790974466225,-0.7508092478926194,-0.029156372004654006,-0.5786496044667773,-0.5232462829238717,-0.8090008048759896],\"xaxis\":\"x4\",\"y\":[0.6704549516109599,0.082535443479542,-0.030277607876463258,-0.7296129081944889,0.1527265413175817,-0.33813441137032424,1.9042339492772191,-0.7588056246726919,-0.8707965588081601,0.2896340361845918,-1.5237665192059862,0.9484620621971421,0.10553141650462003,0.2092718349405866,1.1640347231125636,0.4858426802866781,0.11933983453608828,0.2728169531371193,0.28919657021806133,1.073483561244945,0.07028375795764374,-0.1887932147115583,-1.0600689448473835,-0.3019363572412175,-0.8126307144185704,0.04021264055831378,-0.9798153152930743,-0.6070842061572903,-0.8067785203768048,-0.36628255849385094,-0.490724497613985,-0.11948959467927889,0.48024340826134854,-1.1114681568524802,0.00876717415713063,0.6153754248886335,-1.4120273218003125,-0.29772386315529703,-1.5277547107763774,0.8806863350762015,-0.02202561406455898,0.18378231072850623,-1.2931621264832485,-0.3972448926752685,-0.5753141033381041,0.6099801439466861,-0.8322217489099195,-0.05349257776630721,0.8517356264904371,-0.6052906360039375,-0.016646820797517226,-0.8891175447176948,1.8392114049926793,-1.189159093024214,-1.469324037228592,-0.20638700121277379,1.2880732643088497,1.011507627731839,-0.3227307063649429,1.2961924610631739,-0.7642289271104794,-0.8007653934311705,0.4603318905907266,1.0522096884457013,1.3600251679490534,-0.36805019645124054,-0.5252295655825047,0.3721275871542655,-1.1589425465940177,0.2552543469502206,-1.219051279316724,0.7809900058034129,0.6429968571185835,-0.9685863470324628,1.2932642257498272,0.8991878465435622,0.6702614740877187,-1.53023911252679,-0.33211763988874765,1.4833033292419877,0.5966607396311193,-1.3509756071664498,0.8079238287024253,1.6795389610664637,-0.6956294545177134,0.7239483934768534,-0.8703039150087871,2.4752648340661243,0.6095555501482074,-0.05135436217061349,-1.441317146126483,-1.7698229100332996,-0.854867235643374,0.01573115303956426,0.01366965315720599,-0.055649749827862735,0.9996389487811868,0.23448412479115777,1.3109218538891279,0.11222823118418822],\"yaxis\":\"y4\",\"type\":\"scatter\"},{\"line\":{\"color\":\"rgba(128, 128, 128, 1.0)\",\"dash\":\"solid\",\"shape\":\"linear\",\"width\":1.3},\"marker\":{\"size\":2,\"symbol\":\"circle\"},\"mode\":\"markers\",\"name\":\"B\",\"text\":\"\",\"x\":[0.6704549516109599,0.082535443479542,-0.030277607876463258,-0.7296129081944889,0.1527265413175817,-0.33813441137032424,1.9042339492772191,-0.7588056246726919,-0.8707965588081601,0.2896340361845918,-1.5237665192059862,0.9484620621971421,0.10553141650462003,0.2092718349405866,1.1640347231125636,0.4858426802866781,0.11933983453608828,0.2728169531371193,0.28919657021806133,1.073483561244945,0.07028375795764374,-0.1887932147115583,-1.0600689448473835,-0.3019363572412175,-0.8126307144185704,0.04021264055831378,-0.9798153152930743,-0.6070842061572903,-0.8067785203768048,-0.36628255849385094,-0.490724497613985,-0.11948959467927889,0.48024340826134854,-1.1114681568524802,0.00876717415713063,0.6153754248886335,-1.4120273218003125,-0.29772386315529703,-1.5277547107763774,0.8806863350762015,-0.02202561406455898,0.18378231072850623,-1.2931621264832485,-0.3972448926752685,-0.5753141033381041,0.6099801439466861,-0.8322217489099195,-0.05349257776630721,0.8517356264904371,-0.6052906360039375,-0.016646820797517226,-0.8891175447176948,1.8392114049926793,-1.189159093024214,-1.469324037228592,-0.20638700121277379,1.2880732643088497,1.011507627731839,-0.3227307063649429,1.2961924610631739,-0.7642289271104794,-0.8007653934311705,0.4603318905907266,1.0522096884457013,1.3600251679490534,-0.36805019645124054,-0.5252295655825047,0.3721275871542655,-1.1589425465940177,0.2552543469502206,-1.219051279316724,0.7809900058034129,0.6429968571185835,-0.9685863470324628,1.2932642257498272,0.8991878465435622,0.6702614740877187,-1.53023911252679,-0.33211763988874765,1.4833033292419877,0.5966607396311193,-1.3509756071664498,0.8079238287024253,1.6795389610664637,-0.6956294545177134,0.7239483934768534,-0.8703039150087871,2.4752648340661243,0.6095555501482074,-0.05135436217061349,-1.441317146126483,-1.7698229100332996,-0.854867235643374,0.01573115303956426,0.01366965315720599,-0.055649749827862735,0.9996389487811868,0.23448412479115777,1.3109218538891279,0.11222823118418822],\"xaxis\":\"x5\",\"y\":[-0.2682455403138665,0.9219032901867988,-2.6316192007926147,-0.7002221680723266,-1.1410201172424725,0.1982088166397885,-0.36916858732116814,-0.346988451454806,-0.5067690548727558,-0.48657622979598436,-0.3779466626884306,-0.9057264109845606,-1.0904291766858063,-0.7245917615110173,-0.7023340161584938,-0.12909160467106529,-0.8886651919263007,0.3823079631484114,-1.0900373872538167,0.04590737193270273,0.3449595019039827,-0.21952347502178463,-0.045830801280706795,0.27039014309921827,0.9752355335661154,-0.6297684032026852,-1.4341538818078072,-2.928405166974158,-0.24271171257920754,-0.8045786019109605,-0.7726865519387884,-0.38402965758197344,0.43511238729760066,0.6040661512852107,-0.55675228038275,-2.0752224149061544,0.30665005723854494,1.052301828580547,-0.3096428207681808,-1.1114785994044372,0.16438707146105638,0.7303825344045778,-0.6668291129437066,-1.2047590788659568,-0.6527833867437385,-0.17869000879867572,0.6164832688470566,1.1410378050428858,-1.723664068438458,-0.6046277913177348,-0.5054846301754152,0.776550047785937,0.46522658965141034,1.0350918146874746,0.9008286556081461,0.6095189639974038,-0.5152331945488056,0.23869453965612214,-1.395265038890855,0.509141026613451,-0.20929089012008917,-0.27011429036927975,0.8636244035153211,-0.688059366148949,-0.8832300590337048,-2.928352824671613,0.07989375770754963,-1.9431385480998216,-1.8746224168674628,0.2443443760851938,0.3794392960523368,0.11523202363410734,0.12093706648550032,-0.483520740771378,-1.371270121893702,-0.0751091049119595,0.09543516448164553,0.7550659367358067,1.4773525481483383,-1.6667177545418252,0.024320580466173938,-0.42969113088106947,-0.4717015774845612,-0.8692805274518534,0.8098607957408062,-0.7958892117997776,-2.532441312455747,0.22346344034817142,0.8033086864689049,1.684673808657013,0.3552602777281829,0.3419395197719315,-0.12852374038004932,1.382975119289779,-0.0655957106522503,-0.3145521070114627,-1.4393287908028378,-0.3295221740812238,-0.42722999899320613,-0.9031641314456635],\"yaxis\":\"y5\",\"type\":\"scatter\"},{\"histfunc\":\"count\",\"histnorm\":\"\",\"marker\":{\"color\":\"rgba(55, 128, 191, 1.0)\",\"line\":{\"color\":\"#4D5663\",\"width\":1.3}},\"name\":\"B\",\"nbinsx\":10,\"opacity\":0.8,\"orientation\":\"v\",\"x\":[-0.2682455403138665,0.9219032901867988,-2.6316192007926147,-0.7002221680723266,-1.1410201172424725,0.1982088166397885,-0.36916858732116814,-0.346988451454806,-0.5067690548727558,-0.48657622979598436,-0.3779466626884306,-0.9057264109845606,-1.0904291766858063,-0.7245917615110173,-0.7023340161584938,-0.12909160467106529,-0.8886651919263007,0.3823079631484114,-1.0900373872538167,0.04590737193270273,0.3449595019039827,-0.21952347502178463,-0.045830801280706795,0.27039014309921827,0.9752355335661154,-0.6297684032026852,-1.4341538818078072,-2.928405166974158,-0.24271171257920754,-0.8045786019109605,-0.7726865519387884,-0.38402965758197344,0.43511238729760066,0.6040661512852107,-0.55675228038275,-2.0752224149061544,0.30665005723854494,1.052301828580547,-0.3096428207681808,-1.1114785994044372,0.16438707146105638,0.7303825344045778,-0.6668291129437066,-1.2047590788659568,-0.6527833867437385,-0.17869000879867572,0.6164832688470566,1.1410378050428858,-1.723664068438458,-0.6046277913177348,-0.5054846301754152,0.776550047785937,0.46522658965141034,1.0350918146874746,0.9008286556081461,0.6095189639974038,-0.5152331945488056,0.23869453965612214,-1.395265038890855,0.509141026613451,-0.20929089012008917,-0.27011429036927975,0.8636244035153211,-0.688059366148949,-0.8832300590337048,-2.928352824671613,0.07989375770754963,-1.9431385480998216,-1.8746224168674628,0.2443443760851938,0.3794392960523368,0.11523202363410734,0.12093706648550032,-0.483520740771378,-1.371270121893702,-0.0751091049119595,0.09543516448164553,0.7550659367358067,1.4773525481483383,-1.6667177545418252,0.024320580466173938,-0.42969113088106947,-0.4717015774845612,-0.8692805274518534,0.8098607957408062,-0.7958892117997776,-2.532441312455747,0.22346344034817142,0.8033086864689049,1.684673808657013,0.3552602777281829,0.3419395197719315,-0.12852374038004932,1.382975119289779,-0.0655957106522503,-0.3145521070114627,-1.4393287908028378,-0.3295221740812238,-0.42722999899320613,-0.9031641314456635],\"xaxis\":\"x6\",\"yaxis\":\"y6\",\"type\":\"histogram\"},{\"line\":{\"color\":\"rgba(128, 128, 128, 1.0)\",\"dash\":\"solid\",\"shape\":\"linear\",\"width\":1.3},\"marker\":{\"size\":2,\"symbol\":\"circle\"},\"mode\":\"markers\",\"name\":\"B\",\"text\":\"\",\"x\":[0.36701710595825254,0.46000033353965614,0.9737334163013094,0.19854008303274714,0.5998526204284188,-1.3946066889939361,-0.12155804082863964,1.0055548804895427,0.0810987255363289,1.103511469305969,0.26398199983883763,0.14593148133072104,0.37985804050238503,-0.7153516367654928,-0.7176568175878837,0.03275806960429191,-0.21948315755816733,-0.49153818956942047,0.9659477856167753,0.4249527366042526,1.3111017977551336,-0.019792522179095374,-1.2732567736519131,-1.3970325048240173,0.9667427222174672,-0.9379307460303506,0.6225612400113906,0.3574663346986022,-0.03668086876447439,1.1837503274675245,-1.604460223832529,-0.6401589833583028,0.13026600116142184,-0.4135757855699605,1.4515954587331912,-1.3241217249524266,1.1936281693711277,-1.0231318785892891,0.09220417397157808,0.06295717441328277,-1.301709312357675,0.8692975221881372,1.0152154701158727,-1.9967647136128595,2.363876410286345,-0.7321134713851997,-0.846238770549181,-0.225280736209897,-0.26119808038949116,0.49557985426913875,-0.9118071933419445,-1.2594602159056778,-0.013575887746153474,0.6005294650913788,-0.030760494323134456,1.7743909371825128,0.4638200144398666,0.9744914947314348,-0.5788267384660811,1.8585222777023265,-0.017519813758613143,-0.355558060494097,1.2429028981992543,0.005605265585401496,-0.42698953276129514,0.775773218390474,-0.7991494715942651,0.5925055503475269,0.16788535015079373,-0.4488485182848409,-0.6859757858458887,0.7003274647135272,0.9056208476111676,0.8718717808239559,-1.164773779135178,0.4592593402858712,0.4973666576735957,-0.5131693678338795,1.557724043455767,0.5536660281074894,2.2010221554819656,0.5646823570649336,0.028072525274820983,1.543652803147221,1.6559690185397318,0.1043096014372564,1.397254925511402,0.8511227651769517,-0.02821729362196425,0.9102249082441589,1.2937701916636015,-0.7799757916089121,-0.6309236250550366,-0.4968154982488999,-2.3002338182880306,1.513093666990525,0.8167253534870564,0.1612722302995093,0.5813704403961676,-1.9056960300675936],\"xaxis\":\"x7\",\"y\":[-0.2682455403138665,0.9219032901867988,-2.6316192007926147,-0.7002221680723266,-1.1410201172424725,0.1982088166397885,-0.36916858732116814,-0.346988451454806,-0.5067690548727558,-0.48657622979598436,-0.3779466626884306,-0.9057264109845606,-1.0904291766858063,-0.7245917615110173,-0.7023340161584938,-0.12909160467106529,-0.8886651919263007,0.3823079631484114,-1.0900373872538167,0.04590737193270273,0.3449595019039827,-0.21952347502178463,-0.045830801280706795,0.27039014309921827,0.9752355335661154,-0.6297684032026852,-1.4341538818078072,-2.928405166974158,-0.24271171257920754,-0.8045786019109605,-0.7726865519387884,-0.38402965758197344,0.43511238729760066,0.6040661512852107,-0.55675228038275,-2.0752224149061544,0.30665005723854494,1.052301828580547,-0.3096428207681808,-1.1114785994044372,0.16438707146105638,0.7303825344045778,-0.6668291129437066,-1.2047590788659568,-0.6527833867437385,-0.17869000879867572,0.6164832688470566,1.1410378050428858,-1.723664068438458,-0.6046277913177348,-0.5054846301754152,0.776550047785937,0.46522658965141034,1.0350918146874746,0.9008286556081461,0.6095189639974038,-0.5152331945488056,0.23869453965612214,-1.395265038890855,0.509141026613451,-0.20929089012008917,-0.27011429036927975,0.8636244035153211,-0.688059366148949,-0.8832300590337048,-2.928352824671613,0.07989375770754963,-1.9431385480998216,-1.8746224168674628,0.2443443760851938,0.3794392960523368,0.11523202363410734,0.12093706648550032,-0.483520740771378,-1.371270121893702,-0.0751091049119595,0.09543516448164553,0.7550659367358067,1.4773525481483383,-1.6667177545418252,0.024320580466173938,-0.42969113088106947,-0.4717015774845612,-0.8692805274518534,0.8098607957408062,-0.7958892117997776,-2.532441312455747,0.22346344034817142,0.8033086864689049,1.684673808657013,0.3552602777281829,0.3419395197719315,-0.12852374038004932,1.382975119289779,-0.0655957106522503,-0.3145521070114627,-1.4393287908028378,-0.3295221740812238,-0.42722999899320613,-0.9031641314456635],\"yaxis\":\"y7\",\"type\":\"scatter\"},{\"line\":{\"color\":\"rgba(128, 128, 128, 1.0)\",\"dash\":\"solid\",\"shape\":\"linear\",\"width\":1.3},\"marker\":{\"size\":2,\"symbol\":\"circle\"},\"mode\":\"markers\",\"name\":\"B\",\"text\":\"\",\"x\":[0.10213612530568543,0.2937547169864263,0.1767055109002836,-0.2973183925802308,-0.14908000139268454,-0.8430874326093657,-0.4928879427187282,-0.28143857828686214,0.5735779816605117,-1.7476240727312766,0.5728574698103156,0.4903527368293395,0.9201769929563614,-0.014260584015353406,1.5784970560581673,0.04636486504864947,0.3060238789060607,-0.5406887352236077,-0.17173543197806548,-0.011516235303470181,1.240140805137977,-1.2050535786432073,-0.5541191683151043,-0.9146304500683474,-0.5340983179598195,-0.07040673498763442,-0.4621503597065403,-0.7636828242655683,-1.301258686639732,1.0785528258849082,1.9231140457625895,1.329345179022494,1.7905122345768874,1.1658786598167523,0.06524024621921286,0.3685130262936316,-0.9311335605389865,-0.8828996672227901,0.6349125466014539,-0.5285273878824718,0.020699294724895533,-0.5714428638656869,0.18357762539896405,-0.5933002305324663,-0.4209975009909785,-0.3243940199330944,0.43509435259205076,-1.080742958739633,-0.6118672086666948,-0.11163370868526934,-2.2876449940546997,-0.9306439540241452,1.4011408323027417,-0.8738049031801042,-0.048256258626752396,1.5221648999316875,0.1320770519253603,-1.7680350812494758,0.9077479529281082,-0.8975405670433891,0.7077909193645673,-1.9270895807980386,-0.4199393369219335,0.1674516448100253,-1.5185518792015826,0.5677447768752817,-0.5375934160356332,-0.1881416759471227,0.26082005397708397,0.48122195937146056,0.8846181120180732,-0.11799314877619538,1.3462376552479272,0.6293309974259682,0.3066584709802117,0.7802284075387983,-0.46532319123341886,-0.06140283921866073,-1.5990645135051367,-1.3718944770156531,-0.3080484872878169,1.1249697012649895,0.8873925291791959,-0.14853390348956538,-1.9278022989972456,2.25380956208247,-0.7269355547852893,-0.4031203870809856,2.587540074395344,0.8110955245271798,0.3043075736415618,0.31788238600464414,-0.4492455940110283,0.5036771492114919,0.32183790974466225,-0.7508092478926194,-0.029156372004654006,-0.5786496044667773,-0.5232462829238717,-0.8090008048759896],\"xaxis\":\"x8\",\"y\":[-0.2682455403138665,0.9219032901867988,-2.6316192007926147,-0.7002221680723266,-1.1410201172424725,0.1982088166397885,-0.36916858732116814,-0.346988451454806,-0.5067690548727558,-0.48657622979598436,-0.3779466626884306,-0.9057264109845606,-1.0904291766858063,-0.7245917615110173,-0.7023340161584938,-0.12909160467106529,-0.8886651919263007,0.3823079631484114,-1.0900373872538167,0.04590737193270273,0.3449595019039827,-0.21952347502178463,-0.045830801280706795,0.27039014309921827,0.9752355335661154,-0.6297684032026852,-1.4341538818078072,-2.928405166974158,-0.24271171257920754,-0.8045786019109605,-0.7726865519387884,-0.38402965758197344,0.43511238729760066,0.6040661512852107,-0.55675228038275,-2.0752224149061544,0.30665005723854494,1.052301828580547,-0.3096428207681808,-1.1114785994044372,0.16438707146105638,0.7303825344045778,-0.6668291129437066,-1.2047590788659568,-0.6527833867437385,-0.17869000879867572,0.6164832688470566,1.1410378050428858,-1.723664068438458,-0.6046277913177348,-0.5054846301754152,0.776550047785937,0.46522658965141034,1.0350918146874746,0.9008286556081461,0.6095189639974038,-0.5152331945488056,0.23869453965612214,-1.395265038890855,0.509141026613451,-0.20929089012008917,-0.27011429036927975,0.8636244035153211,-0.688059366148949,-0.8832300590337048,-2.928352824671613,0.07989375770754963,-1.9431385480998216,-1.8746224168674628,0.2443443760851938,0.3794392960523368,0.11523202363410734,0.12093706648550032,-0.483520740771378,-1.371270121893702,-0.0751091049119595,0.09543516448164553,0.7550659367358067,1.4773525481483383,-1.6667177545418252,0.024320580466173938,-0.42969113088106947,-0.4717015774845612,-0.8692805274518534,0.8098607957408062,-0.7958892117997776,-2.532441312455747,0.22346344034817142,0.8033086864689049,1.684673808657013,0.3552602777281829,0.3419395197719315,-0.12852374038004932,1.382975119289779,-0.0655957106522503,-0.3145521070114627,-1.4393287908028378,-0.3295221740812238,-0.42722999899320613,-0.9031641314456635],\"yaxis\":\"y8\",\"type\":\"scatter\"},{\"line\":{\"color\":\"rgba(128, 128, 128, 1.0)\",\"dash\":\"solid\",\"shape\":\"linear\",\"width\":1.3},\"marker\":{\"size\":2,\"symbol\":\"circle\"},\"mode\":\"markers\",\"name\":\"C\",\"text\":\"\",\"x\":[0.6704549516109599,0.082535443479542,-0.030277607876463258,-0.7296129081944889,0.1527265413175817,-0.33813441137032424,1.9042339492772191,-0.7588056246726919,-0.8707965588081601,0.2896340361845918,-1.5237665192059862,0.9484620621971421,0.10553141650462003,0.2092718349405866,1.1640347231125636,0.4858426802866781,0.11933983453608828,0.2728169531371193,0.28919657021806133,1.073483561244945,0.07028375795764374,-0.1887932147115583,-1.0600689448473835,-0.3019363572412175,-0.8126307144185704,0.04021264055831378,-0.9798153152930743,-0.6070842061572903,-0.8067785203768048,-0.36628255849385094,-0.490724497613985,-0.11948959467927889,0.48024340826134854,-1.1114681568524802,0.00876717415713063,0.6153754248886335,-1.4120273218003125,-0.29772386315529703,-1.5277547107763774,0.8806863350762015,-0.02202561406455898,0.18378231072850623,-1.2931621264832485,-0.3972448926752685,-0.5753141033381041,0.6099801439466861,-0.8322217489099195,-0.05349257776630721,0.8517356264904371,-0.6052906360039375,-0.016646820797517226,-0.8891175447176948,1.8392114049926793,-1.189159093024214,-1.469324037228592,-0.20638700121277379,1.2880732643088497,1.011507627731839,-0.3227307063649429,1.2961924610631739,-0.7642289271104794,-0.8007653934311705,0.4603318905907266,1.0522096884457013,1.3600251679490534,-0.36805019645124054,-0.5252295655825047,0.3721275871542655,-1.1589425465940177,0.2552543469502206,-1.219051279316724,0.7809900058034129,0.6429968571185835,-0.9685863470324628,1.2932642257498272,0.8991878465435622,0.6702614740877187,-1.53023911252679,-0.33211763988874765,1.4833033292419877,0.5966607396311193,-1.3509756071664498,0.8079238287024253,1.6795389610664637,-0.6956294545177134,0.7239483934768534,-0.8703039150087871,2.4752648340661243,0.6095555501482074,-0.05135436217061349,-1.441317146126483,-1.7698229100332996,-0.854867235643374,0.01573115303956426,0.01366965315720599,-0.055649749827862735,0.9996389487811868,0.23448412479115777,1.3109218538891279,0.11222823118418822],\"xaxis\":\"x9\",\"y\":[0.36701710595825254,0.46000033353965614,0.9737334163013094,0.19854008303274714,0.5998526204284188,-1.3946066889939361,-0.12155804082863964,1.0055548804895427,0.0810987255363289,1.103511469305969,0.26398199983883763,0.14593148133072104,0.37985804050238503,-0.7153516367654928,-0.7176568175878837,0.03275806960429191,-0.21948315755816733,-0.49153818956942047,0.9659477856167753,0.4249527366042526,1.3111017977551336,-0.019792522179095374,-1.2732567736519131,-1.3970325048240173,0.9667427222174672,-0.9379307460303506,0.6225612400113906,0.3574663346986022,-0.03668086876447439,1.1837503274675245,-1.604460223832529,-0.6401589833583028,0.13026600116142184,-0.4135757855699605,1.4515954587331912,-1.3241217249524266,1.1936281693711277,-1.0231318785892891,0.09220417397157808,0.06295717441328277,-1.301709312357675,0.8692975221881372,1.0152154701158727,-1.9967647136128595,2.363876410286345,-0.7321134713851997,-0.846238770549181,-0.225280736209897,-0.26119808038949116,0.49557985426913875,-0.9118071933419445,-1.2594602159056778,-0.013575887746153474,0.6005294650913788,-0.030760494323134456,1.7743909371825128,0.4638200144398666,0.9744914947314348,-0.5788267384660811,1.8585222777023265,-0.017519813758613143,-0.355558060494097,1.2429028981992543,0.005605265585401496,-0.42698953276129514,0.775773218390474,-0.7991494715942651,0.5925055503475269,0.16788535015079373,-0.4488485182848409,-0.6859757858458887,0.7003274647135272,0.9056208476111676,0.8718717808239559,-1.164773779135178,0.4592593402858712,0.4973666576735957,-0.5131693678338795,1.557724043455767,0.5536660281074894,2.2010221554819656,0.5646823570649336,0.028072525274820983,1.543652803147221,1.6559690185397318,0.1043096014372564,1.397254925511402,0.8511227651769517,-0.02821729362196425,0.9102249082441589,1.2937701916636015,-0.7799757916089121,-0.6309236250550366,-0.4968154982488999,-2.3002338182880306,1.513093666990525,0.8167253534870564,0.1612722302995093,0.5813704403961676,-1.9056960300675936],\"yaxis\":\"y9\",\"type\":\"scatter\"},{\"line\":{\"color\":\"rgba(128, 128, 128, 1.0)\",\"dash\":\"solid\",\"shape\":\"linear\",\"width\":1.3},\"marker\":{\"size\":2,\"symbol\":\"circle\"},\"mode\":\"markers\",\"name\":\"C\",\"text\":\"\",\"x\":[-0.2682455403138665,0.9219032901867988,-2.6316192007926147,-0.7002221680723266,-1.1410201172424725,0.1982088166397885,-0.36916858732116814,-0.346988451454806,-0.5067690548727558,-0.48657622979598436,-0.3779466626884306,-0.9057264109845606,-1.0904291766858063,-0.7245917615110173,-0.7023340161584938,-0.12909160467106529,-0.8886651919263007,0.3823079631484114,-1.0900373872538167,0.04590737193270273,0.3449595019039827,-0.21952347502178463,-0.045830801280706795,0.27039014309921827,0.9752355335661154,-0.6297684032026852,-1.4341538818078072,-2.928405166974158,-0.24271171257920754,-0.8045786019109605,-0.7726865519387884,-0.38402965758197344,0.43511238729760066,0.6040661512852107,-0.55675228038275,-2.0752224149061544,0.30665005723854494,1.052301828580547,-0.3096428207681808,-1.1114785994044372,0.16438707146105638,0.7303825344045778,-0.6668291129437066,-1.2047590788659568,-0.6527833867437385,-0.17869000879867572,0.6164832688470566,1.1410378050428858,-1.723664068438458,-0.6046277913177348,-0.5054846301754152,0.776550047785937,0.46522658965141034,1.0350918146874746,0.9008286556081461,0.6095189639974038,-0.5152331945488056,0.23869453965612214,-1.395265038890855,0.509141026613451,-0.20929089012008917,-0.27011429036927975,0.8636244035153211,-0.688059366148949,-0.8832300590337048,-2.928352824671613,0.07989375770754963,-1.9431385480998216,-1.8746224168674628,0.2443443760851938,0.3794392960523368,0.11523202363410734,0.12093706648550032,-0.483520740771378,-1.371270121893702,-0.0751091049119595,0.09543516448164553,0.7550659367358067,1.4773525481483383,-1.6667177545418252,0.024320580466173938,-0.42969113088106947,-0.4717015774845612,-0.8692805274518534,0.8098607957408062,-0.7958892117997776,-2.532441312455747,0.22346344034817142,0.8033086864689049,1.684673808657013,0.3552602777281829,0.3419395197719315,-0.12852374038004932,1.382975119289779,-0.0655957106522503,-0.3145521070114627,-1.4393287908028378,-0.3295221740812238,-0.42722999899320613,-0.9031641314456635],\"xaxis\":\"x10\",\"y\":[0.36701710595825254,0.46000033353965614,0.9737334163013094,0.19854008303274714,0.5998526204284188,-1.3946066889939361,-0.12155804082863964,1.0055548804895427,0.0810987255363289,1.103511469305969,0.26398199983883763,0.14593148133072104,0.37985804050238503,-0.7153516367654928,-0.7176568175878837,0.03275806960429191,-0.21948315755816733,-0.49153818956942047,0.9659477856167753,0.4249527366042526,1.3111017977551336,-0.019792522179095374,-1.2732567736519131,-1.3970325048240173,0.9667427222174672,-0.9379307460303506,0.6225612400113906,0.3574663346986022,-0.03668086876447439,1.1837503274675245,-1.604460223832529,-0.6401589833583028,0.13026600116142184,-0.4135757855699605,1.4515954587331912,-1.3241217249524266,1.1936281693711277,-1.0231318785892891,0.09220417397157808,0.06295717441328277,-1.301709312357675,0.8692975221881372,1.0152154701158727,-1.9967647136128595,2.363876410286345,-0.7321134713851997,-0.846238770549181,-0.225280736209897,-0.26119808038949116,0.49557985426913875,-0.9118071933419445,-1.2594602159056778,-0.013575887746153474,0.6005294650913788,-0.030760494323134456,1.7743909371825128,0.4638200144398666,0.9744914947314348,-0.5788267384660811,1.8585222777023265,-0.017519813758613143,-0.355558060494097,1.2429028981992543,0.005605265585401496,-0.42698953276129514,0.775773218390474,-0.7991494715942651,0.5925055503475269,0.16788535015079373,-0.4488485182848409,-0.6859757858458887,0.7003274647135272,0.9056208476111676,0.8718717808239559,-1.164773779135178,0.4592593402858712,0.4973666576735957,-0.5131693678338795,1.557724043455767,0.5536660281074894,2.2010221554819656,0.5646823570649336,0.028072525274820983,1.543652803147221,1.6559690185397318,0.1043096014372564,1.397254925511402,0.8511227651769517,-0.02821729362196425,0.9102249082441589,1.2937701916636015,-0.7799757916089121,-0.6309236250550366,-0.4968154982488999,-2.3002338182880306,1.513093666990525,0.8167253534870564,0.1612722302995093,0.5813704403961676,-1.9056960300675936],\"yaxis\":\"y10\",\"type\":\"scatter\"},{\"histfunc\":\"count\",\"histnorm\":\"\",\"marker\":{\"color\":\"rgba(50, 171, 96, 1.0)\",\"line\":{\"color\":\"#4D5663\",\"width\":1.3}},\"name\":\"C\",\"nbinsx\":10,\"opacity\":0.8,\"orientation\":\"v\",\"x\":[0.36701710595825254,0.46000033353965614,0.9737334163013094,0.19854008303274714,0.5998526204284188,-1.3946066889939361,-0.12155804082863964,1.0055548804895427,0.0810987255363289,1.103511469305969,0.26398199983883763,0.14593148133072104,0.37985804050238503,-0.7153516367654928,-0.7176568175878837,0.03275806960429191,-0.21948315755816733,-0.49153818956942047,0.9659477856167753,0.4249527366042526,1.3111017977551336,-0.019792522179095374,-1.2732567736519131,-1.3970325048240173,0.9667427222174672,-0.9379307460303506,0.6225612400113906,0.3574663346986022,-0.03668086876447439,1.1837503274675245,-1.604460223832529,-0.6401589833583028,0.13026600116142184,-0.4135757855699605,1.4515954587331912,-1.3241217249524266,1.1936281693711277,-1.0231318785892891,0.09220417397157808,0.06295717441328277,-1.301709312357675,0.8692975221881372,1.0152154701158727,-1.9967647136128595,2.363876410286345,-0.7321134713851997,-0.846238770549181,-0.225280736209897,-0.26119808038949116,0.49557985426913875,-0.9118071933419445,-1.2594602159056778,-0.013575887746153474,0.6005294650913788,-0.030760494323134456,1.7743909371825128,0.4638200144398666,0.9744914947314348,-0.5788267384660811,1.8585222777023265,-0.017519813758613143,-0.355558060494097,1.2429028981992543,0.005605265585401496,-0.42698953276129514,0.775773218390474,-0.7991494715942651,0.5925055503475269,0.16788535015079373,-0.4488485182848409,-0.6859757858458887,0.7003274647135272,0.9056208476111676,0.8718717808239559,-1.164773779135178,0.4592593402858712,0.4973666576735957,-0.5131693678338795,1.557724043455767,0.5536660281074894,2.2010221554819656,0.5646823570649336,0.028072525274820983,1.543652803147221,1.6559690185397318,0.1043096014372564,1.397254925511402,0.8511227651769517,-0.02821729362196425,0.9102249082441589,1.2937701916636015,-0.7799757916089121,-0.6309236250550366,-0.4968154982488999,-2.3002338182880306,1.513093666990525,0.8167253534870564,0.1612722302995093,0.5813704403961676,-1.9056960300675936],\"xaxis\":\"x11\",\"yaxis\":\"y11\",\"type\":\"histogram\"},{\"line\":{\"color\":\"rgba(128, 128, 128, 1.0)\",\"dash\":\"solid\",\"shape\":\"linear\",\"width\":1.3},\"marker\":{\"size\":2,\"symbol\":\"circle\"},\"mode\":\"markers\",\"name\":\"C\",\"text\":\"\",\"x\":[0.10213612530568543,0.2937547169864263,0.1767055109002836,-0.2973183925802308,-0.14908000139268454,-0.8430874326093657,-0.4928879427187282,-0.28143857828686214,0.5735779816605117,-1.7476240727312766,0.5728574698103156,0.4903527368293395,0.9201769929563614,-0.014260584015353406,1.5784970560581673,0.04636486504864947,0.3060238789060607,-0.5406887352236077,-0.17173543197806548,-0.011516235303470181,1.240140805137977,-1.2050535786432073,-0.5541191683151043,-0.9146304500683474,-0.5340983179598195,-0.07040673498763442,-0.4621503597065403,-0.7636828242655683,-1.301258686639732,1.0785528258849082,1.9231140457625895,1.329345179022494,1.7905122345768874,1.1658786598167523,0.06524024621921286,0.3685130262936316,-0.9311335605389865,-0.8828996672227901,0.6349125466014539,-0.5285273878824718,0.020699294724895533,-0.5714428638656869,0.18357762539896405,-0.5933002305324663,-0.4209975009909785,-0.3243940199330944,0.43509435259205076,-1.080742958739633,-0.6118672086666948,-0.11163370868526934,-2.2876449940546997,-0.9306439540241452,1.4011408323027417,-0.8738049031801042,-0.048256258626752396,1.5221648999316875,0.1320770519253603,-1.7680350812494758,0.9077479529281082,-0.8975405670433891,0.7077909193645673,-1.9270895807980386,-0.4199393369219335,0.1674516448100253,-1.5185518792015826,0.5677447768752817,-0.5375934160356332,-0.1881416759471227,0.26082005397708397,0.48122195937146056,0.8846181120180732,-0.11799314877619538,1.3462376552479272,0.6293309974259682,0.3066584709802117,0.7802284075387983,-0.46532319123341886,-0.06140283921866073,-1.5990645135051367,-1.3718944770156531,-0.3080484872878169,1.1249697012649895,0.8873925291791959,-0.14853390348956538,-1.9278022989972456,2.25380956208247,-0.7269355547852893,-0.4031203870809856,2.587540074395344,0.8110955245271798,0.3043075736415618,0.31788238600464414,-0.4492455940110283,0.5036771492114919,0.32183790974466225,-0.7508092478926194,-0.029156372004654006,-0.5786496044667773,-0.5232462829238717,-0.8090008048759896],\"xaxis\":\"x12\",\"y\":[0.36701710595825254,0.46000033353965614,0.9737334163013094,0.19854008303274714,0.5998526204284188,-1.3946066889939361,-0.12155804082863964,1.0055548804895427,0.0810987255363289,1.103511469305969,0.26398199983883763,0.14593148133072104,0.37985804050238503,-0.7153516367654928,-0.7176568175878837,0.03275806960429191,-0.21948315755816733,-0.49153818956942047,0.9659477856167753,0.4249527366042526,1.3111017977551336,-0.019792522179095374,-1.2732567736519131,-1.3970325048240173,0.9667427222174672,-0.9379307460303506,0.6225612400113906,0.3574663346986022,-0.03668086876447439,1.1837503274675245,-1.604460223832529,-0.6401589833583028,0.13026600116142184,-0.4135757855699605,1.4515954587331912,-1.3241217249524266,1.1936281693711277,-1.0231318785892891,0.09220417397157808,0.06295717441328277,-1.301709312357675,0.8692975221881372,1.0152154701158727,-1.9967647136128595,2.363876410286345,-0.7321134713851997,-0.846238770549181,-0.225280736209897,-0.26119808038949116,0.49557985426913875,-0.9118071933419445,-1.2594602159056778,-0.013575887746153474,0.6005294650913788,-0.030760494323134456,1.7743909371825128,0.4638200144398666,0.9744914947314348,-0.5788267384660811,1.8585222777023265,-0.017519813758613143,-0.355558060494097,1.2429028981992543,0.005605265585401496,-0.42698953276129514,0.775773218390474,-0.7991494715942651,0.5925055503475269,0.16788535015079373,-0.4488485182848409,-0.6859757858458887,0.7003274647135272,0.9056208476111676,0.8718717808239559,-1.164773779135178,0.4592593402858712,0.4973666576735957,-0.5131693678338795,1.557724043455767,0.5536660281074894,2.2010221554819656,0.5646823570649336,0.028072525274820983,1.543652803147221,1.6559690185397318,0.1043096014372564,1.397254925511402,0.8511227651769517,-0.02821729362196425,0.9102249082441589,1.2937701916636015,-0.7799757916089121,-0.6309236250550366,-0.4968154982488999,-2.3002338182880306,1.513093666990525,0.8167253534870564,0.1612722302995093,0.5813704403961676,-1.9056960300675936],\"yaxis\":\"y12\",\"type\":\"scatter\"},{\"line\":{\"color\":\"rgba(128, 128, 128, 1.0)\",\"dash\":\"solid\",\"shape\":\"linear\",\"width\":1.3},\"marker\":{\"size\":2,\"symbol\":\"circle\"},\"mode\":\"markers\",\"name\":\"D\",\"text\":\"\",\"x\":[0.6704549516109599,0.082535443479542,-0.030277607876463258,-0.7296129081944889,0.1527265413175817,-0.33813441137032424,1.9042339492772191,-0.7588056246726919,-0.8707965588081601,0.2896340361845918,-1.5237665192059862,0.9484620621971421,0.10553141650462003,0.2092718349405866,1.1640347231125636,0.4858426802866781,0.11933983453608828,0.2728169531371193,0.28919657021806133,1.073483561244945,0.07028375795764374,-0.1887932147115583,-1.0600689448473835,-0.3019363572412175,-0.8126307144185704,0.04021264055831378,-0.9798153152930743,-0.6070842061572903,-0.8067785203768048,-0.36628255849385094,-0.490724497613985,-0.11948959467927889,0.48024340826134854,-1.1114681568524802,0.00876717415713063,0.6153754248886335,-1.4120273218003125,-0.29772386315529703,-1.5277547107763774,0.8806863350762015,-0.02202561406455898,0.18378231072850623,-1.2931621264832485,-0.3972448926752685,-0.5753141033381041,0.6099801439466861,-0.8322217489099195,-0.05349257776630721,0.8517356264904371,-0.6052906360039375,-0.016646820797517226,-0.8891175447176948,1.8392114049926793,-1.189159093024214,-1.469324037228592,-0.20638700121277379,1.2880732643088497,1.011507627731839,-0.3227307063649429,1.2961924610631739,-0.7642289271104794,-0.8007653934311705,0.4603318905907266,1.0522096884457013,1.3600251679490534,-0.36805019645124054,-0.5252295655825047,0.3721275871542655,-1.1589425465940177,0.2552543469502206,-1.219051279316724,0.7809900058034129,0.6429968571185835,-0.9685863470324628,1.2932642257498272,0.8991878465435622,0.6702614740877187,-1.53023911252679,-0.33211763988874765,1.4833033292419877,0.5966607396311193,-1.3509756071664498,0.8079238287024253,1.6795389610664637,-0.6956294545177134,0.7239483934768534,-0.8703039150087871,2.4752648340661243,0.6095555501482074,-0.05135436217061349,-1.441317146126483,-1.7698229100332996,-0.854867235643374,0.01573115303956426,0.01366965315720599,-0.055649749827862735,0.9996389487811868,0.23448412479115777,1.3109218538891279,0.11222823118418822],\"xaxis\":\"x13\",\"y\":[0.10213612530568543,0.2937547169864263,0.1767055109002836,-0.2973183925802308,-0.14908000139268454,-0.8430874326093657,-0.4928879427187282,-0.28143857828686214,0.5735779816605117,-1.7476240727312766,0.5728574698103156,0.4903527368293395,0.9201769929563614,-0.014260584015353406,1.5784970560581673,0.04636486504864947,0.3060238789060607,-0.5406887352236077,-0.17173543197806548,-0.011516235303470181,1.240140805137977,-1.2050535786432073,-0.5541191683151043,-0.9146304500683474,-0.5340983179598195,-0.07040673498763442,-0.4621503597065403,-0.7636828242655683,-1.301258686639732,1.0785528258849082,1.9231140457625895,1.329345179022494,1.7905122345768874,1.1658786598167523,0.06524024621921286,0.3685130262936316,-0.9311335605389865,-0.8828996672227901,0.6349125466014539,-0.5285273878824718,0.020699294724895533,-0.5714428638656869,0.18357762539896405,-0.5933002305324663,-0.4209975009909785,-0.3243940199330944,0.43509435259205076,-1.080742958739633,-0.6118672086666948,-0.11163370868526934,-2.2876449940546997,-0.9306439540241452,1.4011408323027417,-0.8738049031801042,-0.048256258626752396,1.5221648999316875,0.1320770519253603,-1.7680350812494758,0.9077479529281082,-0.8975405670433891,0.7077909193645673,-1.9270895807980386,-0.4199393369219335,0.1674516448100253,-1.5185518792015826,0.5677447768752817,-0.5375934160356332,-0.1881416759471227,0.26082005397708397,0.48122195937146056,0.8846181120180732,-0.11799314877619538,1.3462376552479272,0.6293309974259682,0.3066584709802117,0.7802284075387983,-0.46532319123341886,-0.06140283921866073,-1.5990645135051367,-1.3718944770156531,-0.3080484872878169,1.1249697012649895,0.8873925291791959,-0.14853390348956538,-1.9278022989972456,2.25380956208247,-0.7269355547852893,-0.4031203870809856,2.587540074395344,0.8110955245271798,0.3043075736415618,0.31788238600464414,-0.4492455940110283,0.5036771492114919,0.32183790974466225,-0.7508092478926194,-0.029156372004654006,-0.5786496044667773,-0.5232462829238717,-0.8090008048759896],\"yaxis\":\"y13\",\"type\":\"scatter\"},{\"line\":{\"color\":\"rgba(128, 128, 128, 1.0)\",\"dash\":\"solid\",\"shape\":\"linear\",\"width\":1.3},\"marker\":{\"size\":2,\"symbol\":\"circle\"},\"mode\":\"markers\",\"name\":\"D\",\"text\":\"\",\"x\":[-0.2682455403138665,0.9219032901867988,-2.6316192007926147,-0.7002221680723266,-1.1410201172424725,0.1982088166397885,-0.36916858732116814,-0.346988451454806,-0.5067690548727558,-0.48657622979598436,-0.3779466626884306,-0.9057264109845606,-1.0904291766858063,-0.7245917615110173,-0.7023340161584938,-0.12909160467106529,-0.8886651919263007,0.3823079631484114,-1.0900373872538167,0.04590737193270273,0.3449595019039827,-0.21952347502178463,-0.045830801280706795,0.27039014309921827,0.9752355335661154,-0.6297684032026852,-1.4341538818078072,-2.928405166974158,-0.24271171257920754,-0.8045786019109605,-0.7726865519387884,-0.38402965758197344,0.43511238729760066,0.6040661512852107,-0.55675228038275,-2.0752224149061544,0.30665005723854494,1.052301828580547,-0.3096428207681808,-1.1114785994044372,0.16438707146105638,0.7303825344045778,-0.6668291129437066,-1.2047590788659568,-0.6527833867437385,-0.17869000879867572,0.6164832688470566,1.1410378050428858,-1.723664068438458,-0.6046277913177348,-0.5054846301754152,0.776550047785937,0.46522658965141034,1.0350918146874746,0.9008286556081461,0.6095189639974038,-0.5152331945488056,0.23869453965612214,-1.395265038890855,0.509141026613451,-0.20929089012008917,-0.27011429036927975,0.8636244035153211,-0.688059366148949,-0.8832300590337048,-2.928352824671613,0.07989375770754963,-1.9431385480998216,-1.8746224168674628,0.2443443760851938,0.3794392960523368,0.11523202363410734,0.12093706648550032,-0.483520740771378,-1.371270121893702,-0.0751091049119595,0.09543516448164553,0.7550659367358067,1.4773525481483383,-1.6667177545418252,0.024320580466173938,-0.42969113088106947,-0.4717015774845612,-0.8692805274518534,0.8098607957408062,-0.7958892117997776,-2.532441312455747,0.22346344034817142,0.8033086864689049,1.684673808657013,0.3552602777281829,0.3419395197719315,-0.12852374038004932,1.382975119289779,-0.0655957106522503,-0.3145521070114627,-1.4393287908028378,-0.3295221740812238,-0.42722999899320613,-0.9031641314456635],\"xaxis\":\"x14\",\"y\":[0.10213612530568543,0.2937547169864263,0.1767055109002836,-0.2973183925802308,-0.14908000139268454,-0.8430874326093657,-0.4928879427187282,-0.28143857828686214,0.5735779816605117,-1.7476240727312766,0.5728574698103156,0.4903527368293395,0.9201769929563614,-0.014260584015353406,1.5784970560581673,0.04636486504864947,0.3060238789060607,-0.5406887352236077,-0.17173543197806548,-0.011516235303470181,1.240140805137977,-1.2050535786432073,-0.5541191683151043,-0.9146304500683474,-0.5340983179598195,-0.07040673498763442,-0.4621503597065403,-0.7636828242655683,-1.301258686639732,1.0785528258849082,1.9231140457625895,1.329345179022494,1.7905122345768874,1.1658786598167523,0.06524024621921286,0.3685130262936316,-0.9311335605389865,-0.8828996672227901,0.6349125466014539,-0.5285273878824718,0.020699294724895533,-0.5714428638656869,0.18357762539896405,-0.5933002305324663,-0.4209975009909785,-0.3243940199330944,0.43509435259205076,-1.080742958739633,-0.6118672086666948,-0.11163370868526934,-2.2876449940546997,-0.9306439540241452,1.4011408323027417,-0.8738049031801042,-0.048256258626752396,1.5221648999316875,0.1320770519253603,-1.7680350812494758,0.9077479529281082,-0.8975405670433891,0.7077909193645673,-1.9270895807980386,-0.4199393369219335,0.1674516448100253,-1.5185518792015826,0.5677447768752817,-0.5375934160356332,-0.1881416759471227,0.26082005397708397,0.48122195937146056,0.8846181120180732,-0.11799314877619538,1.3462376552479272,0.6293309974259682,0.3066584709802117,0.7802284075387983,-0.46532319123341886,-0.06140283921866073,-1.5990645135051367,-1.3718944770156531,-0.3080484872878169,1.1249697012649895,0.8873925291791959,-0.14853390348956538,-1.9278022989972456,2.25380956208247,-0.7269355547852893,-0.4031203870809856,2.587540074395344,0.8110955245271798,0.3043075736415618,0.31788238600464414,-0.4492455940110283,0.5036771492114919,0.32183790974466225,-0.7508092478926194,-0.029156372004654006,-0.5786496044667773,-0.5232462829238717,-0.8090008048759896],\"yaxis\":\"y14\",\"type\":\"scatter\"},{\"line\":{\"color\":\"rgba(128, 128, 128, 1.0)\",\"dash\":\"solid\",\"shape\":\"linear\",\"width\":1.3},\"marker\":{\"size\":2,\"symbol\":\"circle\"},\"mode\":\"markers\",\"name\":\"D\",\"text\":\"\",\"x\":[0.36701710595825254,0.46000033353965614,0.9737334163013094,0.19854008303274714,0.5998526204284188,-1.3946066889939361,-0.12155804082863964,1.0055548804895427,0.0810987255363289,1.103511469305969,0.26398199983883763,0.14593148133072104,0.37985804050238503,-0.7153516367654928,-0.7176568175878837,0.03275806960429191,-0.21948315755816733,-0.49153818956942047,0.9659477856167753,0.4249527366042526,1.3111017977551336,-0.019792522179095374,-1.2732567736519131,-1.3970325048240173,0.9667427222174672,-0.9379307460303506,0.6225612400113906,0.3574663346986022,-0.03668086876447439,1.1837503274675245,-1.604460223832529,-0.6401589833583028,0.13026600116142184,-0.4135757855699605,1.4515954587331912,-1.3241217249524266,1.1936281693711277,-1.0231318785892891,0.09220417397157808,0.06295717441328277,-1.301709312357675,0.8692975221881372,1.0152154701158727,-1.9967647136128595,2.363876410286345,-0.7321134713851997,-0.846238770549181,-0.225280736209897,-0.26119808038949116,0.49557985426913875,-0.9118071933419445,-1.2594602159056778,-0.013575887746153474,0.6005294650913788,-0.030760494323134456,1.7743909371825128,0.4638200144398666,0.9744914947314348,-0.5788267384660811,1.8585222777023265,-0.017519813758613143,-0.355558060494097,1.2429028981992543,0.005605265585401496,-0.42698953276129514,0.775773218390474,-0.7991494715942651,0.5925055503475269,0.16788535015079373,-0.4488485182848409,-0.6859757858458887,0.7003274647135272,0.9056208476111676,0.8718717808239559,-1.164773779135178,0.4592593402858712,0.4973666576735957,-0.5131693678338795,1.557724043455767,0.5536660281074894,2.2010221554819656,0.5646823570649336,0.028072525274820983,1.543652803147221,1.6559690185397318,0.1043096014372564,1.397254925511402,0.8511227651769517,-0.02821729362196425,0.9102249082441589,1.2937701916636015,-0.7799757916089121,-0.6309236250550366,-0.4968154982488999,-2.3002338182880306,1.513093666990525,0.8167253534870564,0.1612722302995093,0.5813704403961676,-1.9056960300675936],\"xaxis\":\"x15\",\"y\":[0.10213612530568543,0.2937547169864263,0.1767055109002836,-0.2973183925802308,-0.14908000139268454,-0.8430874326093657,-0.4928879427187282,-0.28143857828686214,0.5735779816605117,-1.7476240727312766,0.5728574698103156,0.4903527368293395,0.9201769929563614,-0.014260584015353406,1.5784970560581673,0.04636486504864947,0.3060238789060607,-0.5406887352236077,-0.17173543197806548,-0.011516235303470181,1.240140805137977,-1.2050535786432073,-0.5541191683151043,-0.9146304500683474,-0.5340983179598195,-0.07040673498763442,-0.4621503597065403,-0.7636828242655683,-1.301258686639732,1.0785528258849082,1.9231140457625895,1.329345179022494,1.7905122345768874,1.1658786598167523,0.06524024621921286,0.3685130262936316,-0.9311335605389865,-0.8828996672227901,0.6349125466014539,-0.5285273878824718,0.020699294724895533,-0.5714428638656869,0.18357762539896405,-0.5933002305324663,-0.4209975009909785,-0.3243940199330944,0.43509435259205076,-1.080742958739633,-0.6118672086666948,-0.11163370868526934,-2.2876449940546997,-0.9306439540241452,1.4011408323027417,-0.8738049031801042,-0.048256258626752396,1.5221648999316875,0.1320770519253603,-1.7680350812494758,0.9077479529281082,-0.8975405670433891,0.7077909193645673,-1.9270895807980386,-0.4199393369219335,0.1674516448100253,-1.5185518792015826,0.5677447768752817,-0.5375934160356332,-0.1881416759471227,0.26082005397708397,0.48122195937146056,0.8846181120180732,-0.11799314877619538,1.3462376552479272,0.6293309974259682,0.3066584709802117,0.7802284075387983,-0.46532319123341886,-0.06140283921866073,-1.5990645135051367,-1.3718944770156531,-0.3080484872878169,1.1249697012649895,0.8873925291791959,-0.14853390348956538,-1.9278022989972456,2.25380956208247,-0.7269355547852893,-0.4031203870809856,2.587540074395344,0.8110955245271798,0.3043075736415618,0.31788238600464414,-0.4492455940110283,0.5036771492114919,0.32183790974466225,-0.7508092478926194,-0.029156372004654006,-0.5786496044667773,-0.5232462829238717,-0.8090008048759896],\"yaxis\":\"y15\",\"type\":\"scatter\"},{\"histfunc\":\"count\",\"histnorm\":\"\",\"marker\":{\"color\":\"rgba(128, 0, 128, 1.0)\",\"line\":{\"color\":\"#4D5663\",\"width\":1.3}},\"name\":\"D\",\"nbinsx\":10,\"opacity\":0.8,\"orientation\":\"v\",\"x\":[0.10213612530568543,0.2937547169864263,0.1767055109002836,-0.2973183925802308,-0.14908000139268454,-0.8430874326093657,-0.4928879427187282,-0.28143857828686214,0.5735779816605117,-1.7476240727312766,0.5728574698103156,0.4903527368293395,0.9201769929563614,-0.014260584015353406,1.5784970560581673,0.04636486504864947,0.3060238789060607,-0.5406887352236077,-0.17173543197806548,-0.011516235303470181,1.240140805137977,-1.2050535786432073,-0.5541191683151043,-0.9146304500683474,-0.5340983179598195,-0.07040673498763442,-0.4621503597065403,-0.7636828242655683,-1.301258686639732,1.0785528258849082,1.9231140457625895,1.329345179022494,1.7905122345768874,1.1658786598167523,0.06524024621921286,0.3685130262936316,-0.9311335605389865,-0.8828996672227901,0.6349125466014539,-0.5285273878824718,0.020699294724895533,-0.5714428638656869,0.18357762539896405,-0.5933002305324663,-0.4209975009909785,-0.3243940199330944,0.43509435259205076,-1.080742958739633,-0.6118672086666948,-0.11163370868526934,-2.2876449940546997,-0.9306439540241452,1.4011408323027417,-0.8738049031801042,-0.048256258626752396,1.5221648999316875,0.1320770519253603,-1.7680350812494758,0.9077479529281082,-0.8975405670433891,0.7077909193645673,-1.9270895807980386,-0.4199393369219335,0.1674516448100253,-1.5185518792015826,0.5677447768752817,-0.5375934160356332,-0.1881416759471227,0.26082005397708397,0.48122195937146056,0.8846181120180732,-0.11799314877619538,1.3462376552479272,0.6293309974259682,0.3066584709802117,0.7802284075387983,-0.46532319123341886,-0.06140283921866073,-1.5990645135051367,-1.3718944770156531,-0.3080484872878169,1.1249697012649895,0.8873925291791959,-0.14853390348956538,-1.9278022989972456,2.25380956208247,-0.7269355547852893,-0.4031203870809856,2.587540074395344,0.8110955245271798,0.3043075736415618,0.31788238600464414,-0.4492455940110283,0.5036771492114919,0.32183790974466225,-0.7508092478926194,-0.029156372004654006,-0.5786496044667773,-0.5232462829238717,-0.8090008048759896],\"xaxis\":\"x16\",\"yaxis\":\"y16\",\"type\":\"histogram\"}],                        {\"bargap\":0.02,\"legend\":{\"bgcolor\":\"#F5F6F9\",\"font\":{\"color\":\"#4D5663\"}},\"paper_bgcolor\":\"#F5F6F9\",\"plot_bgcolor\":\"#F5F6F9\",\"showlegend\":false,\"template\":{\"data\":{\"barpolar\":[{\"marker\":{\"line\":{\"color\":\"#E5ECF6\",\"width\":0.5},\"pattern\":{\"fillmode\":\"overlay\",\"size\":10,\"solidity\":0.2}},\"type\":\"barpolar\"}],\"bar\":[{\"error_x\":{\"color\":\"#2a3f5f\"},\"error_y\":{\"color\":\"#2a3f5f\"},\"marker\":{\"line\":{\"color\":\"#E5ECF6\",\"width\":0.5},\"pattern\":{\"fillmode\":\"overlay\",\"size\":10,\"solidity\":0.2}},\"type\":\"bar\"}],\"carpet\":[{\"aaxis\":{\"endlinecolor\":\"#2a3f5f\",\"gridcolor\":\"white\",\"linecolor\":\"white\",\"minorgridcolor\":\"white\",\"startlinecolor\":\"#2a3f5f\"},\"baxis\":{\"endlinecolor\":\"#2a3f5f\",\"gridcolor\":\"white\",\"linecolor\":\"white\",\"minorgridcolor\":\"white\",\"startlinecolor\":\"#2a3f5f\"},\"type\":\"carpet\"}],\"choropleth\":[{\"colorbar\":{\"outlinewidth\":0,\"ticks\":\"\"},\"type\":\"choropleth\"}],\"contourcarpet\":[{\"colorbar\":{\"outlinewidth\":0,\"ticks\":\"\"},\"type\":\"contourcarpet\"}],\"contour\":[{\"colorbar\":{\"outlinewidth\":0,\"ticks\":\"\"},\"colorscale\":[[0.0,\"#0d0887\"],[0.1111111111111111,\"#46039f\"],[0.2222222222222222,\"#7201a8\"],[0.3333333333333333,\"#9c179e\"],[0.4444444444444444,\"#bd3786\"],[0.5555555555555556,\"#d8576b\"],[0.6666666666666666,\"#ed7953\"],[0.7777777777777778,\"#fb9f3a\"],[0.8888888888888888,\"#fdca26\"],[1.0,\"#f0f921\"]],\"type\":\"contour\"}],\"heatmapgl\":[{\"colorbar\":{\"outlinewidth\":0,\"ticks\":\"\"},\"colorscale\":[[0.0,\"#0d0887\"],[0.1111111111111111,\"#46039f\"],[0.2222222222222222,\"#7201a8\"],[0.3333333333333333,\"#9c179e\"],[0.4444444444444444,\"#bd3786\"],[0.5555555555555556,\"#d8576b\"],[0.6666666666666666,\"#ed7953\"],[0.7777777777777778,\"#fb9f3a\"],[0.8888888888888888,\"#fdca26\"],[1.0,\"#f0f921\"]],\"type\":\"heatmapgl\"}],\"heatmap\":[{\"colorbar\":{\"outlinewidth\":0,\"ticks\":\"\"},\"colorscale\":[[0.0,\"#0d0887\"],[0.1111111111111111,\"#46039f\"],[0.2222222222222222,\"#7201a8\"],[0.3333333333333333,\"#9c179e\"],[0.4444444444444444,\"#bd3786\"],[0.5555555555555556,\"#d8576b\"],[0.6666666666666666,\"#ed7953\"],[0.7777777777777778,\"#fb9f3a\"],[0.8888888888888888,\"#fdca26\"],[1.0,\"#f0f921\"]],\"type\":\"heatmap\"}],\"histogram2dcontour\":[{\"colorbar\":{\"outlinewidth\":0,\"ticks\":\"\"},\"colorscale\":[[0.0,\"#0d0887\"],[0.1111111111111111,\"#46039f\"],[0.2222222222222222,\"#7201a8\"],[0.3333333333333333,\"#9c179e\"],[0.4444444444444444,\"#bd3786\"],[0.5555555555555556,\"#d8576b\"],[0.6666666666666666,\"#ed7953\"],[0.7777777777777778,\"#fb9f3a\"],[0.8888888888888888,\"#fdca26\"],[1.0,\"#f0f921\"]],\"type\":\"histogram2dcontour\"}],\"histogram2d\":[{\"colorbar\":{\"outlinewidth\":0,\"ticks\":\"\"},\"colorscale\":[[0.0,\"#0d0887\"],[0.1111111111111111,\"#46039f\"],[0.2222222222222222,\"#7201a8\"],[0.3333333333333333,\"#9c179e\"],[0.4444444444444444,\"#bd3786\"],[0.5555555555555556,\"#d8576b\"],[0.6666666666666666,\"#ed7953\"],[0.7777777777777778,\"#fb9f3a\"],[0.8888888888888888,\"#fdca26\"],[1.0,\"#f0f921\"]],\"type\":\"histogram2d\"}],\"histogram\":[{\"marker\":{\"pattern\":{\"fillmode\":\"overlay\",\"size\":10,\"solidity\":0.2}},\"type\":\"histogram\"}],\"mesh3d\":[{\"colorbar\":{\"outlinewidth\":0,\"ticks\":\"\"},\"type\":\"mesh3d\"}],\"parcoords\":[{\"line\":{\"colorbar\":{\"outlinewidth\":0,\"ticks\":\"\"}},\"type\":\"parcoords\"}],\"pie\":[{\"automargin\":true,\"type\":\"pie\"}],\"scatter3d\":[{\"line\":{\"colorbar\":{\"outlinewidth\":0,\"ticks\":\"\"}},\"marker\":{\"colorbar\":{\"outlinewidth\":0,\"ticks\":\"\"}},\"type\":\"scatter3d\"}],\"scattercarpet\":[{\"marker\":{\"colorbar\":{\"outlinewidth\":0,\"ticks\":\"\"}},\"type\":\"scattercarpet\"}],\"scattergeo\":[{\"marker\":{\"colorbar\":{\"outlinewidth\":0,\"ticks\":\"\"}},\"type\":\"scattergeo\"}],\"scattergl\":[{\"marker\":{\"colorbar\":{\"outlinewidth\":0,\"ticks\":\"\"}},\"type\":\"scattergl\"}],\"scattermapbox\":[{\"marker\":{\"colorbar\":{\"outlinewidth\":0,\"ticks\":\"\"}},\"type\":\"scattermapbox\"}],\"scatterpolargl\":[{\"marker\":{\"colorbar\":{\"outlinewidth\":0,\"ticks\":\"\"}},\"type\":\"scatterpolargl\"}],\"scatterpolar\":[{\"marker\":{\"colorbar\":{\"outlinewidth\":0,\"ticks\":\"\"}},\"type\":\"scatterpolar\"}],\"scatter\":[{\"marker\":{\"colorbar\":{\"outlinewidth\":0,\"ticks\":\"\"}},\"type\":\"scatter\"}],\"scatterternary\":[{\"marker\":{\"colorbar\":{\"outlinewidth\":0,\"ticks\":\"\"}},\"type\":\"scatterternary\"}],\"surface\":[{\"colorbar\":{\"outlinewidth\":0,\"ticks\":\"\"},\"colorscale\":[[0.0,\"#0d0887\"],[0.1111111111111111,\"#46039f\"],[0.2222222222222222,\"#7201a8\"],[0.3333333333333333,\"#9c179e\"],[0.4444444444444444,\"#bd3786\"],[0.5555555555555556,\"#d8576b\"],[0.6666666666666666,\"#ed7953\"],[0.7777777777777778,\"#fb9f3a\"],[0.8888888888888888,\"#fdca26\"],[1.0,\"#f0f921\"]],\"type\":\"surface\"}],\"table\":[{\"cells\":{\"fill\":{\"color\":\"#EBF0F8\"},\"line\":{\"color\":\"white\"}},\"header\":{\"fill\":{\"color\":\"#C8D4E3\"},\"line\":{\"color\":\"white\"}},\"type\":\"table\"}]},\"layout\":{\"annotationdefaults\":{\"arrowcolor\":\"#2a3f5f\",\"arrowhead\":0,\"arrowwidth\":1},\"autotypenumbers\":\"strict\",\"coloraxis\":{\"colorbar\":{\"outlinewidth\":0,\"ticks\":\"\"}},\"colorscale\":{\"diverging\":[[0,\"#8e0152\"],[0.1,\"#c51b7d\"],[0.2,\"#de77ae\"],[0.3,\"#f1b6da\"],[0.4,\"#fde0ef\"],[0.5,\"#f7f7f7\"],[0.6,\"#e6f5d0\"],[0.7,\"#b8e186\"],[0.8,\"#7fbc41\"],[0.9,\"#4d9221\"],[1,\"#276419\"]],\"sequential\":[[0.0,\"#0d0887\"],[0.1111111111111111,\"#46039f\"],[0.2222222222222222,\"#7201a8\"],[0.3333333333333333,\"#9c179e\"],[0.4444444444444444,\"#bd3786\"],[0.5555555555555556,\"#d8576b\"],[0.6666666666666666,\"#ed7953\"],[0.7777777777777778,\"#fb9f3a\"],[0.8888888888888888,\"#fdca26\"],[1.0,\"#f0f921\"]],\"sequentialminus\":[[0.0,\"#0d0887\"],[0.1111111111111111,\"#46039f\"],[0.2222222222222222,\"#7201a8\"],[0.3333333333333333,\"#9c179e\"],[0.4444444444444444,\"#bd3786\"],[0.5555555555555556,\"#d8576b\"],[0.6666666666666666,\"#ed7953\"],[0.7777777777777778,\"#fb9f3a\"],[0.8888888888888888,\"#fdca26\"],[1.0,\"#f0f921\"]]},\"colorway\":[\"#636efa\",\"#EF553B\",\"#00cc96\",\"#ab63fa\",\"#FFA15A\",\"#19d3f3\",\"#FF6692\",\"#B6E880\",\"#FF97FF\",\"#FECB52\"],\"font\":{\"color\":\"#2a3f5f\"},\"geo\":{\"bgcolor\":\"white\",\"lakecolor\":\"white\",\"landcolor\":\"#E5ECF6\",\"showlakes\":true,\"showland\":true,\"subunitcolor\":\"white\"},\"hoverlabel\":{\"align\":\"left\"},\"hovermode\":\"closest\",\"mapbox\":{\"style\":\"light\"},\"paper_bgcolor\":\"white\",\"plot_bgcolor\":\"#E5ECF6\",\"polar\":{\"angularaxis\":{\"gridcolor\":\"white\",\"linecolor\":\"white\",\"ticks\":\"\"},\"bgcolor\":\"#E5ECF6\",\"radialaxis\":{\"gridcolor\":\"white\",\"linecolor\":\"white\",\"ticks\":\"\"}},\"scene\":{\"xaxis\":{\"backgroundcolor\":\"#E5ECF6\",\"gridcolor\":\"white\",\"gridwidth\":2,\"linecolor\":\"white\",\"showbackground\":true,\"ticks\":\"\",\"zerolinecolor\":\"white\"},\"yaxis\":{\"backgroundcolor\":\"#E5ECF6\",\"gridcolor\":\"white\",\"gridwidth\":2,\"linecolor\":\"white\",\"showbackground\":true,\"ticks\":\"\",\"zerolinecolor\":\"white\"},\"zaxis\":{\"backgroundcolor\":\"#E5ECF6\",\"gridcolor\":\"white\",\"gridwidth\":2,\"linecolor\":\"white\",\"showbackground\":true,\"ticks\":\"\",\"zerolinecolor\":\"white\"}},\"shapedefaults\":{\"line\":{\"color\":\"#2a3f5f\"}},\"ternary\":{\"aaxis\":{\"gridcolor\":\"white\",\"linecolor\":\"white\",\"ticks\":\"\"},\"baxis\":{\"gridcolor\":\"white\",\"linecolor\":\"white\",\"ticks\":\"\"},\"bgcolor\":\"#E5ECF6\",\"caxis\":{\"gridcolor\":\"white\",\"linecolor\":\"white\",\"ticks\":\"\"}},\"title\":{\"x\":0.05},\"xaxis\":{\"automargin\":true,\"gridcolor\":\"white\",\"linecolor\":\"white\",\"ticks\":\"\",\"title\":{\"standoff\":15},\"zerolinecolor\":\"white\",\"zerolinewidth\":2},\"yaxis\":{\"automargin\":true,\"gridcolor\":\"white\",\"linecolor\":\"white\",\"ticks\":\"\",\"title\":{\"standoff\":15},\"zerolinecolor\":\"white\",\"zerolinewidth\":2}}},\"title\":{\"font\":{\"color\":\"#4D5663\"}},\"xaxis\":{\"anchor\":\"y\",\"domain\":[0.0,0.2125],\"gridcolor\":\"#E1E5ED\",\"showgrid\":false,\"tickfont\":{\"color\":\"#4D5663\"},\"title\":{\"font\":{\"color\":\"#4D5663\"},\"text\":\"\"},\"zerolinecolor\":\"#E1E5ED\"},\"yaxis\":{\"anchor\":\"x\",\"domain\":[0.8025,1.0],\"gridcolor\":\"#E1E5ED\",\"showgrid\":false,\"tickfont\":{\"color\":\"#4D5663\"},\"title\":{\"font\":{\"color\":\"#4D5663\"},\"text\":\"\"},\"zerolinecolor\":\"#E1E5ED\"},\"xaxis2\":{\"anchor\":\"y2\",\"domain\":[0.2625,0.475],\"gridcolor\":\"#E1E5ED\",\"showgrid\":false,\"tickfont\":{\"color\":\"#4D5663\"},\"title\":{\"font\":{\"color\":\"#4D5663\"},\"text\":\"\"},\"zerolinecolor\":\"#E1E5ED\"},\"yaxis2\":{\"anchor\":\"x2\",\"domain\":[0.8025,1.0],\"gridcolor\":\"#E1E5ED\",\"showgrid\":false,\"tickfont\":{\"color\":\"#4D5663\"},\"title\":{\"font\":{\"color\":\"#4D5663\"},\"text\":\"\"},\"zerolinecolor\":\"#E1E5ED\"},\"xaxis3\":{\"anchor\":\"y3\",\"domain\":[0.525,0.7375],\"gridcolor\":\"#E1E5ED\",\"showgrid\":false,\"tickfont\":{\"color\":\"#4D5663\"},\"title\":{\"font\":{\"color\":\"#4D5663\"},\"text\":\"\"},\"zerolinecolor\":\"#E1E5ED\"},\"yaxis3\":{\"anchor\":\"x3\",\"domain\":[0.8025,1.0],\"gridcolor\":\"#E1E5ED\",\"showgrid\":false,\"tickfont\":{\"color\":\"#4D5663\"},\"title\":{\"font\":{\"color\":\"#4D5663\"},\"text\":\"\"},\"zerolinecolor\":\"#E1E5ED\"},\"xaxis4\":{\"anchor\":\"y4\",\"domain\":[0.7875,1.0],\"gridcolor\":\"#E1E5ED\",\"showgrid\":false,\"tickfont\":{\"color\":\"#4D5663\"},\"title\":{\"font\":{\"color\":\"#4D5663\"},\"text\":\"\"},\"zerolinecolor\":\"#E1E5ED\"},\"yaxis4\":{\"anchor\":\"x4\",\"domain\":[0.8025,1.0],\"gridcolor\":\"#E1E5ED\",\"showgrid\":false,\"tickfont\":{\"color\":\"#4D5663\"},\"title\":{\"font\":{\"color\":\"#4D5663\"},\"text\":\"\"},\"zerolinecolor\":\"#E1E5ED\"},\"xaxis5\":{\"anchor\":\"y5\",\"domain\":[0.0,0.2125],\"gridcolor\":\"#E1E5ED\",\"showgrid\":false,\"tickfont\":{\"color\":\"#4D5663\"},\"title\":{\"font\":{\"color\":\"#4D5663\"},\"text\":\"\"},\"zerolinecolor\":\"#E1E5ED\"},\"yaxis5\":{\"anchor\":\"x5\",\"domain\":[0.535,0.7325],\"gridcolor\":\"#E1E5ED\",\"showgrid\":false,\"tickfont\":{\"color\":\"#4D5663\"},\"title\":{\"font\":{\"color\":\"#4D5663\"},\"text\":\"\"},\"zerolinecolor\":\"#E1E5ED\"},\"xaxis6\":{\"anchor\":\"y6\",\"domain\":[0.2625,0.475],\"gridcolor\":\"#E1E5ED\",\"showgrid\":false,\"tickfont\":{\"color\":\"#4D5663\"},\"title\":{\"font\":{\"color\":\"#4D5663\"},\"text\":\"\"},\"zerolinecolor\":\"#E1E5ED\"},\"yaxis6\":{\"anchor\":\"x6\",\"domain\":[0.535,0.7325],\"gridcolor\":\"#E1E5ED\",\"showgrid\":false,\"tickfont\":{\"color\":\"#4D5663\"},\"title\":{\"font\":{\"color\":\"#4D5663\"},\"text\":\"\"},\"zerolinecolor\":\"#E1E5ED\"},\"xaxis7\":{\"anchor\":\"y7\",\"domain\":[0.525,0.7375],\"gridcolor\":\"#E1E5ED\",\"showgrid\":false,\"tickfont\":{\"color\":\"#4D5663\"},\"title\":{\"font\":{\"color\":\"#4D5663\"},\"text\":\"\"},\"zerolinecolor\":\"#E1E5ED\"},\"yaxis7\":{\"anchor\":\"x7\",\"domain\":[0.535,0.7325],\"gridcolor\":\"#E1E5ED\",\"showgrid\":false,\"tickfont\":{\"color\":\"#4D5663\"},\"title\":{\"font\":{\"color\":\"#4D5663\"},\"text\":\"\"},\"zerolinecolor\":\"#E1E5ED\"},\"xaxis8\":{\"anchor\":\"y8\",\"domain\":[0.7875,1.0],\"gridcolor\":\"#E1E5ED\",\"showgrid\":false,\"tickfont\":{\"color\":\"#4D5663\"},\"title\":{\"font\":{\"color\":\"#4D5663\"},\"text\":\"\"},\"zerolinecolor\":\"#E1E5ED\"},\"yaxis8\":{\"anchor\":\"x8\",\"domain\":[0.535,0.7325],\"gridcolor\":\"#E1E5ED\",\"showgrid\":false,\"tickfont\":{\"color\":\"#4D5663\"},\"title\":{\"font\":{\"color\":\"#4D5663\"},\"text\":\"\"},\"zerolinecolor\":\"#E1E5ED\"},\"xaxis9\":{\"anchor\":\"y9\",\"domain\":[0.0,0.2125],\"gridcolor\":\"#E1E5ED\",\"showgrid\":false,\"tickfont\":{\"color\":\"#4D5663\"},\"title\":{\"font\":{\"color\":\"#4D5663\"},\"text\":\"\"},\"zerolinecolor\":\"#E1E5ED\"},\"yaxis9\":{\"anchor\":\"x9\",\"domain\":[0.2675,0.465],\"gridcolor\":\"#E1E5ED\",\"showgrid\":false,\"tickfont\":{\"color\":\"#4D5663\"},\"title\":{\"font\":{\"color\":\"#4D5663\"},\"text\":\"\"},\"zerolinecolor\":\"#E1E5ED\"},\"xaxis10\":{\"anchor\":\"y10\",\"domain\":[0.2625,0.475],\"gridcolor\":\"#E1E5ED\",\"showgrid\":false,\"tickfont\":{\"color\":\"#4D5663\"},\"title\":{\"font\":{\"color\":\"#4D5663\"},\"text\":\"\"},\"zerolinecolor\":\"#E1E5ED\"},\"yaxis10\":{\"anchor\":\"x10\",\"domain\":[0.2675,0.465],\"gridcolor\":\"#E1E5ED\",\"showgrid\":false,\"tickfont\":{\"color\":\"#4D5663\"},\"title\":{\"font\":{\"color\":\"#4D5663\"},\"text\":\"\"},\"zerolinecolor\":\"#E1E5ED\"},\"xaxis11\":{\"anchor\":\"y11\",\"domain\":[0.525,0.7375],\"gridcolor\":\"#E1E5ED\",\"showgrid\":false,\"tickfont\":{\"color\":\"#4D5663\"},\"title\":{\"font\":{\"color\":\"#4D5663\"},\"text\":\"\"},\"zerolinecolor\":\"#E1E5ED\"},\"yaxis11\":{\"anchor\":\"x11\",\"domain\":[0.2675,0.465],\"gridcolor\":\"#E1E5ED\",\"showgrid\":false,\"tickfont\":{\"color\":\"#4D5663\"},\"title\":{\"font\":{\"color\":\"#4D5663\"},\"text\":\"\"},\"zerolinecolor\":\"#E1E5ED\"},\"xaxis12\":{\"anchor\":\"y12\",\"domain\":[0.7875,1.0],\"gridcolor\":\"#E1E5ED\",\"showgrid\":false,\"tickfont\":{\"color\":\"#4D5663\"},\"title\":{\"font\":{\"color\":\"#4D5663\"},\"text\":\"\"},\"zerolinecolor\":\"#E1E5ED\"},\"yaxis12\":{\"anchor\":\"x12\",\"domain\":[0.2675,0.465],\"gridcolor\":\"#E1E5ED\",\"showgrid\":false,\"tickfont\":{\"color\":\"#4D5663\"},\"title\":{\"font\":{\"color\":\"#4D5663\"},\"text\":\"\"},\"zerolinecolor\":\"#E1E5ED\"},\"xaxis13\":{\"anchor\":\"y13\",\"domain\":[0.0,0.2125],\"gridcolor\":\"#E1E5ED\",\"showgrid\":false,\"tickfont\":{\"color\":\"#4D5663\"},\"title\":{\"font\":{\"color\":\"#4D5663\"},\"text\":\"\"},\"zerolinecolor\":\"#E1E5ED\"},\"yaxis13\":{\"anchor\":\"x13\",\"domain\":[0.0,0.1975],\"gridcolor\":\"#E1E5ED\",\"showgrid\":false,\"tickfont\":{\"color\":\"#4D5663\"},\"title\":{\"font\":{\"color\":\"#4D5663\"},\"text\":\"\"},\"zerolinecolor\":\"#E1E5ED\"},\"xaxis14\":{\"anchor\":\"y14\",\"domain\":[0.2625,0.475],\"gridcolor\":\"#E1E5ED\",\"showgrid\":false,\"tickfont\":{\"color\":\"#4D5663\"},\"title\":{\"font\":{\"color\":\"#4D5663\"},\"text\":\"\"},\"zerolinecolor\":\"#E1E5ED\"},\"yaxis14\":{\"anchor\":\"x14\",\"domain\":[0.0,0.1975],\"gridcolor\":\"#E1E5ED\",\"showgrid\":false,\"tickfont\":{\"color\":\"#4D5663\"},\"title\":{\"font\":{\"color\":\"#4D5663\"},\"text\":\"\"},\"zerolinecolor\":\"#E1E5ED\"},\"xaxis15\":{\"anchor\":\"y15\",\"domain\":[0.525,0.7375],\"gridcolor\":\"#E1E5ED\",\"showgrid\":false,\"tickfont\":{\"color\":\"#4D5663\"},\"title\":{\"font\":{\"color\":\"#4D5663\"},\"text\":\"\"},\"zerolinecolor\":\"#E1E5ED\"},\"yaxis15\":{\"anchor\":\"x15\",\"domain\":[0.0,0.1975],\"gridcolor\":\"#E1E5ED\",\"showgrid\":false,\"tickfont\":{\"color\":\"#4D5663\"},\"title\":{\"font\":{\"color\":\"#4D5663\"},\"text\":\"\"},\"zerolinecolor\":\"#E1E5ED\"},\"xaxis16\":{\"anchor\":\"y16\",\"domain\":[0.7875,1.0],\"gridcolor\":\"#E1E5ED\",\"showgrid\":false,\"tickfont\":{\"color\":\"#4D5663\"},\"title\":{\"font\":{\"color\":\"#4D5663\"},\"text\":\"\"},\"zerolinecolor\":\"#E1E5ED\"},\"yaxis16\":{\"anchor\":\"x16\",\"domain\":[0.0,0.1975],\"gridcolor\":\"#E1E5ED\",\"showgrid\":false,\"tickfont\":{\"color\":\"#4D5663\"},\"title\":{\"font\":{\"color\":\"#4D5663\"},\"text\":\"\"},\"zerolinecolor\":\"#E1E5ED\"}},                        {\"showLink\": true, \"linkText\": \"Export to plot.ly\", \"plotlyServerURL\": \"https://plot.ly\", \"responsive\": true}                    ).then(function(){\n",
       "                            \n",
       "var gd = document.getElementById('f9ca56dc-40c6-49e3-b782-6ca62457f0cf');\n",
       "var x = new MutationObserver(function (mutations, observer) {{\n",
       "        var display = window.getComputedStyle(gd).display;\n",
       "        if (!display || display === 'none') {{\n",
       "            console.log([gd, 'removed!']);\n",
       "            Plotly.purge(gd);\n",
       "            observer.disconnect();\n",
       "        }}\n",
       "}});\n",
       "\n",
       "// Listen for the removal of the full notebook cells\n",
       "var notebookContainer = gd.closest('#notebook-container');\n",
       "if (notebookContainer) {{\n",
       "    x.observe(notebookContainer, {childList: true});\n",
       "}}\n",
       "\n",
       "// Listen for the clearing of the current output cell\n",
       "var outputEl = gd.closest('.output');\n",
       "if (outputEl) {{\n",
       "    x.observe(outputEl, {childList: true});\n",
       "}}\n",
       "\n",
       "                        })                };                });            </script>        </div>"
      ]
     },
     "metadata": {},
     "output_type": "display_data"
    }
   ],
   "source": [
    "df.scatter_matrix()"
   ]
  },
  {
   "cell_type": "markdown",
   "metadata": {
    "collapsed": true
   },
   "source": [
    "# Great Job!"
   ]
  }
 ],
 "metadata": {
  "kernelspec": {
   "display_name": "Python 3 (ipykernel)",
   "language": "python",
   "name": "python3"
  },
  "language_info": {
   "codemirror_mode": {
    "name": "ipython",
    "version": 3
   },
   "file_extension": ".py",
   "mimetype": "text/x-python",
   "name": "python",
   "nbconvert_exporter": "python",
   "pygments_lexer": "ipython3",
   "version": "3.9.12"
  }
 },
 "nbformat": 4,
 "nbformat_minor": 1
}
