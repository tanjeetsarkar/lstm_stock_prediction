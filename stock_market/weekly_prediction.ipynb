{
 "cells": [
  {
   "cell_type": "code",
   "execution_count": 1,
   "id": "7db6c531",
   "metadata": {},
   "outputs": [],
   "source": [
    "import pandas as pd"
   ]
  },
  {
   "cell_type": "code",
   "execution_count": 2,
   "id": "186bed0f",
   "metadata": {},
   "outputs": [],
   "source": [
    "df = pd.read_csv('SBIN.NS.csv')"
   ]
  },
  {
   "cell_type": "code",
   "execution_count": 3,
   "id": "5396c2da",
   "metadata": {},
   "outputs": [],
   "source": [
    "import numpy as np\n",
    "import matplotlib.pyplot as plt\n",
    "import seaborn as sns\n",
    "\n",
    "%matplotlib inline"
   ]
  },
  {
   "cell_type": "code",
   "execution_count": 4,
   "id": "402dbbb9",
   "metadata": {},
   "outputs": [
    {
     "data": {
      "text/html": [
       "<div>\n",
       "<style scoped>\n",
       "    .dataframe tbody tr th:only-of-type {\n",
       "        vertical-align: middle;\n",
       "    }\n",
       "\n",
       "    .dataframe tbody tr th {\n",
       "        vertical-align: top;\n",
       "    }\n",
       "\n",
       "    .dataframe thead th {\n",
       "        text-align: right;\n",
       "    }\n",
       "</style>\n",
       "<table border=\"1\" class=\"dataframe\">\n",
       "  <thead>\n",
       "    <tr style=\"text-align: right;\">\n",
       "      <th></th>\n",
       "      <th>Open</th>\n",
       "    </tr>\n",
       "  </thead>\n",
       "  <tbody>\n",
       "    <tr>\n",
       "      <th>0</th>\n",
       "      <td>18.691147</td>\n",
       "    </tr>\n",
       "    <tr>\n",
       "      <th>1</th>\n",
       "      <td>18.894005</td>\n",
       "    </tr>\n",
       "    <tr>\n",
       "      <th>2</th>\n",
       "      <td>18.327892</td>\n",
       "    </tr>\n",
       "    <tr>\n",
       "      <th>3</th>\n",
       "      <td>17.502312</td>\n",
       "    </tr>\n",
       "    <tr>\n",
       "      <th>4</th>\n",
       "      <td>17.738192</td>\n",
       "    </tr>\n",
       "    <tr>\n",
       "      <th>...</th>\n",
       "      <td>...</td>\n",
       "    </tr>\n",
       "    <tr>\n",
       "      <th>6768</th>\n",
       "      <td>599.099976</td>\n",
       "    </tr>\n",
       "    <tr>\n",
       "      <th>6769</th>\n",
       "      <td>601.000000</td>\n",
       "    </tr>\n",
       "    <tr>\n",
       "      <th>6770</th>\n",
       "      <td>602.099976</td>\n",
       "    </tr>\n",
       "    <tr>\n",
       "      <th>6771</th>\n",
       "      <td>598.150024</td>\n",
       "    </tr>\n",
       "    <tr>\n",
       "      <th>6772</th>\n",
       "      <td>601.549988</td>\n",
       "    </tr>\n",
       "  </tbody>\n",
       "</table>\n",
       "<p>6773 rows × 1 columns</p>\n",
       "</div>"
      ],
      "text/plain": [
       "            Open\n",
       "0      18.691147\n",
       "1      18.894005\n",
       "2      18.327892\n",
       "3      17.502312\n",
       "4      17.738192\n",
       "...          ...\n",
       "6768  599.099976\n",
       "6769  601.000000\n",
       "6770  602.099976\n",
       "6771  598.150024\n",
       "6772  601.549988\n",
       "\n",
       "[6773 rows x 1 columns]"
      ]
     },
     "execution_count": 4,
     "metadata": {},
     "output_type": "execute_result"
    }
   ],
   "source": [
    "df.iloc[:,1:2]"
   ]
  },
  {
   "cell_type": "code",
   "execution_count": 5,
   "id": "2d58ba0c",
   "metadata": {},
   "outputs": [
    {
     "name": "stderr",
     "output_type": "stream",
     "text": [
      "2022-11-30 22:21:03.664917: I tensorflow/core/platform/cpu_feature_guard.cc:193] This TensorFlow binary is optimized with oneAPI Deep Neural Network Library (oneDNN) to use the following CPU instructions in performance-critical operations:  AVX2 FMA\n",
      "To enable them in other operations, rebuild TensorFlow with the appropriate compiler flags.\n",
      "2022-11-30 22:21:05.402557: W tensorflow/compiler/xla/stream_executor/platform/default/dso_loader.cc:64] Could not load dynamic library 'libnvinfer.so.7'; dlerror: libnvinfer.so.7: cannot open shared object file: No such file or directory; LD_LIBRARY_PATH: :/home/voldemort/anaconda3/lib/\n",
      "2022-11-30 22:21:05.402702: W tensorflow/compiler/xla/stream_executor/platform/default/dso_loader.cc:64] Could not load dynamic library 'libnvinfer_plugin.so.7'; dlerror: libnvinfer_plugin.so.7: cannot open shared object file: No such file or directory; LD_LIBRARY_PATH: :/home/voldemort/anaconda3/lib/\n",
      "2022-11-30 22:21:05.402718: W tensorflow/compiler/tf2tensorrt/utils/py_utils.cc:38] TF-TRT Warning: Cannot dlopen some TensorRT libraries. If you would like to use Nvidia GPU with TensorRT, please make sure the missing libraries mentioned above are installed properly.\n"
     ]
    }
   ],
   "source": [
    "from tensorflow.keras.models import load_model"
   ]
  },
  {
   "cell_type": "code",
   "execution_count": 6,
   "id": "acdad851",
   "metadata": {},
   "outputs": [
    {
     "name": "stderr",
     "output_type": "stream",
     "text": [
      "2022-11-30 22:21:07.339432: I tensorflow/compiler/xla/stream_executor/cuda/cuda_gpu_executor.cc:967] could not open file to read NUMA node: /sys/bus/pci/devices/0000:01:00.0/numa_node\n",
      "Your kernel may have been built without NUMA support.\n",
      "2022-11-30 22:21:07.387023: I tensorflow/compiler/xla/stream_executor/cuda/cuda_gpu_executor.cc:967] could not open file to read NUMA node: /sys/bus/pci/devices/0000:01:00.0/numa_node\n",
      "Your kernel may have been built without NUMA support.\n",
      "2022-11-30 22:21:07.387109: I tensorflow/compiler/xla/stream_executor/cuda/cuda_gpu_executor.cc:967] could not open file to read NUMA node: /sys/bus/pci/devices/0000:01:00.0/numa_node\n",
      "Your kernel may have been built without NUMA support.\n",
      "2022-11-30 22:21:07.388196: I tensorflow/core/platform/cpu_feature_guard.cc:193] This TensorFlow binary is optimized with oneAPI Deep Neural Network Library (oneDNN) to use the following CPU instructions in performance-critical operations:  AVX2 FMA\n",
      "To enable them in other operations, rebuild TensorFlow with the appropriate compiler flags.\n",
      "2022-11-30 22:21:07.394513: I tensorflow/compiler/xla/stream_executor/cuda/cuda_gpu_executor.cc:967] could not open file to read NUMA node: /sys/bus/pci/devices/0000:01:00.0/numa_node\n",
      "Your kernel may have been built without NUMA support.\n",
      "2022-11-30 22:21:07.394596: I tensorflow/compiler/xla/stream_executor/cuda/cuda_gpu_executor.cc:967] could not open file to read NUMA node: /sys/bus/pci/devices/0000:01:00.0/numa_node\n",
      "Your kernel may have been built without NUMA support.\n",
      "2022-11-30 22:21:07.394635: I tensorflow/compiler/xla/stream_executor/cuda/cuda_gpu_executor.cc:967] could not open file to read NUMA node: /sys/bus/pci/devices/0000:01:00.0/numa_node\n",
      "Your kernel may have been built without NUMA support.\n",
      "2022-11-30 22:21:08.934516: I tensorflow/compiler/xla/stream_executor/cuda/cuda_gpu_executor.cc:967] could not open file to read NUMA node: /sys/bus/pci/devices/0000:01:00.0/numa_node\n",
      "Your kernel may have been built without NUMA support.\n",
      "2022-11-30 22:21:08.935597: I tensorflow/compiler/xla/stream_executor/cuda/cuda_gpu_executor.cc:967] could not open file to read NUMA node: /sys/bus/pci/devices/0000:01:00.0/numa_node\n",
      "Your kernel may have been built without NUMA support.\n",
      "2022-11-30 22:21:08.935641: I tensorflow/core/common_runtime/gpu/gpu_device.cc:1700] Could not identify NUMA node of platform GPU id 0, defaulting to 0.  Your kernel may not have been built with NUMA support.\n",
      "2022-11-30 22:21:08.935710: I tensorflow/compiler/xla/stream_executor/cuda/cuda_gpu_executor.cc:967] could not open file to read NUMA node: /sys/bus/pci/devices/0000:01:00.0/numa_node\n",
      "Your kernel may have been built without NUMA support.\n",
      "2022-11-30 22:21:08.936374: I tensorflow/core/common_runtime/gpu/gpu_device.cc:1613] Created device /job:localhost/replica:0/task:0/device:GPU:0 with 2099 MB memory:  -> device: 0, name: NVIDIA GeForce GTX 1650, pci bus id: 0000:01:00.0, compute capability: 7.5\n"
     ]
    }
   ],
   "source": [
    "model = load_model('sbi_model.h5')"
   ]
  },
  {
   "cell_type": "code",
   "execution_count": 7,
   "id": "df933e97",
   "metadata": {},
   "outputs": [
    {
     "name": "stdout",
     "output_type": "stream",
     "text": [
      "<class 'pandas.core.frame.DataFrame'>\n",
      "RangeIndex: 6773 entries, 0 to 6772\n",
      "Data columns (total 7 columns):\n",
      " #   Column     Non-Null Count  Dtype  \n",
      "---  ------     --------------  -----  \n",
      " 0   Date       6773 non-null   object \n",
      " 1   Open       6764 non-null   float64\n",
      " 2   High       6764 non-null   float64\n",
      " 3   Low        6764 non-null   float64\n",
      " 4   Close      6764 non-null   float64\n",
      " 5   Adj Close  6764 non-null   float64\n",
      " 6   Volume     6764 non-null   float64\n",
      "dtypes: float64(6), object(1)\n",
      "memory usage: 370.5+ KB\n"
     ]
    }
   ],
   "source": [
    "df.info()"
   ]
  },
  {
   "cell_type": "code",
   "execution_count": 8,
   "id": "c75a527d",
   "metadata": {},
   "outputs": [
    {
     "data": {
      "text/html": [
       "<div>\n",
       "<style scoped>\n",
       "    .dataframe tbody tr th:only-of-type {\n",
       "        vertical-align: middle;\n",
       "    }\n",
       "\n",
       "    .dataframe tbody tr th {\n",
       "        vertical-align: top;\n",
       "    }\n",
       "\n",
       "    .dataframe thead th {\n",
       "        text-align: right;\n",
       "    }\n",
       "</style>\n",
       "<table border=\"1\" class=\"dataframe\">\n",
       "  <thead>\n",
       "    <tr style=\"text-align: right;\">\n",
       "      <th></th>\n",
       "      <th>Date</th>\n",
       "      <th>Open</th>\n",
       "      <th>High</th>\n",
       "      <th>Low</th>\n",
       "      <th>Close</th>\n",
       "      <th>Adj Close</th>\n",
       "      <th>Volume</th>\n",
       "    </tr>\n",
       "  </thead>\n",
       "  <tbody>\n",
       "    <tr>\n",
       "      <th>6768</th>\n",
       "      <td>2022-11-17</td>\n",
       "      <td>599.099976</td>\n",
       "      <td>602.750000</td>\n",
       "      <td>596.150024</td>\n",
       "      <td>599.049988</td>\n",
       "      <td>599.049988</td>\n",
       "      <td>8167131.0</td>\n",
       "    </tr>\n",
       "    <tr>\n",
       "      <th>6769</th>\n",
       "      <td>2022-11-18</td>\n",
       "      <td>601.000000</td>\n",
       "      <td>605.750000</td>\n",
       "      <td>597.150024</td>\n",
       "      <td>602.700012</td>\n",
       "      <td>602.700012</td>\n",
       "      <td>12933675.0</td>\n",
       "    </tr>\n",
       "    <tr>\n",
       "      <th>6770</th>\n",
       "      <td>2022-11-21</td>\n",
       "      <td>602.099976</td>\n",
       "      <td>602.099976</td>\n",
       "      <td>595.349976</td>\n",
       "      <td>598.099976</td>\n",
       "      <td>598.099976</td>\n",
       "      <td>7412419.0</td>\n",
       "    </tr>\n",
       "    <tr>\n",
       "      <th>6771</th>\n",
       "      <td>2022-11-22</td>\n",
       "      <td>598.150024</td>\n",
       "      <td>600.700012</td>\n",
       "      <td>596.150024</td>\n",
       "      <td>599.099976</td>\n",
       "      <td>599.099976</td>\n",
       "      <td>8048595.0</td>\n",
       "    </tr>\n",
       "    <tr>\n",
       "      <th>6772</th>\n",
       "      <td>2022-11-23</td>\n",
       "      <td>601.549988</td>\n",
       "      <td>609.599976</td>\n",
       "      <td>601.000000</td>\n",
       "      <td>607.650024</td>\n",
       "      <td>607.650024</td>\n",
       "      <td>12435924.0</td>\n",
       "    </tr>\n",
       "  </tbody>\n",
       "</table>\n",
       "</div>"
      ],
      "text/plain": [
       "            Date        Open        High         Low       Close   Adj Close  \\\n",
       "6768  2022-11-17  599.099976  602.750000  596.150024  599.049988  599.049988   \n",
       "6769  2022-11-18  601.000000  605.750000  597.150024  602.700012  602.700012   \n",
       "6770  2022-11-21  602.099976  602.099976  595.349976  598.099976  598.099976   \n",
       "6771  2022-11-22  598.150024  600.700012  596.150024  599.099976  599.099976   \n",
       "6772  2022-11-23  601.549988  609.599976  601.000000  607.650024  607.650024   \n",
       "\n",
       "          Volume  \n",
       "6768   8167131.0  \n",
       "6769  12933675.0  \n",
       "6770   7412419.0  \n",
       "6771   8048595.0  \n",
       "6772  12435924.0  "
      ]
     },
     "execution_count": 8,
     "metadata": {},
     "output_type": "execute_result"
    }
   ],
   "source": [
    "df.tail()"
   ]
  },
  {
   "cell_type": "code",
   "execution_count": 9,
   "id": "9bdd9ca9",
   "metadata": {},
   "outputs": [
    {
     "data": {
      "text/plain": [
       "<AxesSubplot:xlabel='Date', ylabel='Open'>"
      ]
     },
     "execution_count": 9,
     "metadata": {},
     "output_type": "execute_result"
    },
    {
     "data": {
      "image/png": "[encoded data removed]",
      "text/plain": [
       "<Figure size 1200x700 with 1 Axes>"
      ]
     },
     "metadata": {},
     "output_type": "display_data"
    }
   ],
   "source": [
    "import datetime\n",
    "df['Date'] = pd.to_datetime(df['Date'])\n",
    "plt.figure(figsize=(12,7))\n",
    "sns.lineplot(x='Date', y='Open',\n",
    "             color='red',\n",
    "             data=df[df['Date'] > pd.to_datetime(datetime.date(2000,1,1))])\n",
    "sns.lineplot(x='Date', y='Close', \n",
    "             data=df[df['Date'] > pd.to_datetime(datetime.date(2000,1,1))])"
   ]
  },
  {
   "cell_type": "markdown",
   "id": "8f15e1d9",
   "metadata": {},
   "source": [
    "## Prediction with predicted value tests"
   ]
  },
  {
   "cell_type": "code",
   "execution_count": 114,
   "id": "c19251b3",
   "metadata": {},
   "outputs": [],
   "source": [
    "df = df.dropna()"
   ]
  },
  {
   "cell_type": "code",
   "execution_count": 115,
   "id": "eb222e66",
   "metadata": {},
   "outputs": [],
   "source": [
    "train_ind = int(len(df)*0.8)\n",
    "df_train = df[:train_ind]\n",
    "df_test = df[train_ind:]"
   ]
  },
  {
   "cell_type": "code",
   "execution_count": 116,
   "id": "4b9ed765",
   "metadata": {},
   "outputs": [
    {
     "data": {
      "text/html": [
       "<div>\n",
       "<style scoped>\n",
       "    .dataframe tbody tr th:only-of-type {\n",
       "        vertical-align: middle;\n",
       "    }\n",
       "\n",
       "    .dataframe tbody tr th {\n",
       "        vertical-align: top;\n",
       "    }\n",
       "\n",
       "    .dataframe thead th {\n",
       "        text-align: right;\n",
       "    }\n",
       "</style>\n",
       "<table border=\"1\" class=\"dataframe\">\n",
       "  <thead>\n",
       "    <tr style=\"text-align: right;\">\n",
       "      <th></th>\n",
       "      <th>Date</th>\n",
       "      <th>Open</th>\n",
       "      <th>High</th>\n",
       "      <th>Low</th>\n",
       "      <th>Close</th>\n",
       "      <th>Adj Close</th>\n",
       "      <th>Volume</th>\n",
       "    </tr>\n",
       "  </thead>\n",
       "  <tbody>\n",
       "    <tr>\n",
       "      <th>5420</th>\n",
       "      <td>2017-06-05</td>\n",
       "      <td>288.049988</td>\n",
       "      <td>289.750000</td>\n",
       "      <td>286.750000</td>\n",
       "      <td>287.250000</td>\n",
       "      <td>280.248627</td>\n",
       "      <td>7917410.0</td>\n",
       "    </tr>\n",
       "    <tr>\n",
       "      <th>5421</th>\n",
       "      <td>2017-06-06</td>\n",
       "      <td>292.000000</td>\n",
       "      <td>292.950012</td>\n",
       "      <td>286.600006</td>\n",
       "      <td>287.299988</td>\n",
       "      <td>280.297394</td>\n",
       "      <td>12346121.0</td>\n",
       "    </tr>\n",
       "    <tr>\n",
       "      <th>5422</th>\n",
       "      <td>2017-06-07</td>\n",
       "      <td>288.200012</td>\n",
       "      <td>291.500000</td>\n",
       "      <td>287.200012</td>\n",
       "      <td>290.549988</td>\n",
       "      <td>283.468170</td>\n",
       "      <td>10864355.0</td>\n",
       "    </tr>\n",
       "    <tr>\n",
       "      <th>5423</th>\n",
       "      <td>2017-06-08</td>\n",
       "      <td>292.000000</td>\n",
       "      <td>292.000000</td>\n",
       "      <td>287.750000</td>\n",
       "      <td>288.600006</td>\n",
       "      <td>281.565735</td>\n",
       "      <td>8370299.0</td>\n",
       "    </tr>\n",
       "    <tr>\n",
       "      <th>5424</th>\n",
       "      <td>2017-06-09</td>\n",
       "      <td>288.299988</td>\n",
       "      <td>289.399994</td>\n",
       "      <td>285.799988</td>\n",
       "      <td>288.549988</td>\n",
       "      <td>281.516907</td>\n",
       "      <td>10804887.0</td>\n",
       "    </tr>\n",
       "    <tr>\n",
       "      <th>...</th>\n",
       "      <td>...</td>\n",
       "      <td>...</td>\n",
       "      <td>...</td>\n",
       "      <td>...</td>\n",
       "      <td>...</td>\n",
       "      <td>...</td>\n",
       "      <td>...</td>\n",
       "    </tr>\n",
       "    <tr>\n",
       "      <th>6768</th>\n",
       "      <td>2022-11-17</td>\n",
       "      <td>599.099976</td>\n",
       "      <td>602.750000</td>\n",
       "      <td>596.150024</td>\n",
       "      <td>599.049988</td>\n",
       "      <td>599.049988</td>\n",
       "      <td>8167131.0</td>\n",
       "    </tr>\n",
       "    <tr>\n",
       "      <th>6769</th>\n",
       "      <td>2022-11-18</td>\n",
       "      <td>601.000000</td>\n",
       "      <td>605.750000</td>\n",
       "      <td>597.150024</td>\n",
       "      <td>602.700012</td>\n",
       "      <td>602.700012</td>\n",
       "      <td>12933675.0</td>\n",
       "    </tr>\n",
       "    <tr>\n",
       "      <th>6770</th>\n",
       "      <td>2022-11-21</td>\n",
       "      <td>602.099976</td>\n",
       "      <td>602.099976</td>\n",
       "      <td>595.349976</td>\n",
       "      <td>598.099976</td>\n",
       "      <td>598.099976</td>\n",
       "      <td>7412419.0</td>\n",
       "    </tr>\n",
       "    <tr>\n",
       "      <th>6771</th>\n",
       "      <td>2022-11-22</td>\n",
       "      <td>598.150024</td>\n",
       "      <td>600.700012</td>\n",
       "      <td>596.150024</td>\n",
       "      <td>599.099976</td>\n",
       "      <td>599.099976</td>\n",
       "      <td>8048595.0</td>\n",
       "    </tr>\n",
       "    <tr>\n",
       "      <th>6772</th>\n",
       "      <td>2022-11-23</td>\n",
       "      <td>601.549988</td>\n",
       "      <td>609.599976</td>\n",
       "      <td>601.000000</td>\n",
       "      <td>607.650024</td>\n",
       "      <td>607.650024</td>\n",
       "      <td>12435924.0</td>\n",
       "    </tr>\n",
       "  </tbody>\n",
       "</table>\n",
       "<p>1353 rows × 7 columns</p>\n",
       "</div>"
      ],
      "text/plain": [
       "           Date        Open        High         Low       Close   Adj Close  \\\n",
       "5420 2017-06-05  288.049988  289.750000  286.750000  287.250000  280.248627   \n",
       "5421 2017-06-06  292.000000  292.950012  286.600006  287.299988  280.297394   \n",
       "5422 2017-06-07  288.200012  291.500000  287.200012  290.549988  283.468170   \n",
       "5423 2017-06-08  292.000000  292.000000  287.750000  288.600006  281.565735   \n",
       "5424 2017-06-09  288.299988  289.399994  285.799988  288.549988  281.516907   \n",
       "...         ...         ...         ...         ...         ...         ...   \n",
       "6768 2022-11-17  599.099976  602.750000  596.150024  599.049988  599.049988   \n",
       "6769 2022-11-18  601.000000  605.750000  597.150024  602.700012  602.700012   \n",
       "6770 2022-11-21  602.099976  602.099976  595.349976  598.099976  598.099976   \n",
       "6771 2022-11-22  598.150024  600.700012  596.150024  599.099976  599.099976   \n",
       "6772 2022-11-23  601.549988  609.599976  601.000000  607.650024  607.650024   \n",
       "\n",
       "          Volume  \n",
       "5420   7917410.0  \n",
       "5421  12346121.0  \n",
       "5422  10864355.0  \n",
       "5423   8370299.0  \n",
       "5424  10804887.0  \n",
       "...          ...  \n",
       "6768   8167131.0  \n",
       "6769  12933675.0  \n",
       "6770   7412419.0  \n",
       "6771   8048595.0  \n",
       "6772  12435924.0  \n",
       "\n",
       "[1353 rows x 7 columns]"
      ]
     },
     "execution_count": 116,
     "metadata": {},
     "output_type": "execute_result"
    }
   ],
   "source": [
    "df_test"
   ]
  },
  {
   "cell_type": "code",
   "execution_count": 117,
   "id": "8a30ba22",
   "metadata": {},
   "outputs": [],
   "source": [
    "timestep = 60"
   ]
  },
  {
   "cell_type": "code",
   "execution_count": 118,
   "id": "477c9fe2",
   "metadata": {},
   "outputs": [],
   "source": [
    "r_data = df_test.iloc[:60, 1:2].values"
   ]
  },
  {
   "cell_type": "code",
   "execution_count": 119,
   "id": "00dc72f4",
   "metadata": {},
   "outputs": [
    {
     "data": {
      "text/plain": [
       "60"
      ]
     },
     "execution_count": 119,
     "metadata": {},
     "output_type": "execute_result"
    }
   ],
   "source": [
    "len(r_data)"
   ]
  },
  {
   "cell_type": "code",
   "execution_count": 120,
   "id": "f68ccf03",
   "metadata": {},
   "outputs": [],
   "source": [
    "from sklearn.preprocessing import MinMaxScaler\n",
    "scaler = MinMaxScaler(feature_range=(0,1))"
   ]
  },
  {
   "cell_type": "code",
   "execution_count": 121,
   "id": "3ad36d73",
   "metadata": {},
   "outputs": [],
   "source": [
    "r_data = scaler.fit_transform(r_data)"
   ]
  },
  {
   "cell_type": "code",
   "execution_count": 122,
   "id": "883f7e48",
   "metadata": {},
   "outputs": [
    {
     "data": {
      "text/plain": [
       "(60, 1)"
      ]
     },
     "execution_count": 122,
     "metadata": {},
     "output_type": "execute_result"
    }
   ],
   "source": [
    "r_data.shape"
   ]
  },
  {
   "cell_type": "code",
   "execution_count": 123,
   "id": "936a2e3a",
   "metadata": {},
   "outputs": [],
   "source": [
    "r_data = np.reshape(r_data, (1, timestep, 1))"
   ]
  },
  {
   "cell_type": "code",
   "execution_count": 162,
   "id": "e0aef94b",
   "metadata": {},
   "outputs": [
    {
     "data": {
      "text/plain": [
       "(1, 60, 1)"
      ]
     },
     "execution_count": 162,
     "metadata": {},
     "output_type": "execute_result"
    }
   ],
   "source": [
    "r_data.shape"
   ]
  },
  {
   "cell_type": "code",
   "execution_count": 125,
   "id": "d0df6a7a",
   "metadata": {},
   "outputs": [
    {
     "data": {
      "text/plain": [
       "array([[0.38214257, 0.47619048, 0.38571457, 0.47619048, 0.38809495,\n",
       "        0.35119048, 0.31904748, 0.33095224, 0.282143  , 0.30238124,\n",
       "        0.34761919, 0.37142871, 0.38690476, 0.45833333, 0.54166667,\n",
       "        0.41071429, 0.13333348, 0.1226189 , 0.        , 0.05000014,\n",
       "        0.07142857, 0.04523795, 0.07261876, 0.20476205, 0.28809538,\n",
       "        0.36904762, 0.30238124, 0.40238081, 0.39999971, 0.49523781,\n",
       "        0.47261919, 0.46428571, 0.5       , 0.45357114, 0.44761876,\n",
       "        0.57142857, 0.57738095, 0.5952381 , 0.5952381 , 0.65238081,\n",
       "        1.        , 0.9047619 , 0.83333333, 0.67380924, 0.80476162,\n",
       "        0.92857143, 0.73214286, 0.69523838, 0.53571429, 0.22500029,\n",
       "        0.16785686, 0.2809521 , 0.14285714, 0.16666667, 0.0952381 ,\n",
       "        0.06547619, 0.18333362, 0.24047633, 0.15357171, 0.14285714]])"
      ]
     },
     "execution_count": 125,
     "metadata": {},
     "output_type": "execute_result"
    }
   ],
   "source": [
    "t_data.reshape(1,-1)"
   ]
  },
  {
   "cell_type": "code",
   "execution_count": 159,
   "id": "68f4d71c",
   "metadata": {},
   "outputs": [
    {
     "data": {
      "text/plain": [
       "array([[[4.76190476e-01],\n",
       "        [3.85714571e-01],\n",
       "        [4.76190476e-01],\n",
       "        [3.88094952e-01],\n",
       "        [3.51190476e-01],\n",
       "        [3.19047476e-01],\n",
       "        [3.30952238e-01],\n",
       "        [2.82143000e-01],\n",
       "        [3.02381238e-01],\n",
       "        [3.47619190e-01],\n",
       "        [3.71428714e-01],\n",
       "        [3.86904762e-01],\n",
       "        [4.58333333e-01],\n",
       "        [5.41666667e-01],\n",
       "        [4.10714286e-01],\n",
       "        [1.33333476e-01],\n",
       "        [1.22618905e-01],\n",
       "        [0.00000000e+00],\n",
       "        [5.00001429e-02],\n",
       "        [7.14285714e-02],\n",
       "        [4.52379524e-02],\n",
       "        [7.26187619e-02],\n",
       "        [2.04762048e-01],\n",
       "        [2.88095381e-01],\n",
       "        [3.69047619e-01],\n",
       "        [3.02381238e-01],\n",
       "        [4.02380810e-01],\n",
       "        [3.99999714e-01],\n",
       "        [4.95237810e-01],\n",
       "        [4.72619190e-01],\n",
       "        [4.64285714e-01],\n",
       "        [5.00000000e-01],\n",
       "        [4.53571143e-01],\n",
       "        [4.47618762e-01],\n",
       "        [5.71428571e-01],\n",
       "        [5.77380952e-01],\n",
       "        [5.95238095e-01],\n",
       "        [5.95238095e-01],\n",
       "        [6.52380810e-01],\n",
       "        [1.00000000e+00],\n",
       "        [9.04761905e-01],\n",
       "        [8.33333333e-01],\n",
       "        [6.73809238e-01],\n",
       "        [8.04761619e-01],\n",
       "        [9.28571429e-01],\n",
       "        [7.32142857e-01],\n",
       "        [6.95238381e-01],\n",
       "        [5.35714286e-01],\n",
       "        [2.25000286e-01],\n",
       "        [1.67856857e-01],\n",
       "        [2.80952095e-01],\n",
       "        [1.42857143e-01],\n",
       "        [1.66666667e-01],\n",
       "        [9.52380952e-02],\n",
       "        [6.54761905e-02],\n",
       "        [1.83333619e-01],\n",
       "        [2.40476333e-01],\n",
       "        [1.53571714e-01],\n",
       "        [1.42857143e-01],\n",
       "        [2.79929443e+02]]])"
      ]
     },
     "execution_count": 159,
     "metadata": {},
     "output_type": "execute_result"
    }
   ],
   "source": [
    "o=[x[0] for x in t_data[0]]\n",
    "o.append(p1[0].tolist()[0])\n",
    "o = np.array(o[1:]).reshape(1,60,1)\n",
    "o"
   ]
  },
  {
   "cell_type": "code",
   "execution_count": 127,
   "id": "5c838ac0",
   "metadata": {},
   "outputs": [
    {
     "name": "stdout",
     "output_type": "stream",
     "text": [
      "1/1 [==============================] - 0s 50ms/step\n"
     ]
    }
   ],
   "source": [
    "p1 = model.predict(r_data)"
   ]
  },
  {
   "cell_type": "code",
   "execution_count": 128,
   "id": "3089281b",
   "metadata": {},
   "outputs": [],
   "source": [
    "p1 = scaler.inverse_transform(p1)"
   ]
  },
  {
   "cell_type": "code",
   "execution_count": 144,
   "id": "92c6f5c7",
   "metadata": {},
   "outputs": [
    {
     "data": {
      "text/plain": [
       "279.929443359375"
      ]
     },
     "execution_count": 144,
     "metadata": {},
     "output_type": "execute_result"
    }
   ],
   "source": [
    "p1[0].tolist()[0]"
   ]
  },
  {
   "cell_type": "code",
   "execution_count": 130,
   "id": "75b9e242",
   "metadata": {},
   "outputs": [
    {
     "data": {
      "text/plain": [
       "Date         2017-09-01 00:00:00\n",
       "Open                  277.649994\n",
       "High                  280.399994\n",
       "Low                   276.600006\n",
       "Close                 277.850006\n",
       "Adj Close             271.077759\n",
       "Volume                 8255209.0\n",
       "Name: 5481, dtype: object"
      ]
     },
     "execution_count": 130,
     "metadata": {},
     "output_type": "execute_result"
    }
   ],
   "source": [
    "df_test.iloc[61]"
   ]
  },
  {
   "cell_type": "code",
   "execution_count": 186,
   "id": "742c48a9",
   "metadata": {},
   "outputs": [],
   "source": [
    "# data_till_friday should be scaled and in shape (1,60,1)\n",
    "def weekly_prediction(model, data_till_friday,scaler):\n",
    "    lst_output=[]\n",
    "    lst_input = [x[0] for x in data_till_friday[0]]\n",
    "    i=0\n",
    "    while i<30:\n",
    "        p = model.predict(data_till_friday)\n",
    "        x = lst_input[1:]\n",
    "        x.append(p[0].tolist()[0])\n",
    "        print(x)\n",
    "        lst_output.append(p[0].tolist()[0])\n",
    "        p = scaler.inverse_transform(p)\n",
    "        print(f'prediction {p}')\n",
    "        data_till_friday = np.array(x).reshape(1,60,1)\n",
    "        i+=1\n",
    "    return lst_output\n",
    "        "
   ]
  },
  {
   "cell_type": "code",
   "execution_count": 187,
   "id": "e3a2d6f3",
   "metadata": {},
   "outputs": [
    {
     "name": "stdout",
     "output_type": "stream",
     "text": [
      "1/1 [==============================] - 0s 45ms/step\n",
      "[0.4761904761904754, 0.38571457142857124, 0.4761904761904754, 0.3880949523809516, 0.3511904761904754, 0.3190474761904758, 0.33095223809523766, 0.2821429999999996, 0.3023812380952382, 0.3476191904761903, 0.371428714285714, 0.38690476190476186, 0.45833333333333304, 0.5416666666666661, 0.4107142857142856, 0.13333347619047586, 0.12261890476190374, 0.0, 0.050000142857142826, 0.07142857142857117, 0.04523795238095207, 0.07261876190476091, 0.20476204761904704, 0.28809538095238096, 0.3690476190476186, 0.3023812380952382, 0.40238080952380884, 0.39999971428571346, 0.49523780952380836, 0.4726191904761903, 0.4642857142857135, 0.4999999999999991, 0.4535711428571423, 0.4476187619047609, 0.5714285714285712, 0.5773809523809517, 0.5952380952380949, 0.5952380952380949, 0.6523808095238088, 0.9999999999999991, 0.9047619047619042, 0.833333333333333, 0.6738092380952372, 0.8047616190476186, 0.9285714285714279, 0.7321428571428568, 0.6952383809523806, 0.5357142857142856, 0.22500028571428565, 0.1678568571428567, 0.28095209523809483, 0.14285714285714235, 0.16666666666666607, 0.0952380952380949, 0.0654761904761898, 0.1833336190476187, 0.24047633333333263, 0.15357171428571448, 0.14285714285714235, 0.18879638612270355]\n",
      "prediction [[279.92944]]\n",
      "1/1 [==============================] - 0s 47ms/step\n",
      "[0.4761904761904754, 0.38571457142857124, 0.4761904761904754, 0.3880949523809516, 0.3511904761904754, 0.3190474761904758, 0.33095223809523766, 0.2821429999999996, 0.3023812380952382, 0.3476191904761903, 0.371428714285714, 0.38690476190476186, 0.45833333333333304, 0.5416666666666661, 0.4107142857142856, 0.13333347619047586, 0.12261890476190374, 0.0, 0.050000142857142826, 0.07142857142857117, 0.04523795238095207, 0.07261876190476091, 0.20476204761904704, 0.28809538095238096, 0.3690476190476186, 0.3023812380952382, 0.40238080952380884, 0.39999971428571346, 0.49523780952380836, 0.4726191904761903, 0.4642857142857135, 0.4999999999999991, 0.4535711428571423, 0.4476187619047609, 0.5714285714285712, 0.5773809523809517, 0.5952380952380949, 0.5952380952380949, 0.6523808095238088, 0.9999999999999991, 0.9047619047619042, 0.833333333333333, 0.6738092380952372, 0.8047616190476186, 0.9285714285714279, 0.7321428571428568, 0.6952383809523806, 0.5357142857142856, 0.22500028571428565, 0.1678568571428567, 0.28095209523809483, 0.14285714285714235, 0.16666666666666607, 0.0952380952380949, 0.0654761904761898, 0.1833336190476187, 0.24047633333333263, 0.15357171428571448, 0.14285714285714235, 0.1822478473186493]\n",
      "prediction [[279.65442]]\n",
      "1/1 [==============================] - 0s 42ms/step\n",
      "[0.4761904761904754, 0.38571457142857124, 0.4761904761904754, 0.3880949523809516, 0.3511904761904754, 0.3190474761904758, 0.33095223809523766, 0.2821429999999996, 0.3023812380952382, 0.3476191904761903, 0.371428714285714, 0.38690476190476186, 0.45833333333333304, 0.5416666666666661, 0.4107142857142856, 0.13333347619047586, 0.12261890476190374, 0.0, 0.050000142857142826, 0.07142857142857117, 0.04523795238095207, 0.07261876190476091, 0.20476204761904704, 0.28809538095238096, 0.3690476190476186, 0.3023812380952382, 0.40238080952380884, 0.39999971428571346, 0.49523780952380836, 0.4726191904761903, 0.4642857142857135, 0.4999999999999991, 0.4535711428571423, 0.4476187619047609, 0.5714285714285712, 0.5773809523809517, 0.5952380952380949, 0.5952380952380949, 0.6523808095238088, 0.9999999999999991, 0.9047619047619042, 0.833333333333333, 0.6738092380952372, 0.8047616190476186, 0.9285714285714279, 0.7321428571428568, 0.6952383809523806, 0.5357142857142856, 0.22500028571428565, 0.1678568571428567, 0.28095209523809483, 0.14285714285714235, 0.16666666666666607, 0.0952380952380949, 0.0654761904761898, 0.1833336190476187, 0.24047633333333263, 0.15357171428571448, 0.14285714285714235, 0.1811370849609375]\n",
      "prediction [[279.60776]]\n",
      "1/1 [==============================] - 0s 42ms/step\n",
      "[0.4761904761904754, 0.38571457142857124, 0.4761904761904754, 0.3880949523809516, 0.3511904761904754, 0.3190474761904758, 0.33095223809523766, 0.2821429999999996, 0.3023812380952382, 0.3476191904761903, 0.371428714285714, 0.38690476190476186, 0.45833333333333304, 0.5416666666666661, 0.4107142857142856, 0.13333347619047586, 0.12261890476190374, 0.0, 0.050000142857142826, 0.07142857142857117, 0.04523795238095207, 0.07261876190476091, 0.20476204761904704, 0.28809538095238096, 0.3690476190476186, 0.3023812380952382, 0.40238080952380884, 0.39999971428571346, 0.49523780952380836, 0.4726191904761903, 0.4642857142857135, 0.4999999999999991, 0.4535711428571423, 0.4476187619047609, 0.5714285714285712, 0.5773809523809517, 0.5952380952380949, 0.5952380952380949, 0.6523808095238088, 0.9999999999999991, 0.9047619047619042, 0.833333333333333, 0.6738092380952372, 0.8047616190476186, 0.9285714285714279, 0.7321428571428568, 0.6952383809523806, 0.5357142857142856, 0.22500028571428565, 0.1678568571428567, 0.28095209523809483, 0.14285714285714235, 0.16666666666666607, 0.0952380952380949, 0.0654761904761898, 0.1833336190476187, 0.24047633333333263, 0.15357171428571448, 0.14285714285714235, 0.1809500902891159]\n",
      "prediction [[279.5999]]\n",
      "1/1 [==============================] - 0s 45ms/step\n",
      "[0.4761904761904754, 0.38571457142857124, 0.4761904761904754, 0.3880949523809516, 0.3511904761904754, 0.3190474761904758, 0.33095223809523766, 0.2821429999999996, 0.3023812380952382, 0.3476191904761903, 0.371428714285714, 0.38690476190476186, 0.45833333333333304, 0.5416666666666661, 0.4107142857142856, 0.13333347619047586, 0.12261890476190374, 0.0, 0.050000142857142826, 0.07142857142857117, 0.04523795238095207, 0.07261876190476091, 0.20476204761904704, 0.28809538095238096, 0.3690476190476186, 0.3023812380952382, 0.40238080952380884, 0.39999971428571346, 0.49523780952380836, 0.4726191904761903, 0.4642857142857135, 0.4999999999999991, 0.4535711428571423, 0.4476187619047609, 0.5714285714285712, 0.5773809523809517, 0.5952380952380949, 0.5952380952380949, 0.6523808095238088, 0.9999999999999991, 0.9047619047619042, 0.833333333333333, 0.6738092380952372, 0.8047616190476186, 0.9285714285714279, 0.7321428571428568, 0.6952383809523806, 0.5357142857142856, 0.22500028571428565, 0.1678568571428567, 0.28095209523809483, 0.14285714285714235, 0.16666666666666607, 0.0952380952380949, 0.0654761904761898, 0.1833336190476187, 0.24047633333333263, 0.15357171428571448, 0.14285714285714235, 0.1809186488389969]\n",
      "prediction [[279.5986]]\n",
      "1/1 [==============================] - 0s 42ms/step\n",
      "[0.4761904761904754, 0.38571457142857124, 0.4761904761904754, 0.3880949523809516, 0.3511904761904754, 0.3190474761904758, 0.33095223809523766, 0.2821429999999996, 0.3023812380952382, 0.3476191904761903, 0.371428714285714, 0.38690476190476186, 0.45833333333333304, 0.5416666666666661, 0.4107142857142856, 0.13333347619047586, 0.12261890476190374, 0.0, 0.050000142857142826, 0.07142857142857117, 0.04523795238095207, 0.07261876190476091, 0.20476204761904704, 0.28809538095238096, 0.3690476190476186, 0.3023812380952382, 0.40238080952380884, 0.39999971428571346, 0.49523780952380836, 0.4726191904761903, 0.4642857142857135, 0.4999999999999991, 0.4535711428571423, 0.4476187619047609, 0.5714285714285712, 0.5773809523809517, 0.5952380952380949, 0.5952380952380949, 0.6523808095238088, 0.9999999999999991, 0.9047619047619042, 0.833333333333333, 0.6738092380952372, 0.8047616190476186, 0.9285714285714279, 0.7321428571428568, 0.6952383809523806, 0.5357142857142856, 0.22500028571428565, 0.1678568571428567, 0.28095209523809483, 0.14285714285714235, 0.16666666666666607, 0.0952380952380949, 0.0654761904761898, 0.1833336190476187, 0.24047633333333263, 0.15357171428571448, 0.14285714285714235, 0.18091335892677307]\n",
      "prediction [[279.59836]]\n",
      "1/1 [==============================] - 0s 40ms/step\n",
      "[0.4761904761904754, 0.38571457142857124, 0.4761904761904754, 0.3880949523809516, 0.3511904761904754, 0.3190474761904758, 0.33095223809523766, 0.2821429999999996, 0.3023812380952382, 0.3476191904761903, 0.371428714285714, 0.38690476190476186, 0.45833333333333304, 0.5416666666666661, 0.4107142857142856, 0.13333347619047586, 0.12261890476190374, 0.0, 0.050000142857142826, 0.07142857142857117, 0.04523795238095207, 0.07261876190476091, 0.20476204761904704, 0.28809538095238096, 0.3690476190476186, 0.3023812380952382, 0.40238080952380884, 0.39999971428571346, 0.49523780952380836, 0.4726191904761903, 0.4642857142857135, 0.4999999999999991, 0.4535711428571423, 0.4476187619047609, 0.5714285714285712, 0.5773809523809517, 0.5952380952380949, 0.5952380952380949, 0.6523808095238088, 0.9999999999999991, 0.9047619047619042, 0.833333333333333, 0.6738092380952372, 0.8047616190476186, 0.9285714285714279, 0.7321428571428568, 0.6952383809523806, 0.5357142857142856, 0.22500028571428565, 0.1678568571428567, 0.28095209523809483, 0.14285714285714235, 0.16666666666666607, 0.0952380952380949, 0.0654761904761898, 0.1833336190476187, 0.24047633333333263, 0.15357171428571448, 0.14285714285714235, 0.18091247975826263]\n",
      "prediction [[279.59833]]\n"
     ]
    },
    {
     "name": "stdout",
     "output_type": "stream",
     "text": [
      "1/1 [==============================] - 0s 52ms/step\n",
      "[0.4761904761904754, 0.38571457142857124, 0.4761904761904754, 0.3880949523809516, 0.3511904761904754, 0.3190474761904758, 0.33095223809523766, 0.2821429999999996, 0.3023812380952382, 0.3476191904761903, 0.371428714285714, 0.38690476190476186, 0.45833333333333304, 0.5416666666666661, 0.4107142857142856, 0.13333347619047586, 0.12261890476190374, 0.0, 0.050000142857142826, 0.07142857142857117, 0.04523795238095207, 0.07261876190476091, 0.20476204761904704, 0.28809538095238096, 0.3690476190476186, 0.3023812380952382, 0.40238080952380884, 0.39999971428571346, 0.49523780952380836, 0.4726191904761903, 0.4642857142857135, 0.4999999999999991, 0.4535711428571423, 0.4476187619047609, 0.5714285714285712, 0.5773809523809517, 0.5952380952380949, 0.5952380952380949, 0.6523808095238088, 0.9999999999999991, 0.9047619047619042, 0.833333333333333, 0.6738092380952372, 0.8047616190476186, 0.9285714285714279, 0.7321428571428568, 0.6952383809523806, 0.5357142857142856, 0.22500028571428565, 0.1678568571428567, 0.28095209523809483, 0.14285714285714235, 0.16666666666666607, 0.0952380952380949, 0.0654761904761898, 0.1833336190476187, 0.24047633333333263, 0.15357171428571448, 0.14285714285714235, 0.1809123307466507]\n",
      "prediction [[279.5983]]\n",
      "1/1 [==============================] - 0s 40ms/step\n",
      "[0.4761904761904754, 0.38571457142857124, 0.4761904761904754, 0.3880949523809516, 0.3511904761904754, 0.3190474761904758, 0.33095223809523766, 0.2821429999999996, 0.3023812380952382, 0.3476191904761903, 0.371428714285714, 0.38690476190476186, 0.45833333333333304, 0.5416666666666661, 0.4107142857142856, 0.13333347619047586, 0.12261890476190374, 0.0, 0.050000142857142826, 0.07142857142857117, 0.04523795238095207, 0.07261876190476091, 0.20476204761904704, 0.28809538095238096, 0.3690476190476186, 0.3023812380952382, 0.40238080952380884, 0.39999971428571346, 0.49523780952380836, 0.4726191904761903, 0.4642857142857135, 0.4999999999999991, 0.4535711428571423, 0.4476187619047609, 0.5714285714285712, 0.5773809523809517, 0.5952380952380949, 0.5952380952380949, 0.6523808095238088, 0.9999999999999991, 0.9047619047619042, 0.833333333333333, 0.6738092380952372, 0.8047616190476186, 0.9285714285714279, 0.7321428571428568, 0.6952383809523806, 0.5357142857142856, 0.22500028571428565, 0.1678568571428567, 0.28095209523809483, 0.14285714285714235, 0.16666666666666607, 0.0952380952380949, 0.0654761904761898, 0.1833336190476187, 0.24047633333333263, 0.15357171428571448, 0.14285714285714235, 0.1809123009443283]\n",
      "prediction [[279.5983]]\n",
      "1/1 [==============================] - 0s 42ms/step\n",
      "[0.4761904761904754, 0.38571457142857124, 0.4761904761904754, 0.3880949523809516, 0.3511904761904754, 0.3190474761904758, 0.33095223809523766, 0.2821429999999996, 0.3023812380952382, 0.3476191904761903, 0.371428714285714, 0.38690476190476186, 0.45833333333333304, 0.5416666666666661, 0.4107142857142856, 0.13333347619047586, 0.12261890476190374, 0.0, 0.050000142857142826, 0.07142857142857117, 0.04523795238095207, 0.07261876190476091, 0.20476204761904704, 0.28809538095238096, 0.3690476190476186, 0.3023812380952382, 0.40238080952380884, 0.39999971428571346, 0.49523780952380836, 0.4726191904761903, 0.4642857142857135, 0.4999999999999991, 0.4535711428571423, 0.4476187619047609, 0.5714285714285712, 0.5773809523809517, 0.5952380952380949, 0.5952380952380949, 0.6523808095238088, 0.9999999999999991, 0.9047619047619042, 0.833333333333333, 0.6738092380952372, 0.8047616190476186, 0.9285714285714279, 0.7321428571428568, 0.6952383809523806, 0.5357142857142856, 0.22500028571428565, 0.1678568571428567, 0.28095209523809483, 0.14285714285714235, 0.16666666666666607, 0.0952380952380949, 0.0654761904761898, 0.1833336190476187, 0.24047633333333263, 0.15357171428571448, 0.14285714285714235, 0.18091228604316711]\n",
      "prediction [[279.5983]]\n",
      "1/1 [==============================] - 0s 41ms/step\n",
      "[0.4761904761904754, 0.38571457142857124, 0.4761904761904754, 0.3880949523809516, 0.3511904761904754, 0.3190474761904758, 0.33095223809523766, 0.2821429999999996, 0.3023812380952382, 0.3476191904761903, 0.371428714285714, 0.38690476190476186, 0.45833333333333304, 0.5416666666666661, 0.4107142857142856, 0.13333347619047586, 0.12261890476190374, 0.0, 0.050000142857142826, 0.07142857142857117, 0.04523795238095207, 0.07261876190476091, 0.20476204761904704, 0.28809538095238096, 0.3690476190476186, 0.3023812380952382, 0.40238080952380884, 0.39999971428571346, 0.49523780952380836, 0.4726191904761903, 0.4642857142857135, 0.4999999999999991, 0.4535711428571423, 0.4476187619047609, 0.5714285714285712, 0.5773809523809517, 0.5952380952380949, 0.5952380952380949, 0.6523808095238088, 0.9999999999999991, 0.9047619047619042, 0.833333333333333, 0.6738092380952372, 0.8047616190476186, 0.9285714285714279, 0.7321428571428568, 0.6952383809523806, 0.5357142857142856, 0.22500028571428565, 0.1678568571428567, 0.28095209523809483, 0.14285714285714235, 0.16666666666666607, 0.0952380952380949, 0.0654761904761898, 0.1833336190476187, 0.24047633333333263, 0.15357171428571448, 0.14285714285714235, 0.18091228604316711]\n",
      "prediction [[279.5983]]\n",
      "1/1 [==============================] - 0s 40ms/step\n",
      "[0.4761904761904754, 0.38571457142857124, 0.4761904761904754, 0.3880949523809516, 0.3511904761904754, 0.3190474761904758, 0.33095223809523766, 0.2821429999999996, 0.3023812380952382, 0.3476191904761903, 0.371428714285714, 0.38690476190476186, 0.45833333333333304, 0.5416666666666661, 0.4107142857142856, 0.13333347619047586, 0.12261890476190374, 0.0, 0.050000142857142826, 0.07142857142857117, 0.04523795238095207, 0.07261876190476091, 0.20476204761904704, 0.28809538095238096, 0.3690476190476186, 0.3023812380952382, 0.40238080952380884, 0.39999971428571346, 0.49523780952380836, 0.4726191904761903, 0.4642857142857135, 0.4999999999999991, 0.4535711428571423, 0.4476187619047609, 0.5714285714285712, 0.5773809523809517, 0.5952380952380949, 0.5952380952380949, 0.6523808095238088, 0.9999999999999991, 0.9047619047619042, 0.833333333333333, 0.6738092380952372, 0.8047616190476186, 0.9285714285714279, 0.7321428571428568, 0.6952383809523806, 0.5357142857142856, 0.22500028571428565, 0.1678568571428567, 0.28095209523809483, 0.14285714285714235, 0.16666666666666607, 0.0952380952380949, 0.0654761904761898, 0.1833336190476187, 0.24047633333333263, 0.15357171428571448, 0.14285714285714235, 0.18091228604316711]\n",
      "prediction [[279.5983]]\n",
      "1/1 [==============================] - 0s 47ms/step\n",
      "[0.4761904761904754, 0.38571457142857124, 0.4761904761904754, 0.3880949523809516, 0.3511904761904754, 0.3190474761904758, 0.33095223809523766, 0.2821429999999996, 0.3023812380952382, 0.3476191904761903, 0.371428714285714, 0.38690476190476186, 0.45833333333333304, 0.5416666666666661, 0.4107142857142856, 0.13333347619047586, 0.12261890476190374, 0.0, 0.050000142857142826, 0.07142857142857117, 0.04523795238095207, 0.07261876190476091, 0.20476204761904704, 0.28809538095238096, 0.3690476190476186, 0.3023812380952382, 0.40238080952380884, 0.39999971428571346, 0.49523780952380836, 0.4726191904761903, 0.4642857142857135, 0.4999999999999991, 0.4535711428571423, 0.4476187619047609, 0.5714285714285712, 0.5773809523809517, 0.5952380952380949, 0.5952380952380949, 0.6523808095238088, 0.9999999999999991, 0.9047619047619042, 0.833333333333333, 0.6738092380952372, 0.8047616190476186, 0.9285714285714279, 0.7321428571428568, 0.6952383809523806, 0.5357142857142856, 0.22500028571428565, 0.1678568571428567, 0.28095209523809483, 0.14285714285714235, 0.16666666666666607, 0.0952380952380949, 0.0654761904761898, 0.1833336190476187, 0.24047633333333263, 0.15357171428571448, 0.14285714285714235, 0.18091228604316711]\n",
      "prediction [[279.5983]]\n",
      "1/1 [==============================] - 0s 48ms/step\n",
      "[0.4761904761904754, 0.38571457142857124, 0.4761904761904754, 0.3880949523809516, 0.3511904761904754, 0.3190474761904758, 0.33095223809523766, 0.2821429999999996, 0.3023812380952382, 0.3476191904761903, 0.371428714285714, 0.38690476190476186, 0.45833333333333304, 0.5416666666666661, 0.4107142857142856, 0.13333347619047586, 0.12261890476190374, 0.0, 0.050000142857142826, 0.07142857142857117, 0.04523795238095207, 0.07261876190476091, 0.20476204761904704, 0.28809538095238096, 0.3690476190476186, 0.3023812380952382, 0.40238080952380884, 0.39999971428571346, 0.49523780952380836, 0.4726191904761903, 0.4642857142857135, 0.4999999999999991, 0.4535711428571423, 0.4476187619047609, 0.5714285714285712, 0.5773809523809517, 0.5952380952380949, 0.5952380952380949, 0.6523808095238088, 0.9999999999999991, 0.9047619047619042, 0.833333333333333, 0.6738092380952372, 0.8047616190476186, 0.9285714285714279, 0.7321428571428568, 0.6952383809523806, 0.5357142857142856, 0.22500028571428565, 0.1678568571428567, 0.28095209523809483, 0.14285714285714235, 0.16666666666666607, 0.0952380952380949, 0.0654761904761898, 0.1833336190476187, 0.24047633333333263, 0.15357171428571448, 0.14285714285714235, 0.18091228604316711]\n",
      "prediction [[279.5983]]\n"
     ]
    },
    {
     "name": "stdout",
     "output_type": "stream",
     "text": [
      "1/1 [==============================] - 0s 40ms/step\n",
      "[0.4761904761904754, 0.38571457142857124, 0.4761904761904754, 0.3880949523809516, 0.3511904761904754, 0.3190474761904758, 0.33095223809523766, 0.2821429999999996, 0.3023812380952382, 0.3476191904761903, 0.371428714285714, 0.38690476190476186, 0.45833333333333304, 0.5416666666666661, 0.4107142857142856, 0.13333347619047586, 0.12261890476190374, 0.0, 0.050000142857142826, 0.07142857142857117, 0.04523795238095207, 0.07261876190476091, 0.20476204761904704, 0.28809538095238096, 0.3690476190476186, 0.3023812380952382, 0.40238080952380884, 0.39999971428571346, 0.49523780952380836, 0.4726191904761903, 0.4642857142857135, 0.4999999999999991, 0.4535711428571423, 0.4476187619047609, 0.5714285714285712, 0.5773809523809517, 0.5952380952380949, 0.5952380952380949, 0.6523808095238088, 0.9999999999999991, 0.9047619047619042, 0.833333333333333, 0.6738092380952372, 0.8047616190476186, 0.9285714285714279, 0.7321428571428568, 0.6952383809523806, 0.5357142857142856, 0.22500028571428565, 0.1678568571428567, 0.28095209523809483, 0.14285714285714235, 0.16666666666666607, 0.0952380952380949, 0.0654761904761898, 0.1833336190476187, 0.24047633333333263, 0.15357171428571448, 0.14285714285714235, 0.18091228604316711]\n",
      "prediction [[279.5983]]\n",
      "1/1 [==============================] - 0s 41ms/step\n",
      "[0.4761904761904754, 0.38571457142857124, 0.4761904761904754, 0.3880949523809516, 0.3511904761904754, 0.3190474761904758, 0.33095223809523766, 0.2821429999999996, 0.3023812380952382, 0.3476191904761903, 0.371428714285714, 0.38690476190476186, 0.45833333333333304, 0.5416666666666661, 0.4107142857142856, 0.13333347619047586, 0.12261890476190374, 0.0, 0.050000142857142826, 0.07142857142857117, 0.04523795238095207, 0.07261876190476091, 0.20476204761904704, 0.28809538095238096, 0.3690476190476186, 0.3023812380952382, 0.40238080952380884, 0.39999971428571346, 0.49523780952380836, 0.4726191904761903, 0.4642857142857135, 0.4999999999999991, 0.4535711428571423, 0.4476187619047609, 0.5714285714285712, 0.5773809523809517, 0.5952380952380949, 0.5952380952380949, 0.6523808095238088, 0.9999999999999991, 0.9047619047619042, 0.833333333333333, 0.6738092380952372, 0.8047616190476186, 0.9285714285714279, 0.7321428571428568, 0.6952383809523806, 0.5357142857142856, 0.22500028571428565, 0.1678568571428567, 0.28095209523809483, 0.14285714285714235, 0.16666666666666607, 0.0952380952380949, 0.0654761904761898, 0.1833336190476187, 0.24047633333333263, 0.15357171428571448, 0.14285714285714235, 0.18091228604316711]\n",
      "prediction [[279.5983]]\n",
      "1/1 [==============================] - 0s 40ms/step\n",
      "[0.4761904761904754, 0.38571457142857124, 0.4761904761904754, 0.3880949523809516, 0.3511904761904754, 0.3190474761904758, 0.33095223809523766, 0.2821429999999996, 0.3023812380952382, 0.3476191904761903, 0.371428714285714, 0.38690476190476186, 0.45833333333333304, 0.5416666666666661, 0.4107142857142856, 0.13333347619047586, 0.12261890476190374, 0.0, 0.050000142857142826, 0.07142857142857117, 0.04523795238095207, 0.07261876190476091, 0.20476204761904704, 0.28809538095238096, 0.3690476190476186, 0.3023812380952382, 0.40238080952380884, 0.39999971428571346, 0.49523780952380836, 0.4726191904761903, 0.4642857142857135, 0.4999999999999991, 0.4535711428571423, 0.4476187619047609, 0.5714285714285712, 0.5773809523809517, 0.5952380952380949, 0.5952380952380949, 0.6523808095238088, 0.9999999999999991, 0.9047619047619042, 0.833333333333333, 0.6738092380952372, 0.8047616190476186, 0.9285714285714279, 0.7321428571428568, 0.6952383809523806, 0.5357142857142856, 0.22500028571428565, 0.1678568571428567, 0.28095209523809483, 0.14285714285714235, 0.16666666666666607, 0.0952380952380949, 0.0654761904761898, 0.1833336190476187, 0.24047633333333263, 0.15357171428571448, 0.14285714285714235, 0.18091228604316711]\n",
      "prediction [[279.5983]]\n",
      "1/1 [==============================] - 0s 42ms/step\n",
      "[0.4761904761904754, 0.38571457142857124, 0.4761904761904754, 0.3880949523809516, 0.3511904761904754, 0.3190474761904758, 0.33095223809523766, 0.2821429999999996, 0.3023812380952382, 0.3476191904761903, 0.371428714285714, 0.38690476190476186, 0.45833333333333304, 0.5416666666666661, 0.4107142857142856, 0.13333347619047586, 0.12261890476190374, 0.0, 0.050000142857142826, 0.07142857142857117, 0.04523795238095207, 0.07261876190476091, 0.20476204761904704, 0.28809538095238096, 0.3690476190476186, 0.3023812380952382, 0.40238080952380884, 0.39999971428571346, 0.49523780952380836, 0.4726191904761903, 0.4642857142857135, 0.4999999999999991, 0.4535711428571423, 0.4476187619047609, 0.5714285714285712, 0.5773809523809517, 0.5952380952380949, 0.5952380952380949, 0.6523808095238088, 0.9999999999999991, 0.9047619047619042, 0.833333333333333, 0.6738092380952372, 0.8047616190476186, 0.9285714285714279, 0.7321428571428568, 0.6952383809523806, 0.5357142857142856, 0.22500028571428565, 0.1678568571428567, 0.28095209523809483, 0.14285714285714235, 0.16666666666666607, 0.0952380952380949, 0.0654761904761898, 0.1833336190476187, 0.24047633333333263, 0.15357171428571448, 0.14285714285714235, 0.18091228604316711]\n",
      "prediction [[279.5983]]\n",
      "1/1 [==============================] - 0s 42ms/step\n",
      "[0.4761904761904754, 0.38571457142857124, 0.4761904761904754, 0.3880949523809516, 0.3511904761904754, 0.3190474761904758, 0.33095223809523766, 0.2821429999999996, 0.3023812380952382, 0.3476191904761903, 0.371428714285714, 0.38690476190476186, 0.45833333333333304, 0.5416666666666661, 0.4107142857142856, 0.13333347619047586, 0.12261890476190374, 0.0, 0.050000142857142826, 0.07142857142857117, 0.04523795238095207, 0.07261876190476091, 0.20476204761904704, 0.28809538095238096, 0.3690476190476186, 0.3023812380952382, 0.40238080952380884, 0.39999971428571346, 0.49523780952380836, 0.4726191904761903, 0.4642857142857135, 0.4999999999999991, 0.4535711428571423, 0.4476187619047609, 0.5714285714285712, 0.5773809523809517, 0.5952380952380949, 0.5952380952380949, 0.6523808095238088, 0.9999999999999991, 0.9047619047619042, 0.833333333333333, 0.6738092380952372, 0.8047616190476186, 0.9285714285714279, 0.7321428571428568, 0.6952383809523806, 0.5357142857142856, 0.22500028571428565, 0.1678568571428567, 0.28095209523809483, 0.14285714285714235, 0.16666666666666607, 0.0952380952380949, 0.0654761904761898, 0.1833336190476187, 0.24047633333333263, 0.15357171428571448, 0.14285714285714235, 0.18091228604316711]\n",
      "prediction [[279.5983]]\n",
      "1/1 [==============================] - 0s 49ms/step\n",
      "[0.4761904761904754, 0.38571457142857124, 0.4761904761904754, 0.3880949523809516, 0.3511904761904754, 0.3190474761904758, 0.33095223809523766, 0.2821429999999996, 0.3023812380952382, 0.3476191904761903, 0.371428714285714, 0.38690476190476186, 0.45833333333333304, 0.5416666666666661, 0.4107142857142856, 0.13333347619047586, 0.12261890476190374, 0.0, 0.050000142857142826, 0.07142857142857117, 0.04523795238095207, 0.07261876190476091, 0.20476204761904704, 0.28809538095238096, 0.3690476190476186, 0.3023812380952382, 0.40238080952380884, 0.39999971428571346, 0.49523780952380836, 0.4726191904761903, 0.4642857142857135, 0.4999999999999991, 0.4535711428571423, 0.4476187619047609, 0.5714285714285712, 0.5773809523809517, 0.5952380952380949, 0.5952380952380949, 0.6523808095238088, 0.9999999999999991, 0.9047619047619042, 0.833333333333333, 0.6738092380952372, 0.8047616190476186, 0.9285714285714279, 0.7321428571428568, 0.6952383809523806, 0.5357142857142856, 0.22500028571428565, 0.1678568571428567, 0.28095209523809483, 0.14285714285714235, 0.16666666666666607, 0.0952380952380949, 0.0654761904761898, 0.1833336190476187, 0.24047633333333263, 0.15357171428571448, 0.14285714285714235, 0.18091228604316711]\n",
      "prediction [[279.5983]]\n",
      "1/1 [==============================] - 0s 66ms/step\n",
      "[0.4761904761904754, 0.38571457142857124, 0.4761904761904754, 0.3880949523809516, 0.3511904761904754, 0.3190474761904758, 0.33095223809523766, 0.2821429999999996, 0.3023812380952382, 0.3476191904761903, 0.371428714285714, 0.38690476190476186, 0.45833333333333304, 0.5416666666666661, 0.4107142857142856, 0.13333347619047586, 0.12261890476190374, 0.0, 0.050000142857142826, 0.07142857142857117, 0.04523795238095207, 0.07261876190476091, 0.20476204761904704, 0.28809538095238096, 0.3690476190476186, 0.3023812380952382, 0.40238080952380884, 0.39999971428571346, 0.49523780952380836, 0.4726191904761903, 0.4642857142857135, 0.4999999999999991, 0.4535711428571423, 0.4476187619047609, 0.5714285714285712, 0.5773809523809517, 0.5952380952380949, 0.5952380952380949, 0.6523808095238088, 0.9999999999999991, 0.9047619047619042, 0.833333333333333, 0.6738092380952372, 0.8047616190476186, 0.9285714285714279, 0.7321428571428568, 0.6952383809523806, 0.5357142857142856, 0.22500028571428565, 0.1678568571428567, 0.28095209523809483, 0.14285714285714235, 0.16666666666666607, 0.0952380952380949, 0.0654761904761898, 0.1833336190476187, 0.24047633333333263, 0.15357171428571448, 0.14285714285714235, 0.18091228604316711]\n",
      "prediction [[279.5983]]\n"
     ]
    },
    {
     "name": "stdout",
     "output_type": "stream",
     "text": [
      "1/1 [==============================] - 0s 69ms/step\n",
      "[0.4761904761904754, 0.38571457142857124, 0.4761904761904754, 0.3880949523809516, 0.3511904761904754, 0.3190474761904758, 0.33095223809523766, 0.2821429999999996, 0.3023812380952382, 0.3476191904761903, 0.371428714285714, 0.38690476190476186, 0.45833333333333304, 0.5416666666666661, 0.4107142857142856, 0.13333347619047586, 0.12261890476190374, 0.0, 0.050000142857142826, 0.07142857142857117, 0.04523795238095207, 0.07261876190476091, 0.20476204761904704, 0.28809538095238096, 0.3690476190476186, 0.3023812380952382, 0.40238080952380884, 0.39999971428571346, 0.49523780952380836, 0.4726191904761903, 0.4642857142857135, 0.4999999999999991, 0.4535711428571423, 0.4476187619047609, 0.5714285714285712, 0.5773809523809517, 0.5952380952380949, 0.5952380952380949, 0.6523808095238088, 0.9999999999999991, 0.9047619047619042, 0.833333333333333, 0.6738092380952372, 0.8047616190476186, 0.9285714285714279, 0.7321428571428568, 0.6952383809523806, 0.5357142857142856, 0.22500028571428565, 0.1678568571428567, 0.28095209523809483, 0.14285714285714235, 0.16666666666666607, 0.0952380952380949, 0.0654761904761898, 0.1833336190476187, 0.24047633333333263, 0.15357171428571448, 0.14285714285714235, 0.18091228604316711]\n",
      "prediction [[279.5983]]\n",
      "1/1 [==============================] - 0s 49ms/step\n",
      "[0.4761904761904754, 0.38571457142857124, 0.4761904761904754, 0.3880949523809516, 0.3511904761904754, 0.3190474761904758, 0.33095223809523766, 0.2821429999999996, 0.3023812380952382, 0.3476191904761903, 0.371428714285714, 0.38690476190476186, 0.45833333333333304, 0.5416666666666661, 0.4107142857142856, 0.13333347619047586, 0.12261890476190374, 0.0, 0.050000142857142826, 0.07142857142857117, 0.04523795238095207, 0.07261876190476091, 0.20476204761904704, 0.28809538095238096, 0.3690476190476186, 0.3023812380952382, 0.40238080952380884, 0.39999971428571346, 0.49523780952380836, 0.4726191904761903, 0.4642857142857135, 0.4999999999999991, 0.4535711428571423, 0.4476187619047609, 0.5714285714285712, 0.5773809523809517, 0.5952380952380949, 0.5952380952380949, 0.6523808095238088, 0.9999999999999991, 0.9047619047619042, 0.833333333333333, 0.6738092380952372, 0.8047616190476186, 0.9285714285714279, 0.7321428571428568, 0.6952383809523806, 0.5357142857142856, 0.22500028571428565, 0.1678568571428567, 0.28095209523809483, 0.14285714285714235, 0.16666666666666607, 0.0952380952380949, 0.0654761904761898, 0.1833336190476187, 0.24047633333333263, 0.15357171428571448, 0.14285714285714235, 0.18091228604316711]\n",
      "prediction [[279.5983]]\n",
      "1/1 [==============================] - 0s 72ms/step\n",
      "[0.4761904761904754, 0.38571457142857124, 0.4761904761904754, 0.3880949523809516, 0.3511904761904754, 0.3190474761904758, 0.33095223809523766, 0.2821429999999996, 0.3023812380952382, 0.3476191904761903, 0.371428714285714, 0.38690476190476186, 0.45833333333333304, 0.5416666666666661, 0.4107142857142856, 0.13333347619047586, 0.12261890476190374, 0.0, 0.050000142857142826, 0.07142857142857117, 0.04523795238095207, 0.07261876190476091, 0.20476204761904704, 0.28809538095238096, 0.3690476190476186, 0.3023812380952382, 0.40238080952380884, 0.39999971428571346, 0.49523780952380836, 0.4726191904761903, 0.4642857142857135, 0.4999999999999991, 0.4535711428571423, 0.4476187619047609, 0.5714285714285712, 0.5773809523809517, 0.5952380952380949, 0.5952380952380949, 0.6523808095238088, 0.9999999999999991, 0.9047619047619042, 0.833333333333333, 0.6738092380952372, 0.8047616190476186, 0.9285714285714279, 0.7321428571428568, 0.6952383809523806, 0.5357142857142856, 0.22500028571428565, 0.1678568571428567, 0.28095209523809483, 0.14285714285714235, 0.16666666666666607, 0.0952380952380949, 0.0654761904761898, 0.1833336190476187, 0.24047633333333263, 0.15357171428571448, 0.14285714285714235, 0.18091228604316711]\n",
      "prediction [[279.5983]]\n",
      "1/1 [==============================] - 0s 64ms/step\n",
      "[0.4761904761904754, 0.38571457142857124, 0.4761904761904754, 0.3880949523809516, 0.3511904761904754, 0.3190474761904758, 0.33095223809523766, 0.2821429999999996, 0.3023812380952382, 0.3476191904761903, 0.371428714285714, 0.38690476190476186, 0.45833333333333304, 0.5416666666666661, 0.4107142857142856, 0.13333347619047586, 0.12261890476190374, 0.0, 0.050000142857142826, 0.07142857142857117, 0.04523795238095207, 0.07261876190476091, 0.20476204761904704, 0.28809538095238096, 0.3690476190476186, 0.3023812380952382, 0.40238080952380884, 0.39999971428571346, 0.49523780952380836, 0.4726191904761903, 0.4642857142857135, 0.4999999999999991, 0.4535711428571423, 0.4476187619047609, 0.5714285714285712, 0.5773809523809517, 0.5952380952380949, 0.5952380952380949, 0.6523808095238088, 0.9999999999999991, 0.9047619047619042, 0.833333333333333, 0.6738092380952372, 0.8047616190476186, 0.9285714285714279, 0.7321428571428568, 0.6952383809523806, 0.5357142857142856, 0.22500028571428565, 0.1678568571428567, 0.28095209523809483, 0.14285714285714235, 0.16666666666666607, 0.0952380952380949, 0.0654761904761898, 0.1833336190476187, 0.24047633333333263, 0.15357171428571448, 0.14285714285714235, 0.18091228604316711]\n",
      "prediction [[279.5983]]\n",
      "1/1 [==============================] - 0s 53ms/step\n",
      "[0.4761904761904754, 0.38571457142857124, 0.4761904761904754, 0.3880949523809516, 0.3511904761904754, 0.3190474761904758, 0.33095223809523766, 0.2821429999999996, 0.3023812380952382, 0.3476191904761903, 0.371428714285714, 0.38690476190476186, 0.45833333333333304, 0.5416666666666661, 0.4107142857142856, 0.13333347619047586, 0.12261890476190374, 0.0, 0.050000142857142826, 0.07142857142857117, 0.04523795238095207, 0.07261876190476091, 0.20476204761904704, 0.28809538095238096, 0.3690476190476186, 0.3023812380952382, 0.40238080952380884, 0.39999971428571346, 0.49523780952380836, 0.4726191904761903, 0.4642857142857135, 0.4999999999999991, 0.4535711428571423, 0.4476187619047609, 0.5714285714285712, 0.5773809523809517, 0.5952380952380949, 0.5952380952380949, 0.6523808095238088, 0.9999999999999991, 0.9047619047619042, 0.833333333333333, 0.6738092380952372, 0.8047616190476186, 0.9285714285714279, 0.7321428571428568, 0.6952383809523806, 0.5357142857142856, 0.22500028571428565, 0.1678568571428567, 0.28095209523809483, 0.14285714285714235, 0.16666666666666607, 0.0952380952380949, 0.0654761904761898, 0.1833336190476187, 0.24047633333333263, 0.15357171428571448, 0.14285714285714235, 0.18091228604316711]\n",
      "prediction [[279.5983]]\n",
      "1/1 [==============================] - 0s 41ms/step\n",
      "[0.4761904761904754, 0.38571457142857124, 0.4761904761904754, 0.3880949523809516, 0.3511904761904754, 0.3190474761904758, 0.33095223809523766, 0.2821429999999996, 0.3023812380952382, 0.3476191904761903, 0.371428714285714, 0.38690476190476186, 0.45833333333333304, 0.5416666666666661, 0.4107142857142856, 0.13333347619047586, 0.12261890476190374, 0.0, 0.050000142857142826, 0.07142857142857117, 0.04523795238095207, 0.07261876190476091, 0.20476204761904704, 0.28809538095238096, 0.3690476190476186, 0.3023812380952382, 0.40238080952380884, 0.39999971428571346, 0.49523780952380836, 0.4726191904761903, 0.4642857142857135, 0.4999999999999991, 0.4535711428571423, 0.4476187619047609, 0.5714285714285712, 0.5773809523809517, 0.5952380952380949, 0.5952380952380949, 0.6523808095238088, 0.9999999999999991, 0.9047619047619042, 0.833333333333333, 0.6738092380952372, 0.8047616190476186, 0.9285714285714279, 0.7321428571428568, 0.6952383809523806, 0.5357142857142856, 0.22500028571428565, 0.1678568571428567, 0.28095209523809483, 0.14285714285714235, 0.16666666666666607, 0.0952380952380949, 0.0654761904761898, 0.1833336190476187, 0.24047633333333263, 0.15357171428571448, 0.14285714285714235, 0.18091228604316711]\n",
      "prediction [[279.5983]]\n",
      "1/1 [==============================] - 0s 41ms/step\n",
      "[0.4761904761904754, 0.38571457142857124, 0.4761904761904754, 0.3880949523809516, 0.3511904761904754, 0.3190474761904758, 0.33095223809523766, 0.2821429999999996, 0.3023812380952382, 0.3476191904761903, 0.371428714285714, 0.38690476190476186, 0.45833333333333304, 0.5416666666666661, 0.4107142857142856, 0.13333347619047586, 0.12261890476190374, 0.0, 0.050000142857142826, 0.07142857142857117, 0.04523795238095207, 0.07261876190476091, 0.20476204761904704, 0.28809538095238096, 0.3690476190476186, 0.3023812380952382, 0.40238080952380884, 0.39999971428571346, 0.49523780952380836, 0.4726191904761903, 0.4642857142857135, 0.4999999999999991, 0.4535711428571423, 0.4476187619047609, 0.5714285714285712, 0.5773809523809517, 0.5952380952380949, 0.5952380952380949, 0.6523808095238088, 0.9999999999999991, 0.9047619047619042, 0.833333333333333, 0.6738092380952372, 0.8047616190476186, 0.9285714285714279, 0.7321428571428568, 0.6952383809523806, 0.5357142857142856, 0.22500028571428565, 0.1678568571428567, 0.28095209523809483, 0.14285714285714235, 0.16666666666666607, 0.0952380952380949, 0.0654761904761898, 0.1833336190476187, 0.24047633333333263, 0.15357171428571448, 0.14285714285714235, 0.18091228604316711]\n",
      "prediction [[279.5983]]\n"
     ]
    },
    {
     "name": "stdout",
     "output_type": "stream",
     "text": [
      "1/1 [==============================] - 0s 56ms/step\n",
      "[0.4761904761904754, 0.38571457142857124, 0.4761904761904754, 0.3880949523809516, 0.3511904761904754, 0.3190474761904758, 0.33095223809523766, 0.2821429999999996, 0.3023812380952382, 0.3476191904761903, 0.371428714285714, 0.38690476190476186, 0.45833333333333304, 0.5416666666666661, 0.4107142857142856, 0.13333347619047586, 0.12261890476190374, 0.0, 0.050000142857142826, 0.07142857142857117, 0.04523795238095207, 0.07261876190476091, 0.20476204761904704, 0.28809538095238096, 0.3690476190476186, 0.3023812380952382, 0.40238080952380884, 0.39999971428571346, 0.49523780952380836, 0.4726191904761903, 0.4642857142857135, 0.4999999999999991, 0.4535711428571423, 0.4476187619047609, 0.5714285714285712, 0.5773809523809517, 0.5952380952380949, 0.5952380952380949, 0.6523808095238088, 0.9999999999999991, 0.9047619047619042, 0.833333333333333, 0.6738092380952372, 0.8047616190476186, 0.9285714285714279, 0.7321428571428568, 0.6952383809523806, 0.5357142857142856, 0.22500028571428565, 0.1678568571428567, 0.28095209523809483, 0.14285714285714235, 0.16666666666666607, 0.0952380952380949, 0.0654761904761898, 0.1833336190476187, 0.24047633333333263, 0.15357171428571448, 0.14285714285714235, 0.18091228604316711]\n",
      "prediction [[279.5983]]\n",
      "1/1 [==============================] - 0s 42ms/step\n",
      "[0.4761904761904754, 0.38571457142857124, 0.4761904761904754, 0.3880949523809516, 0.3511904761904754, 0.3190474761904758, 0.33095223809523766, 0.2821429999999996, 0.3023812380952382, 0.3476191904761903, 0.371428714285714, 0.38690476190476186, 0.45833333333333304, 0.5416666666666661, 0.4107142857142856, 0.13333347619047586, 0.12261890476190374, 0.0, 0.050000142857142826, 0.07142857142857117, 0.04523795238095207, 0.07261876190476091, 0.20476204761904704, 0.28809538095238096, 0.3690476190476186, 0.3023812380952382, 0.40238080952380884, 0.39999971428571346, 0.49523780952380836, 0.4726191904761903, 0.4642857142857135, 0.4999999999999991, 0.4535711428571423, 0.4476187619047609, 0.5714285714285712, 0.5773809523809517, 0.5952380952380949, 0.5952380952380949, 0.6523808095238088, 0.9999999999999991, 0.9047619047619042, 0.833333333333333, 0.6738092380952372, 0.8047616190476186, 0.9285714285714279, 0.7321428571428568, 0.6952383809523806, 0.5357142857142856, 0.22500028571428565, 0.1678568571428567, 0.28095209523809483, 0.14285714285714235, 0.16666666666666607, 0.0952380952380949, 0.0654761904761898, 0.1833336190476187, 0.24047633333333263, 0.15357171428571448, 0.14285714285714235, 0.18091228604316711]\n",
      "prediction [[279.5983]]\n"
     ]
    }
   ],
   "source": [
    "res = weekly_prediction(model, r_data, scaler)"
   ]
  },
  {
   "cell_type": "code",
   "execution_count": 188,
   "id": "57e793d0",
   "metadata": {},
   "outputs": [],
   "source": [
    "res_d = pd.DataFrame(res)"
   ]
  },
  {
   "cell_type": "code",
   "execution_count": 189,
   "id": "b0bedfff",
   "metadata": {},
   "outputs": [
    {
     "data": {
      "text/plain": [
       "<AxesSubplot:>"
      ]
     },
     "execution_count": 189,
     "metadata": {},
     "output_type": "execute_result"
    },
    {
     "data": {
      "image/png": "[encoded data removed]",
      "text/plain": [
       "<Figure size 640x480 with 1 Axes>"
      ]
     },
     "metadata": {},
     "output_type": "display_data"
    }
   ],
   "source": [
    "res_d.plot()"
   ]
  },
  {
   "cell_type": "code",
   "execution_count": 185,
   "id": "f8cc981a",
   "metadata": {},
   "outputs": [
    {
     "data": {
      "text/html": [
       "<div>\n",
       "<style scoped>\n",
       "    .dataframe tbody tr th:only-of-type {\n",
       "        vertical-align: middle;\n",
       "    }\n",
       "\n",
       "    .dataframe tbody tr th {\n",
       "        vertical-align: top;\n",
       "    }\n",
       "\n",
       "    .dataframe thead th {\n",
       "        text-align: right;\n",
       "    }\n",
       "</style>\n",
       "<table border=\"1\" class=\"dataframe\">\n",
       "  <thead>\n",
       "    <tr style=\"text-align: right;\">\n",
       "      <th></th>\n",
       "      <th>0</th>\n",
       "    </tr>\n",
       "  </thead>\n",
       "  <tbody>\n",
       "    <tr>\n",
       "      <th>0</th>\n",
       "      <td>0.188796</td>\n",
       "    </tr>\n",
       "    <tr>\n",
       "      <th>1</th>\n",
       "      <td>0.182248</td>\n",
       "    </tr>\n",
       "    <tr>\n",
       "      <th>2</th>\n",
       "      <td>0.181137</td>\n",
       "    </tr>\n",
       "    <tr>\n",
       "      <th>3</th>\n",
       "      <td>0.180950</td>\n",
       "    </tr>\n",
       "    <tr>\n",
       "      <th>4</th>\n",
       "      <td>0.180919</td>\n",
       "    </tr>\n",
       "  </tbody>\n",
       "</table>\n",
       "</div>"
      ],
      "text/plain": [
       "          0\n",
       "0  0.188796\n",
       "1  0.182248\n",
       "2  0.181137\n",
       "3  0.180950\n",
       "4  0.180919"
      ]
     },
     "execution_count": 185,
     "metadata": {},
     "output_type": "execute_result"
    }
   ],
   "source": [
    "res_d"
   ]
  },
  {
   "cell_type": "code",
   "execution_count": null,
   "id": "d33bd5f5",
   "metadata": {},
   "outputs": [],
   "source": []
  }
 ],
 "metadata": {
  "kernelspec": {
   "display_name": "Python 3 (ipykernel)",
   "language": "python",
   "name": "python3"
  },
  "language_info": {
   "codemirror_mode": {
    "name": "ipython",
    "version": 3
   },
   "file_extension": ".py",
   "mimetype": "text/x-python",
   "name": "python",
   "nbconvert_exporter": "python",
   "pygments_lexer": "ipython3",
   "version": "3.9.13"
  }
 },
 "nbformat": 4,
 "nbformat_minor": 5
}
