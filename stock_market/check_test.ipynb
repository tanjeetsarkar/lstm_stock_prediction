{
 "cells": [
  {
   "cell_type": "code",
   "execution_count": 1,
   "id": "d834ec73",
   "metadata": {},
   "outputs": [],
   "source": [
    "import pandas as pd"
   ]
  },
  {
   "cell_type": "code",
   "execution_count": 2,
   "id": "796b822f",
   "metadata": {},
   "outputs": [],
   "source": [
    "df = pd.read_csv('SBIN.NS.csv')"
   ]
  },
  {
   "cell_type": "code",
   "execution_count": 3,
   "id": "c0c8a6e2",
   "metadata": {},
   "outputs": [
    {
     "data": {
      "text/html": [
       "<div>\n",
       "<style scoped>\n",
       "    .dataframe tbody tr th:only-of-type {\n",
       "        vertical-align: middle;\n",
       "    }\n",
       "\n",
       "    .dataframe tbody tr th {\n",
       "        vertical-align: top;\n",
       "    }\n",
       "\n",
       "    .dataframe thead th {\n",
       "        text-align: right;\n",
       "    }\n",
       "</style>\n",
       "<table border=\"1\" class=\"dataframe\">\n",
       "  <thead>\n",
       "    <tr style=\"text-align: right;\">\n",
       "      <th></th>\n",
       "      <th>Date</th>\n",
       "      <th>Open</th>\n",
       "      <th>High</th>\n",
       "      <th>Low</th>\n",
       "      <th>Close</th>\n",
       "      <th>Adj Close</th>\n",
       "      <th>Volume</th>\n",
       "    </tr>\n",
       "  </thead>\n",
       "  <tbody>\n",
       "    <tr>\n",
       "      <th>0</th>\n",
       "      <td>1996-01-01</td>\n",
       "      <td>18.691147</td>\n",
       "      <td>18.978922</td>\n",
       "      <td>18.540184</td>\n",
       "      <td>18.823240</td>\n",
       "      <td>12.651093</td>\n",
       "      <td>43733533.0</td>\n",
       "    </tr>\n",
       "    <tr>\n",
       "      <th>1</th>\n",
       "      <td>1996-01-02</td>\n",
       "      <td>18.894005</td>\n",
       "      <td>18.964767</td>\n",
       "      <td>17.738192</td>\n",
       "      <td>18.224106</td>\n",
       "      <td>12.248409</td>\n",
       "      <td>56167280.0</td>\n",
       "    </tr>\n",
       "    <tr>\n",
       "      <th>2</th>\n",
       "      <td>1996-01-03</td>\n",
       "      <td>18.327892</td>\n",
       "      <td>18.568489</td>\n",
       "      <td>17.643839</td>\n",
       "      <td>17.738192</td>\n",
       "      <td>11.921828</td>\n",
       "      <td>68296318.0</td>\n",
       "    </tr>\n",
       "    <tr>\n",
       "      <th>3</th>\n",
       "      <td>1996-01-04</td>\n",
       "      <td>17.502312</td>\n",
       "      <td>17.832542</td>\n",
       "      <td>17.223972</td>\n",
       "      <td>17.676863</td>\n",
       "      <td>11.880607</td>\n",
       "      <td>86073880.0</td>\n",
       "    </tr>\n",
       "    <tr>\n",
       "      <th>4</th>\n",
       "      <td>1996-01-05</td>\n",
       "      <td>17.738192</td>\n",
       "      <td>17.785366</td>\n",
       "      <td>17.459852</td>\n",
       "      <td>17.577793</td>\n",
       "      <td>11.814024</td>\n",
       "      <td>76613039.0</td>\n",
       "    </tr>\n",
       "  </tbody>\n",
       "</table>\n",
       "</div>"
      ],
      "text/plain": [
       "         Date       Open       High        Low      Close  Adj Close  \\\n",
       "0  1996-01-01  18.691147  18.978922  18.540184  18.823240  12.651093   \n",
       "1  1996-01-02  18.894005  18.964767  17.738192  18.224106  12.248409   \n",
       "2  1996-01-03  18.327892  18.568489  17.643839  17.738192  11.921828   \n",
       "3  1996-01-04  17.502312  17.832542  17.223972  17.676863  11.880607   \n",
       "4  1996-01-05  17.738192  17.785366  17.459852  17.577793  11.814024   \n",
       "\n",
       "       Volume  \n",
       "0  43733533.0  \n",
       "1  56167280.0  \n",
       "2  68296318.0  \n",
       "3  86073880.0  \n",
       "4  76613039.0  "
      ]
     },
     "execution_count": 3,
     "metadata": {},
     "output_type": "execute_result"
    }
   ],
   "source": [
    "df.head()"
   ]
  },
  {
   "cell_type": "code",
   "execution_count": 4,
   "id": "5166faa2",
   "metadata": {},
   "outputs": [
    {
     "data": {
      "text/html": [
       "<div>\n",
       "<style scoped>\n",
       "    .dataframe tbody tr th:only-of-type {\n",
       "        vertical-align: middle;\n",
       "    }\n",
       "\n",
       "    .dataframe tbody tr th {\n",
       "        vertical-align: top;\n",
       "    }\n",
       "\n",
       "    .dataframe thead th {\n",
       "        text-align: right;\n",
       "    }\n",
       "</style>\n",
       "<table border=\"1\" class=\"dataframe\">\n",
       "  <thead>\n",
       "    <tr style=\"text-align: right;\">\n",
       "      <th></th>\n",
       "      <th>Close</th>\n",
       "    </tr>\n",
       "  </thead>\n",
       "  <tbody>\n",
       "    <tr>\n",
       "      <th>0</th>\n",
       "      <td>18.823240</td>\n",
       "    </tr>\n",
       "    <tr>\n",
       "      <th>1</th>\n",
       "      <td>18.224106</td>\n",
       "    </tr>\n",
       "    <tr>\n",
       "      <th>2</th>\n",
       "      <td>17.738192</td>\n",
       "    </tr>\n",
       "    <tr>\n",
       "      <th>3</th>\n",
       "      <td>17.676863</td>\n",
       "    </tr>\n",
       "    <tr>\n",
       "      <th>4</th>\n",
       "      <td>17.577793</td>\n",
       "    </tr>\n",
       "    <tr>\n",
       "      <th>...</th>\n",
       "      <td>...</td>\n",
       "    </tr>\n",
       "    <tr>\n",
       "      <th>6768</th>\n",
       "      <td>599.049988</td>\n",
       "    </tr>\n",
       "    <tr>\n",
       "      <th>6769</th>\n",
       "      <td>602.700012</td>\n",
       "    </tr>\n",
       "    <tr>\n",
       "      <th>6770</th>\n",
       "      <td>598.099976</td>\n",
       "    </tr>\n",
       "    <tr>\n",
       "      <th>6771</th>\n",
       "      <td>599.099976</td>\n",
       "    </tr>\n",
       "    <tr>\n",
       "      <th>6772</th>\n",
       "      <td>607.650024</td>\n",
       "    </tr>\n",
       "  </tbody>\n",
       "</table>\n",
       "<p>6773 rows × 1 columns</p>\n",
       "</div>"
      ],
      "text/plain": [
       "           Close\n",
       "0      18.823240\n",
       "1      18.224106\n",
       "2      17.738192\n",
       "3      17.676863\n",
       "4      17.577793\n",
       "...          ...\n",
       "6768  599.049988\n",
       "6769  602.700012\n",
       "6770  598.099976\n",
       "6771  599.099976\n",
       "6772  607.650024\n",
       "\n",
       "[6773 rows x 1 columns]"
      ]
     },
     "execution_count": 4,
     "metadata": {},
     "output_type": "execute_result"
    }
   ],
   "source": [
    "df.iloc[:, 4:5]"
   ]
  },
  {
   "cell_type": "code",
   "execution_count": 5,
   "id": "ebfd54ec",
   "metadata": {},
   "outputs": [],
   "source": [
    "import datetime"
   ]
  },
  {
   "cell_type": "code",
   "execution_count": 6,
   "id": "c4391ba6",
   "metadata": {},
   "outputs": [
    {
     "name": "stdout",
     "output_type": "stream",
     "text": [
      "2022-12-11\n"
     ]
    }
   ],
   "source": [
    "print(datetime.datetime.now().date())"
   ]
  },
  {
   "cell_type": "code",
   "execution_count": 7,
   "id": "4ba144e4",
   "metadata": {},
   "outputs": [
    {
     "data": {
      "text/html": [
       "<div>\n",
       "<style scoped>\n",
       "    .dataframe tbody tr th:only-of-type {\n",
       "        vertical-align: middle;\n",
       "    }\n",
       "\n",
       "    .dataframe tbody tr th {\n",
       "        vertical-align: top;\n",
       "    }\n",
       "\n",
       "    .dataframe thead th {\n",
       "        text-align: right;\n",
       "    }\n",
       "</style>\n",
       "<table border=\"1\" class=\"dataframe\">\n",
       "  <thead>\n",
       "    <tr style=\"text-align: right;\">\n",
       "      <th></th>\n",
       "      <th>Date</th>\n",
       "      <th>Open</th>\n",
       "      <th>High</th>\n",
       "      <th>Low</th>\n",
       "      <th>Close</th>\n",
       "      <th>Adj Close</th>\n",
       "      <th>Volume</th>\n",
       "    </tr>\n",
       "  </thead>\n",
       "  <tbody>\n",
       "    <tr>\n",
       "      <th>6712</th>\n",
       "      <td>2022-08-25</td>\n",
       "      <td>521.950012</td>\n",
       "      <td>528.299988</td>\n",
       "      <td>518.500000</td>\n",
       "      <td>520.400024</td>\n",
       "      <td>520.400024</td>\n",
       "      <td>15473450.0</td>\n",
       "    </tr>\n",
       "    <tr>\n",
       "      <th>6713</th>\n",
       "      <td>2022-08-26</td>\n",
       "      <td>523.799988</td>\n",
       "      <td>529.500000</td>\n",
       "      <td>522.200012</td>\n",
       "      <td>523.799988</td>\n",
       "      <td>523.799988</td>\n",
       "      <td>12855886.0</td>\n",
       "    </tr>\n",
       "    <tr>\n",
       "      <th>6714</th>\n",
       "      <td>2022-08-29</td>\n",
       "      <td>511.299988</td>\n",
       "      <td>517.000000</td>\n",
       "      <td>508.750000</td>\n",
       "      <td>514.849976</td>\n",
       "      <td>514.849976</td>\n",
       "      <td>9421339.0</td>\n",
       "    </tr>\n",
       "    <tr>\n",
       "      <th>6715</th>\n",
       "      <td>2022-08-30</td>\n",
       "      <td>518.200012</td>\n",
       "      <td>532.500000</td>\n",
       "      <td>517.950012</td>\n",
       "      <td>531.250000</td>\n",
       "      <td>531.250000</td>\n",
       "      <td>14835308.0</td>\n",
       "    </tr>\n",
       "    <tr>\n",
       "      <th>6716</th>\n",
       "      <td>2022-09-01</td>\n",
       "      <td>522.250000</td>\n",
       "      <td>540.900024</td>\n",
       "      <td>522.250000</td>\n",
       "      <td>533.299988</td>\n",
       "      <td>533.299988</td>\n",
       "      <td>16670228.0</td>\n",
       "    </tr>\n",
       "    <tr>\n",
       "      <th>...</th>\n",
       "      <td>...</td>\n",
       "      <td>...</td>\n",
       "      <td>...</td>\n",
       "      <td>...</td>\n",
       "      <td>...</td>\n",
       "      <td>...</td>\n",
       "      <td>...</td>\n",
       "    </tr>\n",
       "    <tr>\n",
       "      <th>6768</th>\n",
       "      <td>2022-11-17</td>\n",
       "      <td>599.099976</td>\n",
       "      <td>602.750000</td>\n",
       "      <td>596.150024</td>\n",
       "      <td>599.049988</td>\n",
       "      <td>599.049988</td>\n",
       "      <td>8167131.0</td>\n",
       "    </tr>\n",
       "    <tr>\n",
       "      <th>6769</th>\n",
       "      <td>2022-11-18</td>\n",
       "      <td>601.000000</td>\n",
       "      <td>605.750000</td>\n",
       "      <td>597.150024</td>\n",
       "      <td>602.700012</td>\n",
       "      <td>602.700012</td>\n",
       "      <td>12933675.0</td>\n",
       "    </tr>\n",
       "    <tr>\n",
       "      <th>6770</th>\n",
       "      <td>2022-11-21</td>\n",
       "      <td>602.099976</td>\n",
       "      <td>602.099976</td>\n",
       "      <td>595.349976</td>\n",
       "      <td>598.099976</td>\n",
       "      <td>598.099976</td>\n",
       "      <td>7412419.0</td>\n",
       "    </tr>\n",
       "    <tr>\n",
       "      <th>6771</th>\n",
       "      <td>2022-11-22</td>\n",
       "      <td>598.150024</td>\n",
       "      <td>600.700012</td>\n",
       "      <td>596.150024</td>\n",
       "      <td>599.099976</td>\n",
       "      <td>599.099976</td>\n",
       "      <td>8048595.0</td>\n",
       "    </tr>\n",
       "    <tr>\n",
       "      <th>6772</th>\n",
       "      <td>2022-11-23</td>\n",
       "      <td>601.549988</td>\n",
       "      <td>609.599976</td>\n",
       "      <td>601.000000</td>\n",
       "      <td>607.650024</td>\n",
       "      <td>607.650024</td>\n",
       "      <td>12435924.0</td>\n",
       "    </tr>\n",
       "  </tbody>\n",
       "</table>\n",
       "<p>61 rows × 7 columns</p>\n",
       "</div>"
      ],
      "text/plain": [
       "            Date        Open        High         Low       Close   Adj Close  \\\n",
       "6712  2022-08-25  521.950012  528.299988  518.500000  520.400024  520.400024   \n",
       "6713  2022-08-26  523.799988  529.500000  522.200012  523.799988  523.799988   \n",
       "6714  2022-08-29  511.299988  517.000000  508.750000  514.849976  514.849976   \n",
       "6715  2022-08-30  518.200012  532.500000  517.950012  531.250000  531.250000   \n",
       "6716  2022-09-01  522.250000  540.900024  522.250000  533.299988  533.299988   \n",
       "...          ...         ...         ...         ...         ...         ...   \n",
       "6768  2022-11-17  599.099976  602.750000  596.150024  599.049988  599.049988   \n",
       "6769  2022-11-18  601.000000  605.750000  597.150024  602.700012  602.700012   \n",
       "6770  2022-11-21  602.099976  602.099976  595.349976  598.099976  598.099976   \n",
       "6771  2022-11-22  598.150024  600.700012  596.150024  599.099976  599.099976   \n",
       "6772  2022-11-23  601.549988  609.599976  601.000000  607.650024  607.650024   \n",
       "\n",
       "          Volume  \n",
       "6712  15473450.0  \n",
       "6713  12855886.0  \n",
       "6714   9421339.0  \n",
       "6715  14835308.0  \n",
       "6716  16670228.0  \n",
       "...          ...  \n",
       "6768   8167131.0  \n",
       "6769  12933675.0  \n",
       "6770   7412419.0  \n",
       "6771   8048595.0  \n",
       "6772  12435924.0  \n",
       "\n",
       "[61 rows x 7 columns]"
      ]
     },
     "execution_count": 7,
     "metadata": {},
     "output_type": "execute_result"
    }
   ],
   "source": [
    "df.iloc[-61:]"
   ]
  },
  {
   "cell_type": "code",
   "execution_count": 8,
   "id": "b06169bb",
   "metadata": {},
   "outputs": [],
   "source": [
    "from stock_prediction import StockPrediction"
   ]
  },
  {
   "cell_type": "code",
   "execution_count": 9,
   "id": "b897e4cd",
   "metadata": {},
   "outputs": [],
   "source": [
    "df = df.dropna()"
   ]
  },
  {
   "cell_type": "code",
   "execution_count": 51,
   "id": "f09b2c5a",
   "metadata": {},
   "outputs": [],
   "source": [
    "df_test = df.iloc[:-20]"
   ]
  },
  {
   "cell_type": "code",
   "execution_count": 52,
   "id": "c28719fa",
   "metadata": {},
   "outputs": [],
   "source": [
    "from tensorflow.keras.models import load_model\n",
    "model = load_model('test_model.h5')"
   ]
  },
  {
   "cell_type": "code",
   "execution_count": 53,
   "id": "d63ffe43",
   "metadata": {},
   "outputs": [],
   "source": [
    "sp = StockPrediction(model, df_test)"
   ]
  },
  {
   "cell_type": "code",
   "execution_count": 54,
   "id": "3dcb4659",
   "metadata": {},
   "outputs": [
    {
     "name": "stdout",
     "output_type": "stream",
     "text": [
      "1/1 [==============================] - 1s 799ms/step\n",
      "1/1 [==============================] - 0s 30ms/step\n",
      "1/1 [==============================] - 0s 24ms/step\n",
      "1/1 [==============================] - 0s 24ms/step\n",
      "1/1 [==============================] - 0s 24ms/step\n"
     ]
    }
   ],
   "source": [
    "weekly_result = sp.continuous_weekly_prediction()"
   ]
  },
  {
   "cell_type": "code",
   "execution_count": 55,
   "id": "13f54e8c",
   "metadata": {},
   "outputs": [],
   "source": [
    "import numpy as np"
   ]
  },
  {
   "cell_type": "code",
   "execution_count": 56,
   "id": "abdce256",
   "metadata": {},
   "outputs": [],
   "source": [
    "weekly_result = np.array(weekly_result).flatten().reshape(5,1)"
   ]
  },
  {
   "cell_type": "code",
   "execution_count": 57,
   "id": "871d1993",
   "metadata": {},
   "outputs": [
    {
     "data": {
      "text/plain": [
       "array([[568.25073],\n",
       "       [568.9555 ],\n",
       "       [570.02594],\n",
       "       [570.57214],\n",
       "       [571.2189 ]], dtype=float32)"
      ]
     },
     "execution_count": 57,
     "metadata": {},
     "output_type": "execute_result"
    }
   ],
   "source": [
    "weekly_result"
   ]
  },
  {
   "cell_type": "code",
   "execution_count": 58,
   "id": "630b890f",
   "metadata": {},
   "outputs": [
    {
     "data": {
      "image/png": "[encoded data removed]",
      "text/plain": [
       "<Figure size 640x480 with 1 Axes>"
      ]
     },
     "metadata": {},
     "output_type": "display_data"
    }
   ],
   "source": [
    "sp.weekly_prediction_graph(weekly_result)"
   ]
  },
  {
   "cell_type": "code",
   "execution_count": 60,
   "id": "90e08a69",
   "metadata": {},
   "outputs": [
    {
     "data": {
      "text/plain": [
       "<AxesSubplot:>"
      ]
     },
     "execution_count": 60,
     "metadata": {},
     "output_type": "execute_result"
    },
    {
     "data": {
      "image/png": "[encoded data removed]",
      "text/plain": [
       "<Figure size 640x480 with 1 Axes>"
      ]
     },
     "metadata": {},
     "output_type": "display_data"
    }
   ],
   "source": [
    "df.iloc[-21:-14, 4:5]['Close'].plot()\n",
    "# sp.real_data_graph(df.iloc[-101:-96, 4:5].values)"
   ]
  },
  {
   "cell_type": "code",
   "execution_count": 19,
   "id": "bd3e961e",
   "metadata": {},
   "outputs": [
    {
     "name": "stdout",
     "output_type": "stream",
     "text": [
      "1/1 [==============================] - 0s 24ms/step\n"
     ]
    },
    {
     "data": {
      "text/plain": [
       "array([463.25616], dtype=float32)"
      ]
     },
     "execution_count": 19,
     "metadata": {},
     "output_type": "execute_result"
    }
   ],
   "source": [
    "sp.run_daily().flatten()"
   ]
  },
  {
   "cell_type": "code",
   "execution_count": 20,
   "id": "792214a6",
   "metadata": {},
   "outputs": [
    {
     "data": {
      "text/plain": [
       "Date         2022-11-10\n",
       "Open         613.099976\n",
       "High         615.099976\n",
       "Low          602.200012\n",
       "Close            605.75\n",
       "Adj Close        605.75\n",
       "Volume       11618405.0\n",
       "Name: 6763, dtype: object"
      ]
     },
     "execution_count": 20,
     "metadata": {},
     "output_type": "execute_result"
    }
   ],
   "source": [
    "df.iloc[-10]"
   ]
  },
  {
   "cell_type": "code",
   "execution_count": 21,
   "id": "e07c980a",
   "metadata": {},
   "outputs": [
    {
     "data": {
      "text/html": [
       "<div>\n",
       "<style scoped>\n",
       "    .dataframe tbody tr th:only-of-type {\n",
       "        vertical-align: middle;\n",
       "    }\n",
       "\n",
       "    .dataframe tbody tr th {\n",
       "        vertical-align: top;\n",
       "    }\n",
       "\n",
       "    .dataframe thead th {\n",
       "        text-align: right;\n",
       "    }\n",
       "</style>\n",
       "<table border=\"1\" class=\"dataframe\">\n",
       "  <thead>\n",
       "    <tr style=\"text-align: right;\">\n",
       "      <th></th>\n",
       "      <th>Date</th>\n",
       "      <th>Open</th>\n",
       "      <th>High</th>\n",
       "      <th>Low</th>\n",
       "      <th>Close</th>\n",
       "      <th>Adj Close</th>\n",
       "      <th>Volume</th>\n",
       "    </tr>\n",
       "  </thead>\n",
       "  <tbody>\n",
       "    <tr>\n",
       "      <th>0</th>\n",
       "      <td>1996-01-01</td>\n",
       "      <td>18.691147</td>\n",
       "      <td>18.978922</td>\n",
       "      <td>18.540184</td>\n",
       "      <td>18.823240</td>\n",
       "      <td>12.651093</td>\n",
       "      <td>43733533.0</td>\n",
       "    </tr>\n",
       "    <tr>\n",
       "      <th>1</th>\n",
       "      <td>1996-01-02</td>\n",
       "      <td>18.894005</td>\n",
       "      <td>18.964767</td>\n",
       "      <td>17.738192</td>\n",
       "      <td>18.224106</td>\n",
       "      <td>12.248409</td>\n",
       "      <td>56167280.0</td>\n",
       "    </tr>\n",
       "    <tr>\n",
       "      <th>2</th>\n",
       "      <td>1996-01-03</td>\n",
       "      <td>18.327892</td>\n",
       "      <td>18.568489</td>\n",
       "      <td>17.643839</td>\n",
       "      <td>17.738192</td>\n",
       "      <td>11.921828</td>\n",
       "      <td>68296318.0</td>\n",
       "    </tr>\n",
       "    <tr>\n",
       "      <th>3</th>\n",
       "      <td>1996-01-04</td>\n",
       "      <td>17.502312</td>\n",
       "      <td>17.832542</td>\n",
       "      <td>17.223972</td>\n",
       "      <td>17.676863</td>\n",
       "      <td>11.880607</td>\n",
       "      <td>86073880.0</td>\n",
       "    </tr>\n",
       "    <tr>\n",
       "      <th>4</th>\n",
       "      <td>1996-01-05</td>\n",
       "      <td>17.738192</td>\n",
       "      <td>17.785366</td>\n",
       "      <td>17.459852</td>\n",
       "      <td>17.577793</td>\n",
       "      <td>11.814024</td>\n",
       "      <td>76613039.0</td>\n",
       "    </tr>\n",
       "    <tr>\n",
       "      <th>...</th>\n",
       "      <td>...</td>\n",
       "      <td>...</td>\n",
       "      <td>...</td>\n",
       "      <td>...</td>\n",
       "      <td>...</td>\n",
       "      <td>...</td>\n",
       "      <td>...</td>\n",
       "    </tr>\n",
       "    <tr>\n",
       "      <th>6768</th>\n",
       "      <td>2022-11-17</td>\n",
       "      <td>599.099976</td>\n",
       "      <td>602.750000</td>\n",
       "      <td>596.150024</td>\n",
       "      <td>599.049988</td>\n",
       "      <td>599.049988</td>\n",
       "      <td>8167131.0</td>\n",
       "    </tr>\n",
       "    <tr>\n",
       "      <th>6769</th>\n",
       "      <td>2022-11-18</td>\n",
       "      <td>601.000000</td>\n",
       "      <td>605.750000</td>\n",
       "      <td>597.150024</td>\n",
       "      <td>602.700012</td>\n",
       "      <td>602.700012</td>\n",
       "      <td>12933675.0</td>\n",
       "    </tr>\n",
       "    <tr>\n",
       "      <th>6770</th>\n",
       "      <td>2022-11-21</td>\n",
       "      <td>602.099976</td>\n",
       "      <td>602.099976</td>\n",
       "      <td>595.349976</td>\n",
       "      <td>598.099976</td>\n",
       "      <td>598.099976</td>\n",
       "      <td>7412419.0</td>\n",
       "    </tr>\n",
       "    <tr>\n",
       "      <th>6771</th>\n",
       "      <td>2022-11-22</td>\n",
       "      <td>598.150024</td>\n",
       "      <td>600.700012</td>\n",
       "      <td>596.150024</td>\n",
       "      <td>599.099976</td>\n",
       "      <td>599.099976</td>\n",
       "      <td>8048595.0</td>\n",
       "    </tr>\n",
       "    <tr>\n",
       "      <th>6772</th>\n",
       "      <td>2022-11-23</td>\n",
       "      <td>601.549988</td>\n",
       "      <td>609.599976</td>\n",
       "      <td>601.000000</td>\n",
       "      <td>607.650024</td>\n",
       "      <td>607.650024</td>\n",
       "      <td>12435924.0</td>\n",
       "    </tr>\n",
       "  </tbody>\n",
       "</table>\n",
       "<p>6764 rows × 7 columns</p>\n",
       "</div>"
      ],
      "text/plain": [
       "            Date        Open        High         Low       Close   Adj Close  \\\n",
       "0     1996-01-01   18.691147   18.978922   18.540184   18.823240   12.651093   \n",
       "1     1996-01-02   18.894005   18.964767   17.738192   18.224106   12.248409   \n",
       "2     1996-01-03   18.327892   18.568489   17.643839   17.738192   11.921828   \n",
       "3     1996-01-04   17.502312   17.832542   17.223972   17.676863   11.880607   \n",
       "4     1996-01-05   17.738192   17.785366   17.459852   17.577793   11.814024   \n",
       "...          ...         ...         ...         ...         ...         ...   \n",
       "6768  2022-11-17  599.099976  602.750000  596.150024  599.049988  599.049988   \n",
       "6769  2022-11-18  601.000000  605.750000  597.150024  602.700012  602.700012   \n",
       "6770  2022-11-21  602.099976  602.099976  595.349976  598.099976  598.099976   \n",
       "6771  2022-11-22  598.150024  600.700012  596.150024  599.099976  599.099976   \n",
       "6772  2022-11-23  601.549988  609.599976  601.000000  607.650024  607.650024   \n",
       "\n",
       "          Volume  \n",
       "0     43733533.0  \n",
       "1     56167280.0  \n",
       "2     68296318.0  \n",
       "3     86073880.0  \n",
       "4     76613039.0  \n",
       "...          ...  \n",
       "6768   8167131.0  \n",
       "6769  12933675.0  \n",
       "6770   7412419.0  \n",
       "6771   8048595.0  \n",
       "6772  12435924.0  \n",
       "\n",
       "[6764 rows x 7 columns]"
      ]
     },
     "execution_count": 21,
     "metadata": {},
     "output_type": "execute_result"
    }
   ],
   "source": [
    "df"
   ]
  },
  {
   "cell_type": "code",
   "execution_count": 22,
   "id": "76c05b86",
   "metadata": {},
   "outputs": [],
   "source": [
    "df['Date'] = pd.to_datetime(df['Date'])"
   ]
  },
  {
   "cell_type": "code",
   "execution_count": 23,
   "id": "1b672edb",
   "metadata": {},
   "outputs": [],
   "source": [
    "from modelTesting import PmTesting\n",
    "import datetime"
   ]
  },
  {
   "cell_type": "code",
   "execution_count": 24,
   "id": "2d513b4a",
   "metadata": {},
   "outputs": [],
   "source": [
    "df_testmodel = df[df['Date'] > datetime.datetime(2022, 1, 1)]"
   ]
  },
  {
   "cell_type": "code",
   "execution_count": 25,
   "id": "d95946ef",
   "metadata": {},
   "outputs": [
    {
     "data": {
      "text/plain": [
       "221"
      ]
     },
     "execution_count": 25,
     "metadata": {},
     "output_type": "execute_result"
    }
   ],
   "source": [
    "len(df_testmodel)"
   ]
  },
  {
   "cell_type": "code",
   "execution_count": 26,
   "id": "56c1e7fc",
   "metadata": {},
   "outputs": [],
   "source": [
    "pmt = PmTesting(model,df_testmodel)"
   ]
  },
  {
   "cell_type": "code",
   "execution_count": 27,
   "id": "b8474a10",
   "metadata": {},
   "outputs": [
    {
     "name": "stdout",
     "output_type": "stream",
     "text": [
      "6/6 [==============================] - 0s 15ms/step\n"
     ]
    }
   ],
   "source": [
    "p_price = pmt.test_model()"
   ]
  },
  {
   "cell_type": "code",
   "execution_count": 28,
   "id": "ddd2b86d",
   "metadata": {},
   "outputs": [
    {
     "data": {
      "text/plain": [
       "(161, 1)"
      ]
     },
     "execution_count": 28,
     "metadata": {},
     "output_type": "execute_result"
    }
   ],
   "source": [
    "p_price.shape"
   ]
  },
  {
   "cell_type": "code",
   "execution_count": 29,
   "id": "c48e4d45",
   "metadata": {},
   "outputs": [
    {
     "data": {
      "image/png": "[encoded data removed]",
      "text/plain": [
       "<Figure size 640x480 with 1 Axes>"
      ]
     },
     "metadata": {},
     "output_type": "display_data"
    }
   ],
   "source": [
    "pmt.real_v_predicted_graph(p_price)"
   ]
  },
  {
   "cell_type": "code",
   "execution_count": 63,
   "id": "c172c071",
   "metadata": {},
   "outputs": [
    {
     "name": "stdout",
     "output_type": "stream",
     "text": [
      "Model: \"sequential\"\n",
      "_________________________________________________________________\n",
      " Layer (type)                Output Shape              Param #   \n",
      "=================================================================\n",
      " lstm (LSTM)                 (None, 60, 50)            10400     \n",
      "                                                                 \n",
      " dropout (Dropout)           (None, 60, 50)            0         \n",
      "                                                                 \n",
      " lstm_1 (LSTM)               (None, 60, 50)            20200     \n",
      "                                                                 \n",
      " dropout_1 (Dropout)         (None, 60, 50)            0         \n",
      "                                                                 \n",
      " lstm_2 (LSTM)               (None, 60, 50)            20200     \n",
      "                                                                 \n",
      " dropout_2 (Dropout)         (None, 60, 50)            0         \n",
      "                                                                 \n",
      " lstm_3 (LSTM)               (None, 50)                20200     \n",
      "                                                                 \n",
      " dropout_3 (Dropout)         (None, 50)                0         \n",
      "                                                                 \n",
      " dense (Dense)               (None, 1)                 51        \n",
      "                                                                 \n",
      "=================================================================\n",
      "Total params: 71,051\n",
      "Trainable params: 71,051\n",
      "Non-trainable params: 0\n",
      "_________________________________________________________________\n"
     ]
    }
   ],
   "source": [
    "model.summary()"
   ]
  },
  {
   "cell_type": "code",
   "execution_count": 34,
   "id": "aa3ea2e1",
   "metadata": {},
   "outputs": [
    {
     "name": "stdout",
     "output_type": "stream",
     "text": [
      "1/1 [==============================] - 0s 23ms/step\n",
      "1/1 [==============================] - 0s 23ms/step\n",
      "1/1 [==============================] - 0s 22ms/step\n",
      "1/1 [==============================] - 0s 23ms/step\n",
      "1/1 [==============================] - 0s 22ms/step\n",
      "1/1 [==============================] - 0s 22ms/step\n"
     ]
    },
    {
     "data": {
      "image/png": "[encoded data removed]",
      "text/plain": [
       "<Figure size 640x480 with 1 Axes>"
      ]
     },
     "metadata": {},
     "output_type": "display_data"
    }
   ],
   "source": [
    "from stock_prediction import StockPrediction\n",
    "sp = StockPrediction(model, df_test)\n",
    "sp.long_prediction_graph(6)"
   ]
  },
  {
   "cell_type": "code",
   "execution_count": 32,
   "id": "4003ed9d",
   "metadata": {},
   "outputs": [
    {
     "name": "stdout",
     "output_type": "stream",
     "text": [
      "1/1 [==============================] - 0s 22ms/step\n"
     ]
    },
    {
     "data": {
      "text/plain": [
       "array([[463.25616]], dtype=float32)"
      ]
     },
     "execution_count": 32,
     "metadata": {},
     "output_type": "execute_result"
    }
   ],
   "source": [
    "sp.run_daily()"
   ]
  },
  {
   "cell_type": "code",
   "execution_count": 47,
   "id": "0a727166",
   "metadata": {},
   "outputs": [
    {
     "data": {
      "text/plain": [
       "array([97.91010194])"
      ]
     },
     "execution_count": 47,
     "metadata": {},
     "output_type": "execute_result"
    }
   ],
   "source": [
    "accuracy =0\n",
    "actual =  df.iloc[-101:-96, 4:5].values\n",
    "accuracy = abs((weekly_result[-1] - actual[-1])/ actual[-1])\n",
    "accuracy = (1- accuracy)*100\n",
    "accuracy "
   ]
  },
  {
   "cell_type": "code",
   "execution_count": 48,
   "id": "94e86dcc",
   "metadata": {},
   "outputs": [
    {
     "data": {
      "text/plain": [
       "(array([[463.25616],\n",
       "        [463.22354],\n",
       "        [463.21954],\n",
       "        [463.3119 ],\n",
       "        [463.5554 ]], dtype=float32),\n",
       " array([[464.25    ],\n",
       "        [459.100006],\n",
       "        [465.899994],\n",
       "        [466.850006],\n",
       "        [473.450012]]))"
      ]
     },
     "execution_count": 48,
     "metadata": {},
     "output_type": "execute_result"
    }
   ],
   "source": [
    "weekly_result, actual"
   ]
  },
  {
   "cell_type": "code",
   "execution_count": null,
   "id": "817f76df",
   "metadata": {},
   "outputs": [],
   "source": []
  }
 ],
 "metadata": {
  "kernelspec": {
   "display_name": "Python 3 (ipykernel)",
   "language": "python",
   "name": "python3"
  },
  "language_info": {
   "codemirror_mode": {
    "name": "ipython",
    "version": 3
   },
   "file_extension": ".py",
   "mimetype": "text/x-python",
   "name": "python",
   "nbconvert_exporter": "python",
   "pygments_lexer": "ipython3",
   "version": "3.9.13"
  }
 },
 "nbformat": 4,
 "nbformat_minor": 5
}
