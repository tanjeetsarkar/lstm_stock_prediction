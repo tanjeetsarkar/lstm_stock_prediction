{
 "cells": [
  {
   "cell_type": "code",
   "execution_count": 1,
   "id": "64d5bf4e",
   "metadata": {},
   "outputs": [],
   "source": [
    "import pandas as pd"
   ]
  },
  {
   "cell_type": "code",
   "execution_count": 2,
   "id": "8f0b83b1",
   "metadata": {},
   "outputs": [],
   "source": [
    "df = pd.read_csv('SBIN.NS.csv')"
   ]
  },
  {
   "cell_type": "code",
   "execution_count": 3,
   "id": "5d2fb688",
   "metadata": {},
   "outputs": [
    {
     "data": {
      "text/html": [
       "<div>\n",
       "<style scoped>\n",
       "    .dataframe tbody tr th:only-of-type {\n",
       "        vertical-align: middle;\n",
       "    }\n",
       "\n",
       "    .dataframe tbody tr th {\n",
       "        vertical-align: top;\n",
       "    }\n",
       "\n",
       "    .dataframe thead th {\n",
       "        text-align: right;\n",
       "    }\n",
       "</style>\n",
       "<table border=\"1\" class=\"dataframe\">\n",
       "  <thead>\n",
       "    <tr style=\"text-align: right;\">\n",
       "      <th></th>\n",
       "      <th>Date</th>\n",
       "      <th>Open</th>\n",
       "      <th>High</th>\n",
       "      <th>Low</th>\n",
       "      <th>Close</th>\n",
       "      <th>Adj Close</th>\n",
       "      <th>Volume</th>\n",
       "    </tr>\n",
       "  </thead>\n",
       "  <tbody>\n",
       "    <tr>\n",
       "      <th>0</th>\n",
       "      <td>1996-01-01</td>\n",
       "      <td>18.691147</td>\n",
       "      <td>18.978922</td>\n",
       "      <td>18.540184</td>\n",
       "      <td>18.823240</td>\n",
       "      <td>12.651093</td>\n",
       "      <td>43733533.0</td>\n",
       "    </tr>\n",
       "    <tr>\n",
       "      <th>1</th>\n",
       "      <td>1996-01-02</td>\n",
       "      <td>18.894005</td>\n",
       "      <td>18.964767</td>\n",
       "      <td>17.738192</td>\n",
       "      <td>18.224106</td>\n",
       "      <td>12.248409</td>\n",
       "      <td>56167280.0</td>\n",
       "    </tr>\n",
       "    <tr>\n",
       "      <th>2</th>\n",
       "      <td>1996-01-03</td>\n",
       "      <td>18.327892</td>\n",
       "      <td>18.568489</td>\n",
       "      <td>17.643839</td>\n",
       "      <td>17.738192</td>\n",
       "      <td>11.921828</td>\n",
       "      <td>68296318.0</td>\n",
       "    </tr>\n",
       "    <tr>\n",
       "      <th>3</th>\n",
       "      <td>1996-01-04</td>\n",
       "      <td>17.502312</td>\n",
       "      <td>17.832542</td>\n",
       "      <td>17.223972</td>\n",
       "      <td>17.676863</td>\n",
       "      <td>11.880607</td>\n",
       "      <td>86073880.0</td>\n",
       "    </tr>\n",
       "    <tr>\n",
       "      <th>4</th>\n",
       "      <td>1996-01-05</td>\n",
       "      <td>17.738192</td>\n",
       "      <td>17.785366</td>\n",
       "      <td>17.459852</td>\n",
       "      <td>17.577793</td>\n",
       "      <td>11.814024</td>\n",
       "      <td>76613039.0</td>\n",
       "    </tr>\n",
       "  </tbody>\n",
       "</table>\n",
       "</div>"
      ],
      "text/plain": [
       "         Date       Open       High        Low      Close  Adj Close  \\\n",
       "0  1996-01-01  18.691147  18.978922  18.540184  18.823240  12.651093   \n",
       "1  1996-01-02  18.894005  18.964767  17.738192  18.224106  12.248409   \n",
       "2  1996-01-03  18.327892  18.568489  17.643839  17.738192  11.921828   \n",
       "3  1996-01-04  17.502312  17.832542  17.223972  17.676863  11.880607   \n",
       "4  1996-01-05  17.738192  17.785366  17.459852  17.577793  11.814024   \n",
       "\n",
       "       Volume  \n",
       "0  43733533.0  \n",
       "1  56167280.0  \n",
       "2  68296318.0  \n",
       "3  86073880.0  \n",
       "4  76613039.0  "
      ]
     },
     "execution_count": 3,
     "metadata": {},
     "output_type": "execute_result"
    }
   ],
   "source": [
    "df.head()"
   ]
  },
  {
   "cell_type": "code",
   "execution_count": 4,
   "id": "455bb092",
   "metadata": {},
   "outputs": [
    {
     "data": {
      "text/html": [
       "<div>\n",
       "<style scoped>\n",
       "    .dataframe tbody tr th:only-of-type {\n",
       "        vertical-align: middle;\n",
       "    }\n",
       "\n",
       "    .dataframe tbody tr th {\n",
       "        vertical-align: top;\n",
       "    }\n",
       "\n",
       "    .dataframe thead th {\n",
       "        text-align: right;\n",
       "    }\n",
       "</style>\n",
       "<table border=\"1\" class=\"dataframe\">\n",
       "  <thead>\n",
       "    <tr style=\"text-align: right;\">\n",
       "      <th></th>\n",
       "      <th>Open</th>\n",
       "      <th>High</th>\n",
       "      <th>Low</th>\n",
       "      <th>Close</th>\n",
       "      <th>Adj Close</th>\n",
       "      <th>Volume</th>\n",
       "    </tr>\n",
       "  </thead>\n",
       "  <tbody>\n",
       "    <tr>\n",
       "      <th>Open</th>\n",
       "      <td>1.000000</td>\n",
       "      <td>0.999767</td>\n",
       "      <td>0.999757</td>\n",
       "      <td>0.999520</td>\n",
       "      <td>0.997777</td>\n",
       "      <td>-0.241360</td>\n",
       "    </tr>\n",
       "    <tr>\n",
       "      <th>High</th>\n",
       "      <td>0.999767</td>\n",
       "      <td>1.000000</td>\n",
       "      <td>0.999672</td>\n",
       "      <td>0.999796</td>\n",
       "      <td>0.997967</td>\n",
       "      <td>-0.238083</td>\n",
       "    </tr>\n",
       "    <tr>\n",
       "      <th>Low</th>\n",
       "      <td>0.999757</td>\n",
       "      <td>0.999672</td>\n",
       "      <td>1.000000</td>\n",
       "      <td>0.999778</td>\n",
       "      <td>0.998149</td>\n",
       "      <td>-0.243204</td>\n",
       "    </tr>\n",
       "    <tr>\n",
       "      <th>Close</th>\n",
       "      <td>0.999520</td>\n",
       "      <td>0.999796</td>\n",
       "      <td>0.999778</td>\n",
       "      <td>1.000000</td>\n",
       "      <td>0.998269</td>\n",
       "      <td>-0.239986</td>\n",
       "    </tr>\n",
       "    <tr>\n",
       "      <th>Adj Close</th>\n",
       "      <td>0.997777</td>\n",
       "      <td>0.997967</td>\n",
       "      <td>0.998149</td>\n",
       "      <td>0.998269</td>\n",
       "      <td>1.000000</td>\n",
       "      <td>-0.232027</td>\n",
       "    </tr>\n",
       "    <tr>\n",
       "      <th>Volume</th>\n",
       "      <td>-0.241360</td>\n",
       "      <td>-0.238083</td>\n",
       "      <td>-0.243204</td>\n",
       "      <td>-0.239986</td>\n",
       "      <td>-0.232027</td>\n",
       "      <td>1.000000</td>\n",
       "    </tr>\n",
       "  </tbody>\n",
       "</table>\n",
       "</div>"
      ],
      "text/plain": [
       "               Open      High       Low     Close  Adj Close    Volume\n",
       "Open       1.000000  0.999767  0.999757  0.999520   0.997777 -0.241360\n",
       "High       0.999767  1.000000  0.999672  0.999796   0.997967 -0.238083\n",
       "Low        0.999757  0.999672  1.000000  0.999778   0.998149 -0.243204\n",
       "Close      0.999520  0.999796  0.999778  1.000000   0.998269 -0.239986\n",
       "Adj Close  0.997777  0.997967  0.998149  0.998269   1.000000 -0.232027\n",
       "Volume    -0.241360 -0.238083 -0.243204 -0.239986  -0.232027  1.000000"
      ]
     },
     "execution_count": 4,
     "metadata": {},
     "output_type": "execute_result"
    }
   ],
   "source": [
    "df.corr()"
   ]
  },
  {
   "cell_type": "code",
   "execution_count": 5,
   "id": "29cd83d2",
   "metadata": {},
   "outputs": [],
   "source": [
    "import numpy as np\n",
    "import matplotlib.pyplot as plt\n",
    "import seaborn as sns\n",
    "\n",
    "%matplotlib inline"
   ]
  },
  {
   "cell_type": "code",
   "execution_count": 6,
   "id": "bbbf4115",
   "metadata": {},
   "outputs": [
    {
     "name": "stdout",
     "output_type": "stream",
     "text": [
      "<class 'pandas.core.frame.DataFrame'>\n",
      "RangeIndex: 6773 entries, 0 to 6772\n",
      "Data columns (total 7 columns):\n",
      " #   Column     Non-Null Count  Dtype  \n",
      "---  ------     --------------  -----  \n",
      " 0   Date       6773 non-null   object \n",
      " 1   Open       6764 non-null   float64\n",
      " 2   High       6764 non-null   float64\n",
      " 3   Low        6764 non-null   float64\n",
      " 4   Close      6764 non-null   float64\n",
      " 5   Adj Close  6764 non-null   float64\n",
      " 6   Volume     6764 non-null   float64\n",
      "dtypes: float64(6), object(1)\n",
      "memory usage: 370.5+ KB\n"
     ]
    }
   ],
   "source": [
    "df.info()"
   ]
  },
  {
   "cell_type": "code",
   "execution_count": 7,
   "id": "6ee9d11e",
   "metadata": {},
   "outputs": [
    {
     "data": {
      "text/plain": [
       "<AxesSubplot:xlabel='High', ylabel='Count'>"
      ]
     },
     "execution_count": 7,
     "metadata": {},
     "output_type": "execute_result"
    },
    {
     "data": {
      "image/png": "[encoded data removed]",
      "text/plain": [
       "<Figure size 640x480 with 1 Axes>"
      ]
     },
     "metadata": {},
     "output_type": "display_data"
    }
   ],
   "source": [
    "sns.histplot(x='High', data=df)"
   ]
  },
  {
   "cell_type": "code",
   "execution_count": 8,
   "id": "3bab2a64",
   "metadata": {},
   "outputs": [
    {
     "data": {
      "text/plain": [
       "<AxesSubplot:>"
      ]
     },
     "execution_count": 8,
     "metadata": {},
     "output_type": "execute_result"
    },
    {
     "data": {
      "image/png": "[encoded data removed]",
      "text/plain": [
       "<Figure size 640x480 with 2 Axes>"
      ]
     },
     "metadata": {},
     "output_type": "display_data"
    }
   ],
   "source": [
    "sns.heatmap(df.corr(), annot=True)"
   ]
  },
  {
   "cell_type": "code",
   "execution_count": 9,
   "id": "90136e37",
   "metadata": {},
   "outputs": [],
   "source": [
    "df = df.drop('Volume', axis=1)"
   ]
  },
  {
   "cell_type": "code",
   "execution_count": 10,
   "id": "b6a22898",
   "metadata": {},
   "outputs": [
    {
     "data": {
      "text/html": [
       "<div>\n",
       "<style scoped>\n",
       "    .dataframe tbody tr th:only-of-type {\n",
       "        vertical-align: middle;\n",
       "    }\n",
       "\n",
       "    .dataframe tbody tr th {\n",
       "        vertical-align: top;\n",
       "    }\n",
       "\n",
       "    .dataframe thead th {\n",
       "        text-align: right;\n",
       "    }\n",
       "</style>\n",
       "<table border=\"1\" class=\"dataframe\">\n",
       "  <thead>\n",
       "    <tr style=\"text-align: right;\">\n",
       "      <th></th>\n",
       "      <th>Open</th>\n",
       "      <th>High</th>\n",
       "      <th>Low</th>\n",
       "      <th>Close</th>\n",
       "      <th>Adj Close</th>\n",
       "    </tr>\n",
       "  </thead>\n",
       "  <tbody>\n",
       "    <tr>\n",
       "      <th>Open</th>\n",
       "      <td>1.000000</td>\n",
       "      <td>0.999767</td>\n",
       "      <td>0.999757</td>\n",
       "      <td>0.999520</td>\n",
       "      <td>0.997777</td>\n",
       "    </tr>\n",
       "    <tr>\n",
       "      <th>High</th>\n",
       "      <td>0.999767</td>\n",
       "      <td>1.000000</td>\n",
       "      <td>0.999672</td>\n",
       "      <td>0.999796</td>\n",
       "      <td>0.997967</td>\n",
       "    </tr>\n",
       "    <tr>\n",
       "      <th>Low</th>\n",
       "      <td>0.999757</td>\n",
       "      <td>0.999672</td>\n",
       "      <td>1.000000</td>\n",
       "      <td>0.999778</td>\n",
       "      <td>0.998149</td>\n",
       "    </tr>\n",
       "    <tr>\n",
       "      <th>Close</th>\n",
       "      <td>0.999520</td>\n",
       "      <td>0.999796</td>\n",
       "      <td>0.999778</td>\n",
       "      <td>1.000000</td>\n",
       "      <td>0.998269</td>\n",
       "    </tr>\n",
       "    <tr>\n",
       "      <th>Adj Close</th>\n",
       "      <td>0.997777</td>\n",
       "      <td>0.997967</td>\n",
       "      <td>0.998149</td>\n",
       "      <td>0.998269</td>\n",
       "      <td>1.000000</td>\n",
       "    </tr>\n",
       "  </tbody>\n",
       "</table>\n",
       "</div>"
      ],
      "text/plain": [
       "               Open      High       Low     Close  Adj Close\n",
       "Open       1.000000  0.999767  0.999757  0.999520   0.997777\n",
       "High       0.999767  1.000000  0.999672  0.999796   0.997967\n",
       "Low        0.999757  0.999672  1.000000  0.999778   0.998149\n",
       "Close      0.999520  0.999796  0.999778  1.000000   0.998269\n",
       "Adj Close  0.997777  0.997967  0.998149  0.998269   1.000000"
      ]
     },
     "execution_count": 10,
     "metadata": {},
     "output_type": "execute_result"
    }
   ],
   "source": [
    "df.corr()"
   ]
  },
  {
   "cell_type": "code",
   "execution_count": 11,
   "id": "405a7926",
   "metadata": {},
   "outputs": [
    {
     "data": {
      "text/html": [
       "<div>\n",
       "<style scoped>\n",
       "    .dataframe tbody tr th:only-of-type {\n",
       "        vertical-align: middle;\n",
       "    }\n",
       "\n",
       "    .dataframe tbody tr th {\n",
       "        vertical-align: top;\n",
       "    }\n",
       "\n",
       "    .dataframe thead th {\n",
       "        text-align: right;\n",
       "    }\n",
       "</style>\n",
       "<table border=\"1\" class=\"dataframe\">\n",
       "  <thead>\n",
       "    <tr style=\"text-align: right;\">\n",
       "      <th></th>\n",
       "      <th>Date</th>\n",
       "      <th>Open</th>\n",
       "      <th>High</th>\n",
       "      <th>Low</th>\n",
       "      <th>Close</th>\n",
       "      <th>Adj Close</th>\n",
       "    </tr>\n",
       "  </thead>\n",
       "  <tbody>\n",
       "    <tr>\n",
       "      <th>0</th>\n",
       "      <td>1996-01-01</td>\n",
       "      <td>18.691147</td>\n",
       "      <td>18.978922</td>\n",
       "      <td>18.540184</td>\n",
       "      <td>18.823240</td>\n",
       "      <td>12.651093</td>\n",
       "    </tr>\n",
       "    <tr>\n",
       "      <th>1</th>\n",
       "      <td>1996-01-02</td>\n",
       "      <td>18.894005</td>\n",
       "      <td>18.964767</td>\n",
       "      <td>17.738192</td>\n",
       "      <td>18.224106</td>\n",
       "      <td>12.248409</td>\n",
       "    </tr>\n",
       "    <tr>\n",
       "      <th>2</th>\n",
       "      <td>1996-01-03</td>\n",
       "      <td>18.327892</td>\n",
       "      <td>18.568489</td>\n",
       "      <td>17.643839</td>\n",
       "      <td>17.738192</td>\n",
       "      <td>11.921828</td>\n",
       "    </tr>\n",
       "    <tr>\n",
       "      <th>3</th>\n",
       "      <td>1996-01-04</td>\n",
       "      <td>17.502312</td>\n",
       "      <td>17.832542</td>\n",
       "      <td>17.223972</td>\n",
       "      <td>17.676863</td>\n",
       "      <td>11.880607</td>\n",
       "    </tr>\n",
       "    <tr>\n",
       "      <th>4</th>\n",
       "      <td>1996-01-05</td>\n",
       "      <td>17.738192</td>\n",
       "      <td>17.785366</td>\n",
       "      <td>17.459852</td>\n",
       "      <td>17.577793</td>\n",
       "      <td>11.814024</td>\n",
       "    </tr>\n",
       "  </tbody>\n",
       "</table>\n",
       "</div>"
      ],
      "text/plain": [
       "         Date       Open       High        Low      Close  Adj Close\n",
       "0  1996-01-01  18.691147  18.978922  18.540184  18.823240  12.651093\n",
       "1  1996-01-02  18.894005  18.964767  17.738192  18.224106  12.248409\n",
       "2  1996-01-03  18.327892  18.568489  17.643839  17.738192  11.921828\n",
       "3  1996-01-04  17.502312  17.832542  17.223972  17.676863  11.880607\n",
       "4  1996-01-05  17.738192  17.785366  17.459852  17.577793  11.814024"
      ]
     },
     "execution_count": 11,
     "metadata": {},
     "output_type": "execute_result"
    }
   ],
   "source": [
    "df.head()"
   ]
  },
  {
   "cell_type": "code",
   "execution_count": 12,
   "id": "b8d32cfe",
   "metadata": {},
   "outputs": [],
   "source": [
    "df['Date'] = pd.to_datetime(df['Date'])"
   ]
  },
  {
   "cell_type": "code",
   "execution_count": 13,
   "id": "af113035",
   "metadata": {},
   "outputs": [
    {
     "data": {
      "text/html": [
       "<div>\n",
       "<style scoped>\n",
       "    .dataframe tbody tr th:only-of-type {\n",
       "        vertical-align: middle;\n",
       "    }\n",
       "\n",
       "    .dataframe tbody tr th {\n",
       "        vertical-align: top;\n",
       "    }\n",
       "\n",
       "    .dataframe thead th {\n",
       "        text-align: right;\n",
       "    }\n",
       "</style>\n",
       "<table border=\"1\" class=\"dataframe\">\n",
       "  <thead>\n",
       "    <tr style=\"text-align: right;\">\n",
       "      <th></th>\n",
       "      <th>Date</th>\n",
       "      <th>Open</th>\n",
       "      <th>High</th>\n",
       "      <th>Low</th>\n",
       "      <th>Close</th>\n",
       "      <th>Adj Close</th>\n",
       "    </tr>\n",
       "  </thead>\n",
       "  <tbody>\n",
       "    <tr>\n",
       "      <th>0</th>\n",
       "      <td>1996-01-01</td>\n",
       "      <td>18.691147</td>\n",
       "      <td>18.978922</td>\n",
       "      <td>18.540184</td>\n",
       "      <td>18.823240</td>\n",
       "      <td>12.651093</td>\n",
       "    </tr>\n",
       "    <tr>\n",
       "      <th>1</th>\n",
       "      <td>1996-01-02</td>\n",
       "      <td>18.894005</td>\n",
       "      <td>18.964767</td>\n",
       "      <td>17.738192</td>\n",
       "      <td>18.224106</td>\n",
       "      <td>12.248409</td>\n",
       "    </tr>\n",
       "    <tr>\n",
       "      <th>2</th>\n",
       "      <td>1996-01-03</td>\n",
       "      <td>18.327892</td>\n",
       "      <td>18.568489</td>\n",
       "      <td>17.643839</td>\n",
       "      <td>17.738192</td>\n",
       "      <td>11.921828</td>\n",
       "    </tr>\n",
       "    <tr>\n",
       "      <th>3</th>\n",
       "      <td>1996-01-04</td>\n",
       "      <td>17.502312</td>\n",
       "      <td>17.832542</td>\n",
       "      <td>17.223972</td>\n",
       "      <td>17.676863</td>\n",
       "      <td>11.880607</td>\n",
       "    </tr>\n",
       "    <tr>\n",
       "      <th>4</th>\n",
       "      <td>1996-01-05</td>\n",
       "      <td>17.738192</td>\n",
       "      <td>17.785366</td>\n",
       "      <td>17.459852</td>\n",
       "      <td>17.577793</td>\n",
       "      <td>11.814024</td>\n",
       "    </tr>\n",
       "  </tbody>\n",
       "</table>\n",
       "</div>"
      ],
      "text/plain": [
       "        Date       Open       High        Low      Close  Adj Close\n",
       "0 1996-01-01  18.691147  18.978922  18.540184  18.823240  12.651093\n",
       "1 1996-01-02  18.894005  18.964767  17.738192  18.224106  12.248409\n",
       "2 1996-01-03  18.327892  18.568489  17.643839  17.738192  11.921828\n",
       "3 1996-01-04  17.502312  17.832542  17.223972  17.676863  11.880607\n",
       "4 1996-01-05  17.738192  17.785366  17.459852  17.577793  11.814024"
      ]
     },
     "execution_count": 13,
     "metadata": {},
     "output_type": "execute_result"
    }
   ],
   "source": [
    "df.head()"
   ]
  },
  {
   "cell_type": "code",
   "execution_count": 14,
   "id": "13f68479",
   "metadata": {},
   "outputs": [
    {
     "data": {
      "text/plain": [
       "<AxesSubplot:xlabel='Date', ylabel='Open'>"
      ]
     },
     "execution_count": 14,
     "metadata": {},
     "output_type": "execute_result"
    },
    {
     "data": {
      "image/png": "[encoded data removed]",
      "text/plain": [
       "<Figure size 1200x700 with 1 Axes>"
      ]
     },
     "metadata": {},
     "output_type": "display_data"
    }
   ],
   "source": [
    "import datetime\n",
    "plt.figure(figsize=(12,7))\n",
    "sns.lineplot(x='Date', y='Open',\n",
    "             color='red',\n",
    "             data=df[df['Date'] > pd.to_datetime(datetime.date(2000,1,1))])\n",
    "sns.lineplot(x='Date', y='Close', \n",
    "             data=df[df['Date'] > pd.to_datetime(datetime.date(2015,1,1))])"
   ]
  },
  {
   "cell_type": "code",
   "execution_count": 15,
   "id": "9229bf0c",
   "metadata": {},
   "outputs": [
    {
     "data": {
      "text/html": [
       "<div>\n",
       "<style scoped>\n",
       "    .dataframe tbody tr th:only-of-type {\n",
       "        vertical-align: middle;\n",
       "    }\n",
       "\n",
       "    .dataframe tbody tr th {\n",
       "        vertical-align: top;\n",
       "    }\n",
       "\n",
       "    .dataframe thead th {\n",
       "        text-align: right;\n",
       "    }\n",
       "</style>\n",
       "<table border=\"1\" class=\"dataframe\">\n",
       "  <thead>\n",
       "    <tr style=\"text-align: right;\">\n",
       "      <th></th>\n",
       "      <th>Open</th>\n",
       "      <th>High</th>\n",
       "      <th>Low</th>\n",
       "      <th>Close</th>\n",
       "      <th>Adj Close</th>\n",
       "    </tr>\n",
       "  </thead>\n",
       "  <tbody>\n",
       "    <tr>\n",
       "      <th>Open</th>\n",
       "      <td>1.000000</td>\n",
       "      <td>0.999767</td>\n",
       "      <td>0.999757</td>\n",
       "      <td>0.999520</td>\n",
       "      <td>0.997777</td>\n",
       "    </tr>\n",
       "    <tr>\n",
       "      <th>High</th>\n",
       "      <td>0.999767</td>\n",
       "      <td>1.000000</td>\n",
       "      <td>0.999672</td>\n",
       "      <td>0.999796</td>\n",
       "      <td>0.997967</td>\n",
       "    </tr>\n",
       "    <tr>\n",
       "      <th>Low</th>\n",
       "      <td>0.999757</td>\n",
       "      <td>0.999672</td>\n",
       "      <td>1.000000</td>\n",
       "      <td>0.999778</td>\n",
       "      <td>0.998149</td>\n",
       "    </tr>\n",
       "    <tr>\n",
       "      <th>Close</th>\n",
       "      <td>0.999520</td>\n",
       "      <td>0.999796</td>\n",
       "      <td>0.999778</td>\n",
       "      <td>1.000000</td>\n",
       "      <td>0.998269</td>\n",
       "    </tr>\n",
       "    <tr>\n",
       "      <th>Adj Close</th>\n",
       "      <td>0.997777</td>\n",
       "      <td>0.997967</td>\n",
       "      <td>0.998149</td>\n",
       "      <td>0.998269</td>\n",
       "      <td>1.000000</td>\n",
       "    </tr>\n",
       "  </tbody>\n",
       "</table>\n",
       "</div>"
      ],
      "text/plain": [
       "               Open      High       Low     Close  Adj Close\n",
       "Open       1.000000  0.999767  0.999757  0.999520   0.997777\n",
       "High       0.999767  1.000000  0.999672  0.999796   0.997967\n",
       "Low        0.999757  0.999672  1.000000  0.999778   0.998149\n",
       "Close      0.999520  0.999796  0.999778  1.000000   0.998269\n",
       "Adj Close  0.997777  0.997967  0.998149  0.998269   1.000000"
      ]
     },
     "execution_count": 15,
     "metadata": {},
     "output_type": "execute_result"
    }
   ],
   "source": [
    "df.corr()"
   ]
  },
  {
   "cell_type": "code",
   "execution_count": 16,
   "id": "7eec815f",
   "metadata": {},
   "outputs": [
    {
     "name": "stdout",
     "output_type": "stream",
     "text": [
      "<class 'pandas.core.frame.DataFrame'>\n",
      "RangeIndex: 6773 entries, 0 to 6772\n",
      "Data columns (total 6 columns):\n",
      " #   Column     Non-Null Count  Dtype         \n",
      "---  ------     --------------  -----         \n",
      " 0   Date       6773 non-null   datetime64[ns]\n",
      " 1   Open       6764 non-null   float64       \n",
      " 2   High       6764 non-null   float64       \n",
      " 3   Low        6764 non-null   float64       \n",
      " 4   Close      6764 non-null   float64       \n",
      " 5   Adj Close  6764 non-null   float64       \n",
      "dtypes: datetime64[ns](1), float64(5)\n",
      "memory usage: 317.6 KB\n"
     ]
    }
   ],
   "source": [
    "df.info()"
   ]
  },
  {
   "cell_type": "code",
   "execution_count": 17,
   "id": "4e6c2cfc",
   "metadata": {},
   "outputs": [],
   "source": [
    "df =df.dropna()"
   ]
  },
  {
   "cell_type": "code",
   "execution_count": 18,
   "id": "1c5260b6",
   "metadata": {},
   "outputs": [
    {
     "data": {
      "text/plain": [
       "Date         0\n",
       "Open         0\n",
       "High         0\n",
       "Low          0\n",
       "Close        0\n",
       "Adj Close    0\n",
       "dtype: int64"
      ]
     },
     "execution_count": 18,
     "metadata": {},
     "output_type": "execute_result"
    }
   ],
   "source": [
    "df.isnull().sum()"
   ]
  },
  {
   "cell_type": "code",
   "execution_count": 19,
   "id": "cb274d3f",
   "metadata": {},
   "outputs": [
    {
     "name": "stdout",
     "output_type": "stream",
     "text": [
      "<class 'pandas.core.frame.DataFrame'>\n",
      "Int64Index: 6764 entries, 0 to 6772\n",
      "Data columns (total 6 columns):\n",
      " #   Column     Non-Null Count  Dtype         \n",
      "---  ------     --------------  -----         \n",
      " 0   Date       6764 non-null   datetime64[ns]\n",
      " 1   Open       6764 non-null   float64       \n",
      " 2   High       6764 non-null   float64       \n",
      " 3   Low        6764 non-null   float64       \n",
      " 4   Close      6764 non-null   float64       \n",
      " 5   Adj Close  6764 non-null   float64       \n",
      "dtypes: datetime64[ns](1), float64(5)\n",
      "memory usage: 369.9 KB\n"
     ]
    }
   ],
   "source": [
    "df.info()"
   ]
  },
  {
   "cell_type": "code",
   "execution_count": 20,
   "id": "3d7baeb3",
   "metadata": {},
   "outputs": [],
   "source": [
    "train_ind = int(len(df)*0.8)\n",
    "df_train = df[:train_ind]\n",
    "df_test = df[train_ind:]"
   ]
  },
  {
   "cell_type": "code",
   "execution_count": 21,
   "id": "1199d02b",
   "metadata": {},
   "outputs": [],
   "source": [
    "trainData = df_train.iloc[:, 1:2].values"
   ]
  },
  {
   "cell_type": "code",
   "execution_count": 22,
   "id": "6ebfbec8",
   "metadata": {},
   "outputs": [
    {
     "data": {
      "text/plain": [
       "(5411, 1)"
      ]
     },
     "execution_count": 22,
     "metadata": {},
     "output_type": "execute_result"
    }
   ],
   "source": [
    "trainData.shape"
   ]
  },
  {
   "cell_type": "code",
   "execution_count": 23,
   "id": "f55e0019",
   "metadata": {},
   "outputs": [],
   "source": [
    "from sklearn.preprocessing import MinMaxScaler\n",
    "scaler = MinMaxScaler(feature_range=(0,1))"
   ]
  },
  {
   "cell_type": "code",
   "execution_count": 24,
   "id": "bbc14c5f",
   "metadata": {},
   "outputs": [],
   "source": [
    "scaledData = scaler.fit_transform(trainData)"
   ]
  },
  {
   "cell_type": "code",
   "execution_count": 25,
   "id": "09434927",
   "metadata": {},
   "outputs": [
    {
     "data": {
      "text/plain": [
       "(5411, 1)"
      ]
     },
     "execution_count": 25,
     "metadata": {},
     "output_type": "execute_result"
    }
   ],
   "source": [
    "scaledData.shape"
   ]
  },
  {
   "cell_type": "code",
   "execution_count": 26,
   "id": "020298c4",
   "metadata": {},
   "outputs": [],
   "source": [
    "X_train = []\n",
    "y_train = []\n",
    "\n",
    "for i in range(60,5411):\n",
    "    X_train.append(scaledData[i-60:i,0])\n",
    "    y_train.append(scaledData[i,0])\n",
    "\n",
    "X_train, y_train = np.array(X_train), np.array(y_train)    "
   ]
  },
  {
   "cell_type": "code",
   "execution_count": 27,
   "id": "26b6b67b",
   "metadata": {},
   "outputs": [],
   "source": [
    "X_train = np.reshape(X_train, (X_train.shape[0], X_train.shape[1], 1))"
   ]
  },
  {
   "cell_type": "code",
   "execution_count": 28,
   "id": "682616bf",
   "metadata": {},
   "outputs": [
    {
     "data": {
      "text/plain": [
       "(5351, 60, 1)"
      ]
     },
     "execution_count": 28,
     "metadata": {},
     "output_type": "execute_result"
    }
   ],
   "source": [
    "X_train.shape"
   ]
  },
  {
   "cell_type": "code",
   "execution_count": 29,
   "id": "46f61745",
   "metadata": {},
   "outputs": [
    {
     "name": "stderr",
     "output_type": "stream",
     "text": [
      "2022-11-27 14:21:21.841929: I tensorflow/core/platform/cpu_feature_guard.cc:193] This TensorFlow binary is optimized with oneAPI Deep Neural Network Library (oneDNN) to use the following CPU instructions in performance-critical operations:  AVX2 FMA\n",
      "To enable them in other operations, rebuild TensorFlow with the appropriate compiler flags.\n",
      "2022-11-27 14:21:22.544942: W tensorflow/compiler/xla/stream_executor/platform/default/dso_loader.cc:64] Could not load dynamic library 'libcudart.so.11.0'; dlerror: libcudart.so.11.0: cannot open shared object file: No such file or directory\n",
      "2022-11-27 14:21:22.544966: I tensorflow/compiler/xla/stream_executor/cuda/cudart_stub.cc:29] Ignore above cudart dlerror if you do not have a GPU set up on your machine.\n",
      "2022-11-27 14:21:23.604584: W tensorflow/compiler/xla/stream_executor/platform/default/dso_loader.cc:64] Could not load dynamic library 'libnvinfer.so.7'; dlerror: libnvinfer.so.7: cannot open shared object file: No such file or directory\n",
      "2022-11-27 14:21:23.604802: W tensorflow/compiler/xla/stream_executor/platform/default/dso_loader.cc:64] Could not load dynamic library 'libnvinfer_plugin.so.7'; dlerror: libnvinfer_plugin.so.7: cannot open shared object file: No such file or directory\n",
      "2022-11-27 14:21:23.604812: W tensorflow/compiler/tf2tensorrt/utils/py_utils.cc:38] TF-TRT Warning: Cannot dlopen some TensorRT libraries. If you would like to use Nvidia GPU with TensorRT, please make sure the missing libraries mentioned above are installed properly.\n"
     ]
    }
   ],
   "source": [
    "from tensorflow.keras.models import Sequential\n",
    "from tensorflow.keras.layers import Dense, Activation,Dropout, LSTM"
   ]
  },
  {
   "cell_type": "code",
   "execution_count": 30,
   "id": "37c98fea",
   "metadata": {},
   "outputs": [
    {
     "name": "stderr",
     "output_type": "stream",
     "text": [
      "2022-11-27 14:21:24.953093: I tensorflow/compiler/xla/stream_executor/cuda/cuda_gpu_executor.cc:967] could not open file to read NUMA node: /sys/bus/pci/devices/0000:01:00.0/numa_node\n",
      "Your kernel may have been built without NUMA support.\n",
      "2022-11-27 14:21:24.956365: W tensorflow/compiler/xla/stream_executor/platform/default/dso_loader.cc:64] Could not load dynamic library 'libcudart.so.11.0'; dlerror: libcudart.so.11.0: cannot open shared object file: No such file or directory\n",
      "2022-11-27 14:21:24.956443: W tensorflow/compiler/xla/stream_executor/platform/default/dso_loader.cc:64] Could not load dynamic library 'libcublas.so.11'; dlerror: libcublas.so.11: cannot open shared object file: No such file or directory\n",
      "2022-11-27 14:21:24.956516: W tensorflow/compiler/xla/stream_executor/platform/default/dso_loader.cc:64] Could not load dynamic library 'libcublasLt.so.11'; dlerror: libcublasLt.so.11: cannot open shared object file: No such file or directory\n",
      "2022-11-27 14:21:24.956557: W tensorflow/compiler/xla/stream_executor/platform/default/dso_loader.cc:64] Could not load dynamic library 'libcufft.so.10'; dlerror: libcufft.so.10: cannot open shared object file: No such file or directory\n",
      "2022-11-27 14:21:24.956592: W tensorflow/compiler/xla/stream_executor/platform/default/dso_loader.cc:64] Could not load dynamic library 'libcurand.so.10'; dlerror: libcurand.so.10: cannot open shared object file: No such file or directory\n",
      "2022-11-27 14:21:24.956626: W tensorflow/compiler/xla/stream_executor/platform/default/dso_loader.cc:64] Could not load dynamic library 'libcusolver.so.11'; dlerror: libcusolver.so.11: cannot open shared object file: No such file or directory\n",
      "2022-11-27 14:21:24.956660: W tensorflow/compiler/xla/stream_executor/platform/default/dso_loader.cc:64] Could not load dynamic library 'libcusparse.so.11'; dlerror: libcusparse.so.11: cannot open shared object file: No such file or directory\n",
      "2022-11-27 14:21:24.956692: W tensorflow/compiler/xla/stream_executor/platform/default/dso_loader.cc:64] Could not load dynamic library 'libcudnn.so.8'; dlerror: libcudnn.so.8: cannot open shared object file: No such file or directory\n",
      "2022-11-27 14:21:24.956702: W tensorflow/core/common_runtime/gpu/gpu_device.cc:1934] Cannot dlopen some GPU libraries. Please make sure the missing libraries mentioned above are installed properly if you would like to use GPU. Follow the guide at https://www.tensorflow.org/install/gpu for how to download and setup the required libraries for your platform.\n",
      "Skipping registering GPU devices...\n",
      "2022-11-27 14:21:24.958014: I tensorflow/core/platform/cpu_feature_guard.cc:193] This TensorFlow binary is optimized with oneAPI Deep Neural Network Library (oneDNN) to use the following CPU instructions in performance-critical operations:  AVX2 FMA\n",
      "To enable them in other operations, rebuild TensorFlow with the appropriate compiler flags.\n"
     ]
    },
    {
     "name": "stdout",
     "output_type": "stream",
     "text": [
      "Epoch 1/100\n",
      "168/168 [==============================] - 26s 123ms/step - loss: 0.0074\n",
      "Epoch 2/100\n",
      "168/168 [==============================] - 19s 114ms/step - loss: 0.0029\n",
      "Epoch 3/100\n",
      "168/168 [==============================] - 20s 116ms/step - loss: 0.0023\n",
      "Epoch 4/100\n",
      "168/168 [==============================] - 19s 114ms/step - loss: 0.0022\n",
      "Epoch 5/100\n",
      "168/168 [==============================] - 19s 113ms/step - loss: 0.0020\n",
      "Epoch 6/100\n",
      "168/168 [==============================] - 19s 113ms/step - loss: 0.0020\n",
      "Epoch 7/100\n",
      "168/168 [==============================] - 19s 114ms/step - loss: 0.0016\n",
      "Epoch 8/100\n",
      "168/168 [==============================] - 21s 123ms/step - loss: 0.0016\n",
      "Epoch 9/100\n",
      "168/168 [==============================] - 20s 120ms/step - loss: 0.0016\n",
      "Epoch 10/100\n",
      "168/168 [==============================] - 28s 165ms/step - loss: 0.0018\n",
      "Epoch 11/100\n",
      "168/168 [==============================] - 22s 130ms/step - loss: 0.0014\n",
      "Epoch 12/100\n",
      "168/168 [==============================] - 22s 130ms/step - loss: 0.0015\n",
      "Epoch 13/100\n",
      "168/168 [==============================] - 20s 122ms/step - loss: 0.0014\n",
      "Epoch 14/100\n",
      "168/168 [==============================] - 20s 118ms/step - loss: 0.0014\n",
      "Epoch 15/100\n",
      "168/168 [==============================] - 22s 130ms/step - loss: 0.0012\n",
      "Epoch 16/100\n",
      "168/168 [==============================] - 22s 130ms/step - loss: 0.0013\n",
      "Epoch 17/100\n",
      "168/168 [==============================] - 21s 124ms/step - loss: 0.0012\n",
      "Epoch 18/100\n",
      "168/168 [==============================] - 22s 131ms/step - loss: 0.0012\n",
      "Epoch 19/100\n",
      "168/168 [==============================] - 21s 126ms/step - loss: 0.0011\n",
      "Epoch 20/100\n",
      "168/168 [==============================] - 20s 118ms/step - loss: 0.0012\n",
      "Epoch 21/100\n",
      "168/168 [==============================] - 21s 126ms/step - loss: 0.0011\n",
      "Epoch 22/100\n",
      "168/168 [==============================] - 22s 130ms/step - loss: 0.0012\n",
      "Epoch 23/100\n",
      "168/168 [==============================] - 22s 128ms/step - loss: 0.0011\n",
      "Epoch 24/100\n",
      "168/168 [==============================] - 21s 125ms/step - loss: 0.0011\n",
      "Epoch 25/100\n",
      "168/168 [==============================] - 20s 118ms/step - loss: 0.0011\n",
      "Epoch 26/100\n",
      "168/168 [==============================] - 20s 119ms/step - loss: 0.0011\n",
      "Epoch 27/100\n",
      "168/168 [==============================] - 20s 119ms/step - loss: 0.0011\n",
      "Epoch 28/100\n",
      "168/168 [==============================] - 20s 120ms/step - loss: 0.0010\n",
      "Epoch 29/100\n",
      "168/168 [==============================] - 20s 120ms/step - loss: 0.0010\n",
      "Epoch 30/100\n",
      "168/168 [==============================] - 20s 117ms/step - loss: 0.0010\n",
      "Epoch 31/100\n",
      "168/168 [==============================] - 20s 118ms/step - loss: 0.0010\n",
      "Epoch 32/100\n",
      "168/168 [==============================] - 20s 118ms/step - loss: 9.8028e-04\n",
      "Epoch 33/100\n",
      "168/168 [==============================] - 20s 119ms/step - loss: 9.5221e-04\n",
      "Epoch 34/100\n",
      "168/168 [==============================] - 20s 118ms/step - loss: 0.0011\n",
      "Epoch 35/100\n",
      "168/168 [==============================] - 20s 122ms/step - loss: 9.3759e-04\n",
      "Epoch 36/100\n",
      "168/168 [==============================] - 20s 119ms/step - loss: 9.2764e-04\n",
      "Epoch 37/100\n",
      "168/168 [==============================] - 20s 118ms/step - loss: 9.0848e-04\n",
      "Epoch 38/100\n",
      "168/168 [==============================] - 20s 118ms/step - loss: 9.6157e-04\n",
      "Epoch 39/100\n",
      "168/168 [==============================] - 20s 119ms/step - loss: 9.0701e-04\n",
      "Epoch 40/100\n",
      "168/168 [==============================] - 19s 115ms/step - loss: 9.4454e-04\n",
      "Epoch 41/100\n",
      "168/168 [==============================] - 19s 115ms/step - loss: 9.0358e-04\n",
      "Epoch 42/100\n",
      "168/168 [==============================] - 19s 115ms/step - loss: 8.9940e-04\n",
      "Epoch 43/100\n",
      "168/168 [==============================] - 19s 116ms/step - loss: 9.1560e-04\n",
      "Epoch 44/100\n",
      "168/168 [==============================] - 19s 116ms/step - loss: 8.9920e-04\n",
      "Epoch 45/100\n",
      "168/168 [==============================] - 19s 115ms/step - loss: 9.5723e-04\n",
      "Epoch 46/100\n",
      "168/168 [==============================] - 20s 116ms/step - loss: 8.3399e-04\n",
      "Epoch 47/100\n",
      "168/168 [==============================] - 19s 115ms/step - loss: 9.0767e-04\n",
      "Epoch 48/100\n",
      "168/168 [==============================] - 20s 117ms/step - loss: 8.5060e-04\n",
      "Epoch 49/100\n",
      "168/168 [==============================] - 19s 115ms/step - loss: 8.6994e-04\n",
      "Epoch 50/100\n",
      "168/168 [==============================] - 20s 117ms/step - loss: 8.3087e-04\n",
      "Epoch 51/100\n",
      "168/168 [==============================] - 20s 118ms/step - loss: 8.5483e-04\n",
      "Epoch 52/100\n",
      "168/168 [==============================] - 20s 116ms/step - loss: 8.2881e-04\n",
      "Epoch 53/100\n",
      "168/168 [==============================] - 19s 115ms/step - loss: 8.3310e-04\n",
      "Epoch 54/100\n",
      "168/168 [==============================] - 19s 115ms/step - loss: 7.8082e-04\n",
      "Epoch 55/100\n",
      "168/168 [==============================] - 19s 115ms/step - loss: 8.3145e-04\n",
      "Epoch 56/100\n",
      "168/168 [==============================] - 19s 115ms/step - loss: 8.0242e-04\n",
      "Epoch 57/100\n",
      "168/168 [==============================] - 19s 116ms/step - loss: 8.3732e-04\n",
      "Epoch 58/100\n",
      "168/168 [==============================] - 20s 117ms/step - loss: 8.7764e-04\n",
      "Epoch 59/100\n",
      "168/168 [==============================] - 19s 115ms/step - loss: 8.3643e-04\n",
      "Epoch 60/100\n",
      "168/168 [==============================] - 19s 115ms/step - loss: 7.8332e-04\n",
      "Epoch 61/100\n",
      "168/168 [==============================] - 20s 117ms/step - loss: 7.8988e-04\n",
      "Epoch 62/100\n",
      "168/168 [==============================] - 19s 116ms/step - loss: 8.7387e-04\n",
      "Epoch 63/100\n",
      "168/168 [==============================] - 19s 116ms/step - loss: 7.7260e-04\n",
      "Epoch 64/100\n",
      "168/168 [==============================] - 20s 116ms/step - loss: 7.8413e-04\n",
      "Epoch 65/100\n",
      "168/168 [==============================] - 19s 116ms/step - loss: 7.4764e-04\n",
      "Epoch 66/100\n",
      "168/168 [==============================] - 20s 117ms/step - loss: 7.8900e-04\n",
      "Epoch 67/100\n",
      "168/168 [==============================] - 20s 116ms/step - loss: 8.4205e-04\n",
      "Epoch 68/100\n",
      "168/168 [==============================] - 19s 116ms/step - loss: 8.3015e-04\n",
      "Epoch 69/100\n",
      "168/168 [==============================] - 20s 118ms/step - loss: 7.3603e-04\n",
      "Epoch 70/100\n",
      "168/168 [==============================] - 20s 117ms/step - loss: 7.3794e-04\n",
      "Epoch 71/100\n",
      "168/168 [==============================] - 20s 117ms/step - loss: 7.5337e-04\n",
      "Epoch 72/100\n",
      "168/168 [==============================] - 20s 117ms/step - loss: 7.6615e-04\n",
      "Epoch 73/100\n",
      "168/168 [==============================] - 20s 117ms/step - loss: 7.7047e-04\n",
      "Epoch 74/100\n",
      "168/168 [==============================] - 20s 119ms/step - loss: 7.6733e-04\n",
      "Epoch 75/100\n",
      "168/168 [==============================] - 20s 117ms/step - loss: 7.9410e-04\n",
      "Epoch 76/100\n",
      "168/168 [==============================] - 20s 118ms/step - loss: 7.2853e-04\n",
      "Epoch 77/100\n",
      "168/168 [==============================] - 20s 119ms/step - loss: 7.5112e-04\n",
      "Epoch 78/100\n",
      "168/168 [==============================] - 20s 121ms/step - loss: 7.3731e-04\n",
      "Epoch 79/100\n",
      "168/168 [==============================] - 20s 117ms/step - loss: 7.1324e-04\n",
      "Epoch 80/100\n",
      "168/168 [==============================] - 20s 118ms/step - loss: 7.6828e-04\n",
      "Epoch 81/100\n",
      "168/168 [==============================] - 20s 118ms/step - loss: 7.3499e-04\n",
      "Epoch 82/100\n",
      "168/168 [==============================] - 20s 118ms/step - loss: 7.3713e-04\n",
      "Epoch 83/100\n",
      "168/168 [==============================] - 20s 119ms/step - loss: 7.7671e-04\n",
      "Epoch 84/100\n",
      "168/168 [==============================] - 20s 119ms/step - loss: 7.3480e-04\n",
      "Epoch 85/100\n",
      "168/168 [==============================] - 20s 119ms/step - loss: 6.7637e-04\n",
      "Epoch 86/100\n",
      "168/168 [==============================] - 20s 119ms/step - loss: 7.5847e-04\n",
      "Epoch 87/100\n",
      "168/168 [==============================] - 20s 120ms/step - loss: 7.0464e-04\n",
      "Epoch 88/100\n",
      "168/168 [==============================] - 20s 120ms/step - loss: 7.4453e-04\n",
      "Epoch 89/100\n",
      "168/168 [==============================] - 20s 120ms/step - loss: 7.5754e-04\n",
      "Epoch 90/100\n",
      "168/168 [==============================] - 20s 119ms/step - loss: 7.4279e-04\n",
      "Epoch 91/100\n",
      "168/168 [==============================] - 20s 120ms/step - loss: 6.8787e-04\n",
      "Epoch 92/100\n",
      "168/168 [==============================] - 20s 121ms/step - loss: 7.1341e-04\n",
      "Epoch 93/100\n"
     ]
    },
    {
     "name": "stdout",
     "output_type": "stream",
     "text": [
      "168/168 [==============================] - 20s 120ms/step - loss: 7.6418e-04\n",
      "Epoch 94/100\n",
      "168/168 [==============================] - 20s 119ms/step - loss: 6.8883e-04\n",
      "Epoch 95/100\n",
      "168/168 [==============================] - 20s 118ms/step - loss: 7.2383e-04\n",
      "Epoch 96/100\n",
      "168/168 [==============================] - 20s 120ms/step - loss: 7.8970e-04\n",
      "Epoch 97/100\n",
      "168/168 [==============================] - 20s 118ms/step - loss: 7.4530e-04\n",
      "Epoch 98/100\n",
      "168/168 [==============================] - 20s 118ms/step - loss: 7.0243e-04\n",
      "Epoch 99/100\n",
      "168/168 [==============================] - 20s 119ms/step - loss: 7.0727e-04\n",
      "Epoch 100/100\n",
      "168/168 [==============================] - 20s 119ms/step - loss: 7.2318e-04\n"
     ]
    },
    {
     "data": {
      "text/plain": [
       "<keras.callbacks.History at 0x7f964c3b6400>"
      ]
     },
     "execution_count": 30,
     "metadata": {},
     "output_type": "execute_result"
    }
   ],
   "source": [
    "model = Sequential()\n",
    "model.add(LSTM(units=50,return_sequences=True,input_shape=(X_train.shape[1], 1)))\n",
    "model.add(Dropout(0.2))\n",
    "model.add(LSTM(units=50,return_sequences=True))\n",
    "model.add(Dropout(0.2))\n",
    "model.add(LSTM(units=50,return_sequences=True))\n",
    "model.add(Dropout(0.2))\n",
    "model.add(LSTM(units=50))\n",
    "model.add(Dropout(0.2))\n",
    "model.add(Dense(units=1))\n",
    "model.compile(optimizer='adam',loss='mean_squared_error')\n",
    "model.fit(X_train,y_train,epochs=100,batch_size=32)"
   ]
  },
  {
   "cell_type": "code",
   "execution_count": null,
   "id": "a5ddb20d",
   "metadata": {},
   "outputs": [],
   "source": []
  }
 ],
 "metadata": {
  "kernelspec": {
   "display_name": "Python 3 (ipykernel)",
   "language": "python",
   "name": "python3"
  },
  "language_info": {
   "codemirror_mode": {
    "name": "ipython",
    "version": 3
   },
   "file_extension": ".py",
   "mimetype": "text/x-python",
   "name": "python",
   "nbconvert_exporter": "python",
   "pygments_lexer": "ipython3",
   "version": "3.9.13"
  }
 },
 "nbformat": 4,
 "nbformat_minor": 5
}
