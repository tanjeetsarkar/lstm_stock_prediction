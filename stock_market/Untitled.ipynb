{
 "cells": [
  {
   "cell_type": "code",
   "execution_count": 17,
   "id": "ef37d01c",
   "metadata": {},
   "outputs": [],
   "source": [
    "import pandas as pd\n",
    "import matplotlib.pyplot as plt"
   ]
  },
  {
   "cell_type": "code",
   "execution_count": 2,
   "id": "ee06a7d9",
   "metadata": {},
   "outputs": [],
   "source": [
    "df = pd.read_json('../app/rec.json')"
   ]
  },
  {
   "cell_type": "code",
   "execution_count": 21,
   "id": "df750d4f",
   "metadata": {},
   "outputs": [
    {
     "data": {
      "text/plain": [
       "{'days': 6,\n",
       " 'prediction': 340.28436,\n",
       " 'profit/loss': 'loss',\n",
       " 'diff': -0.12826538,\n",
       " 'percentage': -0.037679384695366004}"
      ]
     },
     "execution_count": 21,
     "metadata": {},
     "output_type": "execute_result"
    }
   ],
   "source": [
    "df.transpose()['ITC.NS'][6]"
   ]
  },
  {
   "cell_type": "code",
   "execution_count": 24,
   "id": "d90c890c",
   "metadata": {},
   "outputs": [
    {
     "data": {
      "text/plain": [
       "str"
      ]
     },
     "execution_count": 24,
     "metadata": {},
     "output_type": "execute_result"
    }
   ],
   "source": [
    "import datetime\n",
    "type(datetime.datetime.now().strftime(\"%y%m%d\"))"
   ]
  },
  {
   "cell_type": "code",
   "execution_count": 29,
   "id": "a1b49f24",
   "metadata": {},
   "outputs": [
    {
     "data": {
      "text/plain": [
       "{'days': 1,\n",
       " 'prediction': 340.43658,\n",
       " 'profit/loss': 'loss',\n",
       " 'diff': 0.0,\n",
       " 'percentage': 0.0}"
      ]
     },
     "execution_count": 29,
     "metadata": {},
     "output_type": "execute_result"
    }
   ],
   "source": [
    "df[1]['ITC.NS']"
   ]
  },
  {
   "cell_type": "code",
   "execution_count": null,
   "id": "090716cf",
   "metadata": {},
   "outputs": [],
   "source": []
  }
 ],
 "metadata": {
  "kernelspec": {
   "display_name": "Python 3 (ipykernel)",
   "language": "python",
   "name": "python3"
  },
  "language_info": {
   "codemirror_mode": {
    "name": "ipython",
    "version": 3
   },
   "file_extension": ".py",
   "mimetype": "text/x-python",
   "name": "python",
   "nbconvert_exporter": "python",
   "pygments_lexer": "ipython3",
   "version": "3.9.13"
  }
 },
 "nbformat": 4,
 "nbformat_minor": 5
}
