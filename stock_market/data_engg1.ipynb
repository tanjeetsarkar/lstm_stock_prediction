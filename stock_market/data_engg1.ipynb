{
 "cells": [
  {
   "cell_type": "code",
   "execution_count": 1,
   "id": "3b0fd343",
   "metadata": {},
   "outputs": [],
   "source": [
    "import yfinance as yf"
   ]
  },
  {
   "cell_type": "code",
   "execution_count": 2,
   "id": "351bc7d5",
   "metadata": {},
   "outputs": [],
   "source": [
    "import requests"
   ]
  },
  {
   "cell_type": "code",
   "execution_count": 3,
   "id": "131b2fe4",
   "metadata": {},
   "outputs": [],
   "source": [
    "import pandas as pd"
   ]
  },
  {
   "cell_type": "code",
   "execution_count": 4,
   "id": "9a313612",
   "metadata": {},
   "outputs": [],
   "source": [
    "GET_INDEX_URL = 'https://www1.nseindia.com/live_market/dynaContent/live_watch/stock_watch/niftyStockWatch.json'"
   ]
  },
  {
   "cell_type": "code",
   "execution_count": 5,
   "id": "347bc576",
   "metadata": {},
   "outputs": [],
   "source": [
    "header = {\n",
    "    \"User-Agent\": \"PostmanRuntime/7.29.2\"\n",
    "}"
   ]
  },
  {
   "cell_type": "code",
   "execution_count": 6,
   "id": "fd9edf96",
   "metadata": {},
   "outputs": [],
   "source": [
    "response = requests.get(GET_INDEX_URL, headers=header).json()"
   ]
  },
  {
   "cell_type": "code",
   "execution_count": 7,
   "id": "de83d0a6",
   "metadata": {},
   "outputs": [
    {
     "data": {
      "text/plain": [
       "['HEROMOTOCO.NS',\n",
       " 'INDUSINDBK.NS',\n",
       " 'M&M.NS',\n",
       " 'TATAMOTORS.NS',\n",
       " 'AXISBANK.NS',\n",
       " 'ONGC.NS',\n",
       " 'BAJFINANCE.NS',\n",
       " 'HDFCLIFE.NS',\n",
       " 'SBILIFE.NS',\n",
       " 'HDFCBANK.NS',\n",
       " 'ULTRACEMCO.NS',\n",
       " 'NESTLEIND.NS',\n",
       " 'HCLTECH.NS',\n",
       " 'HDFC.NS',\n",
       " 'BAJAJFINSV.NS',\n",
       " 'DIVISLAB.NS',\n",
       " 'ADANIPORTS.NS',\n",
       " 'WIPRO.NS',\n",
       " 'TECHM.NS',\n",
       " 'BAJAJ-AUTO.NS',\n",
       " 'TATASTEEL.NS',\n",
       " 'SBIN.NS',\n",
       " 'TATACONSUM.NS',\n",
       " 'ADANIENT.NS',\n",
       " 'RELIANCE.NS',\n",
       " 'DRREDDY.NS',\n",
       " 'ICICIBANK.NS',\n",
       " 'MARUTI.NS',\n",
       " 'ITC.NS',\n",
       " 'EICHERMOT.NS',\n",
       " 'NTPC.NS',\n",
       " 'TITAN.NS',\n",
       " 'POWERGRID.NS',\n",
       " 'INFY.NS',\n",
       " 'JSWSTEEL.NS',\n",
       " 'BRITANNIA.NS',\n",
       " 'GRASIM.NS',\n",
       " 'KOTAKBANK.NS',\n",
       " 'TCS.NS',\n",
       " 'COALINDIA.NS',\n",
       " 'LT.NS',\n",
       " 'CIPLA.NS',\n",
       " 'HINDALCO.NS',\n",
       " 'SUNPHARMA.NS',\n",
       " 'ASIANPAINT.NS',\n",
       " 'BHARTIARTL.NS',\n",
       " 'HINDUNILVR.NS',\n",
       " 'BPCL.NS',\n",
       " 'UPL.NS',\n",
       " 'APOLLOHOSP.NS']"
      ]
     },
     "execution_count": 7,
     "metadata": {},
     "output_type": "execute_result"
    }
   ],
   "source": [
    "tickers = [f\"{x['symbol']}.NS\" for x in response['data']]\n",
    "tickers"
   ]
  },
  {
   "cell_type": "code",
   "execution_count": 8,
   "id": "504e90f7",
   "metadata": {},
   "outputs": [
    {
     "data": {
      "text/plain": [
       "50"
      ]
     },
     "execution_count": 8,
     "metadata": {},
     "output_type": "execute_result"
    }
   ],
   "source": [
    "len(tickers)"
   ]
  },
  {
   "cell_type": "code",
   "execution_count": 9,
   "id": "37dfb464",
   "metadata": {},
   "outputs": [],
   "source": [
    "tick = yf.Ticker('NESTLEIND.NS')"
   ]
  },
  {
   "cell_type": "code",
   "execution_count": 10,
   "id": "c63d110d",
   "metadata": {},
   "outputs": [],
   "source": [
    "data = tick.history(period='max')"
   ]
  },
  {
   "cell_type": "code",
   "execution_count": 11,
   "id": "2ef8ae40",
   "metadata": {},
   "outputs": [],
   "source": [
    "data = data.iloc[:, :-2]"
   ]
  },
  {
   "cell_type": "code",
   "execution_count": 12,
   "id": "9d46374e",
   "metadata": {},
   "outputs": [
    {
     "data": {
      "text/html": [
       "<div>\n",
       "<style scoped>\n",
       "    .dataframe tbody tr th:only-of-type {\n",
       "        vertical-align: middle;\n",
       "    }\n",
       "\n",
       "    .dataframe tbody tr th {\n",
       "        vertical-align: top;\n",
       "    }\n",
       "\n",
       "    .dataframe thead th {\n",
       "        text-align: right;\n",
       "    }\n",
       "</style>\n",
       "<table border=\"1\" class=\"dataframe\">\n",
       "  <thead>\n",
       "    <tr style=\"text-align: right;\">\n",
       "      <th></th>\n",
       "      <th>Open</th>\n",
       "      <th>High</th>\n",
       "      <th>Low</th>\n",
       "      <th>Close</th>\n",
       "      <th>Volume</th>\n",
       "    </tr>\n",
       "    <tr>\n",
       "      <th>Date</th>\n",
       "      <th></th>\n",
       "      <th></th>\n",
       "      <th></th>\n",
       "      <th></th>\n",
       "      <th></th>\n",
       "    </tr>\n",
       "  </thead>\n",
       "  <tbody>\n",
       "    <tr>\n",
       "      <th>2002-08-12 00:00:00+05:30</th>\n",
       "      <td>415.951531</td>\n",
       "      <td>419.594468</td>\n",
       "      <td>413.413738</td>\n",
       "      <td>413.536530</td>\n",
       "      <td>7100</td>\n",
       "    </tr>\n",
       "    <tr>\n",
       "      <th>2002-08-13 00:00:00+05:30</th>\n",
       "      <td>412.185739</td>\n",
       "      <td>421.600111</td>\n",
       "      <td>412.185739</td>\n",
       "      <td>416.729187</td>\n",
       "      <td>8800</td>\n",
       "    </tr>\n",
       "    <tr>\n",
       "      <th>2002-08-14 00:00:00+05:30</th>\n",
       "      <td>411.039708</td>\n",
       "      <td>421.600173</td>\n",
       "      <td>411.039708</td>\n",
       "      <td>421.109009</td>\n",
       "      <td>18700</td>\n",
       "    </tr>\n",
       "    <tr>\n",
       "      <th>2002-08-15 00:00:00+05:30</th>\n",
       "      <td>421.109009</td>\n",
       "      <td>421.109009</td>\n",
       "      <td>421.109009</td>\n",
       "      <td>421.109009</td>\n",
       "      <td>0</td>\n",
       "    </tr>\n",
       "    <tr>\n",
       "      <th>2002-08-16 00:00:00+05:30</th>\n",
       "      <td>422.418828</td>\n",
       "      <td>423.114653</td>\n",
       "      <td>417.506981</td>\n",
       "      <td>418.325623</td>\n",
       "      <td>9400</td>\n",
       "    </tr>\n",
       "    <tr>\n",
       "      <th>...</th>\n",
       "      <td>...</td>\n",
       "      <td>...</td>\n",
       "      <td>...</td>\n",
       "      <td>...</td>\n",
       "      <td>...</td>\n",
       "    </tr>\n",
       "    <tr>\n",
       "      <th>2022-12-06 00:00:00+05:30</th>\n",
       "      <td>19741.000000</td>\n",
       "      <td>19990.000000</td>\n",
       "      <td>19575.000000</td>\n",
       "      <td>19911.099609</td>\n",
       "      <td>68109</td>\n",
       "    </tr>\n",
       "    <tr>\n",
       "      <th>2022-12-07 00:00:00+05:30</th>\n",
       "      <td>19920.000000</td>\n",
       "      <td>20079.150391</td>\n",
       "      <td>19828.250000</td>\n",
       "      <td>19910.849609</td>\n",
       "      <td>56956</td>\n",
       "    </tr>\n",
       "    <tr>\n",
       "      <th>2022-12-08 00:00:00+05:30</th>\n",
       "      <td>19900.000000</td>\n",
       "      <td>20099.000000</td>\n",
       "      <td>19731.000000</td>\n",
       "      <td>19805.349609</td>\n",
       "      <td>40624</td>\n",
       "    </tr>\n",
       "    <tr>\n",
       "      <th>2022-12-09 00:00:00+05:30</th>\n",
       "      <td>19968.000000</td>\n",
       "      <td>20294.949219</td>\n",
       "      <td>19844.199219</td>\n",
       "      <td>20241.750000</td>\n",
       "      <td>76755</td>\n",
       "    </tr>\n",
       "    <tr>\n",
       "      <th>2022-12-12 00:00:00+05:30</th>\n",
       "      <td>20250.000000</td>\n",
       "      <td>20520.000000</td>\n",
       "      <td>20145.000000</td>\n",
       "      <td>20487.349609</td>\n",
       "      <td>81060</td>\n",
       "    </tr>\n",
       "  </tbody>\n",
       "</table>\n",
       "<p>5054 rows × 5 columns</p>\n",
       "</div>"
      ],
      "text/plain": [
       "                                   Open          High           Low  \\\n",
       "Date                                                                  \n",
       "2002-08-12 00:00:00+05:30    415.951531    419.594468    413.413738   \n",
       "2002-08-13 00:00:00+05:30    412.185739    421.600111    412.185739   \n",
       "2002-08-14 00:00:00+05:30    411.039708    421.600173    411.039708   \n",
       "2002-08-15 00:00:00+05:30    421.109009    421.109009    421.109009   \n",
       "2002-08-16 00:00:00+05:30    422.418828    423.114653    417.506981   \n",
       "...                                 ...           ...           ...   \n",
       "2022-12-06 00:00:00+05:30  19741.000000  19990.000000  19575.000000   \n",
       "2022-12-07 00:00:00+05:30  19920.000000  20079.150391  19828.250000   \n",
       "2022-12-08 00:00:00+05:30  19900.000000  20099.000000  19731.000000   \n",
       "2022-12-09 00:00:00+05:30  19968.000000  20294.949219  19844.199219   \n",
       "2022-12-12 00:00:00+05:30  20250.000000  20520.000000  20145.000000   \n",
       "\n",
       "                                  Close  Volume  \n",
       "Date                                             \n",
       "2002-08-12 00:00:00+05:30    413.536530    7100  \n",
       "2002-08-13 00:00:00+05:30    416.729187    8800  \n",
       "2002-08-14 00:00:00+05:30    421.109009   18700  \n",
       "2002-08-15 00:00:00+05:30    421.109009       0  \n",
       "2002-08-16 00:00:00+05:30    418.325623    9400  \n",
       "...                                 ...     ...  \n",
       "2022-12-06 00:00:00+05:30  19911.099609   68109  \n",
       "2022-12-07 00:00:00+05:30  19910.849609   56956  \n",
       "2022-12-08 00:00:00+05:30  19805.349609   40624  \n",
       "2022-12-09 00:00:00+05:30  20241.750000   76755  \n",
       "2022-12-12 00:00:00+05:30  20487.349609   81060  \n",
       "\n",
       "[5054 rows x 5 columns]"
      ]
     },
     "execution_count": 12,
     "metadata": {},
     "output_type": "execute_result"
    }
   ],
   "source": [
    "data"
   ]
  },
  {
   "cell_type": "code",
   "execution_count": 13,
   "id": "c20a1389",
   "metadata": {},
   "outputs": [
    {
     "name": "stdout",
     "output_type": "stream",
     "text": [
      "<class 'pandas.core.frame.DataFrame'>\n",
      "DatetimeIndex: 5054 entries, 2002-08-12 00:00:00+05:30 to 2022-12-12 00:00:00+05:30\n",
      "Data columns (total 5 columns):\n",
      " #   Column  Non-Null Count  Dtype  \n",
      "---  ------  --------------  -----  \n",
      " 0   Open    5054 non-null   float64\n",
      " 1   High    5054 non-null   float64\n",
      " 2   Low     5054 non-null   float64\n",
      " 3   Close   5054 non-null   float64\n",
      " 4   Volume  5054 non-null   int64  \n",
      "dtypes: float64(4), int64(1)\n",
      "memory usage: 236.9 KB\n"
     ]
    }
   ],
   "source": [
    "data.info()"
   ]
  },
  {
   "cell_type": "code",
   "execution_count": 14,
   "id": "d38cc864",
   "metadata": {},
   "outputs": [],
   "source": [
    "import datetime\n",
    "import numpy as np"
   ]
  },
  {
   "cell_type": "code",
   "execution_count": 15,
   "id": "480c8a19",
   "metadata": {},
   "outputs": [
    {
     "data": {
      "text/plain": [
       "DatetimeIndex(['2002-08-12 00:00:00+05:30', '2002-08-13 00:00:00+05:30',\n",
       "               '2002-08-14 00:00:00+05:30', '2002-08-15 00:00:00+05:30',\n",
       "               '2002-08-16 00:00:00+05:30', '2002-08-19 00:00:00+05:30',\n",
       "               '2002-08-20 00:00:00+05:30', '2002-08-21 00:00:00+05:30',\n",
       "               '2002-08-22 00:00:00+05:30', '2002-08-23 00:00:00+05:30',\n",
       "               ...\n",
       "               '2022-11-29 00:00:00+05:30', '2022-11-30 00:00:00+05:30',\n",
       "               '2022-12-01 00:00:00+05:30', '2022-12-02 00:00:00+05:30',\n",
       "               '2022-12-05 00:00:00+05:30', '2022-12-06 00:00:00+05:30',\n",
       "               '2022-12-07 00:00:00+05:30', '2022-12-08 00:00:00+05:30',\n",
       "               '2022-12-09 00:00:00+05:30', '2022-12-12 00:00:00+05:30'],\n",
       "              dtype='datetime64[ns, Asia/Kolkata]', name='Date', length=5054, freq=None)"
      ]
     },
     "execution_count": 15,
     "metadata": {},
     "output_type": "execute_result"
    }
   ],
   "source": [
    "data.index"
   ]
  },
  {
   "cell_type": "code",
   "execution_count": 16,
   "id": "00467b1c",
   "metadata": {},
   "outputs": [
    {
     "name": "stderr",
     "output_type": "stream",
     "text": [
      "/tmp/ipykernel_760/3232899443.py:1: DeprecationWarning: parsing timezone aware datetimes is deprecated; this will raise an error in the future\n",
      "  data.loc[np.datetime64('2003-01-01T00:00+05:30'):]['Close'].plot()\n",
      "/tmp/ipykernel_760/3232899443.py:1: FutureWarning: Indexing a timezone-aware DatetimeIndex with a timezone-naive datetime is deprecated and will raise KeyError in a future version. Use a timezone-aware object instead.\n",
      "  data.loc[np.datetime64('2003-01-01T00:00+05:30'):]['Close'].plot()\n"
     ]
    },
    {
     "data": {
      "text/plain": [
       "<AxesSubplot:xlabel='Date'>"
      ]
     },
     "execution_count": 16,
     "metadata": {},
     "output_type": "execute_result"
    },
    {
     "data": {
      "image/png": "[encoded data removed]",
      "text/plain": [
       "<Figure size 640x480 with 1 Axes>"
      ]
     },
     "metadata": {},
     "output_type": "display_data"
    }
   ],
   "source": [
    "data.loc[np.datetime64('2003-01-01T00:00+05:30'):]['Close'].plot()"
   ]
  },
  {
   "cell_type": "code",
   "execution_count": 17,
   "id": "66be2806",
   "metadata": {},
   "outputs": [
    {
     "data": {
      "text/plain": [
       "<AxesSubplot:xlabel='Date'>"
      ]
     },
     "execution_count": 17,
     "metadata": {},
     "output_type": "execute_result"
    },
    {
     "data": {
      "image/png": "[encoded data removed]",
      "text/plain": [
       "<Figure size 640x480 with 1 Axes>"
      ]
     },
     "metadata": {},
     "output_type": "display_data"
    }
   ],
   "source": [
    "data['Close'].plot()"
   ]
  },
  {
   "cell_type": "code",
   "execution_count": 18,
   "id": "8d4c173c",
   "metadata": {},
   "outputs": [
    {
     "name": "stderr",
     "output_type": "stream",
     "text": [
      "/tmp/ipykernel_760/2622051345.py:1: DeprecationWarning: parsing timezone aware datetimes is deprecated; this will raise an error in the future\n",
      "  np.datetime64('2021-01-01T00:00+05:30')\n"
     ]
    },
    {
     "data": {
      "text/plain": [
       "numpy.datetime64('2020-12-31T18:30')"
      ]
     },
     "execution_count": 18,
     "metadata": {},
     "output_type": "execute_result"
    }
   ],
   "source": [
    "np.datetime64('2021-01-01T00:00+05:30')"
   ]
  },
  {
   "cell_type": "code",
   "execution_count": 19,
   "id": "bb115ba8",
   "metadata": {},
   "outputs": [
    {
     "name": "stderr",
     "output_type": "stream",
     "text": [
      "/tmp/ipykernel_760/960853831.py:1: DeprecationWarning: parsing timezone aware datetimes is deprecated; this will raise an error in the future\n",
      "  data.loc[:np.datetime64('2012-01-01T00:00+05:30')]['Close'].plot()\n",
      "/tmp/ipykernel_760/960853831.py:1: FutureWarning: Indexing a timezone-aware DatetimeIndex with a timezone-naive datetime is deprecated and will raise KeyError in a future version. Use a timezone-aware object instead.\n",
      "  data.loc[:np.datetime64('2012-01-01T00:00+05:30')]['Close'].plot()\n"
     ]
    },
    {
     "data": {
      "text/plain": [
       "<AxesSubplot:xlabel='Date'>"
      ]
     },
     "execution_count": 19,
     "metadata": {},
     "output_type": "execute_result"
    },
    {
     "data": {
      "image/png": "[encoded data removed]",
      "text/plain": [
       "<Figure size 640x480 with 1 Axes>"
      ]
     },
     "metadata": {},
     "output_type": "display_data"
    }
   ],
   "source": [
    "data.loc[:np.datetime64('2012-01-01T00:00+05:30')]['Close'].plot()"
   ]
  },
  {
   "cell_type": "code",
   "execution_count": 20,
   "id": "fd420a4d",
   "metadata": {},
   "outputs": [
    {
     "data": {
      "text/plain": [
       "<AxesSubplot:xlabel='Date'>"
      ]
     },
     "execution_count": 20,
     "metadata": {},
     "output_type": "execute_result"
    },
    {
     "data": {
      "image/png": "[encoded data removed]",
      "text/plain": [
       "<Figure size 640x480 with 1 Axes>"
      ]
     },
     "metadata": {},
     "output_type": "display_data"
    }
   ],
   "source": [
    "data['Close'].plot()"
   ]
  },
  {
   "cell_type": "code",
   "execution_count": 21,
   "id": "fc8dd742",
   "metadata": {},
   "outputs": [
    {
     "data": {
      "text/html": [
       "<div>\n",
       "<style scoped>\n",
       "    .dataframe tbody tr th:only-of-type {\n",
       "        vertical-align: middle;\n",
       "    }\n",
       "\n",
       "    .dataframe tbody tr th {\n",
       "        vertical-align: top;\n",
       "    }\n",
       "\n",
       "    .dataframe thead th {\n",
       "        text-align: right;\n",
       "    }\n",
       "</style>\n",
       "<table border=\"1\" class=\"dataframe\">\n",
       "  <thead>\n",
       "    <tr style=\"text-align: right;\">\n",
       "      <th></th>\n",
       "      <th>Close</th>\n",
       "    </tr>\n",
       "    <tr>\n",
       "      <th>Date</th>\n",
       "      <th></th>\n",
       "    </tr>\n",
       "  </thead>\n",
       "  <tbody>\n",
       "    <tr>\n",
       "      <th>2002-08-12 00:00:00+05:30</th>\n",
       "      <td>413.536530</td>\n",
       "    </tr>\n",
       "    <tr>\n",
       "      <th>2002-08-13 00:00:00+05:30</th>\n",
       "      <td>416.729187</td>\n",
       "    </tr>\n",
       "    <tr>\n",
       "      <th>2002-08-14 00:00:00+05:30</th>\n",
       "      <td>421.109009</td>\n",
       "    </tr>\n",
       "    <tr>\n",
       "      <th>2002-08-15 00:00:00+05:30</th>\n",
       "      <td>421.109009</td>\n",
       "    </tr>\n",
       "    <tr>\n",
       "      <th>2002-08-16 00:00:00+05:30</th>\n",
       "      <td>418.325623</td>\n",
       "    </tr>\n",
       "    <tr>\n",
       "      <th>...</th>\n",
       "      <td>...</td>\n",
       "    </tr>\n",
       "    <tr>\n",
       "      <th>2022-12-06 00:00:00+05:30</th>\n",
       "      <td>19911.099609</td>\n",
       "    </tr>\n",
       "    <tr>\n",
       "      <th>2022-12-07 00:00:00+05:30</th>\n",
       "      <td>19910.849609</td>\n",
       "    </tr>\n",
       "    <tr>\n",
       "      <th>2022-12-08 00:00:00+05:30</th>\n",
       "      <td>19805.349609</td>\n",
       "    </tr>\n",
       "    <tr>\n",
       "      <th>2022-12-09 00:00:00+05:30</th>\n",
       "      <td>20241.750000</td>\n",
       "    </tr>\n",
       "    <tr>\n",
       "      <th>2022-12-12 00:00:00+05:30</th>\n",
       "      <td>20487.349609</td>\n",
       "    </tr>\n",
       "  </tbody>\n",
       "</table>\n",
       "<p>5054 rows × 1 columns</p>\n",
       "</div>"
      ],
      "text/plain": [
       "                                  Close\n",
       "Date                                   \n",
       "2002-08-12 00:00:00+05:30    413.536530\n",
       "2002-08-13 00:00:00+05:30    416.729187\n",
       "2002-08-14 00:00:00+05:30    421.109009\n",
       "2002-08-15 00:00:00+05:30    421.109009\n",
       "2002-08-16 00:00:00+05:30    418.325623\n",
       "...                                 ...\n",
       "2022-12-06 00:00:00+05:30  19911.099609\n",
       "2022-12-07 00:00:00+05:30  19910.849609\n",
       "2022-12-08 00:00:00+05:30  19805.349609\n",
       "2022-12-09 00:00:00+05:30  20241.750000\n",
       "2022-12-12 00:00:00+05:30  20487.349609\n",
       "\n",
       "[5054 rows x 1 columns]"
      ]
     },
     "execution_count": 21,
     "metadata": {},
     "output_type": "execute_result"
    }
   ],
   "source": [
    "data.iloc[:, 3:4]"
   ]
  },
  {
   "cell_type": "code",
   "execution_count": 22,
   "id": "259b6faa",
   "metadata": {},
   "outputs": [
    {
     "name": "stdout",
     "output_type": "stream",
     "text": [
      "[*********************100%***********************]  50 of 50 completed\n"
     ]
    }
   ],
   "source": [
    "nse_data = yf.download(tickers=tickers, period=\"max\", group_by='ticker')"
   ]
  },
  {
   "cell_type": "code",
   "execution_count": 25,
   "id": "c962ff57",
   "metadata": {},
   "outputs": [
    {
     "data": {
      "text/plain": [
       "<AxesSubplot:xlabel='Date'>"
      ]
     },
     "execution_count": 25,
     "metadata": {},
     "output_type": "execute_result"
    },
    {
     "data": {
      "image/png": "[encoded data removed]",
      "text/plain": [
       "<Figure size 1200x700 with 1 Axes>"
      ]
     },
     "metadata": {},
     "output_type": "display_data"
    }
   ],
   "source": [
    "plt.figure(figsize=(12,7))\n",
    "nse_data['SBIN.NS']['Close'].dropna().plot()"
   ]
  },
  {
   "cell_type": "code",
   "execution_count": 26,
   "id": "0d5aac4c",
   "metadata": {},
   "outputs": [
    {
     "data": {
      "text/html": [
       "<div>\n",
       "<style scoped>\n",
       "    .dataframe tbody tr th:only-of-type {\n",
       "        vertical-align: middle;\n",
       "    }\n",
       "\n",
       "    .dataframe tbody tr th {\n",
       "        vertical-align: top;\n",
       "    }\n",
       "\n",
       "    .dataframe thead tr th {\n",
       "        text-align: left;\n",
       "    }\n",
       "\n",
       "    .dataframe thead tr:last-of-type th {\n",
       "        text-align: right;\n",
       "    }\n",
       "</style>\n",
       "<table border=\"1\" class=\"dataframe\">\n",
       "  <thead>\n",
       "    <tr>\n",
       "      <th></th>\n",
       "      <th colspan=\"6\" halign=\"left\">NTPC.NS</th>\n",
       "      <th colspan=\"4\" halign=\"left\">APOLLOHOSP.NS</th>\n",
       "      <th>...</th>\n",
       "      <th colspan=\"4\" halign=\"left\">TATAMOTORS.NS</th>\n",
       "      <th colspan=\"6\" halign=\"left\">HCLTECH.NS</th>\n",
       "    </tr>\n",
       "    <tr>\n",
       "      <th></th>\n",
       "      <th>Open</th>\n",
       "      <th>High</th>\n",
       "      <th>Low</th>\n",
       "      <th>Close</th>\n",
       "      <th>Adj Close</th>\n",
       "      <th>Volume</th>\n",
       "      <th>Open</th>\n",
       "      <th>High</th>\n",
       "      <th>Low</th>\n",
       "      <th>Close</th>\n",
       "      <th>...</th>\n",
       "      <th>Low</th>\n",
       "      <th>Close</th>\n",
       "      <th>Adj Close</th>\n",
       "      <th>Volume</th>\n",
       "      <th>Open</th>\n",
       "      <th>High</th>\n",
       "      <th>Low</th>\n",
       "      <th>Close</th>\n",
       "      <th>Adj Close</th>\n",
       "      <th>Volume</th>\n",
       "    </tr>\n",
       "    <tr>\n",
       "      <th>Date</th>\n",
       "      <th></th>\n",
       "      <th></th>\n",
       "      <th></th>\n",
       "      <th></th>\n",
       "      <th></th>\n",
       "      <th></th>\n",
       "      <th></th>\n",
       "      <th></th>\n",
       "      <th></th>\n",
       "      <th></th>\n",
       "      <th></th>\n",
       "      <th></th>\n",
       "      <th></th>\n",
       "      <th></th>\n",
       "      <th></th>\n",
       "      <th></th>\n",
       "      <th></th>\n",
       "      <th></th>\n",
       "      <th></th>\n",
       "      <th></th>\n",
       "      <th></th>\n",
       "    </tr>\n",
       "  </thead>\n",
       "  <tbody>\n",
       "    <tr>\n",
       "      <th>1995-12-25</th>\n",
       "      <td>NaN</td>\n",
       "      <td>NaN</td>\n",
       "      <td>NaN</td>\n",
       "      <td>NaN</td>\n",
       "      <td>NaN</td>\n",
       "      <td>NaN</td>\n",
       "      <td>NaN</td>\n",
       "      <td>NaN</td>\n",
       "      <td>NaN</td>\n",
       "      <td>NaN</td>\n",
       "      <td>...</td>\n",
       "      <td>72.819626</td>\n",
       "      <td>72.819626</td>\n",
       "      <td>53.472775</td>\n",
       "      <td>0.0</td>\n",
       "      <td>NaN</td>\n",
       "      <td>NaN</td>\n",
       "      <td>NaN</td>\n",
       "      <td>NaN</td>\n",
       "      <td>NaN</td>\n",
       "      <td>NaN</td>\n",
       "    </tr>\n",
       "    <tr>\n",
       "      <th>1995-12-26</th>\n",
       "      <td>NaN</td>\n",
       "      <td>NaN</td>\n",
       "      <td>NaN</td>\n",
       "      <td>NaN</td>\n",
       "      <td>NaN</td>\n",
       "      <td>NaN</td>\n",
       "      <td>NaN</td>\n",
       "      <td>NaN</td>\n",
       "      <td>NaN</td>\n",
       "      <td>NaN</td>\n",
       "      <td>...</td>\n",
       "      <td>72.819626</td>\n",
       "      <td>72.819626</td>\n",
       "      <td>53.472775</td>\n",
       "      <td>0.0</td>\n",
       "      <td>NaN</td>\n",
       "      <td>NaN</td>\n",
       "      <td>NaN</td>\n",
       "      <td>NaN</td>\n",
       "      <td>NaN</td>\n",
       "      <td>NaN</td>\n",
       "    </tr>\n",
       "    <tr>\n",
       "      <th>1995-12-27</th>\n",
       "      <td>NaN</td>\n",
       "      <td>NaN</td>\n",
       "      <td>NaN</td>\n",
       "      <td>NaN</td>\n",
       "      <td>NaN</td>\n",
       "      <td>NaN</td>\n",
       "      <td>NaN</td>\n",
       "      <td>NaN</td>\n",
       "      <td>NaN</td>\n",
       "      <td>NaN</td>\n",
       "      <td>...</td>\n",
       "      <td>72.819626</td>\n",
       "      <td>72.819626</td>\n",
       "      <td>53.472775</td>\n",
       "      <td>0.0</td>\n",
       "      <td>NaN</td>\n",
       "      <td>NaN</td>\n",
       "      <td>NaN</td>\n",
       "      <td>NaN</td>\n",
       "      <td>NaN</td>\n",
       "      <td>NaN</td>\n",
       "    </tr>\n",
       "    <tr>\n",
       "      <th>1995-12-28</th>\n",
       "      <td>NaN</td>\n",
       "      <td>NaN</td>\n",
       "      <td>NaN</td>\n",
       "      <td>NaN</td>\n",
       "      <td>NaN</td>\n",
       "      <td>NaN</td>\n",
       "      <td>NaN</td>\n",
       "      <td>NaN</td>\n",
       "      <td>NaN</td>\n",
       "      <td>NaN</td>\n",
       "      <td>...</td>\n",
       "      <td>72.819626</td>\n",
       "      <td>72.819626</td>\n",
       "      <td>53.472775</td>\n",
       "      <td>0.0</td>\n",
       "      <td>NaN</td>\n",
       "      <td>NaN</td>\n",
       "      <td>NaN</td>\n",
       "      <td>NaN</td>\n",
       "      <td>NaN</td>\n",
       "      <td>NaN</td>\n",
       "    </tr>\n",
       "    <tr>\n",
       "      <th>1995-12-29</th>\n",
       "      <td>NaN</td>\n",
       "      <td>NaN</td>\n",
       "      <td>NaN</td>\n",
       "      <td>NaN</td>\n",
       "      <td>NaN</td>\n",
       "      <td>NaN</td>\n",
       "      <td>NaN</td>\n",
       "      <td>NaN</td>\n",
       "      <td>NaN</td>\n",
       "      <td>NaN</td>\n",
       "      <td>...</td>\n",
       "      <td>72.819626</td>\n",
       "      <td>72.819626</td>\n",
       "      <td>53.472775</td>\n",
       "      <td>0.0</td>\n",
       "      <td>NaN</td>\n",
       "      <td>NaN</td>\n",
       "      <td>NaN</td>\n",
       "      <td>NaN</td>\n",
       "      <td>NaN</td>\n",
       "      <td>NaN</td>\n",
       "    </tr>\n",
       "    <tr>\n",
       "      <th>...</th>\n",
       "      <td>...</td>\n",
       "      <td>...</td>\n",
       "      <td>...</td>\n",
       "      <td>...</td>\n",
       "      <td>...</td>\n",
       "      <td>...</td>\n",
       "      <td>...</td>\n",
       "      <td>...</td>\n",
       "      <td>...</td>\n",
       "      <td>...</td>\n",
       "      <td>...</td>\n",
       "      <td>...</td>\n",
       "      <td>...</td>\n",
       "      <td>...</td>\n",
       "      <td>...</td>\n",
       "      <td>...</td>\n",
       "      <td>...</td>\n",
       "      <td>...</td>\n",
       "      <td>...</td>\n",
       "      <td>...</td>\n",
       "      <td>...</td>\n",
       "    </tr>\n",
       "    <tr>\n",
       "      <th>2022-12-07</th>\n",
       "      <td>174.100006</td>\n",
       "      <td>175.000000</td>\n",
       "      <td>171.300003</td>\n",
       "      <td>171.850006</td>\n",
       "      <td>171.850006</td>\n",
       "      <td>7718718.0</td>\n",
       "      <td>4804.700195</td>\n",
       "      <td>4815.000000</td>\n",
       "      <td>4710.899902</td>\n",
       "      <td>4727.399902</td>\n",
       "      <td>...</td>\n",
       "      <td>419.100006</td>\n",
       "      <td>420.100006</td>\n",
       "      <td>420.100006</td>\n",
       "      <td>12133315.0</td>\n",
       "      <td>1114.000000</td>\n",
       "      <td>1116.599976</td>\n",
       "      <td>1102.000000</td>\n",
       "      <td>1105.900024</td>\n",
       "      <td>1105.900024</td>\n",
       "      <td>2399879.0</td>\n",
       "    </tr>\n",
       "    <tr>\n",
       "      <th>2022-12-08</th>\n",
       "      <td>171.850006</td>\n",
       "      <td>172.449997</td>\n",
       "      <td>170.000000</td>\n",
       "      <td>170.350006</td>\n",
       "      <td>170.350006</td>\n",
       "      <td>4225180.0</td>\n",
       "      <td>4738.000000</td>\n",
       "      <td>4777.850098</td>\n",
       "      <td>4681.399902</td>\n",
       "      <td>4704.500000</td>\n",
       "      <td>...</td>\n",
       "      <td>415.350006</td>\n",
       "      <td>417.200012</td>\n",
       "      <td>417.200012</td>\n",
       "      <td>9539923.0</td>\n",
       "      <td>1113.750000</td>\n",
       "      <td>1113.750000</td>\n",
       "      <td>1098.800049</td>\n",
       "      <td>1101.349976</td>\n",
       "      <td>1101.349976</td>\n",
       "      <td>1752350.0</td>\n",
       "    </tr>\n",
       "    <tr>\n",
       "      <th>2022-12-09</th>\n",
       "      <td>171.199997</td>\n",
       "      <td>171.750000</td>\n",
       "      <td>168.000000</td>\n",
       "      <td>169.500000</td>\n",
       "      <td>169.500000</td>\n",
       "      <td>6174919.0</td>\n",
       "      <td>4728.000000</td>\n",
       "      <td>4735.950195</td>\n",
       "      <td>4675.250000</td>\n",
       "      <td>4685.100098</td>\n",
       "      <td>...</td>\n",
       "      <td>409.549988</td>\n",
       "      <td>413.299988</td>\n",
       "      <td>413.299988</td>\n",
       "      <td>9920219.0</td>\n",
       "      <td>1075.000000</td>\n",
       "      <td>1075.000000</td>\n",
       "      <td>1020.700012</td>\n",
       "      <td>1027.500000</td>\n",
       "      <td>1027.500000</td>\n",
       "      <td>12415478.0</td>\n",
       "    </tr>\n",
       "    <tr>\n",
       "      <th>2022-12-12</th>\n",
       "      <td>170.000000</td>\n",
       "      <td>170.000000</td>\n",
       "      <td>167.550003</td>\n",
       "      <td>168.899994</td>\n",
       "      <td>168.899994</td>\n",
       "      <td>7153044.0</td>\n",
       "      <td>4677.000000</td>\n",
       "      <td>4756.000000</td>\n",
       "      <td>4630.000000</td>\n",
       "      <td>4742.299805</td>\n",
       "      <td>...</td>\n",
       "      <td>408.000000</td>\n",
       "      <td>414.149994</td>\n",
       "      <td>414.149994</td>\n",
       "      <td>8009229.0</td>\n",
       "      <td>1025.000000</td>\n",
       "      <td>1039.150024</td>\n",
       "      <td>1012.450012</td>\n",
       "      <td>1028.400024</td>\n",
       "      <td>1028.400024</td>\n",
       "      <td>4275785.0</td>\n",
       "    </tr>\n",
       "    <tr>\n",
       "      <th>2022-12-13</th>\n",
       "      <td>169.750000</td>\n",
       "      <td>169.750000</td>\n",
       "      <td>168.050003</td>\n",
       "      <td>168.699997</td>\n",
       "      <td>168.699997</td>\n",
       "      <td>1140163.0</td>\n",
       "      <td>4746.000000</td>\n",
       "      <td>4761.350098</td>\n",
       "      <td>4661.299805</td>\n",
       "      <td>4686.799805</td>\n",
       "      <td>...</td>\n",
       "      <td>NaN</td>\n",
       "      <td>NaN</td>\n",
       "      <td>NaN</td>\n",
       "      <td>NaN</td>\n",
       "      <td>1032.099976</td>\n",
       "      <td>1041.599976</td>\n",
       "      <td>1031.099976</td>\n",
       "      <td>1034.949951</td>\n",
       "      <td>1034.949951</td>\n",
       "      <td>311105.0</td>\n",
       "    </tr>\n",
       "  </tbody>\n",
       "</table>\n",
       "<p>6786 rows × 300 columns</p>\n",
       "</div>"
      ],
      "text/plain": [
       "               NTPC.NS                                                  \\\n",
       "                  Open        High         Low       Close   Adj Close   \n",
       "Date                                                                     \n",
       "1995-12-25         NaN         NaN         NaN         NaN         NaN   \n",
       "1995-12-26         NaN         NaN         NaN         NaN         NaN   \n",
       "1995-12-27         NaN         NaN         NaN         NaN         NaN   \n",
       "1995-12-28         NaN         NaN         NaN         NaN         NaN   \n",
       "1995-12-29         NaN         NaN         NaN         NaN         NaN   \n",
       "...                ...         ...         ...         ...         ...   \n",
       "2022-12-07  174.100006  175.000000  171.300003  171.850006  171.850006   \n",
       "2022-12-08  171.850006  172.449997  170.000000  170.350006  170.350006   \n",
       "2022-12-09  171.199997  171.750000  168.000000  169.500000  169.500000   \n",
       "2022-12-12  170.000000  170.000000  167.550003  168.899994  168.899994   \n",
       "2022-12-13  169.750000  169.750000  168.050003  168.699997  168.699997   \n",
       "\n",
       "                      APOLLOHOSP.NS                                         \\\n",
       "               Volume          Open         High          Low        Close   \n",
       "Date                                                                         \n",
       "1995-12-25        NaN           NaN          NaN          NaN          NaN   \n",
       "1995-12-26        NaN           NaN          NaN          NaN          NaN   \n",
       "1995-12-27        NaN           NaN          NaN          NaN          NaN   \n",
       "1995-12-28        NaN           NaN          NaN          NaN          NaN   \n",
       "1995-12-29        NaN           NaN          NaN          NaN          NaN   \n",
       "...               ...           ...          ...          ...          ...   \n",
       "2022-12-07  7718718.0   4804.700195  4815.000000  4710.899902  4727.399902   \n",
       "2022-12-08  4225180.0   4738.000000  4777.850098  4681.399902  4704.500000   \n",
       "2022-12-09  6174919.0   4728.000000  4735.950195  4675.250000  4685.100098   \n",
       "2022-12-12  7153044.0   4677.000000  4756.000000  4630.000000  4742.299805   \n",
       "2022-12-13  1140163.0   4746.000000  4761.350098  4661.299805  4686.799805   \n",
       "\n",
       "            ... TATAMOTORS.NS                                      \\\n",
       "            ...           Low       Close   Adj Close      Volume   \n",
       "Date        ...                                                     \n",
       "1995-12-25  ...     72.819626   72.819626   53.472775         0.0   \n",
       "1995-12-26  ...     72.819626   72.819626   53.472775         0.0   \n",
       "1995-12-27  ...     72.819626   72.819626   53.472775         0.0   \n",
       "1995-12-28  ...     72.819626   72.819626   53.472775         0.0   \n",
       "1995-12-29  ...     72.819626   72.819626   53.472775         0.0   \n",
       "...         ...           ...         ...         ...         ...   \n",
       "2022-12-07  ...    419.100006  420.100006  420.100006  12133315.0   \n",
       "2022-12-08  ...    415.350006  417.200012  417.200012   9539923.0   \n",
       "2022-12-09  ...    409.549988  413.299988  413.299988   9920219.0   \n",
       "2022-12-12  ...    408.000000  414.149994  414.149994   8009229.0   \n",
       "2022-12-13  ...           NaN         NaN         NaN         NaN   \n",
       "\n",
       "             HCLTECH.NS                                                      \\\n",
       "                   Open         High          Low        Close    Adj Close   \n",
       "Date                                                                          \n",
       "1995-12-25          NaN          NaN          NaN          NaN          NaN   \n",
       "1995-12-26          NaN          NaN          NaN          NaN          NaN   \n",
       "1995-12-27          NaN          NaN          NaN          NaN          NaN   \n",
       "1995-12-28          NaN          NaN          NaN          NaN          NaN   \n",
       "1995-12-29          NaN          NaN          NaN          NaN          NaN   \n",
       "...                 ...          ...          ...          ...          ...   \n",
       "2022-12-07  1114.000000  1116.599976  1102.000000  1105.900024  1105.900024   \n",
       "2022-12-08  1113.750000  1113.750000  1098.800049  1101.349976  1101.349976   \n",
       "2022-12-09  1075.000000  1075.000000  1020.700012  1027.500000  1027.500000   \n",
       "2022-12-12  1025.000000  1039.150024  1012.450012  1028.400024  1028.400024   \n",
       "2022-12-13  1032.099976  1041.599976  1031.099976  1034.949951  1034.949951   \n",
       "\n",
       "                        \n",
       "                Volume  \n",
       "Date                    \n",
       "1995-12-25         NaN  \n",
       "1995-12-26         NaN  \n",
       "1995-12-27         NaN  \n",
       "1995-12-28         NaN  \n",
       "1995-12-29         NaN  \n",
       "...                ...  \n",
       "2022-12-07   2399879.0  \n",
       "2022-12-08   1752350.0  \n",
       "2022-12-09  12415478.0  \n",
       "2022-12-12   4275785.0  \n",
       "2022-12-13    311105.0  \n",
       "\n",
       "[6786 rows x 300 columns]"
      ]
     },
     "execution_count": 26,
     "metadata": {},
     "output_type": "execute_result"
    }
   ],
   "source": [
    "nse_data"
   ]
  },
  {
   "cell_type": "code",
   "execution_count": 24,
   "id": "d592fd4d",
   "metadata": {},
   "outputs": [],
   "source": [
    "import matplotlib.pyplot as plt"
   ]
  },
  {
   "cell_type": "code",
   "execution_count": 27,
   "id": "ec4d1d25",
   "metadata": {},
   "outputs": [
    {
     "data": {
      "text/plain": [
       "array([[ 18.82324028],\n",
       "       [ 18.22410583],\n",
       "       [ 17.7381916 ],\n",
       "       ...,\n",
       "       [616.5       ],\n",
       "       [613.04998779],\n",
       "       [614.        ]])"
      ]
     },
     "execution_count": 27,
     "metadata": {},
     "output_type": "execute_result"
    }
   ],
   "source": [
    "nse_data['SBIN.NS'].dropna().iloc[:, 3:4].values"
   ]
  },
  {
   "cell_type": "code",
   "execution_count": 28,
   "id": "563ad3fa",
   "metadata": {},
   "outputs": [],
   "source": [
    "sbi_df = nse_data['SBIN.NS'].dropna()"
   ]
  },
  {
   "cell_type": "code",
   "execution_count": 32,
   "id": "b63598c3",
   "metadata": {},
   "outputs": [],
   "source": [
    "val = sbi_df.iloc[:, 3:4].values"
   ]
  },
  {
   "cell_type": "code",
   "execution_count": 38,
   "id": "77dfc4ea",
   "metadata": {},
   "outputs": [
    {
     "data": {
      "text/plain": [
       "array([], shape=(0, 1), dtype=float64)"
      ]
     },
     "execution_count": 38,
     "metadata": {},
     "output_type": "execute_result"
    }
   ],
   "source": [
    "val[:-0]"
   ]
  },
  {
   "cell_type": "code",
   "execution_count": null,
   "id": "8ebebdd8",
   "metadata": {},
   "outputs": [],
   "source": []
  }
 ],
 "metadata": {
  "kernelspec": {
   "display_name": "Python 3 (ipykernel)",
   "language": "python",
   "name": "python3"
  },
  "language_info": {
   "codemirror_mode": {
    "name": "ipython",
    "version": 3
   },
   "file_extension": ".py",
   "mimetype": "text/x-python",
   "name": "python",
   "nbconvert_exporter": "python",
   "pygments_lexer": "ipython3",
   "version": "3.9.13"
  }
 },
 "nbformat": 4,
 "nbformat_minor": 5
}
